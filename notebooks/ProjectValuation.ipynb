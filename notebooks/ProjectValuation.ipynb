{
 "cells": [
  {
   "cell_type": "code",
   "execution_count": 1,
   "id": "bd59fa20-d0a6-4583-aa7f-551bc7afdf64",
   "metadata": {},
   "outputs": [],
   "source": [
    "from pycoingecko import CoinGeckoAPI\n",
    "from pprint import pprint\n",
    "import pandas as pd\n",
    "import os\n",
    "\n",
    "from plotly.subplots import make_subplots\n",
    "import plotly.graph_objects as go\n",
    "\n",
    "import matplotlib.pyplot as plt"
   ]
  },
  {
   "cell_type": "markdown",
   "id": "d34f9339-0fbd-4540-bb14-d8a33738bc14",
   "metadata": {},
   "source": [
    "# Get data from CoinGecko API\n",
    "\n",
    "Pull the first 5 pages of coin data from the API."
   ]
  },
  {
   "cell_type": "code",
   "execution_count": 29,
   "id": "477962ef-077e-41f1-aef6-485a0a606767",
   "metadata": {},
   "outputs": [],
   "source": [
    "cg = CoinGeckoAPI()\n",
    "\n",
    "pages = [1]\n",
    "\n",
    "coins = []\n",
    "for page in pages:\n",
    "    results = cg.get_coins_markets(\"usd\", page=page)\n",
    "    for coin in results:\n",
    "        coins.append(coin)"
   ]
  },
  {
   "cell_type": "code",
   "execution_count": 30,
   "id": "18d9e87a-4664-4bb0-9d1c-b285f5e8531e",
   "metadata": {},
   "outputs": [],
   "source": [
    "stablecoins = [\"usd\", \"eur\", \"dollar\", \"magic internet\", \"dai\", \"tether\", \"pax\", \"frax\"]\n",
    "\n",
    "for idx, coin in enumerate(coins):\n",
    "    for stable in stablecoins:\n",
    "        if stable in coin[\"name\"].lower():\n",
    "            coins.pop(idx)"
   ]
  },
  {
   "cell_type": "code",
   "execution_count": 31,
   "id": "6032351d-80ab-4622-9ecc-5ce9dc2eb8a3",
   "metadata": {},
   "outputs": [
    {
     "data": {
      "text/plain": [
       "88"
      ]
     },
     "execution_count": 31,
     "metadata": {},
     "output_type": "execute_result"
    }
   ],
   "source": [
    "len(coins)"
   ]
  },
  {
   "cell_type": "code",
   "execution_count": 39,
   "id": "438e23b5-3818-4c40-9a7e-9974c1d1e762",
   "metadata": {},
   "outputs": [],
   "source": [
    "df = pd.DataFrame(columns=[\"Name\", \"Symbol\", \"Price\", \"MarketCap\", \"CirculatingSupply\", \"TotalSupply\", \"Volume\", \"ATHChangePercent\"])\n",
    "\n",
    "for idx, coin in enumerate(coins):\n",
    "    df.loc[idx] = [coin[\"name\"], coin[\"symbol\"].upper(), coin[\"current_price\"], coin[\"market_cap\"], coin[\"circulating_supply\"], \n",
    "                   coin[\"total_supply\"], coin[\"total_volume\"], coin[\"ath_change_percentage\"]]\n",
    "\n",
    "df[\"CirculatingTotalRatio\"] = (df[\"CirculatingSupply\"] / df[\"TotalSupply\"]).fillna(0)\n",
    "# df[\"FDVtoMCAP_Ratio\"] = df[\"FullyDilutedValuation\"] / df[\"MarketCap\"]"
   ]
  },
  {
   "cell_type": "markdown",
   "id": "2d44d830-fd54-48ab-abff-8118db0838f6",
   "metadata": {},
   "source": [
    "$$ D_R = FDV/DV - 1, C_P = ATH\\%Change $$\n",
    "\n",
    "$$ R = 1 / (D_R + C_P) $$"
   ]
  },
  {
   "cell_type": "code",
   "execution_count": 41,
   "id": "8158502f-94a8-46fb-8efa-993e32bf76d7",
   "metadata": {},
   "outputs": [
    {
     "data": {
      "text/html": [
       "<div>\n",
       "<style scoped>\n",
       "    .dataframe tbody tr th:only-of-type {\n",
       "        vertical-align: middle;\n",
       "    }\n",
       "\n",
       "    .dataframe tbody tr th {\n",
       "        vertical-align: top;\n",
       "    }\n",
       "\n",
       "    .dataframe thead th {\n",
       "        text-align: right;\n",
       "    }\n",
       "</style>\n",
       "<table border=\"1\" class=\"dataframe\">\n",
       "  <thead>\n",
       "    <tr style=\"text-align: right;\">\n",
       "      <th></th>\n",
       "      <th>Name</th>\n",
       "      <th>Symbol</th>\n",
       "      <th>Price</th>\n",
       "      <th>MarketCap</th>\n",
       "      <th>CirculatingSupply</th>\n",
       "      <th>TotalSupply</th>\n",
       "      <th>Volume</th>\n",
       "      <th>ATHChangePercent</th>\n",
       "      <th>CirculatingTotalRatio</th>\n",
       "    </tr>\n",
       "  </thead>\n",
       "  <tbody>\n",
       "    <tr>\n",
       "      <th>51</th>\n",
       "      <td>IOTA</td>\n",
       "      <td>MIOTA</td>\n",
       "      <td>0.751366</td>\n",
       "      <td>2092343653</td>\n",
       "      <td>2.779530e+09</td>\n",
       "      <td>2779530283.0</td>\n",
       "      <td>3.540315e+07</td>\n",
       "      <td>-85.65821</td>\n",
       "      <td>1.0</td>\n",
       "    </tr>\n",
       "    <tr>\n",
       "      <th>44</th>\n",
       "      <td>Magic Internet Money</td>\n",
       "      <td>MIM</td>\n",
       "      <td>0.995283</td>\n",
       "      <td>2771718289</td>\n",
       "      <td>2.785297e+09</td>\n",
       "      <td>2785296692.97944</td>\n",
       "      <td>2.895224e+07</td>\n",
       "      <td>-4.41182</td>\n",
       "      <td>1.0</td>\n",
       "    </tr>\n",
       "    <tr>\n",
       "      <th>2</th>\n",
       "      <td>BNB</td>\n",
       "      <td>BNB</td>\n",
       "      <td>400.480000</td>\n",
       "      <td>67472205409</td>\n",
       "      <td>1.681370e+08</td>\n",
       "      <td>168137035.9</td>\n",
       "      <td>1.306430e+09</td>\n",
       "      <td>-41.52862</td>\n",
       "      <td>1.0</td>\n",
       "    </tr>\n",
       "    <tr>\n",
       "      <th>37</th>\n",
       "      <td>cETH</td>\n",
       "      <td>CETH</td>\n",
       "      <td>59.130000</td>\n",
       "      <td>3289708063</td>\n",
       "      <td>5.563332e+07</td>\n",
       "      <td>55633318.220355</td>\n",
       "      <td>3.007250e+03</td>\n",
       "      <td>-39.50728</td>\n",
       "      <td>1.0</td>\n",
       "    </tr>\n",
       "    <tr>\n",
       "      <th>38</th>\n",
       "      <td>Waves</td>\n",
       "      <td>WAVES</td>\n",
       "      <td>32.720000</td>\n",
       "      <td>3267707878</td>\n",
       "      <td>1.000000e+08</td>\n",
       "      <td>100000000.0</td>\n",
       "      <td>1.018789e+09</td>\n",
       "      <td>-24.03120</td>\n",
       "      <td>1.0</td>\n",
       "    </tr>\n",
       "    <tr>\n",
       "      <th>...</th>\n",
       "      <td>...</td>\n",
       "      <td>...</td>\n",
       "      <td>...</td>\n",
       "      <td>...</td>\n",
       "      <td>...</td>\n",
       "      <td>...</td>\n",
       "      <td>...</td>\n",
       "      <td>...</td>\n",
       "      <td>...</td>\n",
       "    </tr>\n",
       "    <tr>\n",
       "      <th>49</th>\n",
       "      <td>EOS</td>\n",
       "      <td>EOS</td>\n",
       "      <td>2.200000</td>\n",
       "      <td>2172003703</td>\n",
       "      <td>9.880327e+08</td>\n",
       "      <td>None</td>\n",
       "      <td>2.600958e+08</td>\n",
       "      <td>-90.32062</td>\n",
       "      <td>0.0</td>\n",
       "    </tr>\n",
       "    <tr>\n",
       "      <th>9</th>\n",
       "      <td>Dogecoin</td>\n",
       "      <td>DOGE</td>\n",
       "      <td>0.123558</td>\n",
       "      <td>16409127689</td>\n",
       "      <td>1.326708e+11</td>\n",
       "      <td>None</td>\n",
       "      <td>5.276319e+08</td>\n",
       "      <td>-83.09366</td>\n",
       "      <td>0.0</td>\n",
       "    </tr>\n",
       "    <tr>\n",
       "      <th>14</th>\n",
       "      <td>Cosmos Hub</td>\n",
       "      <td>ATOM</td>\n",
       "      <td>28.810000</td>\n",
       "      <td>8378936811</td>\n",
       "      <td>2.907148e+08</td>\n",
       "      <td>None</td>\n",
       "      <td>5.284957e+08</td>\n",
       "      <td>-35.03155</td>\n",
       "      <td>0.0</td>\n",
       "    </tr>\n",
       "    <tr>\n",
       "      <th>54</th>\n",
       "      <td>Theta Fuel</td>\n",
       "      <td>TFUEL</td>\n",
       "      <td>0.174042</td>\n",
       "      <td>1886178774</td>\n",
       "      <td>0.000000e+00</td>\n",
       "      <td>5301200000.0</td>\n",
       "      <td>1.378560e+07</td>\n",
       "      <td>-74.46194</td>\n",
       "      <td>0.0</td>\n",
       "    </tr>\n",
       "    <tr>\n",
       "      <th>40</th>\n",
       "      <td>Klaytn</td>\n",
       "      <td>KLAY</td>\n",
       "      <td>1.120000</td>\n",
       "      <td>3092035392</td>\n",
       "      <td>2.760753e+09</td>\n",
       "      <td>None</td>\n",
       "      <td>3.717212e+07</td>\n",
       "      <td>-74.18780</td>\n",
       "      <td>0.0</td>\n",
       "    </tr>\n",
       "  </tbody>\n",
       "</table>\n",
       "<p>88 rows × 9 columns</p>\n",
       "</div>"
      ],
      "text/plain": [
       "                    Name Symbol       Price    MarketCap  CirculatingSupply  \\\n",
       "51                  IOTA  MIOTA    0.751366   2092343653       2.779530e+09   \n",
       "44  Magic Internet Money    MIM    0.995283   2771718289       2.785297e+09   \n",
       "2                    BNB    BNB  400.480000  67472205409       1.681370e+08   \n",
       "37                  cETH   CETH   59.130000   3289708063       5.563332e+07   \n",
       "38                 Waves  WAVES   32.720000   3267707878       1.000000e+08   \n",
       "..                   ...    ...         ...          ...                ...   \n",
       "49                   EOS    EOS    2.200000   2172003703       9.880327e+08   \n",
       "9               Dogecoin   DOGE    0.123558  16409127689       1.326708e+11   \n",
       "14            Cosmos Hub   ATOM   28.810000   8378936811       2.907148e+08   \n",
       "54            Theta Fuel  TFUEL    0.174042   1886178774       0.000000e+00   \n",
       "40                Klaytn   KLAY    1.120000   3092035392       2.760753e+09   \n",
       "\n",
       "         TotalSupply        Volume  ATHChangePercent  CirculatingTotalRatio  \n",
       "51      2779530283.0  3.540315e+07         -85.65821                    1.0  \n",
       "44  2785296692.97944  2.895224e+07          -4.41182                    1.0  \n",
       "2        168137035.9  1.306430e+09         -41.52862                    1.0  \n",
       "37   55633318.220355  3.007250e+03         -39.50728                    1.0  \n",
       "38       100000000.0  1.018789e+09         -24.03120                    1.0  \n",
       "..               ...           ...               ...                    ...  \n",
       "49              None  2.600958e+08         -90.32062                    0.0  \n",
       "9               None  5.276319e+08         -83.09366                    0.0  \n",
       "14              None  5.284957e+08         -35.03155                    0.0  \n",
       "54      5301200000.0  1.378560e+07         -74.46194                    0.0  \n",
       "40              None  3.717212e+07         -74.18780                    0.0  \n",
       "\n",
       "[88 rows x 9 columns]"
      ]
     },
     "execution_count": 41,
     "metadata": {},
     "output_type": "execute_result"
    }
   ],
   "source": [
    "df.sort_values(\"CirculatingTotalRatio\", ascending=False)"
   ]
  },
  {
   "cell_type": "code",
   "execution_count": 43,
   "id": "ff0b4842-5c96-4dab-8f23-3d31646a5ebf",
   "metadata": {},
   "outputs": [],
   "source": [
    "df[\"Rank\"] = df[\"CirculatingTotalRatio\"] / abs(df[\"ATHChangePercent\"])\n",
    "#df = df[df[\"Volume\"] > 50e6].sort_values(\"Rank\", ascending=True)[:50]"
   ]
  },
  {
   "cell_type": "code",
   "execution_count": 44,
   "id": "eb909c29-b999-48fe-9e9a-eb2c4299f31b",
   "metadata": {},
   "outputs": [
    {
     "data": {
      "application/vnd.plotly.v1+json": {
       "config": {
        "plotlyServerURL": "https://plot.ly"
       },
       "data": [
        {
         "hoverinfo": "x",
         "mode": "markers",
         "type": "scatter",
         "x": [
          "Monero",
          "Ethereum",
          "PancakeSwap",
          "EOS",
          "Tezos",
          "Cosmos Hub",
          "Dogecoin",
          "Filecoin",
          "Kadena",
          "Gala",
          "Flow",
          "Axie Infinity",
          "Internet Computer",
          "ApeCoin",
          "Uniswap",
          "Dash",
          "Zcash",
          "The Sandbox",
          "Celo",
          "XRP",
          "Stellar",
          "Chainlink",
          "The Graph",
          "Shiba Inu",
          "Chiliz",
          "Ethereum Classic",
          "NEO",
          "FTX Token",
          "VeChain",
          "Solana",
          "Bitcoin Cash",
          "Cardano",
          "THORChain",
          "Synthetix Network Token",
          "Bitcoin SV",
          "Aave",
          "Litecoin",
          "Kusama",
          "Algorand",
          "Loopring",
          "Decentraland",
          "Theta Network",
          "Fantom",
          "Elrond",
          "TRON",
          "Enjin Coin",
          "Maker",
          "Harmony",
          "Polygon",
          "Polkadot"
         ],
         "y": [
          0,
          0,
          0,
          0,
          0,
          0,
          0,
          0.0009854478006400638,
          0.0022229313998338583,
          0.002910612283342599,
          0.002924180800181697,
          0.0042045936817671475,
          0.0047114364865580745,
          0.005582835529356292,
          0.005830001494264816,
          0.006035815545423255,
          0.006177306550670496,
          0.006180602893327217,
          0.006194228141502319,
          0.0063417238015966056,
          0.006364618023162605,
          0.006557273588018488,
          0.0072032467100522045,
          0.007619437926395748,
          0.007907563973749107,
          0.007915199217705522,
          0.007925724510446326,
          0.008834659925885337,
          0.009407215713790927,
          0.009807405983333062,
          0.009906361874514859,
          0.010066071458007296,
          0.010327366739812712,
          0.010649380628527886,
          0.010888368040599722,
          0.011201294480223544,
          0.011518049752283755,
          0.011750104021451869,
          0.011962873327866533,
          0.011971257782361038,
          0.012094192427261811,
          0.012354314830934908,
          0.01288999825717763,
          0.013347238923638335,
          0.013624641932692085,
          0.013639466041244752,
          0.013740231132271562,
          0.01434840682771504,
          0.014444531658619381,
          0.014459615621083426
         ]
        }
       ],
       "layout": {
        "autosize": true,
        "template": {
         "data": {
          "bar": [
           {
            "error_x": {
             "color": "#2a3f5f"
            },
            "error_y": {
             "color": "#2a3f5f"
            },
            "marker": {
             "line": {
              "color": "#E5ECF6",
              "width": 0.5
             },
             "pattern": {
              "fillmode": "overlay",
              "size": 10,
              "solidity": 0.2
             }
            },
            "type": "bar"
           }
          ],
          "barpolar": [
           {
            "marker": {
             "line": {
              "color": "#E5ECF6",
              "width": 0.5
             },
             "pattern": {
              "fillmode": "overlay",
              "size": 10,
              "solidity": 0.2
             }
            },
            "type": "barpolar"
           }
          ],
          "carpet": [
           {
            "aaxis": {
             "endlinecolor": "#2a3f5f",
             "gridcolor": "white",
             "linecolor": "white",
             "minorgridcolor": "white",
             "startlinecolor": "#2a3f5f"
            },
            "baxis": {
             "endlinecolor": "#2a3f5f",
             "gridcolor": "white",
             "linecolor": "white",
             "minorgridcolor": "white",
             "startlinecolor": "#2a3f5f"
            },
            "type": "carpet"
           }
          ],
          "choropleth": [
           {
            "colorbar": {
             "outlinewidth": 0,
             "ticks": ""
            },
            "type": "choropleth"
           }
          ],
          "contour": [
           {
            "colorbar": {
             "outlinewidth": 0,
             "ticks": ""
            },
            "colorscale": [
             [
              0,
              "#0d0887"
             ],
             [
              0.1111111111111111,
              "#46039f"
             ],
             [
              0.2222222222222222,
              "#7201a8"
             ],
             [
              0.3333333333333333,
              "#9c179e"
             ],
             [
              0.4444444444444444,
              "#bd3786"
             ],
             [
              0.5555555555555556,
              "#d8576b"
             ],
             [
              0.6666666666666666,
              "#ed7953"
             ],
             [
              0.7777777777777778,
              "#fb9f3a"
             ],
             [
              0.8888888888888888,
              "#fdca26"
             ],
             [
              1,
              "#f0f921"
             ]
            ],
            "type": "contour"
           }
          ],
          "contourcarpet": [
           {
            "colorbar": {
             "outlinewidth": 0,
             "ticks": ""
            },
            "type": "contourcarpet"
           }
          ],
          "heatmap": [
           {
            "colorbar": {
             "outlinewidth": 0,
             "ticks": ""
            },
            "colorscale": [
             [
              0,
              "#0d0887"
             ],
             [
              0.1111111111111111,
              "#46039f"
             ],
             [
              0.2222222222222222,
              "#7201a8"
             ],
             [
              0.3333333333333333,
              "#9c179e"
             ],
             [
              0.4444444444444444,
              "#bd3786"
             ],
             [
              0.5555555555555556,
              "#d8576b"
             ],
             [
              0.6666666666666666,
              "#ed7953"
             ],
             [
              0.7777777777777778,
              "#fb9f3a"
             ],
             [
              0.8888888888888888,
              "#fdca26"
             ],
             [
              1,
              "#f0f921"
             ]
            ],
            "type": "heatmap"
           }
          ],
          "heatmapgl": [
           {
            "colorbar": {
             "outlinewidth": 0,
             "ticks": ""
            },
            "colorscale": [
             [
              0,
              "#0d0887"
             ],
             [
              0.1111111111111111,
              "#46039f"
             ],
             [
              0.2222222222222222,
              "#7201a8"
             ],
             [
              0.3333333333333333,
              "#9c179e"
             ],
             [
              0.4444444444444444,
              "#bd3786"
             ],
             [
              0.5555555555555556,
              "#d8576b"
             ],
             [
              0.6666666666666666,
              "#ed7953"
             ],
             [
              0.7777777777777778,
              "#fb9f3a"
             ],
             [
              0.8888888888888888,
              "#fdca26"
             ],
             [
              1,
              "#f0f921"
             ]
            ],
            "type": "heatmapgl"
           }
          ],
          "histogram": [
           {
            "marker": {
             "pattern": {
              "fillmode": "overlay",
              "size": 10,
              "solidity": 0.2
             }
            },
            "type": "histogram"
           }
          ],
          "histogram2d": [
           {
            "colorbar": {
             "outlinewidth": 0,
             "ticks": ""
            },
            "colorscale": [
             [
              0,
              "#0d0887"
             ],
             [
              0.1111111111111111,
              "#46039f"
             ],
             [
              0.2222222222222222,
              "#7201a8"
             ],
             [
              0.3333333333333333,
              "#9c179e"
             ],
             [
              0.4444444444444444,
              "#bd3786"
             ],
             [
              0.5555555555555556,
              "#d8576b"
             ],
             [
              0.6666666666666666,
              "#ed7953"
             ],
             [
              0.7777777777777778,
              "#fb9f3a"
             ],
             [
              0.8888888888888888,
              "#fdca26"
             ],
             [
              1,
              "#f0f921"
             ]
            ],
            "type": "histogram2d"
           }
          ],
          "histogram2dcontour": [
           {
            "colorbar": {
             "outlinewidth": 0,
             "ticks": ""
            },
            "colorscale": [
             [
              0,
              "#0d0887"
             ],
             [
              0.1111111111111111,
              "#46039f"
             ],
             [
              0.2222222222222222,
              "#7201a8"
             ],
             [
              0.3333333333333333,
              "#9c179e"
             ],
             [
              0.4444444444444444,
              "#bd3786"
             ],
             [
              0.5555555555555556,
              "#d8576b"
             ],
             [
              0.6666666666666666,
              "#ed7953"
             ],
             [
              0.7777777777777778,
              "#fb9f3a"
             ],
             [
              0.8888888888888888,
              "#fdca26"
             ],
             [
              1,
              "#f0f921"
             ]
            ],
            "type": "histogram2dcontour"
           }
          ],
          "mesh3d": [
           {
            "colorbar": {
             "outlinewidth": 0,
             "ticks": ""
            },
            "type": "mesh3d"
           }
          ],
          "parcoords": [
           {
            "line": {
             "colorbar": {
              "outlinewidth": 0,
              "ticks": ""
             }
            },
            "type": "parcoords"
           }
          ],
          "pie": [
           {
            "automargin": true,
            "type": "pie"
           }
          ],
          "scatter": [
           {
            "marker": {
             "colorbar": {
              "outlinewidth": 0,
              "ticks": ""
             }
            },
            "type": "scatter"
           }
          ],
          "scatter3d": [
           {
            "line": {
             "colorbar": {
              "outlinewidth": 0,
              "ticks": ""
             }
            },
            "marker": {
             "colorbar": {
              "outlinewidth": 0,
              "ticks": ""
             }
            },
            "type": "scatter3d"
           }
          ],
          "scattercarpet": [
           {
            "marker": {
             "colorbar": {
              "outlinewidth": 0,
              "ticks": ""
             }
            },
            "type": "scattercarpet"
           }
          ],
          "scattergeo": [
           {
            "marker": {
             "colorbar": {
              "outlinewidth": 0,
              "ticks": ""
             }
            },
            "type": "scattergeo"
           }
          ],
          "scattergl": [
           {
            "marker": {
             "colorbar": {
              "outlinewidth": 0,
              "ticks": ""
             }
            },
            "type": "scattergl"
           }
          ],
          "scattermapbox": [
           {
            "marker": {
             "colorbar": {
              "outlinewidth": 0,
              "ticks": ""
             }
            },
            "type": "scattermapbox"
           }
          ],
          "scatterpolar": [
           {
            "marker": {
             "colorbar": {
              "outlinewidth": 0,
              "ticks": ""
             }
            },
            "type": "scatterpolar"
           }
          ],
          "scatterpolargl": [
           {
            "marker": {
             "colorbar": {
              "outlinewidth": 0,
              "ticks": ""
             }
            },
            "type": "scatterpolargl"
           }
          ],
          "scatterternary": [
           {
            "marker": {
             "colorbar": {
              "outlinewidth": 0,
              "ticks": ""
             }
            },
            "type": "scatterternary"
           }
          ],
          "surface": [
           {
            "colorbar": {
             "outlinewidth": 0,
             "ticks": ""
            },
            "colorscale": [
             [
              0,
              "#0d0887"
             ],
             [
              0.1111111111111111,
              "#46039f"
             ],
             [
              0.2222222222222222,
              "#7201a8"
             ],
             [
              0.3333333333333333,
              "#9c179e"
             ],
             [
              0.4444444444444444,
              "#bd3786"
             ],
             [
              0.5555555555555556,
              "#d8576b"
             ],
             [
              0.6666666666666666,
              "#ed7953"
             ],
             [
              0.7777777777777778,
              "#fb9f3a"
             ],
             [
              0.8888888888888888,
              "#fdca26"
             ],
             [
              1,
              "#f0f921"
             ]
            ],
            "type": "surface"
           }
          ],
          "table": [
           {
            "cells": {
             "fill": {
              "color": "#EBF0F8"
             },
             "line": {
              "color": "white"
             }
            },
            "header": {
             "fill": {
              "color": "#C8D4E3"
             },
             "line": {
              "color": "white"
             }
            },
            "type": "table"
           }
          ]
         },
         "layout": {
          "annotationdefaults": {
           "arrowcolor": "#2a3f5f",
           "arrowhead": 0,
           "arrowwidth": 1
          },
          "autotypenumbers": "strict",
          "coloraxis": {
           "colorbar": {
            "outlinewidth": 0,
            "ticks": ""
           }
          },
          "colorscale": {
           "diverging": [
            [
             0,
             "#8e0152"
            ],
            [
             0.1,
             "#c51b7d"
            ],
            [
             0.2,
             "#de77ae"
            ],
            [
             0.3,
             "#f1b6da"
            ],
            [
             0.4,
             "#fde0ef"
            ],
            [
             0.5,
             "#f7f7f7"
            ],
            [
             0.6,
             "#e6f5d0"
            ],
            [
             0.7,
             "#b8e186"
            ],
            [
             0.8,
             "#7fbc41"
            ],
            [
             0.9,
             "#4d9221"
            ],
            [
             1,
             "#276419"
            ]
           ],
           "sequential": [
            [
             0,
             "#0d0887"
            ],
            [
             0.1111111111111111,
             "#46039f"
            ],
            [
             0.2222222222222222,
             "#7201a8"
            ],
            [
             0.3333333333333333,
             "#9c179e"
            ],
            [
             0.4444444444444444,
             "#bd3786"
            ],
            [
             0.5555555555555556,
             "#d8576b"
            ],
            [
             0.6666666666666666,
             "#ed7953"
            ],
            [
             0.7777777777777778,
             "#fb9f3a"
            ],
            [
             0.8888888888888888,
             "#fdca26"
            ],
            [
             1,
             "#f0f921"
            ]
           ],
           "sequentialminus": [
            [
             0,
             "#0d0887"
            ],
            [
             0.1111111111111111,
             "#46039f"
            ],
            [
             0.2222222222222222,
             "#7201a8"
            ],
            [
             0.3333333333333333,
             "#9c179e"
            ],
            [
             0.4444444444444444,
             "#bd3786"
            ],
            [
             0.5555555555555556,
             "#d8576b"
            ],
            [
             0.6666666666666666,
             "#ed7953"
            ],
            [
             0.7777777777777778,
             "#fb9f3a"
            ],
            [
             0.8888888888888888,
             "#fdca26"
            ],
            [
             1,
             "#f0f921"
            ]
           ]
          },
          "colorway": [
           "#636efa",
           "#EF553B",
           "#00cc96",
           "#ab63fa",
           "#FFA15A",
           "#19d3f3",
           "#FF6692",
           "#B6E880",
           "#FF97FF",
           "#FECB52"
          ],
          "font": {
           "color": "#2a3f5f"
          },
          "geo": {
           "bgcolor": "white",
           "lakecolor": "white",
           "landcolor": "#E5ECF6",
           "showlakes": true,
           "showland": true,
           "subunitcolor": "white"
          },
          "hoverlabel": {
           "align": "left"
          },
          "hovermode": "closest",
          "mapbox": {
           "style": "light"
          },
          "paper_bgcolor": "white",
          "plot_bgcolor": "#E5ECF6",
          "polar": {
           "angularaxis": {
            "gridcolor": "white",
            "linecolor": "white",
            "ticks": ""
           },
           "bgcolor": "#E5ECF6",
           "radialaxis": {
            "gridcolor": "white",
            "linecolor": "white",
            "ticks": ""
           }
          },
          "scene": {
           "xaxis": {
            "backgroundcolor": "#E5ECF6",
            "gridcolor": "white",
            "gridwidth": 2,
            "linecolor": "white",
            "showbackground": true,
            "ticks": "",
            "zerolinecolor": "white"
           },
           "yaxis": {
            "backgroundcolor": "#E5ECF6",
            "gridcolor": "white",
            "gridwidth": 2,
            "linecolor": "white",
            "showbackground": true,
            "ticks": "",
            "zerolinecolor": "white"
           },
           "zaxis": {
            "backgroundcolor": "#E5ECF6",
            "gridcolor": "white",
            "gridwidth": 2,
            "linecolor": "white",
            "showbackground": true,
            "ticks": "",
            "zerolinecolor": "white"
           }
          },
          "shapedefaults": {
           "line": {
            "color": "#2a3f5f"
           }
          },
          "ternary": {
           "aaxis": {
            "gridcolor": "white",
            "linecolor": "white",
            "ticks": ""
           },
           "baxis": {
            "gridcolor": "white",
            "linecolor": "white",
            "ticks": ""
           },
           "bgcolor": "#E5ECF6",
           "caxis": {
            "gridcolor": "white",
            "linecolor": "white",
            "ticks": ""
           }
          },
          "title": {
           "x": 0.05
          },
          "xaxis": {
           "automargin": true,
           "gridcolor": "white",
           "linecolor": "white",
           "ticks": "",
           "title": {
            "standoff": 15
           },
           "zerolinecolor": "white",
           "zerolinewidth": 2
          },
          "yaxis": {
           "automargin": true,
           "gridcolor": "white",
           "linecolor": "white",
           "ticks": "",
           "title": {
            "standoff": 15
           },
           "zerolinecolor": "white",
           "zerolinewidth": 2
          }
         }
        },
        "xaxis": {
         "autorange": true,
         "dtick": 1,
         "range": [
          -2.930025445292621,
          51.93002544529262
         ],
         "tickangle": 45,
         "tickmode": "linear",
         "type": "category"
        },
        "yaxis": {
         "autorange": true,
         "range": [
          -3.116683637138829,
          -1.7295259900057172
         ],
         "title": {
          "text": "Rank R"
         },
         "type": "log"
        }
       }
      },
      "image/png": "[encoded data removed]",
      "text/html": [
       "<div>                            <div id=\"594c484e-61c8-4e41-be44-1c5539f32c8b\" class=\"plotly-graph-div\" style=\"height:525px; width:100%;\"></div>            <script type=\"text/javascript\">                require([\"plotly\"], function(Plotly) {                    window.PLOTLYENV=window.PLOTLYENV || {};                                    if (document.getElementById(\"594c484e-61c8-4e41-be44-1c5539f32c8b\")) {                    Plotly.newPlot(                        \"594c484e-61c8-4e41-be44-1c5539f32c8b\",                        [{\"hoverinfo\":\"x\",\"mode\":\"markers\",\"x\":[\"Monero\",\"Ethereum\",\"PancakeSwap\",\"EOS\",\"Tezos\",\"Cosmos Hub\",\"Dogecoin\",\"Filecoin\",\"Kadena\",\"Gala\",\"Flow\",\"Axie Infinity\",\"Internet Computer\",\"ApeCoin\",\"Uniswap\",\"Dash\",\"Zcash\",\"The Sandbox\",\"Celo\",\"XRP\",\"Stellar\",\"Chainlink\",\"The Graph\",\"Shiba Inu\",\"Chiliz\",\"Ethereum Classic\",\"NEO\",\"FTX Token\",\"VeChain\",\"Solana\",\"Bitcoin Cash\",\"Cardano\",\"THORChain\",\"Synthetix Network Token\",\"Bitcoin SV\",\"Aave\",\"Litecoin\",\"Kusama\",\"Algorand\",\"Loopring\",\"Decentraland\",\"Theta Network\",\"Fantom\",\"Elrond\",\"TRON\",\"Enjin Coin\",\"Maker\",\"Harmony\",\"Polygon\",\"Polkadot\"],\"y\":[0.0,0.0,0.0,0.0,0.0,0.0,0.0,0.0009854478006400638,0.0022229313998338583,0.002910612283342599,0.002924180800181697,0.0042045936817671475,0.0047114364865580745,0.005582835529356292,0.005830001494264816,0.006035815545423255,0.006177306550670496,0.006180602893327217,0.006194228141502319,0.0063417238015966056,0.006364618023162605,0.006557273588018488,0.0072032467100522045,0.007619437926395748,0.007907563973749107,0.007915199217705522,0.007925724510446326,0.008834659925885337,0.009407215713790927,0.009807405983333062,0.009906361874514859,0.010066071458007296,0.010327366739812712,0.010649380628527886,0.010888368040599722,0.011201294480223544,0.011518049752283755,0.011750104021451869,0.011962873327866533,0.011971257782361038,0.012094192427261811,0.012354314830934908,0.01288999825717763,0.013347238923638335,0.013624641932692085,0.013639466041244752,0.013740231132271562,0.01434840682771504,0.014444531658619381,0.014459615621083426],\"type\":\"scatter\"}],                        {\"template\":{\"data\":{\"bar\":[{\"error_x\":{\"color\":\"#2a3f5f\"},\"error_y\":{\"color\":\"#2a3f5f\"},\"marker\":{\"line\":{\"color\":\"#E5ECF6\",\"width\":0.5},\"pattern\":{\"fillmode\":\"overlay\",\"size\":10,\"solidity\":0.2}},\"type\":\"bar\"}],\"barpolar\":[{\"marker\":{\"line\":{\"color\":\"#E5ECF6\",\"width\":0.5},\"pattern\":{\"fillmode\":\"overlay\",\"size\":10,\"solidity\":0.2}},\"type\":\"barpolar\"}],\"carpet\":[{\"aaxis\":{\"endlinecolor\":\"#2a3f5f\",\"gridcolor\":\"white\",\"linecolor\":\"white\",\"minorgridcolor\":\"white\",\"startlinecolor\":\"#2a3f5f\"},\"baxis\":{\"endlinecolor\":\"#2a3f5f\",\"gridcolor\":\"white\",\"linecolor\":\"white\",\"minorgridcolor\":\"white\",\"startlinecolor\":\"#2a3f5f\"},\"type\":\"carpet\"}],\"choropleth\":[{\"colorbar\":{\"outlinewidth\":0,\"ticks\":\"\"},\"type\":\"choropleth\"}],\"contour\":[{\"colorbar\":{\"outlinewidth\":0,\"ticks\":\"\"},\"colorscale\":[[0.0,\"#0d0887\"],[0.1111111111111111,\"#46039f\"],[0.2222222222222222,\"#7201a8\"],[0.3333333333333333,\"#9c179e\"],[0.4444444444444444,\"#bd3786\"],[0.5555555555555556,\"#d8576b\"],[0.6666666666666666,\"#ed7953\"],[0.7777777777777778,\"#fb9f3a\"],[0.8888888888888888,\"#fdca26\"],[1.0,\"#f0f921\"]],\"type\":\"contour\"}],\"contourcarpet\":[{\"colorbar\":{\"outlinewidth\":0,\"ticks\":\"\"},\"type\":\"contourcarpet\"}],\"heatmap\":[{\"colorbar\":{\"outlinewidth\":0,\"ticks\":\"\"},\"colorscale\":[[0.0,\"#0d0887\"],[0.1111111111111111,\"#46039f\"],[0.2222222222222222,\"#7201a8\"],[0.3333333333333333,\"#9c179e\"],[0.4444444444444444,\"#bd3786\"],[0.5555555555555556,\"#d8576b\"],[0.6666666666666666,\"#ed7953\"],[0.7777777777777778,\"#fb9f3a\"],[0.8888888888888888,\"#fdca26\"],[1.0,\"#f0f921\"]],\"type\":\"heatmap\"}],\"heatmapgl\":[{\"colorbar\":{\"outlinewidth\":0,\"ticks\":\"\"},\"colorscale\":[[0.0,\"#0d0887\"],[0.1111111111111111,\"#46039f\"],[0.2222222222222222,\"#7201a8\"],[0.3333333333333333,\"#9c179e\"],[0.4444444444444444,\"#bd3786\"],[0.5555555555555556,\"#d8576b\"],[0.6666666666666666,\"#ed7953\"],[0.7777777777777778,\"#fb9f3a\"],[0.8888888888888888,\"#fdca26\"],[1.0,\"#f0f921\"]],\"type\":\"heatmapgl\"}],\"histogram\":[{\"marker\":{\"pattern\":{\"fillmode\":\"overlay\",\"size\":10,\"solidity\":0.2}},\"type\":\"histogram\"}],\"histogram2d\":[{\"colorbar\":{\"outlinewidth\":0,\"ticks\":\"\"},\"colorscale\":[[0.0,\"#0d0887\"],[0.1111111111111111,\"#46039f\"],[0.2222222222222222,\"#7201a8\"],[0.3333333333333333,\"#9c179e\"],[0.4444444444444444,\"#bd3786\"],[0.5555555555555556,\"#d8576b\"],[0.6666666666666666,\"#ed7953\"],[0.7777777777777778,\"#fb9f3a\"],[0.8888888888888888,\"#fdca26\"],[1.0,\"#f0f921\"]],\"type\":\"histogram2d\"}],\"histogram2dcontour\":[{\"colorbar\":{\"outlinewidth\":0,\"ticks\":\"\"},\"colorscale\":[[0.0,\"#0d0887\"],[0.1111111111111111,\"#46039f\"],[0.2222222222222222,\"#7201a8\"],[0.3333333333333333,\"#9c179e\"],[0.4444444444444444,\"#bd3786\"],[0.5555555555555556,\"#d8576b\"],[0.6666666666666666,\"#ed7953\"],[0.7777777777777778,\"#fb9f3a\"],[0.8888888888888888,\"#fdca26\"],[1.0,\"#f0f921\"]],\"type\":\"histogram2dcontour\"}],\"mesh3d\":[{\"colorbar\":{\"outlinewidth\":0,\"ticks\":\"\"},\"type\":\"mesh3d\"}],\"parcoords\":[{\"line\":{\"colorbar\":{\"outlinewidth\":0,\"ticks\":\"\"}},\"type\":\"parcoords\"}],\"pie\":[{\"automargin\":true,\"type\":\"pie\"}],\"scatter\":[{\"marker\":{\"colorbar\":{\"outlinewidth\":0,\"ticks\":\"\"}},\"type\":\"scatter\"}],\"scatter3d\":[{\"line\":{\"colorbar\":{\"outlinewidth\":0,\"ticks\":\"\"}},\"marker\":{\"colorbar\":{\"outlinewidth\":0,\"ticks\":\"\"}},\"type\":\"scatter3d\"}],\"scattercarpet\":[{\"marker\":{\"colorbar\":{\"outlinewidth\":0,\"ticks\":\"\"}},\"type\":\"scattercarpet\"}],\"scattergeo\":[{\"marker\":{\"colorbar\":{\"outlinewidth\":0,\"ticks\":\"\"}},\"type\":\"scattergeo\"}],\"scattergl\":[{\"marker\":{\"colorbar\":{\"outlinewidth\":0,\"ticks\":\"\"}},\"type\":\"scattergl\"}],\"scattermapbox\":[{\"marker\":{\"colorbar\":{\"outlinewidth\":0,\"ticks\":\"\"}},\"type\":\"scattermapbox\"}],\"scatterpolar\":[{\"marker\":{\"colorbar\":{\"outlinewidth\":0,\"ticks\":\"\"}},\"type\":\"scatterpolar\"}],\"scatterpolargl\":[{\"marker\":{\"colorbar\":{\"outlinewidth\":0,\"ticks\":\"\"}},\"type\":\"scatterpolargl\"}],\"scatterternary\":[{\"marker\":{\"colorbar\":{\"outlinewidth\":0,\"ticks\":\"\"}},\"type\":\"scatterternary\"}],\"surface\":[{\"colorbar\":{\"outlinewidth\":0,\"ticks\":\"\"},\"colorscale\":[[0.0,\"#0d0887\"],[0.1111111111111111,\"#46039f\"],[0.2222222222222222,\"#7201a8\"],[0.3333333333333333,\"#9c179e\"],[0.4444444444444444,\"#bd3786\"],[0.5555555555555556,\"#d8576b\"],[0.6666666666666666,\"#ed7953\"],[0.7777777777777778,\"#fb9f3a\"],[0.8888888888888888,\"#fdca26\"],[1.0,\"#f0f921\"]],\"type\":\"surface\"}],\"table\":[{\"cells\":{\"fill\":{\"color\":\"#EBF0F8\"},\"line\":{\"color\":\"white\"}},\"header\":{\"fill\":{\"color\":\"#C8D4E3\"},\"line\":{\"color\":\"white\"}},\"type\":\"table\"}]},\"layout\":{\"annotationdefaults\":{\"arrowcolor\":\"#2a3f5f\",\"arrowhead\":0,\"arrowwidth\":1},\"autotypenumbers\":\"strict\",\"coloraxis\":{\"colorbar\":{\"outlinewidth\":0,\"ticks\":\"\"}},\"colorscale\":{\"diverging\":[[0,\"#8e0152\"],[0.1,\"#c51b7d\"],[0.2,\"#de77ae\"],[0.3,\"#f1b6da\"],[0.4,\"#fde0ef\"],[0.5,\"#f7f7f7\"],[0.6,\"#e6f5d0\"],[0.7,\"#b8e186\"],[0.8,\"#7fbc41\"],[0.9,\"#4d9221\"],[1,\"#276419\"]],\"sequential\":[[0.0,\"#0d0887\"],[0.1111111111111111,\"#46039f\"],[0.2222222222222222,\"#7201a8\"],[0.3333333333333333,\"#9c179e\"],[0.4444444444444444,\"#bd3786\"],[0.5555555555555556,\"#d8576b\"],[0.6666666666666666,\"#ed7953\"],[0.7777777777777778,\"#fb9f3a\"],[0.8888888888888888,\"#fdca26\"],[1.0,\"#f0f921\"]],\"sequentialminus\":[[0.0,\"#0d0887\"],[0.1111111111111111,\"#46039f\"],[0.2222222222222222,\"#7201a8\"],[0.3333333333333333,\"#9c179e\"],[0.4444444444444444,\"#bd3786\"],[0.5555555555555556,\"#d8576b\"],[0.6666666666666666,\"#ed7953\"],[0.7777777777777778,\"#fb9f3a\"],[0.8888888888888888,\"#fdca26\"],[1.0,\"#f0f921\"]]},\"colorway\":[\"#636efa\",\"#EF553B\",\"#00cc96\",\"#ab63fa\",\"#FFA15A\",\"#19d3f3\",\"#FF6692\",\"#B6E880\",\"#FF97FF\",\"#FECB52\"],\"font\":{\"color\":\"#2a3f5f\"},\"geo\":{\"bgcolor\":\"white\",\"lakecolor\":\"white\",\"landcolor\":\"#E5ECF6\",\"showlakes\":true,\"showland\":true,\"subunitcolor\":\"white\"},\"hoverlabel\":{\"align\":\"left\"},\"hovermode\":\"closest\",\"mapbox\":{\"style\":\"light\"},\"paper_bgcolor\":\"white\",\"plot_bgcolor\":\"#E5ECF6\",\"polar\":{\"angularaxis\":{\"gridcolor\":\"white\",\"linecolor\":\"white\",\"ticks\":\"\"},\"bgcolor\":\"#E5ECF6\",\"radialaxis\":{\"gridcolor\":\"white\",\"linecolor\":\"white\",\"ticks\":\"\"}},\"scene\":{\"xaxis\":{\"backgroundcolor\":\"#E5ECF6\",\"gridcolor\":\"white\",\"gridwidth\":2,\"linecolor\":\"white\",\"showbackground\":true,\"ticks\":\"\",\"zerolinecolor\":\"white\"},\"yaxis\":{\"backgroundcolor\":\"#E5ECF6\",\"gridcolor\":\"white\",\"gridwidth\":2,\"linecolor\":\"white\",\"showbackground\":true,\"ticks\":\"\",\"zerolinecolor\":\"white\"},\"zaxis\":{\"backgroundcolor\":\"#E5ECF6\",\"gridcolor\":\"white\",\"gridwidth\":2,\"linecolor\":\"white\",\"showbackground\":true,\"ticks\":\"\",\"zerolinecolor\":\"white\"}},\"shapedefaults\":{\"line\":{\"color\":\"#2a3f5f\"}},\"ternary\":{\"aaxis\":{\"gridcolor\":\"white\",\"linecolor\":\"white\",\"ticks\":\"\"},\"baxis\":{\"gridcolor\":\"white\",\"linecolor\":\"white\",\"ticks\":\"\"},\"bgcolor\":\"#E5ECF6\",\"caxis\":{\"gridcolor\":\"white\",\"linecolor\":\"white\",\"ticks\":\"\"}},\"title\":{\"x\":0.05},\"xaxis\":{\"automargin\":true,\"gridcolor\":\"white\",\"linecolor\":\"white\",\"ticks\":\"\",\"title\":{\"standoff\":15},\"zerolinecolor\":\"white\",\"zerolinewidth\":2},\"yaxis\":{\"automargin\":true,\"gridcolor\":\"white\",\"linecolor\":\"white\",\"ticks\":\"\",\"title\":{\"standoff\":15},\"zerolinecolor\":\"white\",\"zerolinewidth\":2}}},\"yaxis\":{\"title\":{\"text\":\"Rank R\"},\"type\":\"log\"},\"xaxis\":{\"tickangle\":45,\"tickmode\":\"linear\",\"dtick\":1}},                        {\"responsive\": true}                    ).then(function(){\n",
       "                            \n",
       "var gd = document.getElementById('594c484e-61c8-4e41-be44-1c5539f32c8b');\n",
       "var x = new MutationObserver(function (mutations, observer) {{\n",
       "        var display = window.getComputedStyle(gd).display;\n",
       "        if (!display || display === 'none') {{\n",
       "            console.log([gd, 'removed!']);\n",
       "            Plotly.purge(gd);\n",
       "            observer.disconnect();\n",
       "        }}\n",
       "}});\n",
       "\n",
       "// Listen for the removal of the full notebook cells\n",
       "var notebookContainer = gd.closest('#notebook-container');\n",
       "if (notebookContainer) {{\n",
       "    x.observe(notebookContainer, {childList: true});\n",
       "}}\n",
       "\n",
       "// Listen for the clearing of the current output cell\n",
       "var outputEl = gd.closest('.output');\n",
       "if (outputEl) {{\n",
       "    x.observe(outputEl, {childList: true});\n",
       "}}\n",
       "\n",
       "                        })                };                });            </script>        </div>"
      ]
     },
     "metadata": {},
     "output_type": "display_data"
    }
   ],
   "source": [
    "fig = go.Figure()\n",
    "\n",
    "fig.add_trace(go.Scatter(x=df.Name, y=df.Rank, mode='markers', hoverinfo=\"x\"))\n",
    "\n",
    "fig.update_yaxes(title_text=\"Rank R\", type=\"log\")\n",
    "fig.update_xaxes(tickangle=45)\n",
    "\n",
    "fig.update_layout(\n",
    "    xaxis = dict(\n",
    "        tickmode = 'linear',\n",
    "        dtick = 1,\n",
    "    )\n",
    ")\n",
    "\n",
    "fig.write_image(os.path.join(\"..\", \"images\", \"project_ranking.png\"))\n",
    "fig.write_html(os.path.join(\"..\", \"images\", \"project_ranking.html\"))\n",
    "fig.show()"
   ]
  },
  {
   "cell_type": "code",
   "execution_count": null,
   "id": "781d2b4c-dbfd-43a9-bd90-8c63e3fd3c03",
   "metadata": {},
   "outputs": [],
   "source": [
    "fig = go.Figure()\n",
    "\n",
    "df1 = df[df.ATHChangePercent > -20]\n",
    "fig.add_trace(go.Scatter(x=df1.Name, y=df1.ATHChangePercent.round(2), mode='markers'))\n",
    "fig.add_hline(\n",
    "    y=df.iloc[0].ATHChangePercent,\n",
    "    line_dash=\"dot\",\n",
    ")\n",
    "fig.add_hline(\n",
    "    y=df.iloc[1].ATHChangePercent,\n",
    "    line_dash=\"dot\",\n",
    ")\n",
    "#fig.update_yaxes(type=\"log\")\n",
    "fig.update_xaxes(tickangle=45)"
   ]
  },
  {
   "cell_type": "code",
   "execution_count": null,
   "id": "3f7107d0-5ff4-4592-b2ae-678ff7c9d01e",
   "metadata": {},
   "outputs": [],
   "source": [
    "fig = go.Figure()\n",
    "\n",
    "df1 = df[(df.ATHChangePercent > -20)]\n",
    "fig.add_trace(go.Scatter(x=df1.Name, y=df1.ATHChangePercent.round(2), mode='markers'))\n",
    "\n",
    "#fig.update_yaxes(type=\"log\")\n",
    "fig.update_xaxes(tickangle=45)"
   ]
  },
  {
   "cell_type": "code",
   "execution_count": null,
   "id": "2256f805-68e3-4124-a835-124b0644ad75",
   "metadata": {},
   "outputs": [],
   "source": [
    "df[\"VolumeMarketCapRatio\"] = df[\"Volume\"] / df[\"MarketCap\"]"
   ]
  },
  {
   "cell_type": "code",
   "execution_count": null,
   "id": "cf944b5f-cca9-41fe-bcf1-804be25cd168",
   "metadata": {},
   "outputs": [],
   "source": [
    "df.sort_values(\"VolumeMarketCapRatio\", ascending=False)"
   ]
  },
  {
   "cell_type": "code",
   "execution_count": null,
   "id": "e08fe595-405a-4e41-a8e8-a5cb7d0e23b9",
   "metadata": {},
   "outputs": [],
   "source": [
    "fig = go.Figure()\n",
    "\n",
    "fig.add_trace(go.Scatter(x=df.Name, y=df.Volume, mode='markers'))\n",
    "fig.add_hline(\n",
    "    y=df.Volume.median(),\n",
    "    line_dash=\"dot\",\n",
    ")\n",
    "fig.add_hline(\n",
    "    y=df.Volume.median() + df.Volume.std(),\n",
    "    line_dash=\"dot\",\n",
    ")\n",
    "\n",
    "fig.update_yaxes(type=\"log\")\n",
    "fig.update_xaxes(tickangle=45)"
   ]
  },
  {
   "cell_type": "code",
   "execution_count": null,
   "id": "f158ecba-e4dc-44d3-a72c-89ac636ccb4b",
   "metadata": {},
   "outputs": [],
   "source": [
    "fig = go.Figure()\n",
    "\n",
    "fig.add_trace(go.Scatter(x=df.Name, y=df.VolumeMarketCapRatio, mode='markers'))\n",
    "fig.add_hline(\n",
    "    y=df.VolumeMarketCapRatio.median(),\n",
    "    line_dash=\"dot\",\n",
    ")\n",
    "fig.add_hline(\n",
    "    y=df.VolumeMarketCapRatio.median() + df.VolumeMarketCapRatio.std(),\n",
    "    line_dash=\"dot\",\n",
    ")\n",
    "fig.update_yaxes(type=\"log\")\n",
    "fig.update_xaxes(tickangle=45)"
   ]
  }
 ],
 "metadata": {
  "kernelspec": {
   "display_name": "market_analytics",
   "language": "python",
   "name": "market_analytics"
  },
  "language_info": {
   "codemirror_mode": {
    "name": "ipython",
    "version": 3
   },
   "file_extension": ".py",
   "mimetype": "text/x-python",
   "name": "python",
   "nbconvert_exporter": "python",
   "pygments_lexer": "ipython3",
   "version": "3.10.0"
  }
 },
 "nbformat": 4,
 "nbformat_minor": 5
}
