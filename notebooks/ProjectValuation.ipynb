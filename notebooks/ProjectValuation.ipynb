{
 "cells": [
  {
   "cell_type": "code",
   "execution_count": 1,
   "id": "bd59fa20-d0a6-4583-aa7f-551bc7afdf64",
   "metadata": {},
   "outputs": [],
   "source": [
    "from pycoingecko import CoinGeckoAPI\n",
    "from pprint import pprint\n",
    "import pandas as pd\n",
    "import os\n",
    "\n",
    "from plotly.subplots import make_subplots\n",
    "import plotly.graph_objects as go\n",
    "\n",
    "import matplotlib.pyplot as plt"
   ]
  },
  {
   "cell_type": "markdown",
   "id": "d34f9339-0fbd-4540-bb14-d8a33738bc14",
   "metadata": {},
   "source": [
    "# Get data from CoinGecko API\n",
    "\n",
    "Pull the first 5 pages of coin data from the API."
   ]
  },
  {
   "cell_type": "code",
   "execution_count": 2,
   "id": "477962ef-077e-41f1-aef6-485a0a606767",
   "metadata": {},
   "outputs": [],
   "source": [
    "cg = CoinGeckoAPI()\n",
    "\n",
    "pages = [1, 2, 3, 4, 5]\n",
    "\n",
    "coins = []\n",
    "for page in pages:\n",
    "    results = cg.get_coins_markets(\"usd\", page=page)\n",
    "    for coin in results:\n",
    "        coins.append(coin)"
   ]
  },
  {
   "cell_type": "code",
   "execution_count": 3,
   "id": "18d9e87a-4664-4bb0-9d1c-b285f5e8531e",
   "metadata": {},
   "outputs": [],
   "source": [
    "stablecoins = [\"usd\", \"eur\", \"dollar\", \"magic internet\", \"dai\", \"tether\"]\n",
    "\n",
    "for idx, coin in enumerate(coins):\n",
    "    for stable in stablecoins:\n",
    "        if stable in coin[\"name\"].lower():\n",
    "            coins.pop(idx)"
   ]
  },
  {
   "cell_type": "code",
   "execution_count": 4,
   "id": "6032351d-80ab-4622-9ecc-5ce9dc2eb8a3",
   "metadata": {},
   "outputs": [
    {
     "data": {
      "text/plain": [
       "472"
      ]
     },
     "execution_count": 4,
     "metadata": {},
     "output_type": "execute_result"
    }
   ],
   "source": [
    "len(coins)"
   ]
  },
  {
   "cell_type": "code",
   "execution_count": 5,
   "id": "438e23b5-3818-4c40-9a7e-9974c1d1e762",
   "metadata": {},
   "outputs": [],
   "source": [
    "df = pd.DataFrame(columns=[\"Name\", \"Symbol\", \"Price\", \"MarketCap\", \"FullyDilutedValuation\", \"Rank\", \"Volume\", \"ATHChangePercent\"])\n",
    "\n",
    "for idx, coin in enumerate(coins):\n",
    "    df.loc[idx] = [coin[\"name\"], coin[\"symbol\"].upper(), coin[\"current_price\"], coin[\"market_cap\"], coin[\"fully_diluted_valuation\"], \n",
    "                   coin[\"market_cap_rank\"], coin[\"total_volume\"], coin[\"ath_change_percentage\"]]\n",
    "\n",
    "df[\"FullyDilutedValuation\"] = df['FullyDilutedValuation'].fillna(df[\"MarketCap\"])\n",
    "df[\"FDVtoMCAP_Ratio\"] = df[\"FullyDilutedValuation\"] / df[\"MarketCap\"]"
   ]
  },
  {
   "cell_type": "markdown",
   "id": "2d44d830-fd54-48ab-abff-8118db0838f6",
   "metadata": {},
   "source": [
    "$$ D_R = FDV/DV, C_P = ATH\\%Change $$\n",
    "\n",
    "$$ R = 1 / (D_R + C_P) $$"
   ]
  },
  {
   "cell_type": "code",
   "execution_count": 6,
   "id": "ff0b4842-5c96-4dab-8f23-3d31646a5ebf",
   "metadata": {},
   "outputs": [],
   "source": [
    "df[\"Rank\"] = 1 / (df[\"FDVtoMCAP_Ratio\"] + abs(df[\"ATHChangePercent\"]))\n",
    "df = df[df[\"Volume\"] > 50e6].sort_values(\"Rank\", ascending=True)[:50]\n",
    "# df = df[df[\"Rank\"] < df[df['Name'] == \"Bitcoin\"].Rank.values[0]].sort_values(\"Rank\", ascending=True)\n",
    "# df.reset_index(drop=True, inplace=True)"
   ]
  },
  {
   "cell_type": "code",
   "execution_count": 7,
   "id": "eb909c29-b999-48fe-9e9a-eb2c4299f31b",
   "metadata": {},
   "outputs": [],
   "source": [
    "fig = go.Figure()\n",
    "\n",
    "fig.add_trace(go.Scatter(x=df.Name, y=df.Rank, mode='markers', hoverinfo=\"x\"))\n",
    "\n",
    "fig.update_yaxes(title_text=\"Rank R\", type=\"log\")\n",
    "fig.update_xaxes(tickangle=45)\n",
    "\n",
    "fig.update_layout(\n",
    "    xaxis = dict(\n",
    "        tickmode = 'linear',\n",
    "        dtick = 1,\n",
    "    )\n",
    ")\n",
    "\n",
    "fig.write_image(os.path.join(\"..\", \"images\", \"project_ranking.png\"))\n",
    "fig.write_html(os.path.join(\"..\", \"images\", \"project_ranking.html\"))"
   ]
  },
  {
   "cell_type": "code",
   "execution_count": null,
   "id": "781d2b4c-dbfd-43a9-bd90-8c63e3fd3c03",
   "metadata": {},
   "outputs": [],
   "source": [
    "fig = go.Figure()\n",
    "\n",
    "df1 = df[df.ATHChangePercent > -20]\n",
    "fig.add_trace(go.Scatter(x=df1.Name, y=df1.ATHChangePercent.round(2), mode='markers'))\n",
    "fig.add_hline(\n",
    "    y=df.iloc[0].ATHChangePercent,\n",
    "    line_dash=\"dot\",\n",
    ")\n",
    "fig.add_hline(\n",
    "    y=df.iloc[1].ATHChangePercent,\n",
    "    line_dash=\"dot\",\n",
    ")\n",
    "#fig.update_yaxes(type=\"log\")\n",
    "fig.update_xaxes(tickangle=45)"
   ]
  },
  {
   "cell_type": "code",
   "execution_count": null,
   "id": "3f7107d0-5ff4-4592-b2ae-678ff7c9d01e",
   "metadata": {},
   "outputs": [],
   "source": [
    "fig = go.Figure()\n",
    "\n",
    "df1 = df[(df.ATHChangePercent > -20)]\n",
    "fig.add_trace(go.Scatter(x=df1.Name, y=df1.ATHChangePercent.round(2), mode='markers'))\n",
    "\n",
    "#fig.update_yaxes(type=\"log\")\n",
    "fig.update_xaxes(tickangle=45)"
   ]
  },
  {
   "cell_type": "code",
   "execution_count": null,
   "id": "2256f805-68e3-4124-a835-124b0644ad75",
   "metadata": {},
   "outputs": [],
   "source": [
    "df[\"VolumeMarketCapRatio\"] = df[\"Volume\"] / df[\"MarketCap\"]"
   ]
  },
  {
   "cell_type": "code",
   "execution_count": null,
   "id": "cf944b5f-cca9-41fe-bcf1-804be25cd168",
   "metadata": {},
   "outputs": [],
   "source": [
    "df.sort_values(\"VolumeMarketCapRatio\", ascending=False)"
   ]
  },
  {
   "cell_type": "code",
   "execution_count": null,
   "id": "e08fe595-405a-4e41-a8e8-a5cb7d0e23b9",
   "metadata": {},
   "outputs": [],
   "source": [
    "fig = go.Figure()\n",
    "\n",
    "fig.add_trace(go.Scatter(x=df.Name, y=df.Volume, mode='markers'))\n",
    "fig.add_hline(\n",
    "    y=df.Volume.median(),\n",
    "    line_dash=\"dot\",\n",
    ")\n",
    "fig.add_hline(\n",
    "    y=df.Volume.median() + df.Volume.std(),\n",
    "    line_dash=\"dot\",\n",
    ")\n",
    "\n",
    "fig.update_yaxes(type=\"log\")\n",
    "fig.update_xaxes(tickangle=45)"
   ]
  },
  {
   "cell_type": "code",
   "execution_count": null,
   "id": "f158ecba-e4dc-44d3-a72c-89ac636ccb4b",
   "metadata": {},
   "outputs": [],
   "source": [
    "fig = go.Figure()\n",
    "\n",
    "fig.add_trace(go.Scatter(x=df.Name, y=df.VolumeMarketCapRatio, mode='markers'))\n",
    "fig.add_hline(\n",
    "    y=df.VolumeMarketCapRatio.median(),\n",
    "    line_dash=\"dot\",\n",
    ")\n",
    "fig.add_hline(\n",
    "    y=df.VolumeMarketCapRatio.median() + df.VolumeMarketCapRatio.std(),\n",
    "    line_dash=\"dot\",\n",
    ")\n",
    "fig.update_yaxes(type=\"log\")\n",
    "fig.update_xaxes(tickangle=45)"
   ]
  }
 ],
 "metadata": {
  "kernelspec": {
   "display_name": "market_analytics",
   "language": "python",
   "name": "market_analytics"
  },
  "language_info": {
   "codemirror_mode": {
    "name": "ipython",
    "version": 3
   },
   "file_extension": ".py",
   "mimetype": "text/x-python",
   "name": "python",
   "nbconvert_exporter": "python",
   "pygments_lexer": "ipython3",
   "version": "3.10.0"
  }
 },
 "nbformat": 4,
 "nbformat_minor": 5
}
