{
 "cells": [
  {
   "cell_type": "code",
   "execution_count": 1,
   "id": "bd59fa20-d0a6-4583-aa7f-551bc7afdf64",
   "metadata": {},
   "outputs": [],
   "source": [
    "from pycoingecko import CoinGeckoAPI\n",
    "from pprint import pprint\n",
    "import pandas as pd\n",
    "\n",
    "\n",
    "from plotly.subplots import make_subplots\n",
    "import plotly.graph_objects as go"
   ]
  },
  {
   "cell_type": "code",
   "execution_count": 2,
   "id": "1cb7d5a0-5acc-41a2-a97b-ae7a0f9334f4",
   "metadata": {},
   "outputs": [],
   "source": [
    "cg = CoinGeckoAPI()"
   ]
  },
  {
   "cell_type": "code",
   "execution_count": 3,
   "id": "477962ef-077e-41f1-aef6-485a0a606767",
   "metadata": {},
   "outputs": [],
   "source": [
    "pages = [1, 2, 3, 4, 5]\n",
    "\n",
    "coins = []\n",
    "for page in pages:\n",
    "    results = cg.get_coins_markets(\"usd\", page=page)\n",
    "    for coin in results:\n",
    "        coins.append(coin)"
   ]
  },
  {
   "cell_type": "code",
   "execution_count": 92,
   "id": "438e23b5-3818-4c40-9a7e-9974c1d1e762",
   "metadata": {},
   "outputs": [],
   "source": [
    "df = pd.DataFrame(columns=[\"Name\", \"Symbol\", \"Price\", \"MarketCap\", \"FullyDilutedValuation\", \"Rank\", \"Volume\", \"ATHChangePercent\"])\n",
    "\n",
    "for idx, coin in enumerate(coins):\n",
    "    # print(coin[\"id\"], coin[\"market_data\"][\"current_price\"][\"usd\"], coin[\"market_data\"][\"market_cap\"][\"usd\"], coin[\"market_data\"][\"total_volume\"][\"usd\"])\n",
    "    df.loc[idx] = [coin[\"name\"], coin[\"symbol\"].upper(), coin[\"current_price\"], coin[\"market_cap\"], coin[\"fully_diluted_valuation\"], coin[\"market_cap_rank\"], coin[\"total_volume\"], coin[\"ath_change_percentage\"]]"
   ]
  },
  {
   "cell_type": "code",
   "execution_count": 93,
   "id": "3b7bef55-612c-4baf-8fff-ffa65562f058",
   "metadata": {},
   "outputs": [],
   "source": [
    "df[\"MarketCap\"] /= 1e9\n",
    "df[\"FullyDilutedValuation\"] /= 1e9\n",
    "\n",
    "df[\"FDVtoMCAP_Ratio\"] = df[\"FullyDilutedValuation\"] / df[\"MarketCap\"]"
   ]
  },
  {
   "cell_type": "markdown",
   "id": "2d44d830-fd54-48ab-abff-8118db0838f6",
   "metadata": {},
   "source": [
    "$$ D_R = min(FDV/DV), C_P = min(ATH\\%Change) $$\n",
    "\n",
    "$$ R = D_R + C_P $$"
   ]
  },
  {
   "cell_type": "code",
   "execution_count": 94,
   "id": "94a10710-90cd-4eba-ac46-74f09569be03",
   "metadata": {},
   "outputs": [],
   "source": [
    "df[\"FDVtoMCAP_Ratio_norm\"] = df[\"FDVtoMCAP_Ratio\"] / df[\"FDVtoMCAP_Ratio\"].max()\n",
    "df[\"ATHChangePercent_norm\"] = abs(df[\"ATHChangePercent\"]) / abs(df[\"ATHChangePercent\"]).max()"
   ]
  },
  {
   "cell_type": "code",
   "execution_count": 104,
   "id": "ff0b4842-5c96-4dab-8f23-3d31646a5ebf",
   "metadata": {},
   "outputs": [
    {
     "data": {
      "text/html": [
       "<div>\n",
       "<style scoped>\n",
       "    .dataframe tbody tr th:only-of-type {\n",
       "        vertical-align: middle;\n",
       "    }\n",
       "\n",
       "    .dataframe tbody tr th {\n",
       "        vertical-align: top;\n",
       "    }\n",
       "\n",
       "    .dataframe thead th {\n",
       "        text-align: right;\n",
       "    }\n",
       "</style>\n",
       "<table border=\"1\" class=\"dataframe\">\n",
       "  <thead>\n",
       "    <tr style=\"text-align: right;\">\n",
       "      <th></th>\n",
       "      <th>Name</th>\n",
       "      <th>Symbol</th>\n",
       "      <th>Price</th>\n",
       "      <th>MarketCap</th>\n",
       "      <th>FullyDilutedValuation</th>\n",
       "      <th>Rank</th>\n",
       "      <th>Volume</th>\n",
       "      <th>ATHChangePercent</th>\n",
       "      <th>FDVtoMCAP_Ratio</th>\n",
       "      <th>FDVtoMCAP_Ratio_norm</th>\n",
       "      <th>ATHChangePercent_norm</th>\n",
       "    </tr>\n",
       "  </thead>\n",
       "  <tbody>\n",
       "    <tr>\n",
       "      <th>22</th>\n",
       "      <td>Near</td>\n",
       "      <td>NEAR</td>\n",
       "      <td>14.64</td>\n",
       "      <td>8.727081</td>\n",
       "      <td>14.56088</td>\n",
       "      <td>0.173976</td>\n",
       "      <td>670814652</td>\n",
       "      <td>-10.83447</td>\n",
       "      <td>1.668471</td>\n",
       "      <td>0.021877</td>\n",
       "      <td>0.108345</td>\n",
       "    </tr>\n",
       "    <tr>\n",
       "      <th>13</th>\n",
       "      <td>Polygon</td>\n",
       "      <td>MATIC</td>\n",
       "      <td>2.54</td>\n",
       "      <td>17.443069</td>\n",
       "      <td>25.379525</td>\n",
       "      <td>0.186959</td>\n",
       "      <td>1954550161</td>\n",
       "      <td>-12.97252</td>\n",
       "      <td>1.454992</td>\n",
       "      <td>0.019078</td>\n",
       "      <td>0.129725</td>\n",
       "    </tr>\n",
       "    <tr>\n",
       "      <th>204</th>\n",
       "      <td>DUSK Network</td>\n",
       "      <td>DUSK</td>\n",
       "      <td>0.992461</td>\n",
       "      <td>0.386304</td>\n",
       "      <td>0.992218</td>\n",
       "      <td>0.190669</td>\n",
       "      <td>180493112</td>\n",
       "      <td>-8.96339</td>\n",
       "      <td>2.568492</td>\n",
       "      <td>0.033678</td>\n",
       "      <td>0.089634</td>\n",
       "    </tr>\n",
       "    <tr>\n",
       "      <th>21</th>\n",
       "      <td>Dai</td>\n",
       "      <td>DAI</td>\n",
       "      <td>1.0</td>\n",
       "      <td>8.965452</td>\n",
       "      <td>8.965452</td>\n",
       "      <td>0.219304</td>\n",
       "      <td>464784256</td>\n",
       "      <td>-17.99676</td>\n",
       "      <td>1.0</td>\n",
       "      <td>0.013112</td>\n",
       "      <td>0.179968</td>\n",
       "    </tr>\n",
       "    <tr>\n",
       "      <th>94</th>\n",
       "      <td>Oasis Network</td>\n",
       "      <td>ROSE</td>\n",
       "      <td>0.389619</td>\n",
       "      <td>1.359772</td>\n",
       "      <td>3.896195</td>\n",
       "      <td>0.250642</td>\n",
       "      <td>320137087</td>\n",
       "      <td>-13.79305</td>\n",
       "      <td>2.86533</td>\n",
       "      <td>0.03757</td>\n",
       "      <td>0.137930</td>\n",
       "    </tr>\n",
       "    <tr>\n",
       "      <th>2</th>\n",
       "      <td>Binance Coin</td>\n",
       "      <td>BNB</td>\n",
       "      <td>520.44</td>\n",
       "      <td>87.524128</td>\n",
       "      <td>87.524128</td>\n",
       "      <td>0.280853</td>\n",
       "      <td>1550567857</td>\n",
       "      <td>-24.15163</td>\n",
       "      <td>1.0</td>\n",
       "      <td>0.013112</td>\n",
       "      <td>0.241516</td>\n",
       "    </tr>\n",
       "    <tr>\n",
       "      <th>184</th>\n",
       "      <td>FLEX Coin</td>\n",
       "      <td>FLEX</td>\n",
       "      <td>5.76</td>\n",
       "      <td>0.453045</td>\n",
       "      <td>0.568125</td>\n",
       "      <td>0.287484</td>\n",
       "      <td>1082624623</td>\n",
       "      <td>-23.81561</td>\n",
       "      <td>1.254014</td>\n",
       "      <td>0.016443</td>\n",
       "      <td>0.238156</td>\n",
       "    </tr>\n",
       "    <tr>\n",
       "      <th>8</th>\n",
       "      <td>Terra</td>\n",
       "      <td>LUNA</td>\n",
       "      <td>84.83</td>\n",
       "      <td>30.737816</td>\n",
       "      <td>84.831124</td>\n",
       "      <td>0.287643</td>\n",
       "      <td>2322530907</td>\n",
       "      <td>-17.90817</td>\n",
       "      <td>2.759829</td>\n",
       "      <td>0.036187</td>\n",
       "      <td>0.179082</td>\n",
       "    </tr>\n",
       "    <tr>\n",
       "      <th>0</th>\n",
       "      <td>Bitcoin</td>\n",
       "      <td>BTC</td>\n",
       "      <td>47396</td>\n",
       "      <td>895.258414</td>\n",
       "      <td>993.967373</td>\n",
       "      <td>0.358069</td>\n",
       "      <td>25248247765</td>\n",
       "      <td>-31.43954</td>\n",
       "      <td>1.110258</td>\n",
       "      <td>0.014558</td>\n",
       "      <td>0.314395</td>\n",
       "    </tr>\n",
       "    <tr>\n",
       "      <th>16</th>\n",
       "      <td>Wrapped Bitcoin</td>\n",
       "      <td>WBTC</td>\n",
       "      <td>47423</td>\n",
       "      <td>12.220978</td>\n",
       "      <td>12.220978</td>\n",
       "      <td>0.368918</td>\n",
       "      <td>280979736</td>\n",
       "      <td>-32.95822</td>\n",
       "      <td>1.0</td>\n",
       "      <td>0.013112</td>\n",
       "      <td>0.329582</td>\n",
       "    </tr>\n",
       "    <tr>\n",
       "      <th>10</th>\n",
       "      <td>Avalanche</td>\n",
       "      <td>AVAX</td>\n",
       "      <td>105.72</td>\n",
       "      <td>25.715047</td>\n",
       "      <td>76.116638</td>\n",
       "      <td>0.387165</td>\n",
       "      <td>995436285</td>\n",
       "      <td>-27.07292</td>\n",
       "      <td>2.960004</td>\n",
       "      <td>0.038812</td>\n",
       "      <td>0.270729</td>\n",
       "    </tr>\n",
       "    <tr>\n",
       "      <th>162</th>\n",
       "      <td>ConstitutionDAO</td>\n",
       "      <td>PEOPLE</td>\n",
       "      <td>0.115925</td>\n",
       "      <td>0.582363</td>\n",
       "      <td>0.582363</td>\n",
       "      <td>0.412787</td>\n",
       "      <td>109111313</td>\n",
       "      <td>-37.34508</td>\n",
       "      <td>1.0</td>\n",
       "      <td>0.013112</td>\n",
       "      <td>0.373451</td>\n",
       "    </tr>\n",
       "    <tr>\n",
       "      <th>81</th>\n",
       "      <td>Basic Attention Token</td>\n",
       "      <td>BAT</td>\n",
       "      <td>1.19</td>\n",
       "      <td>1.77525</td>\n",
       "      <td>1.782541</td>\n",
       "      <td>0.414228</td>\n",
       "      <td>232915265</td>\n",
       "      <td>-37.47301</td>\n",
       "      <td>1.004107</td>\n",
       "      <td>0.013166</td>\n",
       "      <td>0.374730</td>\n",
       "    </tr>\n",
       "    <tr>\n",
       "      <th>34</th>\n",
       "      <td>The Sandbox</td>\n",
       "      <td>SAND</td>\n",
       "      <td>5.92</td>\n",
       "      <td>5.44319</td>\n",
       "      <td>17.759217</td>\n",
       "      <td>0.42334</td>\n",
       "      <td>1408766148</td>\n",
       "      <td>-29.50002</td>\n",
       "      <td>3.262649</td>\n",
       "      <td>0.04278</td>\n",
       "      <td>0.295000</td>\n",
       "    </tr>\n",
       "    <tr>\n",
       "      <th>33</th>\n",
       "      <td>Fantom</td>\n",
       "      <td>FTM</td>\n",
       "      <td>2.16</td>\n",
       "      <td>5.486395</td>\n",
       "      <td>6.854882</td>\n",
       "      <td>0.424897</td>\n",
       "      <td>908997946</td>\n",
       "      <td>-37.57490</td>\n",
       "      <td>1.249433</td>\n",
       "      <td>0.016383</td>\n",
       "      <td>0.375749</td>\n",
       "    </tr>\n",
       "    <tr>\n",
       "      <th>84</th>\n",
       "      <td>Spell Token</td>\n",
       "      <td>SPELL</td>\n",
       "      <td>0.021893</td>\n",
       "      <td>1.731517</td>\n",
       "      <td>4.592168</td>\n",
       "      <td>0.480672</td>\n",
       "      <td>101963591</td>\n",
       "      <td>-37.63479</td>\n",
       "      <td>2.652107</td>\n",
       "      <td>0.034775</td>\n",
       "      <td>0.376348</td>\n",
       "    </tr>\n",
       "    <tr>\n",
       "      <th>63</th>\n",
       "      <td>Enjin Coin</td>\n",
       "      <td>ENJ</td>\n",
       "      <td>2.71</td>\n",
       "      <td>2.525293</td>\n",
       "      <td>2.702754</td>\n",
       "      <td>0.481286</td>\n",
       "      <td>221665395</td>\n",
       "      <td>-43.91851</td>\n",
       "      <td>1.070273</td>\n",
       "      <td>0.014034</td>\n",
       "      <td>0.439185</td>\n",
       "    </tr>\n",
       "    <tr>\n",
       "      <th>43</th>\n",
       "      <td>Decentraland</td>\n",
       "      <td>MANA</td>\n",
       "      <td>3.33</td>\n",
       "      <td>4.409344</td>\n",
       "      <td>7.287863</td>\n",
       "      <td>0.497256</td>\n",
       "      <td>594663342</td>\n",
       "      <td>-43.22404</td>\n",
       "      <td>1.652822</td>\n",
       "      <td>0.021672</td>\n",
       "      <td>0.432240</td>\n",
       "    </tr>\n",
       "    <tr>\n",
       "      <th>64</th>\n",
       "      <td>Loopring</td>\n",
       "      <td>LRC</td>\n",
       "      <td>2.02</td>\n",
       "      <td>2.518247</td>\n",
       "      <td>2.778001</td>\n",
       "      <td>0.504417</td>\n",
       "      <td>228689396</td>\n",
       "      <td>-46.10228</td>\n",
       "      <td>1.103149</td>\n",
       "      <td>0.014465</td>\n",
       "      <td>0.461023</td>\n",
       "    </tr>\n",
       "    <tr>\n",
       "      <th>29</th>\n",
       "      <td>Axie Infinity</td>\n",
       "      <td>AXS</td>\n",
       "      <td>95.98</td>\n",
       "      <td>6.515868</td>\n",
       "      <td>25.91559</td>\n",
       "      <td>0.574372</td>\n",
       "      <td>224208220</td>\n",
       "      <td>-41.79198</td>\n",
       "      <td>3.977305</td>\n",
       "      <td>0.052151</td>\n",
       "      <td>0.417920</td>\n",
       "    </tr>\n",
       "    <tr>\n",
       "      <th>107</th>\n",
       "      <td>Livepeer</td>\n",
       "      <td>LPT</td>\n",
       "      <td>43.05</td>\n",
       "      <td>1.060381</td>\n",
       "      <td>1.060381</td>\n",
       "      <td>0.605211</td>\n",
       "      <td>145426203</td>\n",
       "      <td>-56.58743</td>\n",
       "      <td>1.0</td>\n",
       "      <td>0.013112</td>\n",
       "      <td>0.565874</td>\n",
       "    </tr>\n",
       "    <tr>\n",
       "      <th>5</th>\n",
       "      <td>Cardano</td>\n",
       "      <td>ADA</td>\n",
       "      <td>1.37</td>\n",
       "      <td>43.777756</td>\n",
       "      <td>61.435009</td>\n",
       "      <td>0.61294</td>\n",
       "      <td>1285691861</td>\n",
       "      <td>-55.77383</td>\n",
       "      <td>1.403338</td>\n",
       "      <td>0.018401</td>\n",
       "      <td>0.557738</td>\n",
       "    </tr>\n",
       "    <tr>\n",
       "      <th>19</th>\n",
       "      <td>Algorand</td>\n",
       "      <td>ALGO</td>\n",
       "      <td>1.59</td>\n",
       "      <td>10.078884</td>\n",
       "      <td>15.831294</td>\n",
       "      <td>0.617232</td>\n",
       "      <td>436947274</td>\n",
       "      <td>-55.54449</td>\n",
       "      <td>1.570739</td>\n",
       "      <td>0.020596</td>\n",
       "      <td>0.555445</td>\n",
       "    </tr>\n",
       "    <tr>\n",
       "      <th>80</th>\n",
       "      <td>Sushi</td>\n",
       "      <td>SUSHI</td>\n",
       "      <td>9.28</td>\n",
       "      <td>1.786392</td>\n",
       "      <td>2.316509</td>\n",
       "      <td>0.654085</td>\n",
       "      <td>875512866</td>\n",
       "      <td>-60.30757</td>\n",
       "      <td>1.296753</td>\n",
       "      <td>0.017003</td>\n",
       "      <td>0.603076</td>\n",
       "    </tr>\n",
       "    <tr>\n",
       "      <th>52</th>\n",
       "      <td>Aave</td>\n",
       "      <td>AAVE</td>\n",
       "      <td>243.7</td>\n",
       "      <td>3.278297</td>\n",
       "      <td>3.899241</td>\n",
       "      <td>0.678482</td>\n",
       "      <td>450835813</td>\n",
       "      <td>-63.16952</td>\n",
       "      <td>1.189411</td>\n",
       "      <td>0.015596</td>\n",
       "      <td>0.631695</td>\n",
       "    </tr>\n",
       "    <tr>\n",
       "      <th>17</th>\n",
       "      <td>Litecoin</td>\n",
       "      <td>LTC</td>\n",
       "      <td>149.07</td>\n",
       "      <td>10.316367</td>\n",
       "      <td>12.504733</td>\n",
       "      <td>0.684826</td>\n",
       "      <td>913255206</td>\n",
       "      <td>-63.71452</td>\n",
       "      <td>1.212126</td>\n",
       "      <td>0.015893</td>\n",
       "      <td>0.637145</td>\n",
       "    </tr>\n",
       "    <tr>\n",
       "      <th>24</th>\n",
       "      <td>Uniswap</td>\n",
       "      <td>UNI</td>\n",
       "      <td>17.57</td>\n",
       "      <td>7.933586</td>\n",
       "      <td>17.540497</td>\n",
       "      <td>0.696457</td>\n",
       "      <td>481818639</td>\n",
       "      <td>-60.94874</td>\n",
       "      <td>2.210917</td>\n",
       "      <td>0.02899</td>\n",
       "      <td>0.609487</td>\n",
       "    </tr>\n",
       "    <tr>\n",
       "      <th>20</th>\n",
       "      <td>Chainlink</td>\n",
       "      <td>LINK</td>\n",
       "      <td>20.26</td>\n",
       "      <td>9.451073</td>\n",
       "      <td>20.23743</td>\n",
       "      <td>0.700276</td>\n",
       "      <td>1040140970</td>\n",
       "      <td>-61.60456</td>\n",
       "      <td>2.141284</td>\n",
       "      <td>0.028077</td>\n",
       "      <td>0.616046</td>\n",
       "    </tr>\n",
       "    <tr>\n",
       "      <th>50</th>\n",
       "      <td>Gala</td>\n",
       "      <td>GALA</td>\n",
       "      <td>0.458029</td>\n",
       "      <td>3.454679</td>\n",
       "      <td>22.90143</td>\n",
       "      <td>0.705468</td>\n",
       "      <td>491556408</td>\n",
       "      <td>-44.47038</td>\n",
       "      <td>6.629105</td>\n",
       "      <td>0.086921</td>\n",
       "      <td>0.444704</td>\n",
       "    </tr>\n",
       "    <tr>\n",
       "      <th>108</th>\n",
       "      <td>yearn.finance</td>\n",
       "      <td>YFI</td>\n",
       "      <td>29605</td>\n",
       "      <td>1.055725</td>\n",
       "      <td>1.084515</td>\n",
       "      <td>0.71461</td>\n",
       "      <td>275773668</td>\n",
       "      <td>-67.42015</td>\n",
       "      <td>1.027271</td>\n",
       "      <td>0.01347</td>\n",
       "      <td>0.674202</td>\n",
       "    </tr>\n",
       "    <tr>\n",
       "      <th>88</th>\n",
       "      <td>Chiliz</td>\n",
       "      <td>CHZ</td>\n",
       "      <td>0.295128</td>\n",
       "      <td>1.575745</td>\n",
       "      <td>2.620968</td>\n",
       "      <td>0.729841</td>\n",
       "      <td>185376377</td>\n",
       "      <td>-66.44119</td>\n",
       "      <td>1.66332</td>\n",
       "      <td>0.02181</td>\n",
       "      <td>0.664412</td>\n",
       "    </tr>\n",
       "    <tr>\n",
       "      <th>381</th>\n",
       "      <td>OpenDAO</td>\n",
       "      <td>SOS</td>\n",
       "      <td>0.000004</td>\n",
       "      <td>0.147595</td>\n",
       "      <td>0.369954</td>\n",
       "      <td>0.76171</td>\n",
       "      <td>135758326</td>\n",
       "      <td>-66.31118</td>\n",
       "      <td>2.506552</td>\n",
       "      <td>0.032866</td>\n",
       "      <td>0.663112</td>\n",
       "    </tr>\n",
       "    <tr>\n",
       "      <th>28</th>\n",
       "      <td>Stellar</td>\n",
       "      <td>XLM</td>\n",
       "      <td>0.273351</td>\n",
       "      <td>6.753223</td>\n",
       "      <td>13.64943</td>\n",
       "      <td>0.76773</td>\n",
       "      <td>313528560</td>\n",
       "      <td>-68.82249</td>\n",
       "      <td>2.021173</td>\n",
       "      <td>0.026502</td>\n",
       "      <td>0.688225</td>\n",
       "    </tr>\n",
       "    <tr>\n",
       "      <th>201</th>\n",
       "      <td>JUST</td>\n",
       "      <td>JST</td>\n",
       "      <td>0.055003</td>\n",
       "      <td>0.400454</td>\n",
       "      <td>0.54305</td>\n",
       "      <td>0.769502</td>\n",
       "      <td>348076424</td>\n",
       "      <td>-71.61585</td>\n",
       "      <td>1.356085</td>\n",
       "      <td>0.017781</td>\n",
       "      <td>0.716158</td>\n",
       "    </tr>\n",
       "    <tr>\n",
       "      <th>130</th>\n",
       "      <td>OMG Network</td>\n",
       "      <td>OMG</td>\n",
       "      <td>6.05</td>\n",
       "      <td>0.846171</td>\n",
       "      <td>0.846171</td>\n",
       "      <td>0.803843</td>\n",
       "      <td>298016560</td>\n",
       "      <td>-76.45066</td>\n",
       "      <td>1.0</td>\n",
       "      <td>0.013112</td>\n",
       "      <td>0.764507</td>\n",
       "    </tr>\n",
       "    <tr>\n",
       "      <th>7</th>\n",
       "      <td>XRP</td>\n",
       "      <td>XRP</td>\n",
       "      <td>0.833966</td>\n",
       "      <td>39.589381</td>\n",
       "      <td>83.283008</td>\n",
       "      <td>0.837689</td>\n",
       "      <td>2761849123</td>\n",
       "      <td>-75.49383</td>\n",
       "      <td>2.10367</td>\n",
       "      <td>0.027583</td>\n",
       "      <td>0.754938</td>\n",
       "    </tr>\n",
       "    <tr>\n",
       "      <th>51</th>\n",
       "      <td>The Graph</td>\n",
       "      <td>GRT</td>\n",
       "      <td>0.644018</td>\n",
       "      <td>3.383571</td>\n",
       "      <td>6.440184</td>\n",
       "      <td>0.848223</td>\n",
       "      <td>114578892</td>\n",
       "      <td>-77.33521</td>\n",
       "      <td>1.903369</td>\n",
       "      <td>0.024957</td>\n",
       "      <td>0.773352</td>\n",
       "    </tr>\n",
       "    <tr>\n",
       "      <th>106</th>\n",
       "      <td>Synthetix Network Token</td>\n",
       "      <td>SNX</td>\n",
       "      <td>5.6</td>\n",
       "      <td>1.097209</td>\n",
       "      <td>1.343343</td>\n",
       "      <td>0.852003</td>\n",
       "      <td>116816830</td>\n",
       "      <td>-80.38428</td>\n",
       "      <td>1.224328</td>\n",
       "      <td>0.016053</td>\n",
       "      <td>0.803843</td>\n",
       "    </tr>\n",
       "    <tr>\n",
       "      <th>41</th>\n",
       "      <td>Ethereum Classic</td>\n",
       "      <td>ETC</td>\n",
       "      <td>34.78</td>\n",
       "      <td>4.583148</td>\n",
       "      <td>7.318457</td>\n",
       "      <td>0.854931</td>\n",
       "      <td>303030947</td>\n",
       "      <td>-79.21181</td>\n",
       "      <td>1.596819</td>\n",
       "      <td>0.020938</td>\n",
       "      <td>0.792118</td>\n",
       "    </tr>\n",
       "    <tr>\n",
       "      <th>89</th>\n",
       "      <td>Huobi Token</td>\n",
       "      <td>HT</td>\n",
       "      <td>9.72</td>\n",
       "      <td>1.531731</td>\n",
       "      <td>4.855741</td>\n",
       "      <td>0.879836</td>\n",
       "      <td>111287063</td>\n",
       "      <td>-75.51363</td>\n",
       "      <td>3.170101</td>\n",
       "      <td>0.041567</td>\n",
       "      <td>0.755136</td>\n",
       "    </tr>\n",
       "    <tr>\n",
       "      <th>298</th>\n",
       "      <td>My Neighbor Alice</td>\n",
       "      <td>ALICE</td>\n",
       "      <td>12.66</td>\n",
       "      <td>0.220777</td>\n",
       "      <td>1.268832</td>\n",
       "      <td>0.91607</td>\n",
       "      <td>111860545</td>\n",
       "      <td>-69.00002</td>\n",
       "      <td>5.747126</td>\n",
       "      <td>0.075357</td>\n",
       "      <td>0.690000</td>\n",
       "    </tr>\n",
       "    <tr>\n",
       "      <th>23</th>\n",
       "      <td>Bitcoin Cash</td>\n",
       "      <td>BCH</td>\n",
       "      <td>437.49</td>\n",
       "      <td>8.279978</td>\n",
       "      <td>9.179931</td>\n",
       "      <td>0.928144</td>\n",
       "      <td>1899461534</td>\n",
       "      <td>-88.45324</td>\n",
       "      <td>1.10869</td>\n",
       "      <td>0.014537</td>\n",
       "      <td>0.884532</td>\n",
       "    </tr>\n",
       "    <tr>\n",
       "      <th>453</th>\n",
       "      <td>Harvest Finance</td>\n",
       "      <td>FARM</td>\n",
       "      <td>164.85</td>\n",
       "      <td>0.10577</td>\n",
       "      <td>0.113898</td>\n",
       "      <td>1.009899</td>\n",
       "      <td>128682430</td>\n",
       "      <td>-96.75399</td>\n",
       "      <td>1.076851</td>\n",
       "      <td>0.01412</td>\n",
       "      <td>0.967540</td>\n",
       "    </tr>\n",
       "    <tr>\n",
       "      <th>82</th>\n",
       "      <td>Zcash</td>\n",
       "      <td>ZEC</td>\n",
       "      <td>147.75</td>\n",
       "      <td>1.764202</td>\n",
       "      <td>3.099072</td>\n",
       "      <td>1.022909</td>\n",
       "      <td>286298373</td>\n",
       "      <td>-95.38098</td>\n",
       "      <td>1.756643</td>\n",
       "      <td>0.023033</td>\n",
       "      <td>0.953810</td>\n",
       "    </tr>\n",
       "    <tr>\n",
       "      <th>40</th>\n",
       "      <td>Internet Computer</td>\n",
       "      <td>ICP</td>\n",
       "      <td>24.3</td>\n",
       "      <td>4.638998</td>\n",
       "      <td>11.399814</td>\n",
       "      <td>1.061988</td>\n",
       "      <td>275292289</td>\n",
       "      <td>-96.53241</td>\n",
       "      <td>2.457387</td>\n",
       "      <td>0.032221</td>\n",
       "      <td>0.965324</td>\n",
       "    </tr>\n",
       "    <tr>\n",
       "      <th>157</th>\n",
       "      <td>dYdX</td>\n",
       "      <td>DYDX</td>\n",
       "      <td>8.96</td>\n",
       "      <td>0.645631</td>\n",
       "      <td>8.959203</td>\n",
       "      <td>1.224276</td>\n",
       "      <td>248621605</td>\n",
       "      <td>-67.84212</td>\n",
       "      <td>13.876652</td>\n",
       "      <td>0.181952</td>\n",
       "      <td>0.678421</td>\n",
       "    </tr>\n",
       "    <tr>\n",
       "      <th>75</th>\n",
       "      <td>Curve DAO Token</td>\n",
       "      <td>CRV</td>\n",
       "      <td>4.88</td>\n",
       "      <td>1.911639</td>\n",
       "      <td>16.109378</td>\n",
       "      <td>1.241054</td>\n",
       "      <td>775829432</td>\n",
       "      <td>-90.95678</td>\n",
       "      <td>8.426998</td>\n",
       "      <td>0.110495</td>\n",
       "      <td>0.909568</td>\n",
       "    </tr>\n",
       "    <tr>\n",
       "      <th>225</th>\n",
       "      <td>Biconomy</td>\n",
       "      <td>BICO</td>\n",
       "      <td>5.07</td>\n",
       "      <td>0.331454</td>\n",
       "      <td>5.070076</td>\n",
       "      <td>1.365302</td>\n",
       "      <td>117197960</td>\n",
       "      <td>-76.35968</td>\n",
       "      <td>15.296461</td>\n",
       "      <td>0.200568</td>\n",
       "      <td>0.763597</td>\n",
       "    </tr>\n",
       "    <tr>\n",
       "      <th>38</th>\n",
       "      <td>Filecoin</td>\n",
       "      <td>FIL</td>\n",
       "      <td>34.86</td>\n",
       "      <td>4.98755</td>\n",
       "      <td>68.677072</td>\n",
       "      <td>1.39452</td>\n",
       "      <td>527414291</td>\n",
       "      <td>-85.28720</td>\n",
       "      <td>13.769702</td>\n",
       "      <td>0.180549</td>\n",
       "      <td>0.852872</td>\n",
       "    </tr>\n",
       "    <tr>\n",
       "      <th>475</th>\n",
       "      <td>APENFT</td>\n",
       "      <td>NFT</td>\n",
       "      <td>0.000003</td>\n",
       "      <td>0.093653</td>\n",
       "      <td>4.682671</td>\n",
       "      <td>2.601629</td>\n",
       "      <td>197634235</td>\n",
       "      <td>-63.48180</td>\n",
       "      <td>50.0</td>\n",
       "      <td>0.655604</td>\n",
       "      <td>0.634818</td>\n",
       "    </tr>\n",
       "  </tbody>\n",
       "</table>\n",
       "</div>"
      ],
      "text/plain": [
       "                        Name  Symbol     Price   MarketCap  \\\n",
       "22                      Near    NEAR     14.64    8.727081   \n",
       "13                   Polygon   MATIC      2.54   17.443069   \n",
       "204             DUSK Network    DUSK  0.992461    0.386304   \n",
       "21                       Dai     DAI       1.0    8.965452   \n",
       "94             Oasis Network    ROSE  0.389619    1.359772   \n",
       "2               Binance Coin     BNB    520.44   87.524128   \n",
       "184                FLEX Coin    FLEX      5.76    0.453045   \n",
       "8                      Terra    LUNA     84.83   30.737816   \n",
       "0                    Bitcoin     BTC     47396  895.258414   \n",
       "16           Wrapped Bitcoin    WBTC     47423   12.220978   \n",
       "10                 Avalanche    AVAX    105.72   25.715047   \n",
       "162          ConstitutionDAO  PEOPLE  0.115925    0.582363   \n",
       "81     Basic Attention Token     BAT      1.19     1.77525   \n",
       "34               The Sandbox    SAND      5.92     5.44319   \n",
       "33                    Fantom     FTM      2.16    5.486395   \n",
       "84               Spell Token   SPELL  0.021893    1.731517   \n",
       "63                Enjin Coin     ENJ      2.71    2.525293   \n",
       "43              Decentraland    MANA      3.33    4.409344   \n",
       "64                  Loopring     LRC      2.02    2.518247   \n",
       "29             Axie Infinity     AXS     95.98    6.515868   \n",
       "107                 Livepeer     LPT     43.05    1.060381   \n",
       "5                    Cardano     ADA      1.37   43.777756   \n",
       "19                  Algorand    ALGO      1.59   10.078884   \n",
       "80                     Sushi   SUSHI      9.28    1.786392   \n",
       "52                      Aave    AAVE     243.7    3.278297   \n",
       "17                  Litecoin     LTC    149.07   10.316367   \n",
       "24                   Uniswap     UNI     17.57    7.933586   \n",
       "20                 Chainlink    LINK     20.26    9.451073   \n",
       "50                      Gala    GALA  0.458029    3.454679   \n",
       "108            yearn.finance     YFI     29605    1.055725   \n",
       "88                    Chiliz     CHZ  0.295128    1.575745   \n",
       "381                  OpenDAO     SOS  0.000004    0.147595   \n",
       "28                   Stellar     XLM  0.273351    6.753223   \n",
       "201                     JUST     JST  0.055003    0.400454   \n",
       "130              OMG Network     OMG      6.05    0.846171   \n",
       "7                        XRP     XRP  0.833966   39.589381   \n",
       "51                 The Graph     GRT  0.644018    3.383571   \n",
       "106  Synthetix Network Token     SNX       5.6    1.097209   \n",
       "41          Ethereum Classic     ETC     34.78    4.583148   \n",
       "89               Huobi Token      HT      9.72    1.531731   \n",
       "298        My Neighbor Alice   ALICE     12.66    0.220777   \n",
       "23              Bitcoin Cash     BCH    437.49    8.279978   \n",
       "453          Harvest Finance    FARM    164.85     0.10577   \n",
       "82                     Zcash     ZEC    147.75    1.764202   \n",
       "40         Internet Computer     ICP      24.3    4.638998   \n",
       "157                     dYdX    DYDX      8.96    0.645631   \n",
       "75           Curve DAO Token     CRV      4.88    1.911639   \n",
       "225                 Biconomy    BICO      5.07    0.331454   \n",
       "38                  Filecoin     FIL     34.86     4.98755   \n",
       "475                   APENFT     NFT  0.000003    0.093653   \n",
       "\n",
       "    FullyDilutedValuation      Rank       Volume  ATHChangePercent  \\\n",
       "22               14.56088  0.173976    670814652         -10.83447   \n",
       "13              25.379525  0.186959   1954550161         -12.97252   \n",
       "204              0.992218  0.190669    180493112          -8.96339   \n",
       "21               8.965452  0.219304    464784256         -17.99676   \n",
       "94               3.896195  0.250642    320137087         -13.79305   \n",
       "2               87.524128  0.280853   1550567857         -24.15163   \n",
       "184              0.568125  0.287484   1082624623         -23.81561   \n",
       "8               84.831124  0.287643   2322530907         -17.90817   \n",
       "0              993.967373  0.358069  25248247765         -31.43954   \n",
       "16              12.220978  0.368918    280979736         -32.95822   \n",
       "10              76.116638  0.387165    995436285         -27.07292   \n",
       "162              0.582363  0.412787    109111313         -37.34508   \n",
       "81               1.782541  0.414228    232915265         -37.47301   \n",
       "34              17.759217   0.42334   1408766148         -29.50002   \n",
       "33               6.854882  0.424897    908997946         -37.57490   \n",
       "84               4.592168  0.480672    101963591         -37.63479   \n",
       "63               2.702754  0.481286    221665395         -43.91851   \n",
       "43               7.287863  0.497256    594663342         -43.22404   \n",
       "64               2.778001  0.504417    228689396         -46.10228   \n",
       "29               25.91559  0.574372    224208220         -41.79198   \n",
       "107              1.060381  0.605211    145426203         -56.58743   \n",
       "5               61.435009   0.61294   1285691861         -55.77383   \n",
       "19              15.831294  0.617232    436947274         -55.54449   \n",
       "80               2.316509  0.654085    875512866         -60.30757   \n",
       "52               3.899241  0.678482    450835813         -63.16952   \n",
       "17              12.504733  0.684826    913255206         -63.71452   \n",
       "24              17.540497  0.696457    481818639         -60.94874   \n",
       "20               20.23743  0.700276   1040140970         -61.60456   \n",
       "50               22.90143  0.705468    491556408         -44.47038   \n",
       "108              1.084515   0.71461    275773668         -67.42015   \n",
       "88               2.620968  0.729841    185376377         -66.44119   \n",
       "381              0.369954   0.76171    135758326         -66.31118   \n",
       "28               13.64943   0.76773    313528560         -68.82249   \n",
       "201               0.54305  0.769502    348076424         -71.61585   \n",
       "130              0.846171  0.803843    298016560         -76.45066   \n",
       "7               83.283008  0.837689   2761849123         -75.49383   \n",
       "51               6.440184  0.848223    114578892         -77.33521   \n",
       "106              1.343343  0.852003    116816830         -80.38428   \n",
       "41               7.318457  0.854931    303030947         -79.21181   \n",
       "89               4.855741  0.879836    111287063         -75.51363   \n",
       "298              1.268832   0.91607    111860545         -69.00002   \n",
       "23               9.179931  0.928144   1899461534         -88.45324   \n",
       "453              0.113898  1.009899    128682430         -96.75399   \n",
       "82               3.099072  1.022909    286298373         -95.38098   \n",
       "40              11.399814  1.061988    275292289         -96.53241   \n",
       "157              8.959203  1.224276    248621605         -67.84212   \n",
       "75              16.109378  1.241054    775829432         -90.95678   \n",
       "225              5.070076  1.365302    117197960         -76.35968   \n",
       "38              68.677072   1.39452    527414291         -85.28720   \n",
       "475              4.682671  2.601629    197634235         -63.48180   \n",
       "\n",
       "    FDVtoMCAP_Ratio FDVtoMCAP_Ratio_norm  ATHChangePercent_norm  \n",
       "22         1.668471             0.021877               0.108345  \n",
       "13         1.454992             0.019078               0.129725  \n",
       "204        2.568492             0.033678               0.089634  \n",
       "21              1.0             0.013112               0.179968  \n",
       "94          2.86533              0.03757               0.137930  \n",
       "2               1.0             0.013112               0.241516  \n",
       "184        1.254014             0.016443               0.238156  \n",
       "8          2.759829             0.036187               0.179082  \n",
       "0          1.110258             0.014558               0.314395  \n",
       "16              1.0             0.013112               0.329582  \n",
       "10         2.960004             0.038812               0.270729  \n",
       "162             1.0             0.013112               0.373451  \n",
       "81         1.004107             0.013166               0.374730  \n",
       "34         3.262649              0.04278               0.295000  \n",
       "33         1.249433             0.016383               0.375749  \n",
       "84         2.652107             0.034775               0.376348  \n",
       "63         1.070273             0.014034               0.439185  \n",
       "43         1.652822             0.021672               0.432240  \n",
       "64         1.103149             0.014465               0.461023  \n",
       "29         3.977305             0.052151               0.417920  \n",
       "107             1.0             0.013112               0.565874  \n",
       "5          1.403338             0.018401               0.557738  \n",
       "19         1.570739             0.020596               0.555445  \n",
       "80         1.296753             0.017003               0.603076  \n",
       "52         1.189411             0.015596               0.631695  \n",
       "17         1.212126             0.015893               0.637145  \n",
       "24         2.210917              0.02899               0.609487  \n",
       "20         2.141284             0.028077               0.616046  \n",
       "50         6.629105             0.086921               0.444704  \n",
       "108        1.027271              0.01347               0.674202  \n",
       "88          1.66332              0.02181               0.664412  \n",
       "381        2.506552             0.032866               0.663112  \n",
       "28         2.021173             0.026502               0.688225  \n",
       "201        1.356085             0.017781               0.716158  \n",
       "130             1.0             0.013112               0.764507  \n",
       "7           2.10367             0.027583               0.754938  \n",
       "51         1.903369             0.024957               0.773352  \n",
       "106        1.224328             0.016053               0.803843  \n",
       "41         1.596819             0.020938               0.792118  \n",
       "89         3.170101             0.041567               0.755136  \n",
       "298        5.747126             0.075357               0.690000  \n",
       "23          1.10869             0.014537               0.884532  \n",
       "453        1.076851              0.01412               0.967540  \n",
       "82         1.756643             0.023033               0.953810  \n",
       "40         2.457387             0.032221               0.965324  \n",
       "157       13.876652             0.181952               0.678421  \n",
       "75         8.426998             0.110495               0.909568  \n",
       "225       15.296461             0.200568               0.763597  \n",
       "38        13.769702             0.180549               0.852872  \n",
       "475            50.0             0.655604               0.634818  "
      ]
     },
     "execution_count": 104,
     "metadata": {},
     "output_type": "execute_result"
    }
   ],
   "source": [
    "a = 3\n",
    "b = 1e-9\n",
    "df[\"Rank\"] = (a * df[\"FDVtoMCAP_Ratio_norm\"] + df[\"ATHChangePercent_norm\"])\n",
    "df[df[\"Volume\"] > 100e6].sort_values(\"Rank\", ascending=True)[:50]"
   ]
  },
  {
   "cell_type": "code",
   "execution_count": 68,
   "id": "4b0b970d-df05-4431-a02d-bbc90ffa41ea",
   "metadata": {},
   "outputs": [
    {
     "data": {
      "text/html": [
       "<div>\n",
       "<style scoped>\n",
       "    .dataframe tbody tr th:only-of-type {\n",
       "        vertical-align: middle;\n",
       "    }\n",
       "\n",
       "    .dataframe tbody tr th {\n",
       "        vertical-align: top;\n",
       "    }\n",
       "\n",
       "    .dataframe thead th {\n",
       "        text-align: right;\n",
       "    }\n",
       "</style>\n",
       "<table border=\"1\" class=\"dataframe\">\n",
       "  <thead>\n",
       "    <tr style=\"text-align: right;\">\n",
       "      <th></th>\n",
       "      <th>Name</th>\n",
       "      <th>Symbol</th>\n",
       "      <th>Price</th>\n",
       "      <th>MarketCap</th>\n",
       "      <th>FullyDilutedValuation</th>\n",
       "      <th>Rank</th>\n",
       "      <th>Volume</th>\n",
       "      <th>ATHChangePercent</th>\n",
       "      <th>FDVtoMCAP_Ratio</th>\n",
       "      <th>FDVtoMCAP_Ratio_norm</th>\n",
       "      <th>ATHChangePercent_norm</th>\n",
       "    </tr>\n",
       "  </thead>\n",
       "  <tbody>\n",
       "    <tr>\n",
       "      <th>260</th>\n",
       "      <td>Metis Token</td>\n",
       "      <td>METIS</td>\n",
       "      <td>186.65</td>\n",
       "      <td>271923668</td>\n",
       "      <td>1880011470</td>\n",
       "      <td>0.092939</td>\n",
       "      <td>64684468</td>\n",
       "      <td>-0.22852</td>\n",
       "      <td>6.913747</td>\n",
       "      <td>0.090654</td>\n",
       "      <td>0.002285</td>\n",
       "    </tr>\n",
       "    <tr>\n",
       "      <th>401</th>\n",
       "      <td>Ion</td>\n",
       "      <td>ION</td>\n",
       "      <td>6290.61</td>\n",
       "      <td>133952195</td>\n",
       "      <td>133952195</td>\n",
       "      <td>0.096523</td>\n",
       "      <td>333795</td>\n",
       "      <td>-8.34106</td>\n",
       "      <td>1.0</td>\n",
       "      <td>0.013112</td>\n",
       "      <td>0.083411</td>\n",
       "    </tr>\n",
       "    <tr>\n",
       "      <th>119</th>\n",
       "      <td>Frax Share</td>\n",
       "      <td>FXS</td>\n",
       "      <td>26.47</td>\n",
       "      <td>941231084</td>\n",
       "      <td>2635355004</td>\n",
       "      <td>0.097876</td>\n",
       "      <td>17800206</td>\n",
       "      <td>-6.11634</td>\n",
       "      <td>2.799902</td>\n",
       "      <td>0.036713</td>\n",
       "      <td>0.061163</td>\n",
       "    </tr>\n",
       "    <tr>\n",
       "      <th>131</th>\n",
       "      <td>Fei USD</td>\n",
       "      <td>FEI</td>\n",
       "      <td>0.998534</td>\n",
       "      <td>829927533</td>\n",
       "      <td>830479727</td>\n",
       "      <td>0.112092</td>\n",
       "      <td>23329606</td>\n",
       "      <td>-9.89716</td>\n",
       "      <td>1.000665</td>\n",
       "      <td>0.013121</td>\n",
       "      <td>0.098972</td>\n",
       "    </tr>\n",
       "    <tr>\n",
       "      <th>410</th>\n",
       "      <td>Railgun</td>\n",
       "      <td>RAIL</td>\n",
       "      <td>2.56</td>\n",
       "      <td>127751151</td>\n",
       "      <td>255502303</td>\n",
       "      <td>0.123289</td>\n",
       "      <td>3532402</td>\n",
       "      <td>-9.70647</td>\n",
       "      <td>2.0</td>\n",
       "      <td>0.026224</td>\n",
       "      <td>0.097065</td>\n",
       "    </tr>\n",
       "    <tr>\n",
       "      <th>204</th>\n",
       "      <td>DUSK Network</td>\n",
       "      <td>DUSK</td>\n",
       "      <td>0.992461</td>\n",
       "      <td>386303741</td>\n",
       "      <td>992218126</td>\n",
       "      <td>0.123312</td>\n",
       "      <td>180493112</td>\n",
       "      <td>-8.96339</td>\n",
       "      <td>2.568492</td>\n",
       "      <td>0.033678</td>\n",
       "      <td>0.089634</td>\n",
       "    </tr>\n",
       "    <tr>\n",
       "      <th>83</th>\n",
       "      <td>Frax</td>\n",
       "      <td>FRAX</td>\n",
       "      <td>1.01</td>\n",
       "      <td>1749572715</td>\n",
       "      <td>1749572715</td>\n",
       "      <td>0.129194</td>\n",
       "      <td>26434383</td>\n",
       "      <td>-11.60821</td>\n",
       "      <td>1.0</td>\n",
       "      <td>0.013112</td>\n",
       "      <td>0.116082</td>\n",
       "    </tr>\n",
       "    <tr>\n",
       "      <th>22</th>\n",
       "      <td>Near</td>\n",
       "      <td>NEAR</td>\n",
       "      <td>14.64</td>\n",
       "      <td>8727081231</td>\n",
       "      <td>14560879986</td>\n",
       "      <td>0.130222</td>\n",
       "      <td>670814652</td>\n",
       "      <td>-10.83447</td>\n",
       "      <td>1.668471</td>\n",
       "      <td>0.021877</td>\n",
       "      <td>0.108345</td>\n",
       "    </tr>\n",
       "    <tr>\n",
       "      <th>74</th>\n",
       "      <td>Convex Finance</td>\n",
       "      <td>CVX</td>\n",
       "      <td>46.6</td>\n",
       "      <td>2041577306</td>\n",
       "      <td>4659577161</td>\n",
       "      <td>0.136557</td>\n",
       "      <td>58840569</td>\n",
       "      <td>-10.66305</td>\n",
       "      <td>2.282342</td>\n",
       "      <td>0.029926</td>\n",
       "      <td>0.106631</td>\n",
       "    </tr>\n",
       "    <tr>\n",
       "      <th>13</th>\n",
       "      <td>Polygon</td>\n",
       "      <td>MATIC</td>\n",
       "      <td>2.54</td>\n",
       "      <td>17443068506</td>\n",
       "      <td>25379524609</td>\n",
       "      <td>0.148803</td>\n",
       "      <td>1954550161</td>\n",
       "      <td>-12.97252</td>\n",
       "      <td>1.454992</td>\n",
       "      <td>0.019078</td>\n",
       "      <td>0.129725</td>\n",
       "    </tr>\n",
       "    <tr>\n",
       "      <th>99</th>\n",
       "      <td>Bitkub Coin</td>\n",
       "      <td>KUB</td>\n",
       "      <td>14.53</td>\n",
       "      <td>1289265495</td>\n",
       "      <td>1597962867</td>\n",
       "      <td>0.173608</td>\n",
       "      <td>24455822</td>\n",
       "      <td>-15.73561</td>\n",
       "      <td>1.239437</td>\n",
       "      <td>0.016252</td>\n",
       "      <td>0.157356</td>\n",
       "    </tr>\n",
       "    <tr>\n",
       "      <th>94</th>\n",
       "      <td>Oasis Network</td>\n",
       "      <td>ROSE</td>\n",
       "      <td>0.389619</td>\n",
       "      <td>1359771893</td>\n",
       "      <td>3896194536</td>\n",
       "      <td>0.175501</td>\n",
       "      <td>320137087</td>\n",
       "      <td>-13.79305</td>\n",
       "      <td>2.86533</td>\n",
       "      <td>0.03757</td>\n",
       "      <td>0.137930</td>\n",
       "    </tr>\n",
       "    <tr>\n",
       "      <th>426</th>\n",
       "      <td>LIT</td>\n",
       "      <td>LIT</td>\n",
       "      <td>0.002383</td>\n",
       "      <td>119138125</td>\n",
       "      <td>238276249</td>\n",
       "      <td>0.185863</td>\n",
       "      <td>2609508</td>\n",
       "      <td>-15.96393</td>\n",
       "      <td>2.0</td>\n",
       "      <td>0.026224</td>\n",
       "      <td>0.159639</td>\n",
       "    </tr>\n",
       "    <tr>\n",
       "      <th>21</th>\n",
       "      <td>Dai</td>\n",
       "      <td>DAI</td>\n",
       "      <td>1.0</td>\n",
       "      <td>8965451723</td>\n",
       "      <td>8965451723</td>\n",
       "      <td>0.19308</td>\n",
       "      <td>464784256</td>\n",
       "      <td>-17.99676</td>\n",
       "      <td>1.0</td>\n",
       "      <td>0.013112</td>\n",
       "      <td>0.179968</td>\n",
       "    </tr>\n",
       "    <tr>\n",
       "      <th>379</th>\n",
       "      <td>Hermez Network</td>\n",
       "      <td>HEZ</td>\n",
       "      <td>8.9</td>\n",
       "      <td>148738070</td>\n",
       "      <td>844513865</td>\n",
       "      <td>0.210191</td>\n",
       "      <td>237761</td>\n",
       "      <td>-13.57426</td>\n",
       "      <td>5.67786</td>\n",
       "      <td>0.074449</td>\n",
       "      <td>0.135743</td>\n",
       "    </tr>\n",
       "    <tr>\n",
       "      <th>8</th>\n",
       "      <td>Terra</td>\n",
       "      <td>LUNA</td>\n",
       "      <td>84.83</td>\n",
       "      <td>30737816212</td>\n",
       "      <td>84831123669</td>\n",
       "      <td>0.215269</td>\n",
       "      <td>2322530907</td>\n",
       "      <td>-17.90817</td>\n",
       "      <td>2.759829</td>\n",
       "      <td>0.036187</td>\n",
       "      <td>0.179082</td>\n",
       "    </tr>\n",
       "    <tr>\n",
       "      <th>440</th>\n",
       "      <td>STASIS EURO</td>\n",
       "      <td>EURS</td>\n",
       "      <td>1.14</td>\n",
       "      <td>112981136</td>\n",
       "      <td>112981136</td>\n",
       "      <td>0.21723</td>\n",
       "      <td>522334</td>\n",
       "      <td>-20.41176</td>\n",
       "      <td>1.0</td>\n",
       "      <td>0.013112</td>\n",
       "      <td>0.204118</td>\n",
       "    </tr>\n",
       "    <tr>\n",
       "      <th>450</th>\n",
       "      <td>sEUR</td>\n",
       "      <td>SEUR</td>\n",
       "      <td>1.11</td>\n",
       "      <td>106710398</td>\n",
       "      <td>106710398</td>\n",
       "      <td>0.21729</td>\n",
       "      <td>31075</td>\n",
       "      <td>-20.41782</td>\n",
       "      <td>1.0</td>\n",
       "      <td>0.013112</td>\n",
       "      <td>0.204178</td>\n",
       "    </tr>\n",
       "    <tr>\n",
       "      <th>263</th>\n",
       "      <td>sETH</td>\n",
       "      <td>SETH</td>\n",
       "      <td>3790.05</td>\n",
       "      <td>263281762</td>\n",
       "      <td>263281762</td>\n",
       "      <td>0.235883</td>\n",
       "      <td>130.78</td>\n",
       "      <td>-22.27706</td>\n",
       "      <td>1.0</td>\n",
       "      <td>0.013112</td>\n",
       "      <td>0.222771</td>\n",
       "    </tr>\n",
       "    <tr>\n",
       "      <th>30</th>\n",
       "      <td>Lido Staked Ether</td>\n",
       "      <td>STETH</td>\n",
       "      <td>3712.9</td>\n",
       "      <td>6035492469</td>\n",
       "      <td>6035492469</td>\n",
       "      <td>0.244327</td>\n",
       "      <td>9311073</td>\n",
       "      <td>-23.12152</td>\n",
       "      <td>1.0</td>\n",
       "      <td>0.013112</td>\n",
       "      <td>0.231215</td>\n",
       "    </tr>\n",
       "    <tr>\n",
       "      <th>184</th>\n",
       "      <td>FLEX Coin</td>\n",
       "      <td>FLEX</td>\n",
       "      <td>5.76</td>\n",
       "      <td>453045215</td>\n",
       "      <td>568125119</td>\n",
       "      <td>0.254599</td>\n",
       "      <td>1082624623</td>\n",
       "      <td>-23.81561</td>\n",
       "      <td>1.254014</td>\n",
       "      <td>0.016443</td>\n",
       "      <td>0.238156</td>\n",
       "    </tr>\n",
       "    <tr>\n",
       "      <th>2</th>\n",
       "      <td>Binance Coin</td>\n",
       "      <td>BNB</td>\n",
       "      <td>520.44</td>\n",
       "      <td>87524127551</td>\n",
       "      <td>87524127551</td>\n",
       "      <td>0.254628</td>\n",
       "      <td>1550567857</td>\n",
       "      <td>-24.15163</td>\n",
       "      <td>1.0</td>\n",
       "      <td>0.013112</td>\n",
       "      <td>0.241516</td>\n",
       "    </tr>\n",
       "    <tr>\n",
       "      <th>133</th>\n",
       "      <td>DeFi Kingdoms</td>\n",
       "      <td>JEWEL</td>\n",
       "      <td>13.01</td>\n",
       "      <td>818947378</td>\n",
       "      <td>6504149979</td>\n",
       "      <td>0.261792</td>\n",
       "      <td>36184658</td>\n",
       "      <td>-15.76547</td>\n",
       "      <td>7.942085</td>\n",
       "      <td>0.104137</td>\n",
       "      <td>0.157655</td>\n",
       "    </tr>\n",
       "    <tr>\n",
       "      <th>366</th>\n",
       "      <td>Aavegotchi</td>\n",
       "      <td>GHST</td>\n",
       "      <td>2.31</td>\n",
       "      <td>158425038</td>\n",
       "      <td>162497378</td>\n",
       "      <td>0.264865</td>\n",
       "      <td>28994558</td>\n",
       "      <td>-25.14163</td>\n",
       "      <td>1.025705</td>\n",
       "      <td>0.013449</td>\n",
       "      <td>0.251416</td>\n",
       "    </tr>\n",
       "    <tr>\n",
       "      <th>422</th>\n",
       "      <td>BTSE Token</td>\n",
       "      <td>BTSE</td>\n",
       "      <td>6.03</td>\n",
       "      <td>122767627</td>\n",
       "      <td>1205174279</td>\n",
       "      <td>0.282733</td>\n",
       "      <td>938826</td>\n",
       "      <td>-15.40156</td>\n",
       "      <td>9.816711</td>\n",
       "      <td>0.128717</td>\n",
       "      <td>0.154016</td>\n",
       "    </tr>\n",
       "    <tr>\n",
       "      <th>441</th>\n",
       "      <td>Socean Staked Sol</td>\n",
       "      <td>SCNSOL</td>\n",
       "      <td>178.52</td>\n",
       "      <td>112488179</td>\n",
       "      <td>76489585</td>\n",
       "      <td>0.294891</td>\n",
       "      <td>2235017</td>\n",
       "      <td>-28.59750</td>\n",
       "      <td>0.679979</td>\n",
       "      <td>0.008916</td>\n",
       "      <td>0.285975</td>\n",
       "    </tr>\n",
       "    <tr>\n",
       "      <th>121</th>\n",
       "      <td>Gnosis</td>\n",
       "      <td>GNO</td>\n",
       "      <td>497.64</td>\n",
       "      <td>928449550</td>\n",
       "      <td>4978209693</td>\n",
       "      <td>0.297533</td>\n",
       "      <td>18859674</td>\n",
       "      <td>-22.72282</td>\n",
       "      <td>5.361853</td>\n",
       "      <td>0.070305</td>\n",
       "      <td>0.227228</td>\n",
       "    </tr>\n",
       "    <tr>\n",
       "      <th>150</th>\n",
       "      <td>Rocket Pool</td>\n",
       "      <td>RPL</td>\n",
       "      <td>42.62</td>\n",
       "      <td>689023874</td>\n",
       "      <td>765969748</td>\n",
       "      <td>0.298854</td>\n",
       "      <td>3171094</td>\n",
       "      <td>-28.42774</td>\n",
       "      <td>1.111674</td>\n",
       "      <td>0.014576</td>\n",
       "      <td>0.284277</td>\n",
       "    </tr>\n",
       "    <tr>\n",
       "      <th>91</th>\n",
       "      <td>Osmosis</td>\n",
       "      <td>OSMO</td>\n",
       "      <td>5.67</td>\n",
       "      <td>1466964670</td>\n",
       "      <td>5672086545</td>\n",
       "      <td>0.305829</td>\n",
       "      <td>36694240</td>\n",
       "      <td>-25.51302</td>\n",
       "      <td>3.866546</td>\n",
       "      <td>0.050698</td>\n",
       "      <td>0.255130</td>\n",
       "    </tr>\n",
       "    <tr>\n",
       "      <th>10</th>\n",
       "      <td>Avalanche</td>\n",
       "      <td>AVAX</td>\n",
       "      <td>105.72</td>\n",
       "      <td>25715047456</td>\n",
       "      <td>76116638172</td>\n",
       "      <td>0.309541</td>\n",
       "      <td>995436285</td>\n",
       "      <td>-27.07292</td>\n",
       "      <td>2.960004</td>\n",
       "      <td>0.038812</td>\n",
       "      <td>0.270729</td>\n",
       "    </tr>\n",
       "    <tr>\n",
       "      <th>136</th>\n",
       "      <td>renBTC</td>\n",
       "      <td>RENBTC</td>\n",
       "      <td>47441</td>\n",
       "      <td>812096079</td>\n",
       "      <td>812096079</td>\n",
       "      <td>0.32599</td>\n",
       "      <td>3506209</td>\n",
       "      <td>-31.28779</td>\n",
       "      <td>1.0</td>\n",
       "      <td>0.013112</td>\n",
       "      <td>0.312878</td>\n",
       "    </tr>\n",
       "    <tr>\n",
       "      <th>316</th>\n",
       "      <td>sBTC</td>\n",
       "      <td>SBTC</td>\n",
       "      <td>47061</td>\n",
       "      <td>200430555</td>\n",
       "      <td>200430555</td>\n",
       "      <td>0.327881</td>\n",
       "      <td>34256</td>\n",
       "      <td>-31.47685</td>\n",
       "      <td>1.0</td>\n",
       "      <td>0.013112</td>\n",
       "      <td>0.314769</td>\n",
       "    </tr>\n",
       "    <tr>\n",
       "      <th>0</th>\n",
       "      <td>Bitcoin</td>\n",
       "      <td>BTC</td>\n",
       "      <td>47396</td>\n",
       "      <td>895258413792</td>\n",
       "      <td>993967373002</td>\n",
       "      <td>0.328953</td>\n",
       "      <td>25248247765</td>\n",
       "      <td>-31.43954</td>\n",
       "      <td>1.110258</td>\n",
       "      <td>0.014558</td>\n",
       "      <td>0.314395</td>\n",
       "    </tr>\n",
       "    <tr>\n",
       "      <th>76</th>\n",
       "      <td>Huobi BTC</td>\n",
       "      <td>HBTC</td>\n",
       "      <td>47496</td>\n",
       "      <td>1891392045</td>\n",
       "      <td>1891392045</td>\n",
       "      <td>0.329056</td>\n",
       "      <td>2051813</td>\n",
       "      <td>-31.59440</td>\n",
       "      <td>1.0</td>\n",
       "      <td>0.013112</td>\n",
       "      <td>0.315944</td>\n",
       "    </tr>\n",
       "    <tr>\n",
       "      <th>46</th>\n",
       "      <td>Helium</td>\n",
       "      <td>HNT</td>\n",
       "      <td>38.56</td>\n",
       "      <td>3852844552</td>\n",
       "      <td>8545750819</td>\n",
       "      <td>0.330763</td>\n",
       "      <td>30159452</td>\n",
       "      <td>-30.16797</td>\n",
       "      <td>2.218037</td>\n",
       "      <td>0.029083</td>\n",
       "      <td>0.301680</td>\n",
       "    </tr>\n",
       "    <tr>\n",
       "      <th>304</th>\n",
       "      <td>Lido Staked SOL</td>\n",
       "      <td>STSOL</td>\n",
       "      <td>177.98</td>\n",
       "      <td>213453170</td>\n",
       "      <td>213451102</td>\n",
       "      <td>0.337011</td>\n",
       "      <td>4708973</td>\n",
       "      <td>-32.38994</td>\n",
       "      <td>0.99999</td>\n",
       "      <td>0.013112</td>\n",
       "      <td>0.323899</td>\n",
       "    </tr>\n",
       "    <tr>\n",
       "      <th>34</th>\n",
       "      <td>The Sandbox</td>\n",
       "      <td>SAND</td>\n",
       "      <td>5.92</td>\n",
       "      <td>5443190107</td>\n",
       "      <td>17759217150</td>\n",
       "      <td>0.33778</td>\n",
       "      <td>1408766148</td>\n",
       "      <td>-29.50002</td>\n",
       "      <td>3.262649</td>\n",
       "      <td>0.04278</td>\n",
       "      <td>0.295000</td>\n",
       "    </tr>\n",
       "    <tr>\n",
       "      <th>211</th>\n",
       "      <td>Zipmex Token</td>\n",
       "      <td>ZMT</td>\n",
       "      <td>4.05</td>\n",
       "      <td>353774198</td>\n",
       "      <td>810587822</td>\n",
       "      <td>0.340657</td>\n",
       "      <td>22973370</td>\n",
       "      <td>-31.06135</td>\n",
       "      <td>2.291258</td>\n",
       "      <td>0.030043</td>\n",
       "      <td>0.310613</td>\n",
       "    </tr>\n",
       "    <tr>\n",
       "      <th>16</th>\n",
       "      <td>Wrapped Bitcoin</td>\n",
       "      <td>WBTC</td>\n",
       "      <td>47423</td>\n",
       "      <td>12220977671</td>\n",
       "      <td>12220977671</td>\n",
       "      <td>0.342694</td>\n",
       "      <td>280979736</td>\n",
       "      <td>-32.95822</td>\n",
       "      <td>1.0</td>\n",
       "      <td>0.013112</td>\n",
       "      <td>0.329582</td>\n",
       "    </tr>\n",
       "    <tr>\n",
       "      <th>127</th>\n",
       "      <td>Nexus Mutual</td>\n",
       "      <td>NXM</td>\n",
       "      <td>124.53</td>\n",
       "      <td>857203634</td>\n",
       "      <td>857203634</td>\n",
       "      <td>0.344427</td>\n",
       "      <td>175596</td>\n",
       "      <td>-33.13152</td>\n",
       "      <td>1.0</td>\n",
       "      <td>0.013112</td>\n",
       "      <td>0.331315</td>\n",
       "    </tr>\n",
       "    <tr>\n",
       "      <th>398</th>\n",
       "      <td>Iron Bank EURO</td>\n",
       "      <td>IBEUR</td>\n",
       "      <td>1.13</td>\n",
       "      <td>135975249</td>\n",
       "      <td>135975249</td>\n",
       "      <td>0.373891</td>\n",
       "      <td>0.0</td>\n",
       "      <td>-36.07787</td>\n",
       "      <td>1.0</td>\n",
       "      <td>0.013112</td>\n",
       "      <td>0.360779</td>\n",
       "    </tr>\n",
       "    <tr>\n",
       "      <th>397</th>\n",
       "      <td>QANplatform</td>\n",
       "      <td>QANX</td>\n",
       "      <td>0.134013</td>\n",
       "      <td>136023696</td>\n",
       "      <td>446709442</td>\n",
       "      <td>0.384234</td>\n",
       "      <td>1856120</td>\n",
       "      <td>-34.11737</td>\n",
       "      <td>3.284056</td>\n",
       "      <td>0.043061</td>\n",
       "      <td>0.341174</td>\n",
       "    </tr>\n",
       "    <tr>\n",
       "      <th>162</th>\n",
       "      <td>ConstitutionDAO</td>\n",
       "      <td>PEOPLE</td>\n",
       "      <td>0.115925</td>\n",
       "      <td>582363079</td>\n",
       "      <td>582363079</td>\n",
       "      <td>0.386563</td>\n",
       "      <td>109111313</td>\n",
       "      <td>-37.34508</td>\n",
       "      <td>1.0</td>\n",
       "      <td>0.013112</td>\n",
       "      <td>0.373451</td>\n",
       "    </tr>\n",
       "    <tr>\n",
       "      <th>81</th>\n",
       "      <td>Basic Attention Token</td>\n",
       "      <td>BAT</td>\n",
       "      <td>1.19</td>\n",
       "      <td>1775250120</td>\n",
       "      <td>1782540690</td>\n",
       "      <td>0.387896</td>\n",
       "      <td>232915265</td>\n",
       "      <td>-37.47301</td>\n",
       "      <td>1.004107</td>\n",
       "      <td>0.013166</td>\n",
       "      <td>0.374730</td>\n",
       "    </tr>\n",
       "    <tr>\n",
       "      <th>220</th>\n",
       "      <td>Anyswap</td>\n",
       "      <td>ANY</td>\n",
       "      <td>18.45</td>\n",
       "      <td>338753601</td>\n",
       "      <td>1839640341</td>\n",
       "      <td>0.390008</td>\n",
       "      <td>20915349</td>\n",
       "      <td>-31.88016</td>\n",
       "      <td>5.430615</td>\n",
       "      <td>0.071207</td>\n",
       "      <td>0.318802</td>\n",
       "    </tr>\n",
       "    <tr>\n",
       "      <th>33</th>\n",
       "      <td>Fantom</td>\n",
       "      <td>FTM</td>\n",
       "      <td>2.16</td>\n",
       "      <td>5486394694</td>\n",
       "      <td>6854882408</td>\n",
       "      <td>0.392132</td>\n",
       "      <td>908997946</td>\n",
       "      <td>-37.57490</td>\n",
       "      <td>1.249433</td>\n",
       "      <td>0.016383</td>\n",
       "      <td>0.375749</td>\n",
       "    </tr>\n",
       "    <tr>\n",
       "      <th>58</th>\n",
       "      <td>Arweave</td>\n",
       "      <td>AR</td>\n",
       "      <td>55.68</td>\n",
       "      <td>2785339989</td>\n",
       "      <td>3668687586</td>\n",
       "      <td>0.394352</td>\n",
       "      <td>52047515</td>\n",
       "      <td>-37.70815</td>\n",
       "      <td>1.317142</td>\n",
       "      <td>0.01727</td>\n",
       "      <td>0.377082</td>\n",
       "    </tr>\n",
       "    <tr>\n",
       "      <th>60</th>\n",
       "      <td>Harmony</td>\n",
       "      <td>ONE</td>\n",
       "      <td>0.232123</td>\n",
       "      <td>2663906845</td>\n",
       "      <td>3051595824</td>\n",
       "      <td>0.402593</td>\n",
       "      <td>87988380</td>\n",
       "      <td>-38.75723</td>\n",
       "      <td>1.145534</td>\n",
       "      <td>0.01502</td>\n",
       "      <td>0.387572</td>\n",
       "    </tr>\n",
       "    <tr>\n",
       "      <th>84</th>\n",
       "      <td>Spell Token</td>\n",
       "      <td>SPELL</td>\n",
       "      <td>0.021893</td>\n",
       "      <td>1731517152</td>\n",
       "      <td>4592168098</td>\n",
       "      <td>0.411123</td>\n",
       "      <td>101963591</td>\n",
       "      <td>-37.63479</td>\n",
       "      <td>2.652107</td>\n",
       "      <td>0.034775</td>\n",
       "      <td>0.376348</td>\n",
       "    </tr>\n",
       "    <tr>\n",
       "      <th>129</th>\n",
       "      <td>Dogelon Mars</td>\n",
       "      <td>ELON</td>\n",
       "      <td>0.000002</td>\n",
       "      <td>846318441</td>\n",
       "      <td>1523180713</td>\n",
       "      <td>0.436342</td>\n",
       "      <td>27501756</td>\n",
       "      <td>-41.27429</td>\n",
       "      <td>1.799773</td>\n",
       "      <td>0.023599</td>\n",
       "      <td>0.412743</td>\n",
       "    </tr>\n",
       "  </tbody>\n",
       "</table>\n",
       "</div>"
      ],
      "text/plain": [
       "                      Name  Symbol     Price     MarketCap  \\\n",
       "260            Metis Token   METIS    186.65     271923668   \n",
       "401                    Ion     ION   6290.61     133952195   \n",
       "119             Frax Share     FXS     26.47     941231084   \n",
       "131                Fei USD     FEI  0.998534     829927533   \n",
       "410                Railgun    RAIL      2.56     127751151   \n",
       "204           DUSK Network    DUSK  0.992461     386303741   \n",
       "83                    Frax    FRAX      1.01    1749572715   \n",
       "22                    Near    NEAR     14.64    8727081231   \n",
       "74          Convex Finance     CVX      46.6    2041577306   \n",
       "13                 Polygon   MATIC      2.54   17443068506   \n",
       "99             Bitkub Coin     KUB     14.53    1289265495   \n",
       "94           Oasis Network    ROSE  0.389619    1359771893   \n",
       "426                    LIT     LIT  0.002383     119138125   \n",
       "21                     Dai     DAI       1.0    8965451723   \n",
       "379         Hermez Network     HEZ       8.9     148738070   \n",
       "8                    Terra    LUNA     84.83   30737816212   \n",
       "440            STASIS EURO    EURS      1.14     112981136   \n",
       "450                   sEUR    SEUR      1.11     106710398   \n",
       "263                   sETH    SETH   3790.05     263281762   \n",
       "30       Lido Staked Ether   STETH    3712.9    6035492469   \n",
       "184              FLEX Coin    FLEX      5.76     453045215   \n",
       "2             Binance Coin     BNB    520.44   87524127551   \n",
       "133          DeFi Kingdoms   JEWEL     13.01     818947378   \n",
       "366             Aavegotchi    GHST      2.31     158425038   \n",
       "422             BTSE Token    BTSE      6.03     122767627   \n",
       "441      Socean Staked Sol  SCNSOL    178.52     112488179   \n",
       "121                 Gnosis     GNO    497.64     928449550   \n",
       "150            Rocket Pool     RPL     42.62     689023874   \n",
       "91                 Osmosis    OSMO      5.67    1466964670   \n",
       "10               Avalanche    AVAX    105.72   25715047456   \n",
       "136                 renBTC  RENBTC     47441     812096079   \n",
       "316                   sBTC    SBTC     47061     200430555   \n",
       "0                  Bitcoin     BTC     47396  895258413792   \n",
       "76               Huobi BTC    HBTC     47496    1891392045   \n",
       "46                  Helium     HNT     38.56    3852844552   \n",
       "304        Lido Staked SOL   STSOL    177.98     213453170   \n",
       "34             The Sandbox    SAND      5.92    5443190107   \n",
       "211           Zipmex Token     ZMT      4.05     353774198   \n",
       "16         Wrapped Bitcoin    WBTC     47423   12220977671   \n",
       "127           Nexus Mutual     NXM    124.53     857203634   \n",
       "398         Iron Bank EURO   IBEUR      1.13     135975249   \n",
       "397            QANplatform    QANX  0.134013     136023696   \n",
       "162        ConstitutionDAO  PEOPLE  0.115925     582363079   \n",
       "81   Basic Attention Token     BAT      1.19    1775250120   \n",
       "220                Anyswap     ANY     18.45     338753601   \n",
       "33                  Fantom     FTM      2.16    5486394694   \n",
       "58                 Arweave      AR     55.68    2785339989   \n",
       "60                 Harmony     ONE  0.232123    2663906845   \n",
       "84             Spell Token   SPELL  0.021893    1731517152   \n",
       "129           Dogelon Mars    ELON  0.000002     846318441   \n",
       "\n",
       "    FullyDilutedValuation      Rank       Volume  ATHChangePercent  \\\n",
       "260            1880011470  0.092939     64684468          -0.22852   \n",
       "401             133952195  0.096523       333795          -8.34106   \n",
       "119            2635355004  0.097876     17800206          -6.11634   \n",
       "131             830479727  0.112092     23329606          -9.89716   \n",
       "410             255502303  0.123289      3532402          -9.70647   \n",
       "204             992218126  0.123312    180493112          -8.96339   \n",
       "83             1749572715  0.129194     26434383         -11.60821   \n",
       "22            14560879986  0.130222    670814652         -10.83447   \n",
       "74             4659577161  0.136557     58840569         -10.66305   \n",
       "13            25379524609  0.148803   1954550161         -12.97252   \n",
       "99             1597962867  0.173608     24455822         -15.73561   \n",
       "94             3896194536  0.175501    320137087         -13.79305   \n",
       "426             238276249  0.185863      2609508         -15.96393   \n",
       "21             8965451723   0.19308    464784256         -17.99676   \n",
       "379             844513865  0.210191       237761         -13.57426   \n",
       "8             84831123669  0.215269   2322530907         -17.90817   \n",
       "440             112981136   0.21723       522334         -20.41176   \n",
       "450             106710398   0.21729        31075         -20.41782   \n",
       "263             263281762  0.235883       130.78         -22.27706   \n",
       "30             6035492469  0.244327      9311073         -23.12152   \n",
       "184             568125119  0.254599   1082624623         -23.81561   \n",
       "2             87524127551  0.254628   1550567857         -24.15163   \n",
       "133            6504149979  0.261792     36184658         -15.76547   \n",
       "366             162497378  0.264865     28994558         -25.14163   \n",
       "422            1205174279  0.282733       938826         -15.40156   \n",
       "441              76489585  0.294891      2235017         -28.59750   \n",
       "121            4978209693  0.297533     18859674         -22.72282   \n",
       "150             765969748  0.298854      3171094         -28.42774   \n",
       "91             5672086545  0.305829     36694240         -25.51302   \n",
       "10            76116638172  0.309541    995436285         -27.07292   \n",
       "136             812096079   0.32599      3506209         -31.28779   \n",
       "316             200430555  0.327881        34256         -31.47685   \n",
       "0            993967373002  0.328953  25248247765         -31.43954   \n",
       "76             1891392045  0.329056      2051813         -31.59440   \n",
       "46             8545750819  0.330763     30159452         -30.16797   \n",
       "304             213451102  0.337011      4708973         -32.38994   \n",
       "34            17759217150   0.33778   1408766148         -29.50002   \n",
       "211             810587822  0.340657     22973370         -31.06135   \n",
       "16            12220977671  0.342694    280979736         -32.95822   \n",
       "127             857203634  0.344427       175596         -33.13152   \n",
       "398             135975249  0.373891          0.0         -36.07787   \n",
       "397             446709442  0.384234      1856120         -34.11737   \n",
       "162             582363079  0.386563    109111313         -37.34508   \n",
       "81             1782540690  0.387896    232915265         -37.47301   \n",
       "220            1839640341  0.390008     20915349         -31.88016   \n",
       "33             6854882408  0.392132    908997946         -37.57490   \n",
       "58             3668687586  0.394352     52047515         -37.70815   \n",
       "60             3051595824  0.402593     87988380         -38.75723   \n",
       "84             4592168098  0.411123    101963591         -37.63479   \n",
       "129            1523180713  0.436342     27501756         -41.27429   \n",
       "\n",
       "    FDVtoMCAP_Ratio FDVtoMCAP_Ratio_norm  ATHChangePercent_norm  \n",
       "260        6.913747             0.090654               0.002285  \n",
       "401             1.0             0.013112               0.083411  \n",
       "119        2.799902             0.036713               0.061163  \n",
       "131        1.000665             0.013121               0.098972  \n",
       "410             2.0             0.026224               0.097065  \n",
       "204        2.568492             0.033678               0.089634  \n",
       "83              1.0             0.013112               0.116082  \n",
       "22         1.668471             0.021877               0.108345  \n",
       "74         2.282342             0.029926               0.106631  \n",
       "13         1.454992             0.019078               0.129725  \n",
       "99         1.239437             0.016252               0.157356  \n",
       "94          2.86533              0.03757               0.137930  \n",
       "426             2.0             0.026224               0.159639  \n",
       "21              1.0             0.013112               0.179968  \n",
       "379         5.67786             0.074449               0.135743  \n",
       "8          2.759829             0.036187               0.179082  \n",
       "440             1.0             0.013112               0.204118  \n",
       "450             1.0             0.013112               0.204178  \n",
       "263             1.0             0.013112               0.222771  \n",
       "30              1.0             0.013112               0.231215  \n",
       "184        1.254014             0.016443               0.238156  \n",
       "2               1.0             0.013112               0.241516  \n",
       "133        7.942085             0.104137               0.157655  \n",
       "366        1.025705             0.013449               0.251416  \n",
       "422        9.816711             0.128717               0.154016  \n",
       "441        0.679979             0.008916               0.285975  \n",
       "121        5.361853             0.070305               0.227228  \n",
       "150        1.111674             0.014576               0.284277  \n",
       "91         3.866546             0.050698               0.255130  \n",
       "10         2.960004             0.038812               0.270729  \n",
       "136             1.0             0.013112               0.312878  \n",
       "316             1.0             0.013112               0.314769  \n",
       "0          1.110258             0.014558               0.314395  \n",
       "76              1.0             0.013112               0.315944  \n",
       "46         2.218037             0.029083               0.301680  \n",
       "304         0.99999             0.013112               0.323899  \n",
       "34         3.262649              0.04278               0.295000  \n",
       "211        2.291258             0.030043               0.310613  \n",
       "16              1.0             0.013112               0.329582  \n",
       "127             1.0             0.013112               0.331315  \n",
       "398             1.0             0.013112               0.360779  \n",
       "397        3.284056             0.043061               0.341174  \n",
       "162             1.0             0.013112               0.373451  \n",
       "81         1.004107             0.013166               0.374730  \n",
       "220        5.430615             0.071207               0.318802  \n",
       "33         1.249433             0.016383               0.375749  \n",
       "58         1.317142              0.01727               0.377082  \n",
       "60         1.145534              0.01502               0.387572  \n",
       "84         2.652107             0.034775               0.376348  \n",
       "129        1.799773             0.023599               0.412743  "
      ]
     },
     "execution_count": 68,
     "metadata": {},
     "output_type": "execute_result"
    }
   ],
   "source": []
  },
  {
   "cell_type": "code",
   "execution_count": 31,
   "id": "4a747bb3-354e-49f2-8e61-3ecc788fe893",
   "metadata": {},
   "outputs": [],
   "source": []
  },
  {
   "cell_type": "code",
   "execution_count": 107,
   "id": "781d2b4c-dbfd-43a9-bd90-8c63e3fd3c03",
   "metadata": {},
   "outputs": [
    {
     "data": {
      "application/vnd.plotly.v1+json": {
       "config": {
        "plotlyServerURL": "https://plot.ly"
       },
       "data": [
        {
         "mode": "markers",
         "type": "scatter",
         "x": [
          "USD Coin",
          "Terra",
          "Polygon",
          "Binance USD",
          "TerraUSD",
          "Dai",
          "Near",
          "Magic Internet Money",
          "LEO Token",
          "Convex Finance",
          "Frax",
          "Oasis Network",
          "Bitkub Coin",
          "Pax Dollar",
          "Frax Share",
          "Liquity USD",
          "cUSDT",
          "Fei USD",
          "DeFi Kingdoms",
          "Convex CRV",
          "DUSK Network",
          "Vader Protocol",
          "Victoria VR",
          "HUSD",
          "PAX Gold",
          "Tether Gold",
          "Metis Token",
          "Escoin Token",
          "agEUR",
          "Hermez Network",
          "chrono.tech",
          "Ion",
          "Railgun",
          "BNB48 Club Token",
          "BTSE Token",
          "LIT",
          "Celo Dollar",
          "mStable USD"
         ],
         "y": [
          -14.76,
          -17.91,
          -12.97,
          -13.23,
          -8.27,
          -18,
          -10.83,
          -3.83,
          -5.39,
          -10.66,
          -11.61,
          -13.79,
          -15.74,
          -11.4,
          -6.12,
          -13.99,
          -7.71,
          -9.9,
          -15.77,
          -18.67,
          -8.96,
          -13.81,
          -19.9,
          -20,
          -19.05,
          -13.84,
          -0.23,
          -5.97,
          -4.99,
          -13.57,
          -13.61,
          -8.34,
          -9.71,
          -13.74,
          -15.4,
          -15.96,
          -12.33,
          -17.8
         ]
        }
       ],
       "layout": {
        "autosize": true,
        "shapes": [
         {
          "line": {
           "dash": "dot"
          },
          "type": "line",
          "x0": 0,
          "x1": 1,
          "xref": "x domain",
          "y0": -31.43954,
          "y1": -31.43954,
          "yref": "y"
         },
         {
          "line": {
           "dash": "dot"
          },
          "type": "line",
          "x0": 0,
          "x1": 1,
          "xref": "x domain",
          "y0": -23.53336,
          "y1": -23.53336,
          "yref": "y"
         }
        ],
        "template": {
         "data": {
          "bar": [
           {
            "error_x": {
             "color": "#2a3f5f"
            },
            "error_y": {
             "color": "#2a3f5f"
            },
            "marker": {
             "line": {
              "color": "#E5ECF6",
              "width": 0.5
             }
            },
            "type": "bar"
           }
          ],
          "barpolar": [
           {
            "marker": {
             "line": {
              "color": "#E5ECF6",
              "width": 0.5
             }
            },
            "type": "barpolar"
           }
          ],
          "carpet": [
           {
            "aaxis": {
             "endlinecolor": "#2a3f5f",
             "gridcolor": "white",
             "linecolor": "white",
             "minorgridcolor": "white",
             "startlinecolor": "#2a3f5f"
            },
            "baxis": {
             "endlinecolor": "#2a3f5f",
             "gridcolor": "white",
             "linecolor": "white",
             "minorgridcolor": "white",
             "startlinecolor": "#2a3f5f"
            },
            "type": "carpet"
           }
          ],
          "choropleth": [
           {
            "colorbar": {
             "outlinewidth": 0,
             "ticks": ""
            },
            "type": "choropleth"
           }
          ],
          "contour": [
           {
            "colorbar": {
             "outlinewidth": 0,
             "ticks": ""
            },
            "colorscale": [
             [
              0,
              "#0d0887"
             ],
             [
              0.1111111111111111,
              "#46039f"
             ],
             [
              0.2222222222222222,
              "#7201a8"
             ],
             [
              0.3333333333333333,
              "#9c179e"
             ],
             [
              0.4444444444444444,
              "#bd3786"
             ],
             [
              0.5555555555555556,
              "#d8576b"
             ],
             [
              0.6666666666666666,
              "#ed7953"
             ],
             [
              0.7777777777777778,
              "#fb9f3a"
             ],
             [
              0.8888888888888888,
              "#fdca26"
             ],
             [
              1,
              "#f0f921"
             ]
            ],
            "type": "contour"
           }
          ],
          "contourcarpet": [
           {
            "colorbar": {
             "outlinewidth": 0,
             "ticks": ""
            },
            "type": "contourcarpet"
           }
          ],
          "heatmap": [
           {
            "colorbar": {
             "outlinewidth": 0,
             "ticks": ""
            },
            "colorscale": [
             [
              0,
              "#0d0887"
             ],
             [
              0.1111111111111111,
              "#46039f"
             ],
             [
              0.2222222222222222,
              "#7201a8"
             ],
             [
              0.3333333333333333,
              "#9c179e"
             ],
             [
              0.4444444444444444,
              "#bd3786"
             ],
             [
              0.5555555555555556,
              "#d8576b"
             ],
             [
              0.6666666666666666,
              "#ed7953"
             ],
             [
              0.7777777777777778,
              "#fb9f3a"
             ],
             [
              0.8888888888888888,
              "#fdca26"
             ],
             [
              1,
              "#f0f921"
             ]
            ],
            "type": "heatmap"
           }
          ],
          "heatmapgl": [
           {
            "colorbar": {
             "outlinewidth": 0,
             "ticks": ""
            },
            "colorscale": [
             [
              0,
              "#0d0887"
             ],
             [
              0.1111111111111111,
              "#46039f"
             ],
             [
              0.2222222222222222,
              "#7201a8"
             ],
             [
              0.3333333333333333,
              "#9c179e"
             ],
             [
              0.4444444444444444,
              "#bd3786"
             ],
             [
              0.5555555555555556,
              "#d8576b"
             ],
             [
              0.6666666666666666,
              "#ed7953"
             ],
             [
              0.7777777777777778,
              "#fb9f3a"
             ],
             [
              0.8888888888888888,
              "#fdca26"
             ],
             [
              1,
              "#f0f921"
             ]
            ],
            "type": "heatmapgl"
           }
          ],
          "histogram": [
           {
            "marker": {
             "colorbar": {
              "outlinewidth": 0,
              "ticks": ""
             }
            },
            "type": "histogram"
           }
          ],
          "histogram2d": [
           {
            "colorbar": {
             "outlinewidth": 0,
             "ticks": ""
            },
            "colorscale": [
             [
              0,
              "#0d0887"
             ],
             [
              0.1111111111111111,
              "#46039f"
             ],
             [
              0.2222222222222222,
              "#7201a8"
             ],
             [
              0.3333333333333333,
              "#9c179e"
             ],
             [
              0.4444444444444444,
              "#bd3786"
             ],
             [
              0.5555555555555556,
              "#d8576b"
             ],
             [
              0.6666666666666666,
              "#ed7953"
             ],
             [
              0.7777777777777778,
              "#fb9f3a"
             ],
             [
              0.8888888888888888,
              "#fdca26"
             ],
             [
              1,
              "#f0f921"
             ]
            ],
            "type": "histogram2d"
           }
          ],
          "histogram2dcontour": [
           {
            "colorbar": {
             "outlinewidth": 0,
             "ticks": ""
            },
            "colorscale": [
             [
              0,
              "#0d0887"
             ],
             [
              0.1111111111111111,
              "#46039f"
             ],
             [
              0.2222222222222222,
              "#7201a8"
             ],
             [
              0.3333333333333333,
              "#9c179e"
             ],
             [
              0.4444444444444444,
              "#bd3786"
             ],
             [
              0.5555555555555556,
              "#d8576b"
             ],
             [
              0.6666666666666666,
              "#ed7953"
             ],
             [
              0.7777777777777778,
              "#fb9f3a"
             ],
             [
              0.8888888888888888,
              "#fdca26"
             ],
             [
              1,
              "#f0f921"
             ]
            ],
            "type": "histogram2dcontour"
           }
          ],
          "mesh3d": [
           {
            "colorbar": {
             "outlinewidth": 0,
             "ticks": ""
            },
            "type": "mesh3d"
           }
          ],
          "parcoords": [
           {
            "line": {
             "colorbar": {
              "outlinewidth": 0,
              "ticks": ""
             }
            },
            "type": "parcoords"
           }
          ],
          "pie": [
           {
            "automargin": true,
            "type": "pie"
           }
          ],
          "scatter": [
           {
            "marker": {
             "colorbar": {
              "outlinewidth": 0,
              "ticks": ""
             }
            },
            "type": "scatter"
           }
          ],
          "scatter3d": [
           {
            "line": {
             "colorbar": {
              "outlinewidth": 0,
              "ticks": ""
             }
            },
            "marker": {
             "colorbar": {
              "outlinewidth": 0,
              "ticks": ""
             }
            },
            "type": "scatter3d"
           }
          ],
          "scattercarpet": [
           {
            "marker": {
             "colorbar": {
              "outlinewidth": 0,
              "ticks": ""
             }
            },
            "type": "scattercarpet"
           }
          ],
          "scattergeo": [
           {
            "marker": {
             "colorbar": {
              "outlinewidth": 0,
              "ticks": ""
             }
            },
            "type": "scattergeo"
           }
          ],
          "scattergl": [
           {
            "marker": {
             "colorbar": {
              "outlinewidth": 0,
              "ticks": ""
             }
            },
            "type": "scattergl"
           }
          ],
          "scattermapbox": [
           {
            "marker": {
             "colorbar": {
              "outlinewidth": 0,
              "ticks": ""
             }
            },
            "type": "scattermapbox"
           }
          ],
          "scatterpolar": [
           {
            "marker": {
             "colorbar": {
              "outlinewidth": 0,
              "ticks": ""
             }
            },
            "type": "scatterpolar"
           }
          ],
          "scatterpolargl": [
           {
            "marker": {
             "colorbar": {
              "outlinewidth": 0,
              "ticks": ""
             }
            },
            "type": "scatterpolargl"
           }
          ],
          "scatterternary": [
           {
            "marker": {
             "colorbar": {
              "outlinewidth": 0,
              "ticks": ""
             }
            },
            "type": "scatterternary"
           }
          ],
          "surface": [
           {
            "colorbar": {
             "outlinewidth": 0,
             "ticks": ""
            },
            "colorscale": [
             [
              0,
              "#0d0887"
             ],
             [
              0.1111111111111111,
              "#46039f"
             ],
             [
              0.2222222222222222,
              "#7201a8"
             ],
             [
              0.3333333333333333,
              "#9c179e"
             ],
             [
              0.4444444444444444,
              "#bd3786"
             ],
             [
              0.5555555555555556,
              "#d8576b"
             ],
             [
              0.6666666666666666,
              "#ed7953"
             ],
             [
              0.7777777777777778,
              "#fb9f3a"
             ],
             [
              0.8888888888888888,
              "#fdca26"
             ],
             [
              1,
              "#f0f921"
             ]
            ],
            "type": "surface"
           }
          ],
          "table": [
           {
            "cells": {
             "fill": {
              "color": "#EBF0F8"
             },
             "line": {
              "color": "white"
             }
            },
            "header": {
             "fill": {
              "color": "#C8D4E3"
             },
             "line": {
              "color": "white"
             }
            },
            "type": "table"
           }
          ]
         },
         "layout": {
          "annotationdefaults": {
           "arrowcolor": "#2a3f5f",
           "arrowhead": 0,
           "arrowwidth": 1
          },
          "autotypenumbers": "strict",
          "coloraxis": {
           "colorbar": {
            "outlinewidth": 0,
            "ticks": ""
           }
          },
          "colorscale": {
           "diverging": [
            [
             0,
             "#8e0152"
            ],
            [
             0.1,
             "#c51b7d"
            ],
            [
             0.2,
             "#de77ae"
            ],
            [
             0.3,
             "#f1b6da"
            ],
            [
             0.4,
             "#fde0ef"
            ],
            [
             0.5,
             "#f7f7f7"
            ],
            [
             0.6,
             "#e6f5d0"
            ],
            [
             0.7,
             "#b8e186"
            ],
            [
             0.8,
             "#7fbc41"
            ],
            [
             0.9,
             "#4d9221"
            ],
            [
             1,
             "#276419"
            ]
           ],
           "sequential": [
            [
             0,
             "#0d0887"
            ],
            [
             0.1111111111111111,
             "#46039f"
            ],
            [
             0.2222222222222222,
             "#7201a8"
            ],
            [
             0.3333333333333333,
             "#9c179e"
            ],
            [
             0.4444444444444444,
             "#bd3786"
            ],
            [
             0.5555555555555556,
             "#d8576b"
            ],
            [
             0.6666666666666666,
             "#ed7953"
            ],
            [
             0.7777777777777778,
             "#fb9f3a"
            ],
            [
             0.8888888888888888,
             "#fdca26"
            ],
            [
             1,
             "#f0f921"
            ]
           ],
           "sequentialminus": [
            [
             0,
             "#0d0887"
            ],
            [
             0.1111111111111111,
             "#46039f"
            ],
            [
             0.2222222222222222,
             "#7201a8"
            ],
            [
             0.3333333333333333,
             "#9c179e"
            ],
            [
             0.4444444444444444,
             "#bd3786"
            ],
            [
             0.5555555555555556,
             "#d8576b"
            ],
            [
             0.6666666666666666,
             "#ed7953"
            ],
            [
             0.7777777777777778,
             "#fb9f3a"
            ],
            [
             0.8888888888888888,
             "#fdca26"
            ],
            [
             1,
             "#f0f921"
            ]
           ]
          },
          "colorway": [
           "#636efa",
           "#EF553B",
           "#00cc96",
           "#ab63fa",
           "#FFA15A",
           "#19d3f3",
           "#FF6692",
           "#B6E880",
           "#FF97FF",
           "#FECB52"
          ],
          "font": {
           "color": "#2a3f5f"
          },
          "geo": {
           "bgcolor": "white",
           "lakecolor": "white",
           "landcolor": "#E5ECF6",
           "showlakes": true,
           "showland": true,
           "subunitcolor": "white"
          },
          "hoverlabel": {
           "align": "left"
          },
          "hovermode": "closest",
          "mapbox": {
           "style": "light"
          },
          "paper_bgcolor": "white",
          "plot_bgcolor": "#E5ECF6",
          "polar": {
           "angularaxis": {
            "gridcolor": "white",
            "linecolor": "white",
            "ticks": ""
           },
           "bgcolor": "#E5ECF6",
           "radialaxis": {
            "gridcolor": "white",
            "linecolor": "white",
            "ticks": ""
           }
          },
          "scene": {
           "xaxis": {
            "backgroundcolor": "#E5ECF6",
            "gridcolor": "white",
            "gridwidth": 2,
            "linecolor": "white",
            "showbackground": true,
            "ticks": "",
            "zerolinecolor": "white"
           },
           "yaxis": {
            "backgroundcolor": "#E5ECF6",
            "gridcolor": "white",
            "gridwidth": 2,
            "linecolor": "white",
            "showbackground": true,
            "ticks": "",
            "zerolinecolor": "white"
           },
           "zaxis": {
            "backgroundcolor": "#E5ECF6",
            "gridcolor": "white",
            "gridwidth": 2,
            "linecolor": "white",
            "showbackground": true,
            "ticks": "",
            "zerolinecolor": "white"
           }
          },
          "shapedefaults": {
           "line": {
            "color": "#2a3f5f"
           }
          },
          "ternary": {
           "aaxis": {
            "gridcolor": "white",
            "linecolor": "white",
            "ticks": ""
           },
           "baxis": {
            "gridcolor": "white",
            "linecolor": "white",
            "ticks": ""
           },
           "bgcolor": "#E5ECF6",
           "caxis": {
            "gridcolor": "white",
            "linecolor": "white",
            "ticks": ""
           }
          },
          "title": {
           "x": 0.05
          },
          "xaxis": {
           "automargin": true,
           "gridcolor": "white",
           "linecolor": "white",
           "ticks": "",
           "title": {
            "standoff": 15
           },
           "zerolinecolor": "white",
           "zerolinewidth": 2
          },
          "yaxis": {
           "automargin": true,
           "gridcolor": "white",
           "linecolor": "white",
           "ticks": "",
           "title": {
            "standoff": 15
           },
           "zerolinecolor": "white",
           "zerolinewidth": 2
          }
         }
        },
        "xaxis": {
         "autorange": true,
         "range": [
          -2.159329563812601,
          39.1593295638126
         ],
         "tickangle": 45,
         "type": "category"
        },
        "yaxis": {
         "autorange": true,
         "range": [
          -31.681099907120743,
          2.3788469969040253
         ],
         "type": "linear"
        }
       }
      },
      "image/png": "[encoded data removed]",
      "text/html": [
       "<div>                            <div id=\"c30a8f4b-2381-4e31-96c0-b5b140ca15ce\" class=\"plotly-graph-div\" style=\"height:525px; width:100%;\"></div>            <script type=\"text/javascript\">                require([\"plotly\"], function(Plotly) {                    window.PLOTLYENV=window.PLOTLYENV || {};                                    if (document.getElementById(\"c30a8f4b-2381-4e31-96c0-b5b140ca15ce\")) {                    Plotly.newPlot(                        \"c30a8f4b-2381-4e31-96c0-b5b140ca15ce\",                        [{\"mode\": \"markers\", \"type\": \"scatter\", \"x\": [\"USD Coin\", \"Terra\", \"Polygon\", \"Binance USD\", \"TerraUSD\", \"Dai\", \"Near\", \"Magic Internet Money\", \"LEO Token\", \"Convex Finance\", \"Frax\", \"Oasis Network\", \"Bitkub Coin\", \"Pax Dollar\", \"Frax Share\", \"Liquity USD\", \"cUSDT\", \"Fei USD\", \"DeFi Kingdoms\", \"Convex CRV\", \"DUSK Network\", \"Vader Protocol\", \"Victoria VR\", \"HUSD\", \"PAX Gold\", \"Tether Gold\", \"Metis Token\", \"Escoin Token\", \"agEUR\", \"Hermez Network\", \"chrono.tech\", \"Ion\", \"Railgun\", \"BNB48 Club Token\", \"BTSE Token\", \"LIT\", \"Celo Dollar\", \"mStable USD\"], \"y\": [-14.76, -17.91, -12.97, -13.23, -8.27, -18.0, -10.83, -3.83, -5.39, -10.66, -11.61, -13.79, -15.74, -11.4, -6.12, -13.99, -7.71, -9.9, -15.77, -18.67, -8.96, -13.81, -19.9, -20.0, -19.05, -13.84, -0.23, -5.97, -4.99, -13.57, -13.61, -8.34, -9.71, -13.74, -15.4, -15.96, -12.33, -17.8]}],                        {\"shapes\": [{\"line\": {\"dash\": \"dot\"}, \"type\": \"line\", \"x0\": 0, \"x1\": 1, \"xref\": \"x domain\", \"y0\": -31.43954, \"y1\": -31.43954, \"yref\": \"y\"}, {\"line\": {\"dash\": \"dot\"}, \"type\": \"line\", \"x0\": 0, \"x1\": 1, \"xref\": \"x domain\", \"y0\": -23.53336, \"y1\": -23.53336, \"yref\": \"y\"}], \"template\": {\"data\": {\"bar\": [{\"error_x\": {\"color\": \"#2a3f5f\"}, \"error_y\": {\"color\": \"#2a3f5f\"}, \"marker\": {\"line\": {\"color\": \"#E5ECF6\", \"width\": 0.5}}, \"type\": \"bar\"}], \"barpolar\": [{\"marker\": {\"line\": {\"color\": \"#E5ECF6\", \"width\": 0.5}}, \"type\": \"barpolar\"}], \"carpet\": [{\"aaxis\": {\"endlinecolor\": \"#2a3f5f\", \"gridcolor\": \"white\", \"linecolor\": \"white\", \"minorgridcolor\": \"white\", \"startlinecolor\": \"#2a3f5f\"}, \"baxis\": {\"endlinecolor\": \"#2a3f5f\", \"gridcolor\": \"white\", \"linecolor\": \"white\", \"minorgridcolor\": \"white\", \"startlinecolor\": \"#2a3f5f\"}, \"type\": \"carpet\"}], \"choropleth\": [{\"colorbar\": {\"outlinewidth\": 0, \"ticks\": \"\"}, \"type\": \"choropleth\"}], \"contour\": [{\"colorbar\": {\"outlinewidth\": 0, \"ticks\": \"\"}, \"colorscale\": [[0.0, \"#0d0887\"], [0.1111111111111111, \"#46039f\"], [0.2222222222222222, \"#7201a8\"], [0.3333333333333333, \"#9c179e\"], [0.4444444444444444, \"#bd3786\"], [0.5555555555555556, \"#d8576b\"], [0.6666666666666666, \"#ed7953\"], [0.7777777777777778, \"#fb9f3a\"], [0.8888888888888888, \"#fdca26\"], [1.0, \"#f0f921\"]], \"type\": \"contour\"}], \"contourcarpet\": [{\"colorbar\": {\"outlinewidth\": 0, \"ticks\": \"\"}, \"type\": \"contourcarpet\"}], \"heatmap\": [{\"colorbar\": {\"outlinewidth\": 0, \"ticks\": \"\"}, \"colorscale\": [[0.0, \"#0d0887\"], [0.1111111111111111, \"#46039f\"], [0.2222222222222222, \"#7201a8\"], [0.3333333333333333, \"#9c179e\"], [0.4444444444444444, \"#bd3786\"], [0.5555555555555556, \"#d8576b\"], [0.6666666666666666, \"#ed7953\"], [0.7777777777777778, \"#fb9f3a\"], [0.8888888888888888, \"#fdca26\"], [1.0, \"#f0f921\"]], \"type\": \"heatmap\"}], \"heatmapgl\": [{\"colorbar\": {\"outlinewidth\": 0, \"ticks\": \"\"}, \"colorscale\": [[0.0, \"#0d0887\"], [0.1111111111111111, \"#46039f\"], [0.2222222222222222, \"#7201a8\"], [0.3333333333333333, \"#9c179e\"], [0.4444444444444444, \"#bd3786\"], [0.5555555555555556, \"#d8576b\"], [0.6666666666666666, \"#ed7953\"], [0.7777777777777778, \"#fb9f3a\"], [0.8888888888888888, \"#fdca26\"], [1.0, \"#f0f921\"]], \"type\": \"heatmapgl\"}], \"histogram\": [{\"marker\": {\"colorbar\": {\"outlinewidth\": 0, \"ticks\": \"\"}}, \"type\": \"histogram\"}], \"histogram2d\": [{\"colorbar\": {\"outlinewidth\": 0, \"ticks\": \"\"}, \"colorscale\": [[0.0, \"#0d0887\"], [0.1111111111111111, \"#46039f\"], [0.2222222222222222, \"#7201a8\"], [0.3333333333333333, \"#9c179e\"], [0.4444444444444444, \"#bd3786\"], [0.5555555555555556, \"#d8576b\"], [0.6666666666666666, \"#ed7953\"], [0.7777777777777778, \"#fb9f3a\"], [0.8888888888888888, \"#fdca26\"], [1.0, \"#f0f921\"]], \"type\": \"histogram2d\"}], \"histogram2dcontour\": [{\"colorbar\": {\"outlinewidth\": 0, \"ticks\": \"\"}, \"colorscale\": [[0.0, \"#0d0887\"], [0.1111111111111111, \"#46039f\"], [0.2222222222222222, \"#7201a8\"], [0.3333333333333333, \"#9c179e\"], [0.4444444444444444, \"#bd3786\"], [0.5555555555555556, \"#d8576b\"], [0.6666666666666666, \"#ed7953\"], [0.7777777777777778, \"#fb9f3a\"], [0.8888888888888888, \"#fdca26\"], [1.0, \"#f0f921\"]], \"type\": \"histogram2dcontour\"}], \"mesh3d\": [{\"colorbar\": {\"outlinewidth\": 0, \"ticks\": \"\"}, \"type\": \"mesh3d\"}], \"parcoords\": [{\"line\": {\"colorbar\": {\"outlinewidth\": 0, \"ticks\": \"\"}}, \"type\": \"parcoords\"}], \"pie\": [{\"automargin\": true, \"type\": \"pie\"}], \"scatter\": [{\"marker\": {\"colorbar\": {\"outlinewidth\": 0, \"ticks\": \"\"}}, \"type\": \"scatter\"}], \"scatter3d\": [{\"line\": {\"colorbar\": {\"outlinewidth\": 0, \"ticks\": \"\"}}, \"marker\": {\"colorbar\": {\"outlinewidth\": 0, \"ticks\": \"\"}}, \"type\": \"scatter3d\"}], \"scattercarpet\": [{\"marker\": {\"colorbar\": {\"outlinewidth\": 0, \"ticks\": \"\"}}, \"type\": \"scattercarpet\"}], \"scattergeo\": [{\"marker\": {\"colorbar\": {\"outlinewidth\": 0, \"ticks\": \"\"}}, \"type\": \"scattergeo\"}], \"scattergl\": [{\"marker\": {\"colorbar\": {\"outlinewidth\": 0, \"ticks\": \"\"}}, \"type\": \"scattergl\"}], \"scattermapbox\": [{\"marker\": {\"colorbar\": {\"outlinewidth\": 0, \"ticks\": \"\"}}, \"type\": \"scattermapbox\"}], \"scatterpolar\": [{\"marker\": {\"colorbar\": {\"outlinewidth\": 0, \"ticks\": \"\"}}, \"type\": \"scatterpolar\"}], \"scatterpolargl\": [{\"marker\": {\"colorbar\": {\"outlinewidth\": 0, \"ticks\": \"\"}}, \"type\": \"scatterpolargl\"}], \"scatterternary\": [{\"marker\": {\"colorbar\": {\"outlinewidth\": 0, \"ticks\": \"\"}}, \"type\": \"scatterternary\"}], \"surface\": [{\"colorbar\": {\"outlinewidth\": 0, \"ticks\": \"\"}, \"colorscale\": [[0.0, \"#0d0887\"], [0.1111111111111111, \"#46039f\"], [0.2222222222222222, \"#7201a8\"], [0.3333333333333333, \"#9c179e\"], [0.4444444444444444, \"#bd3786\"], [0.5555555555555556, \"#d8576b\"], [0.6666666666666666, \"#ed7953\"], [0.7777777777777778, \"#fb9f3a\"], [0.8888888888888888, \"#fdca26\"], [1.0, \"#f0f921\"]], \"type\": \"surface\"}], \"table\": [{\"cells\": {\"fill\": {\"color\": \"#EBF0F8\"}, \"line\": {\"color\": \"white\"}}, \"header\": {\"fill\": {\"color\": \"#C8D4E3\"}, \"line\": {\"color\": \"white\"}}, \"type\": \"table\"}]}, \"layout\": {\"annotationdefaults\": {\"arrowcolor\": \"#2a3f5f\", \"arrowhead\": 0, \"arrowwidth\": 1}, \"autotypenumbers\": \"strict\", \"coloraxis\": {\"colorbar\": {\"outlinewidth\": 0, \"ticks\": \"\"}}, \"colorscale\": {\"diverging\": [[0, \"#8e0152\"], [0.1, \"#c51b7d\"], [0.2, \"#de77ae\"], [0.3, \"#f1b6da\"], [0.4, \"#fde0ef\"], [0.5, \"#f7f7f7\"], [0.6, \"#e6f5d0\"], [0.7, \"#b8e186\"], [0.8, \"#7fbc41\"], [0.9, \"#4d9221\"], [1, \"#276419\"]], \"sequential\": [[0.0, \"#0d0887\"], [0.1111111111111111, \"#46039f\"], [0.2222222222222222, \"#7201a8\"], [0.3333333333333333, \"#9c179e\"], [0.4444444444444444, \"#bd3786\"], [0.5555555555555556, \"#d8576b\"], [0.6666666666666666, \"#ed7953\"], [0.7777777777777778, \"#fb9f3a\"], [0.8888888888888888, \"#fdca26\"], [1.0, \"#f0f921\"]], \"sequentialminus\": [[0.0, \"#0d0887\"], [0.1111111111111111, \"#46039f\"], [0.2222222222222222, \"#7201a8\"], [0.3333333333333333, \"#9c179e\"], [0.4444444444444444, \"#bd3786\"], [0.5555555555555556, \"#d8576b\"], [0.6666666666666666, \"#ed7953\"], [0.7777777777777778, \"#fb9f3a\"], [0.8888888888888888, \"#fdca26\"], [1.0, \"#f0f921\"]]}, \"colorway\": [\"#636efa\", \"#EF553B\", \"#00cc96\", \"#ab63fa\", \"#FFA15A\", \"#19d3f3\", \"#FF6692\", \"#B6E880\", \"#FF97FF\", \"#FECB52\"], \"font\": {\"color\": \"#2a3f5f\"}, \"geo\": {\"bgcolor\": \"white\", \"lakecolor\": \"white\", \"landcolor\": \"#E5ECF6\", \"showlakes\": true, \"showland\": true, \"subunitcolor\": \"white\"}, \"hoverlabel\": {\"align\": \"left\"}, \"hovermode\": \"closest\", \"mapbox\": {\"style\": \"light\"}, \"paper_bgcolor\": \"white\", \"plot_bgcolor\": \"#E5ECF6\", \"polar\": {\"angularaxis\": {\"gridcolor\": \"white\", \"linecolor\": \"white\", \"ticks\": \"\"}, \"bgcolor\": \"#E5ECF6\", \"radialaxis\": {\"gridcolor\": \"white\", \"linecolor\": \"white\", \"ticks\": \"\"}}, \"scene\": {\"xaxis\": {\"backgroundcolor\": \"#E5ECF6\", \"gridcolor\": \"white\", \"gridwidth\": 2, \"linecolor\": \"white\", \"showbackground\": true, \"ticks\": \"\", \"zerolinecolor\": \"white\"}, \"yaxis\": {\"backgroundcolor\": \"#E5ECF6\", \"gridcolor\": \"white\", \"gridwidth\": 2, \"linecolor\": \"white\", \"showbackground\": true, \"ticks\": \"\", \"zerolinecolor\": \"white\"}, \"zaxis\": {\"backgroundcolor\": \"#E5ECF6\", \"gridcolor\": \"white\", \"gridwidth\": 2, \"linecolor\": \"white\", \"showbackground\": true, \"ticks\": \"\", \"zerolinecolor\": \"white\"}}, \"shapedefaults\": {\"line\": {\"color\": \"#2a3f5f\"}}, \"ternary\": {\"aaxis\": {\"gridcolor\": \"white\", \"linecolor\": \"white\", \"ticks\": \"\"}, \"baxis\": {\"gridcolor\": \"white\", \"linecolor\": \"white\", \"ticks\": \"\"}, \"bgcolor\": \"#E5ECF6\", \"caxis\": {\"gridcolor\": \"white\", \"linecolor\": \"white\", \"ticks\": \"\"}}, \"title\": {\"x\": 0.05}, \"xaxis\": {\"automargin\": true, \"gridcolor\": \"white\", \"linecolor\": \"white\", \"ticks\": \"\", \"title\": {\"standoff\": 15}, \"zerolinecolor\": \"white\", \"zerolinewidth\": 2}, \"yaxis\": {\"automargin\": true, \"gridcolor\": \"white\", \"linecolor\": \"white\", \"ticks\": \"\", \"title\": {\"standoff\": 15}, \"zerolinecolor\": \"white\", \"zerolinewidth\": 2}}}, \"xaxis\": {\"tickangle\": 45}},                        {\"responsive\": true}                    ).then(function(){\n",
       "                            \n",
       "var gd = document.getElementById('c30a8f4b-2381-4e31-96c0-b5b140ca15ce');\n",
       "var x = new MutationObserver(function (mutations, observer) {{\n",
       "        var display = window.getComputedStyle(gd).display;\n",
       "        if (!display || display === 'none') {{\n",
       "            console.log([gd, 'removed!']);\n",
       "            Plotly.purge(gd);\n",
       "            observer.disconnect();\n",
       "        }}\n",
       "}});\n",
       "\n",
       "// Listen for the removal of the full notebook cells\n",
       "var notebookContainer = gd.closest('#notebook-container');\n",
       "if (notebookContainer) {{\n",
       "    x.observe(notebookContainer, {childList: true});\n",
       "}}\n",
       "\n",
       "// Listen for the clearing of the current output cell\n",
       "var outputEl = gd.closest('.output');\n",
       "if (outputEl) {{\n",
       "    x.observe(outputEl, {childList: true});\n",
       "}}\n",
       "\n",
       "                        })                };                });            </script>        </div>"
      ]
     },
     "metadata": {},
     "output_type": "display_data"
    }
   ],
   "source": [
    "fig = go.Figure()\n",
    "\n",
    "df1 = df[df.ATHChangePercent > -20]\n",
    "fig.add_trace(go.Scatter(x=df1.Name, y=df1.ATHChangePercent.round(2), mode='markers'))\n",
    "fig.add_hline(\n",
    "    y=df.iloc[0].ATHChangePercent,\n",
    "    line_dash=\"dot\",\n",
    ")\n",
    "fig.add_hline(\n",
    "    y=df.iloc[1].ATHChangePercent,\n",
    "    line_dash=\"dot\",\n",
    ")\n",
    "#fig.update_yaxes(type=\"log\")\n",
    "fig.update_xaxes(tickangle=45)"
   ]
  },
  {
   "cell_type": "code",
   "execution_count": 7,
   "id": "3f7107d0-5ff4-4592-b2ae-678ff7c9d01e",
   "metadata": {},
   "outputs": [
    {
     "data": {
      "application/vnd.plotly.v1+json": {
       "config": {
        "plotlyServerURL": "https://plot.ly"
       },
       "data": [
        {
         "mode": "markers",
         "type": "scatter",
         "x": [
          "USD Coin",
          "Terra",
          "Polygon",
          "Binance USD",
          "TerraUSD",
          "Dai",
          "Near",
          "Magic Internet Money",
          "LEO Token",
          "Convex Finance",
          "Frax",
          "Oasis Network",
          "Bitkub Coin",
          "Pax Dollar",
          "Frax Share",
          "Liquity USD",
          "cUSDT",
          "Fei USD",
          "DeFi Kingdoms",
          "Convex CRV",
          "DUSK Network",
          "Vader Protocol",
          "Victoria VR",
          "HUSD",
          "PAX Gold",
          "Tether Gold",
          "Metis Token",
          "Escoin Token",
          "agEUR",
          "Hermez Network",
          "chrono.tech",
          "Ion",
          "Railgun",
          "BNB48 Club Token",
          "BTSE Token",
          "LIT",
          "Celo Dollar",
          "mStable USD"
         ],
         "y": [
          -14.76,
          -17.91,
          -12.97,
          -13.23,
          -8.27,
          -18,
          -10.83,
          -3.83,
          -5.39,
          -10.66,
          -11.61,
          -13.79,
          -15.74,
          -11.4,
          -6.12,
          -13.99,
          -7.71,
          -9.9,
          -15.77,
          -18.67,
          -8.96,
          -13.81,
          -19.9,
          -20,
          -19.05,
          -13.84,
          -0.23,
          -5.97,
          -4.99,
          -13.57,
          -13.61,
          -8.34,
          -9.71,
          -13.74,
          -15.4,
          -15.96,
          -12.33,
          -17.8
         ]
        }
       ],
       "layout": {
        "autosize": true,
        "template": {
         "data": {
          "bar": [
           {
            "error_x": {
             "color": "#2a3f5f"
            },
            "error_y": {
             "color": "#2a3f5f"
            },
            "marker": {
             "line": {
              "color": "#E5ECF6",
              "width": 0.5
             }
            },
            "type": "bar"
           }
          ],
          "barpolar": [
           {
            "marker": {
             "line": {
              "color": "#E5ECF6",
              "width": 0.5
             }
            },
            "type": "barpolar"
           }
          ],
          "carpet": [
           {
            "aaxis": {
             "endlinecolor": "#2a3f5f",
             "gridcolor": "white",
             "linecolor": "white",
             "minorgridcolor": "white",
             "startlinecolor": "#2a3f5f"
            },
            "baxis": {
             "endlinecolor": "#2a3f5f",
             "gridcolor": "white",
             "linecolor": "white",
             "minorgridcolor": "white",
             "startlinecolor": "#2a3f5f"
            },
            "type": "carpet"
           }
          ],
          "choropleth": [
           {
            "colorbar": {
             "outlinewidth": 0,
             "ticks": ""
            },
            "type": "choropleth"
           }
          ],
          "contour": [
           {
            "colorbar": {
             "outlinewidth": 0,
             "ticks": ""
            },
            "colorscale": [
             [
              0,
              "#0d0887"
             ],
             [
              0.1111111111111111,
              "#46039f"
             ],
             [
              0.2222222222222222,
              "#7201a8"
             ],
             [
              0.3333333333333333,
              "#9c179e"
             ],
             [
              0.4444444444444444,
              "#bd3786"
             ],
             [
              0.5555555555555556,
              "#d8576b"
             ],
             [
              0.6666666666666666,
              "#ed7953"
             ],
             [
              0.7777777777777778,
              "#fb9f3a"
             ],
             [
              0.8888888888888888,
              "#fdca26"
             ],
             [
              1,
              "#f0f921"
             ]
            ],
            "type": "contour"
           }
          ],
          "contourcarpet": [
           {
            "colorbar": {
             "outlinewidth": 0,
             "ticks": ""
            },
            "type": "contourcarpet"
           }
          ],
          "heatmap": [
           {
            "colorbar": {
             "outlinewidth": 0,
             "ticks": ""
            },
            "colorscale": [
             [
              0,
              "#0d0887"
             ],
             [
              0.1111111111111111,
              "#46039f"
             ],
             [
              0.2222222222222222,
              "#7201a8"
             ],
             [
              0.3333333333333333,
              "#9c179e"
             ],
             [
              0.4444444444444444,
              "#bd3786"
             ],
             [
              0.5555555555555556,
              "#d8576b"
             ],
             [
              0.6666666666666666,
              "#ed7953"
             ],
             [
              0.7777777777777778,
              "#fb9f3a"
             ],
             [
              0.8888888888888888,
              "#fdca26"
             ],
             [
              1,
              "#f0f921"
             ]
            ],
            "type": "heatmap"
           }
          ],
          "heatmapgl": [
           {
            "colorbar": {
             "outlinewidth": 0,
             "ticks": ""
            },
            "colorscale": [
             [
              0,
              "#0d0887"
             ],
             [
              0.1111111111111111,
              "#46039f"
             ],
             [
              0.2222222222222222,
              "#7201a8"
             ],
             [
              0.3333333333333333,
              "#9c179e"
             ],
             [
              0.4444444444444444,
              "#bd3786"
             ],
             [
              0.5555555555555556,
              "#d8576b"
             ],
             [
              0.6666666666666666,
              "#ed7953"
             ],
             [
              0.7777777777777778,
              "#fb9f3a"
             ],
             [
              0.8888888888888888,
              "#fdca26"
             ],
             [
              1,
              "#f0f921"
             ]
            ],
            "type": "heatmapgl"
           }
          ],
          "histogram": [
           {
            "marker": {
             "colorbar": {
              "outlinewidth": 0,
              "ticks": ""
             }
            },
            "type": "histogram"
           }
          ],
          "histogram2d": [
           {
            "colorbar": {
             "outlinewidth": 0,
             "ticks": ""
            },
            "colorscale": [
             [
              0,
              "#0d0887"
             ],
             [
              0.1111111111111111,
              "#46039f"
             ],
             [
              0.2222222222222222,
              "#7201a8"
             ],
             [
              0.3333333333333333,
              "#9c179e"
             ],
             [
              0.4444444444444444,
              "#bd3786"
             ],
             [
              0.5555555555555556,
              "#d8576b"
             ],
             [
              0.6666666666666666,
              "#ed7953"
             ],
             [
              0.7777777777777778,
              "#fb9f3a"
             ],
             [
              0.8888888888888888,
              "#fdca26"
             ],
             [
              1,
              "#f0f921"
             ]
            ],
            "type": "histogram2d"
           }
          ],
          "histogram2dcontour": [
           {
            "colorbar": {
             "outlinewidth": 0,
             "ticks": ""
            },
            "colorscale": [
             [
              0,
              "#0d0887"
             ],
             [
              0.1111111111111111,
              "#46039f"
             ],
             [
              0.2222222222222222,
              "#7201a8"
             ],
             [
              0.3333333333333333,
              "#9c179e"
             ],
             [
              0.4444444444444444,
              "#bd3786"
             ],
             [
              0.5555555555555556,
              "#d8576b"
             ],
             [
              0.6666666666666666,
              "#ed7953"
             ],
             [
              0.7777777777777778,
              "#fb9f3a"
             ],
             [
              0.8888888888888888,
              "#fdca26"
             ],
             [
              1,
              "#f0f921"
             ]
            ],
            "type": "histogram2dcontour"
           }
          ],
          "mesh3d": [
           {
            "colorbar": {
             "outlinewidth": 0,
             "ticks": ""
            },
            "type": "mesh3d"
           }
          ],
          "parcoords": [
           {
            "line": {
             "colorbar": {
              "outlinewidth": 0,
              "ticks": ""
             }
            },
            "type": "parcoords"
           }
          ],
          "pie": [
           {
            "automargin": true,
            "type": "pie"
           }
          ],
          "scatter": [
           {
            "marker": {
             "colorbar": {
              "outlinewidth": 0,
              "ticks": ""
             }
            },
            "type": "scatter"
           }
          ],
          "scatter3d": [
           {
            "line": {
             "colorbar": {
              "outlinewidth": 0,
              "ticks": ""
             }
            },
            "marker": {
             "colorbar": {
              "outlinewidth": 0,
              "ticks": ""
             }
            },
            "type": "scatter3d"
           }
          ],
          "scattercarpet": [
           {
            "marker": {
             "colorbar": {
              "outlinewidth": 0,
              "ticks": ""
             }
            },
            "type": "scattercarpet"
           }
          ],
          "scattergeo": [
           {
            "marker": {
             "colorbar": {
              "outlinewidth": 0,
              "ticks": ""
             }
            },
            "type": "scattergeo"
           }
          ],
          "scattergl": [
           {
            "marker": {
             "colorbar": {
              "outlinewidth": 0,
              "ticks": ""
             }
            },
            "type": "scattergl"
           }
          ],
          "scattermapbox": [
           {
            "marker": {
             "colorbar": {
              "outlinewidth": 0,
              "ticks": ""
             }
            },
            "type": "scattermapbox"
           }
          ],
          "scatterpolar": [
           {
            "marker": {
             "colorbar": {
              "outlinewidth": 0,
              "ticks": ""
             }
            },
            "type": "scatterpolar"
           }
          ],
          "scatterpolargl": [
           {
            "marker": {
             "colorbar": {
              "outlinewidth": 0,
              "ticks": ""
             }
            },
            "type": "scatterpolargl"
           }
          ],
          "scatterternary": [
           {
            "marker": {
             "colorbar": {
              "outlinewidth": 0,
              "ticks": ""
             }
            },
            "type": "scatterternary"
           }
          ],
          "surface": [
           {
            "colorbar": {
             "outlinewidth": 0,
             "ticks": ""
            },
            "colorscale": [
             [
              0,
              "#0d0887"
             ],
             [
              0.1111111111111111,
              "#46039f"
             ],
             [
              0.2222222222222222,
              "#7201a8"
             ],
             [
              0.3333333333333333,
              "#9c179e"
             ],
             [
              0.4444444444444444,
              "#bd3786"
             ],
             [
              0.5555555555555556,
              "#d8576b"
             ],
             [
              0.6666666666666666,
              "#ed7953"
             ],
             [
              0.7777777777777778,
              "#fb9f3a"
             ],
             [
              0.8888888888888888,
              "#fdca26"
             ],
             [
              1,
              "#f0f921"
             ]
            ],
            "type": "surface"
           }
          ],
          "table": [
           {
            "cells": {
             "fill": {
              "color": "#EBF0F8"
             },
             "line": {
              "color": "white"
             }
            },
            "header": {
             "fill": {
              "color": "#C8D4E3"
             },
             "line": {
              "color": "white"
             }
            },
            "type": "table"
           }
          ]
         },
         "layout": {
          "annotationdefaults": {
           "arrowcolor": "#2a3f5f",
           "arrowhead": 0,
           "arrowwidth": 1
          },
          "autotypenumbers": "strict",
          "coloraxis": {
           "colorbar": {
            "outlinewidth": 0,
            "ticks": ""
           }
          },
          "colorscale": {
           "diverging": [
            [
             0,
             "#8e0152"
            ],
            [
             0.1,
             "#c51b7d"
            ],
            [
             0.2,
             "#de77ae"
            ],
            [
             0.3,
             "#f1b6da"
            ],
            [
             0.4,
             "#fde0ef"
            ],
            [
             0.5,
             "#f7f7f7"
            ],
            [
             0.6,
             "#e6f5d0"
            ],
            [
             0.7,
             "#b8e186"
            ],
            [
             0.8,
             "#7fbc41"
            ],
            [
             0.9,
             "#4d9221"
            ],
            [
             1,
             "#276419"
            ]
           ],
           "sequential": [
            [
             0,
             "#0d0887"
            ],
            [
             0.1111111111111111,
             "#46039f"
            ],
            [
             0.2222222222222222,
             "#7201a8"
            ],
            [
             0.3333333333333333,
             "#9c179e"
            ],
            [
             0.4444444444444444,
             "#bd3786"
            ],
            [
             0.5555555555555556,
             "#d8576b"
            ],
            [
             0.6666666666666666,
             "#ed7953"
            ],
            [
             0.7777777777777778,
             "#fb9f3a"
            ],
            [
             0.8888888888888888,
             "#fdca26"
            ],
            [
             1,
             "#f0f921"
            ]
           ],
           "sequentialminus": [
            [
             0,
             "#0d0887"
            ],
            [
             0.1111111111111111,
             "#46039f"
            ],
            [
             0.2222222222222222,
             "#7201a8"
            ],
            [
             0.3333333333333333,
             "#9c179e"
            ],
            [
             0.4444444444444444,
             "#bd3786"
            ],
            [
             0.5555555555555556,
             "#d8576b"
            ],
            [
             0.6666666666666666,
             "#ed7953"
            ],
            [
             0.7777777777777778,
             "#fb9f3a"
            ],
            [
             0.8888888888888888,
             "#fdca26"
            ],
            [
             1,
             "#f0f921"
            ]
           ]
          },
          "colorway": [
           "#636efa",
           "#EF553B",
           "#00cc96",
           "#ab63fa",
           "#FFA15A",
           "#19d3f3",
           "#FF6692",
           "#B6E880",
           "#FF97FF",
           "#FECB52"
          ],
          "font": {
           "color": "#2a3f5f"
          },
          "geo": {
           "bgcolor": "white",
           "lakecolor": "white",
           "landcolor": "#E5ECF6",
           "showlakes": true,
           "showland": true,
           "subunitcolor": "white"
          },
          "hoverlabel": {
           "align": "left"
          },
          "hovermode": "closest",
          "mapbox": {
           "style": "light"
          },
          "paper_bgcolor": "white",
          "plot_bgcolor": "#E5ECF6",
          "polar": {
           "angularaxis": {
            "gridcolor": "white",
            "linecolor": "white",
            "ticks": ""
           },
           "bgcolor": "#E5ECF6",
           "radialaxis": {
            "gridcolor": "white",
            "linecolor": "white",
            "ticks": ""
           }
          },
          "scene": {
           "xaxis": {
            "backgroundcolor": "#E5ECF6",
            "gridcolor": "white",
            "gridwidth": 2,
            "linecolor": "white",
            "showbackground": true,
            "ticks": "",
            "zerolinecolor": "white"
           },
           "yaxis": {
            "backgroundcolor": "#E5ECF6",
            "gridcolor": "white",
            "gridwidth": 2,
            "linecolor": "white",
            "showbackground": true,
            "ticks": "",
            "zerolinecolor": "white"
           },
           "zaxis": {
            "backgroundcolor": "#E5ECF6",
            "gridcolor": "white",
            "gridwidth": 2,
            "linecolor": "white",
            "showbackground": true,
            "ticks": "",
            "zerolinecolor": "white"
           }
          },
          "shapedefaults": {
           "line": {
            "color": "#2a3f5f"
           }
          },
          "ternary": {
           "aaxis": {
            "gridcolor": "white",
            "linecolor": "white",
            "ticks": ""
           },
           "baxis": {
            "gridcolor": "white",
            "linecolor": "white",
            "ticks": ""
           },
           "bgcolor": "#E5ECF6",
           "caxis": {
            "gridcolor": "white",
            "linecolor": "white",
            "ticks": ""
           }
          },
          "title": {
           "x": 0.05
          },
          "xaxis": {
           "automargin": true,
           "gridcolor": "white",
           "linecolor": "white",
           "ticks": "",
           "title": {
            "standoff": 15
           },
           "zerolinecolor": "white",
           "zerolinewidth": 2
          },
          "yaxis": {
           "automargin": true,
           "gridcolor": "white",
           "linecolor": "white",
           "ticks": "",
           "title": {
            "standoff": 15
           },
           "zerolinecolor": "white",
           "zerolinewidth": 2
          }
         }
        },
        "xaxis": {
         "autorange": true,
         "range": [
          -2.159329563812601,
          39.1593295638126
         ],
         "tickangle": 45,
         "type": "category"
        },
        "yaxis": {
         "autorange": true,
         "range": [
          -21.78824120603015,
          1.5582412060301511
         ],
         "type": "linear"
        }
       }
      },
      "image/png": "[encoded data removed]",
      "text/html": [
       "<div>                            <div id=\"59856e0e-146c-487b-8775-38ea0c516e8d\" class=\"plotly-graph-div\" style=\"height:525px; width:100%;\"></div>            <script type=\"text/javascript\">                require([\"plotly\"], function(Plotly) {                    window.PLOTLYENV=window.PLOTLYENV || {};                                    if (document.getElementById(\"59856e0e-146c-487b-8775-38ea0c516e8d\")) {                    Plotly.newPlot(                        \"59856e0e-146c-487b-8775-38ea0c516e8d\",                        [{\"mode\": \"markers\", \"type\": \"scatter\", \"x\": [\"USD Coin\", \"Terra\", \"Polygon\", \"Binance USD\", \"TerraUSD\", \"Dai\", \"Near\", \"Magic Internet Money\", \"LEO Token\", \"Convex Finance\", \"Frax\", \"Oasis Network\", \"Bitkub Coin\", \"Pax Dollar\", \"Frax Share\", \"Liquity USD\", \"cUSDT\", \"Fei USD\", \"DeFi Kingdoms\", \"Convex CRV\", \"DUSK Network\", \"Vader Protocol\", \"Victoria VR\", \"HUSD\", \"PAX Gold\", \"Tether Gold\", \"Metis Token\", \"Escoin Token\", \"agEUR\", \"Hermez Network\", \"chrono.tech\", \"Ion\", \"Railgun\", \"BNB48 Club Token\", \"BTSE Token\", \"LIT\", \"Celo Dollar\", \"mStable USD\"], \"y\": [-14.76, -17.91, -12.97, -13.23, -8.27, -18.0, -10.83, -3.83, -5.39, -10.66, -11.61, -13.79, -15.74, -11.4, -6.12, -13.99, -7.71, -9.9, -15.77, -18.67, -8.96, -13.81, -19.9, -20.0, -19.05, -13.84, -0.23, -5.97, -4.99, -13.57, -13.61, -8.34, -9.71, -13.74, -15.4, -15.96, -12.33, -17.8]}],                        {\"template\": {\"data\": {\"bar\": [{\"error_x\": {\"color\": \"#2a3f5f\"}, \"error_y\": {\"color\": \"#2a3f5f\"}, \"marker\": {\"line\": {\"color\": \"#E5ECF6\", \"width\": 0.5}}, \"type\": \"bar\"}], \"barpolar\": [{\"marker\": {\"line\": {\"color\": \"#E5ECF6\", \"width\": 0.5}}, \"type\": \"barpolar\"}], \"carpet\": [{\"aaxis\": {\"endlinecolor\": \"#2a3f5f\", \"gridcolor\": \"white\", \"linecolor\": \"white\", \"minorgridcolor\": \"white\", \"startlinecolor\": \"#2a3f5f\"}, \"baxis\": {\"endlinecolor\": \"#2a3f5f\", \"gridcolor\": \"white\", \"linecolor\": \"white\", \"minorgridcolor\": \"white\", \"startlinecolor\": \"#2a3f5f\"}, \"type\": \"carpet\"}], \"choropleth\": [{\"colorbar\": {\"outlinewidth\": 0, \"ticks\": \"\"}, \"type\": \"choropleth\"}], \"contour\": [{\"colorbar\": {\"outlinewidth\": 0, \"ticks\": \"\"}, \"colorscale\": [[0.0, \"#0d0887\"], [0.1111111111111111, \"#46039f\"], [0.2222222222222222, \"#7201a8\"], [0.3333333333333333, \"#9c179e\"], [0.4444444444444444, \"#bd3786\"], [0.5555555555555556, \"#d8576b\"], [0.6666666666666666, \"#ed7953\"], [0.7777777777777778, \"#fb9f3a\"], [0.8888888888888888, \"#fdca26\"], [1.0, \"#f0f921\"]], \"type\": \"contour\"}], \"contourcarpet\": [{\"colorbar\": {\"outlinewidth\": 0, \"ticks\": \"\"}, \"type\": \"contourcarpet\"}], \"heatmap\": [{\"colorbar\": {\"outlinewidth\": 0, \"ticks\": \"\"}, \"colorscale\": [[0.0, \"#0d0887\"], [0.1111111111111111, \"#46039f\"], [0.2222222222222222, \"#7201a8\"], [0.3333333333333333, \"#9c179e\"], [0.4444444444444444, \"#bd3786\"], [0.5555555555555556, \"#d8576b\"], [0.6666666666666666, \"#ed7953\"], [0.7777777777777778, \"#fb9f3a\"], [0.8888888888888888, \"#fdca26\"], [1.0, \"#f0f921\"]], \"type\": \"heatmap\"}], \"heatmapgl\": [{\"colorbar\": {\"outlinewidth\": 0, \"ticks\": \"\"}, \"colorscale\": [[0.0, \"#0d0887\"], [0.1111111111111111, \"#46039f\"], [0.2222222222222222, \"#7201a8\"], [0.3333333333333333, \"#9c179e\"], [0.4444444444444444, \"#bd3786\"], [0.5555555555555556, \"#d8576b\"], [0.6666666666666666, \"#ed7953\"], [0.7777777777777778, \"#fb9f3a\"], [0.8888888888888888, \"#fdca26\"], [1.0, \"#f0f921\"]], \"type\": \"heatmapgl\"}], \"histogram\": [{\"marker\": {\"colorbar\": {\"outlinewidth\": 0, \"ticks\": \"\"}}, \"type\": \"histogram\"}], \"histogram2d\": [{\"colorbar\": {\"outlinewidth\": 0, \"ticks\": \"\"}, \"colorscale\": [[0.0, \"#0d0887\"], [0.1111111111111111, \"#46039f\"], [0.2222222222222222, \"#7201a8\"], [0.3333333333333333, \"#9c179e\"], [0.4444444444444444, \"#bd3786\"], [0.5555555555555556, \"#d8576b\"], [0.6666666666666666, \"#ed7953\"], [0.7777777777777778, \"#fb9f3a\"], [0.8888888888888888, \"#fdca26\"], [1.0, \"#f0f921\"]], \"type\": \"histogram2d\"}], \"histogram2dcontour\": [{\"colorbar\": {\"outlinewidth\": 0, \"ticks\": \"\"}, \"colorscale\": [[0.0, \"#0d0887\"], [0.1111111111111111, \"#46039f\"], [0.2222222222222222, \"#7201a8\"], [0.3333333333333333, \"#9c179e\"], [0.4444444444444444, \"#bd3786\"], [0.5555555555555556, \"#d8576b\"], [0.6666666666666666, \"#ed7953\"], [0.7777777777777778, \"#fb9f3a\"], [0.8888888888888888, \"#fdca26\"], [1.0, \"#f0f921\"]], \"type\": \"histogram2dcontour\"}], \"mesh3d\": [{\"colorbar\": {\"outlinewidth\": 0, \"ticks\": \"\"}, \"type\": \"mesh3d\"}], \"parcoords\": [{\"line\": {\"colorbar\": {\"outlinewidth\": 0, \"ticks\": \"\"}}, \"type\": \"parcoords\"}], \"pie\": [{\"automargin\": true, \"type\": \"pie\"}], \"scatter\": [{\"marker\": {\"colorbar\": {\"outlinewidth\": 0, \"ticks\": \"\"}}, \"type\": \"scatter\"}], \"scatter3d\": [{\"line\": {\"colorbar\": {\"outlinewidth\": 0, \"ticks\": \"\"}}, \"marker\": {\"colorbar\": {\"outlinewidth\": 0, \"ticks\": \"\"}}, \"type\": \"scatter3d\"}], \"scattercarpet\": [{\"marker\": {\"colorbar\": {\"outlinewidth\": 0, \"ticks\": \"\"}}, \"type\": \"scattercarpet\"}], \"scattergeo\": [{\"marker\": {\"colorbar\": {\"outlinewidth\": 0, \"ticks\": \"\"}}, \"type\": \"scattergeo\"}], \"scattergl\": [{\"marker\": {\"colorbar\": {\"outlinewidth\": 0, \"ticks\": \"\"}}, \"type\": \"scattergl\"}], \"scattermapbox\": [{\"marker\": {\"colorbar\": {\"outlinewidth\": 0, \"ticks\": \"\"}}, \"type\": \"scattermapbox\"}], \"scatterpolar\": [{\"marker\": {\"colorbar\": {\"outlinewidth\": 0, \"ticks\": \"\"}}, \"type\": \"scatterpolar\"}], \"scatterpolargl\": [{\"marker\": {\"colorbar\": {\"outlinewidth\": 0, \"ticks\": \"\"}}, \"type\": \"scatterpolargl\"}], \"scatterternary\": [{\"marker\": {\"colorbar\": {\"outlinewidth\": 0, \"ticks\": \"\"}}, \"type\": \"scatterternary\"}], \"surface\": [{\"colorbar\": {\"outlinewidth\": 0, \"ticks\": \"\"}, \"colorscale\": [[0.0, \"#0d0887\"], [0.1111111111111111, \"#46039f\"], [0.2222222222222222, \"#7201a8\"], [0.3333333333333333, \"#9c179e\"], [0.4444444444444444, \"#bd3786\"], [0.5555555555555556, \"#d8576b\"], [0.6666666666666666, \"#ed7953\"], [0.7777777777777778, \"#fb9f3a\"], [0.8888888888888888, \"#fdca26\"], [1.0, \"#f0f921\"]], \"type\": \"surface\"}], \"table\": [{\"cells\": {\"fill\": {\"color\": \"#EBF0F8\"}, \"line\": {\"color\": \"white\"}}, \"header\": {\"fill\": {\"color\": \"#C8D4E3\"}, \"line\": {\"color\": \"white\"}}, \"type\": \"table\"}]}, \"layout\": {\"annotationdefaults\": {\"arrowcolor\": \"#2a3f5f\", \"arrowhead\": 0, \"arrowwidth\": 1}, \"autotypenumbers\": \"strict\", \"coloraxis\": {\"colorbar\": {\"outlinewidth\": 0, \"ticks\": \"\"}}, \"colorscale\": {\"diverging\": [[0, \"#8e0152\"], [0.1, \"#c51b7d\"], [0.2, \"#de77ae\"], [0.3, \"#f1b6da\"], [0.4, \"#fde0ef\"], [0.5, \"#f7f7f7\"], [0.6, \"#e6f5d0\"], [0.7, \"#b8e186\"], [0.8, \"#7fbc41\"], [0.9, \"#4d9221\"], [1, \"#276419\"]], \"sequential\": [[0.0, \"#0d0887\"], [0.1111111111111111, \"#46039f\"], [0.2222222222222222, \"#7201a8\"], [0.3333333333333333, \"#9c179e\"], [0.4444444444444444, \"#bd3786\"], [0.5555555555555556, \"#d8576b\"], [0.6666666666666666, \"#ed7953\"], [0.7777777777777778, \"#fb9f3a\"], [0.8888888888888888, \"#fdca26\"], [1.0, \"#f0f921\"]], \"sequentialminus\": [[0.0, \"#0d0887\"], [0.1111111111111111, \"#46039f\"], [0.2222222222222222, \"#7201a8\"], [0.3333333333333333, \"#9c179e\"], [0.4444444444444444, \"#bd3786\"], [0.5555555555555556, \"#d8576b\"], [0.6666666666666666, \"#ed7953\"], [0.7777777777777778, \"#fb9f3a\"], [0.8888888888888888, \"#fdca26\"], [1.0, \"#f0f921\"]]}, \"colorway\": [\"#636efa\", \"#EF553B\", \"#00cc96\", \"#ab63fa\", \"#FFA15A\", \"#19d3f3\", \"#FF6692\", \"#B6E880\", \"#FF97FF\", \"#FECB52\"], \"font\": {\"color\": \"#2a3f5f\"}, \"geo\": {\"bgcolor\": \"white\", \"lakecolor\": \"white\", \"landcolor\": \"#E5ECF6\", \"showlakes\": true, \"showland\": true, \"subunitcolor\": \"white\"}, \"hoverlabel\": {\"align\": \"left\"}, \"hovermode\": \"closest\", \"mapbox\": {\"style\": \"light\"}, \"paper_bgcolor\": \"white\", \"plot_bgcolor\": \"#E5ECF6\", \"polar\": {\"angularaxis\": {\"gridcolor\": \"white\", \"linecolor\": \"white\", \"ticks\": \"\"}, \"bgcolor\": \"#E5ECF6\", \"radialaxis\": {\"gridcolor\": \"white\", \"linecolor\": \"white\", \"ticks\": \"\"}}, \"scene\": {\"xaxis\": {\"backgroundcolor\": \"#E5ECF6\", \"gridcolor\": \"white\", \"gridwidth\": 2, \"linecolor\": \"white\", \"showbackground\": true, \"ticks\": \"\", \"zerolinecolor\": \"white\"}, \"yaxis\": {\"backgroundcolor\": \"#E5ECF6\", \"gridcolor\": \"white\", \"gridwidth\": 2, \"linecolor\": \"white\", \"showbackground\": true, \"ticks\": \"\", \"zerolinecolor\": \"white\"}, \"zaxis\": {\"backgroundcolor\": \"#E5ECF6\", \"gridcolor\": \"white\", \"gridwidth\": 2, \"linecolor\": \"white\", \"showbackground\": true, \"ticks\": \"\", \"zerolinecolor\": \"white\"}}, \"shapedefaults\": {\"line\": {\"color\": \"#2a3f5f\"}}, \"ternary\": {\"aaxis\": {\"gridcolor\": \"white\", \"linecolor\": \"white\", \"ticks\": \"\"}, \"baxis\": {\"gridcolor\": \"white\", \"linecolor\": \"white\", \"ticks\": \"\"}, \"bgcolor\": \"#E5ECF6\", \"caxis\": {\"gridcolor\": \"white\", \"linecolor\": \"white\", \"ticks\": \"\"}}, \"title\": {\"x\": 0.05}, \"xaxis\": {\"automargin\": true, \"gridcolor\": \"white\", \"linecolor\": \"white\", \"ticks\": \"\", \"title\": {\"standoff\": 15}, \"zerolinecolor\": \"white\", \"zerolinewidth\": 2}, \"yaxis\": {\"automargin\": true, \"gridcolor\": \"white\", \"linecolor\": \"white\", \"ticks\": \"\", \"title\": {\"standoff\": 15}, \"zerolinecolor\": \"white\", \"zerolinewidth\": 2}}}, \"xaxis\": {\"tickangle\": 45}},                        {\"responsive\": true}                    ).then(function(){\n",
       "                            \n",
       "var gd = document.getElementById('59856e0e-146c-487b-8775-38ea0c516e8d');\n",
       "var x = new MutationObserver(function (mutations, observer) {{\n",
       "        var display = window.getComputedStyle(gd).display;\n",
       "        if (!display || display === 'none') {{\n",
       "            console.log([gd, 'removed!']);\n",
       "            Plotly.purge(gd);\n",
       "            observer.disconnect();\n",
       "        }}\n",
       "}});\n",
       "\n",
       "// Listen for the removal of the full notebook cells\n",
       "var notebookContainer = gd.closest('#notebook-container');\n",
       "if (notebookContainer) {{\n",
       "    x.observe(notebookContainer, {childList: true});\n",
       "}}\n",
       "\n",
       "// Listen for the clearing of the current output cell\n",
       "var outputEl = gd.closest('.output');\n",
       "if (outputEl) {{\n",
       "    x.observe(outputEl, {childList: true});\n",
       "}}\n",
       "\n",
       "                        })                };                });            </script>        </div>"
      ]
     },
     "metadata": {},
     "output_type": "display_data"
    }
   ],
   "source": [
    "fig = go.Figure()\n",
    "\n",
    "df1 = df[(df.ATHChangePercent > -20)]\n",
    "fig.add_trace(go.Scatter(x=df1.Name, y=df1.ATHChangePercent.round(2), mode='markers'))\n",
    "\n",
    "#fig.update_yaxes(type=\"log\")\n",
    "fig.update_xaxes(tickangle=45)"
   ]
  },
  {
   "cell_type": "code",
   "execution_count": 8,
   "id": "2256f805-68e3-4124-a835-124b0644ad75",
   "metadata": {},
   "outputs": [],
   "source": [
    "df[\"VolumeMarketCapRatio\"] = df[\"Volume\"] / df[\"MarketCap\"]"
   ]
  },
  {
   "cell_type": "code",
   "execution_count": 9,
   "id": "cf944b5f-cca9-41fe-bcf1-804be25cd168",
   "metadata": {},
   "outputs": [
    {
     "data": {
      "text/html": [
       "<div>\n",
       "<style scoped>\n",
       "    .dataframe tbody tr th:only-of-type {\n",
       "        vertical-align: middle;\n",
       "    }\n",
       "\n",
       "    .dataframe tbody tr th {\n",
       "        vertical-align: top;\n",
       "    }\n",
       "\n",
       "    .dataframe thead th {\n",
       "        text-align: right;\n",
       "    }\n",
       "</style>\n",
       "<table border=\"1\" class=\"dataframe\">\n",
       "  <thead>\n",
       "    <tr style=\"text-align: right;\">\n",
       "      <th></th>\n",
       "      <th>Name</th>\n",
       "      <th>Price</th>\n",
       "      <th>MarketCap</th>\n",
       "      <th>Rank</th>\n",
       "      <th>Volume</th>\n",
       "      <th>ATHChangePercent</th>\n",
       "      <th>VolumeMarketCapRatio</th>\n",
       "    </tr>\n",
       "  </thead>\n",
       "  <tbody>\n",
       "    <tr>\n",
       "      <th>337</th>\n",
       "      <td>GXChain</td>\n",
       "      <td>2.44</td>\n",
       "      <td>180917515</td>\n",
       "      <td>338</td>\n",
       "      <td>771998376</td>\n",
       "      <td>-77.01147</td>\n",
       "      <td>4.267129</td>\n",
       "    </tr>\n",
       "    <tr>\n",
       "      <th>184</th>\n",
       "      <td>FLEX Coin</td>\n",
       "      <td>5.76</td>\n",
       "      <td>453045215</td>\n",
       "      <td>185</td>\n",
       "      <td>1082624623</td>\n",
       "      <td>-23.81561</td>\n",
       "      <td>2.389661</td>\n",
       "    </tr>\n",
       "    <tr>\n",
       "      <th>475</th>\n",
       "      <td>APENFT</td>\n",
       "      <td>0.000003</td>\n",
       "      <td>93653418</td>\n",
       "      <td>476</td>\n",
       "      <td>197634235</td>\n",
       "      <td>-63.48180</td>\n",
       "      <td>2.110273</td>\n",
       "    </tr>\n",
       "    <tr>\n",
       "      <th>439</th>\n",
       "      <td>Voxies</td>\n",
       "      <td>3.17</td>\n",
       "      <td>114005388</td>\n",
       "      <td>440</td>\n",
       "      <td>188076665</td>\n",
       "      <td>-32.61316</td>\n",
       "      <td>1.649717</td>\n",
       "    </tr>\n",
       "    <tr>\n",
       "      <th>453</th>\n",
       "      <td>Harvest Finance</td>\n",
       "      <td>164.85</td>\n",
       "      <td>105769907</td>\n",
       "      <td>454</td>\n",
       "      <td>128682430</td>\n",
       "      <td>-96.75399</td>\n",
       "      <td>1.216626</td>\n",
       "    </tr>\n",
       "    <tr>\n",
       "      <th>...</th>\n",
       "      <td>...</td>\n",
       "      <td>...</td>\n",
       "      <td>...</td>\n",
       "      <td>...</td>\n",
       "      <td>...</td>\n",
       "      <td>...</td>\n",
       "      <td>...</td>\n",
       "    </tr>\n",
       "    <tr>\n",
       "      <th>79</th>\n",
       "      <td>Bitcoin Cash ABC</td>\n",
       "      <td>95.97</td>\n",
       "      <td>1803694806</td>\n",
       "      <td>81</td>\n",
       "      <td>850.71</td>\n",
       "      <td>-74.61861</td>\n",
       "      <td>0.0</td>\n",
       "    </tr>\n",
       "    <tr>\n",
       "      <th>494</th>\n",
       "      <td>Doge Army Token</td>\n",
       "      <td>0.0</td>\n",
       "      <td>88273797</td>\n",
       "      <td>495</td>\n",
       "      <td>22.44</td>\n",
       "      <td>-94.59884</td>\n",
       "      <td>0.0</td>\n",
       "    </tr>\n",
       "    <tr>\n",
       "      <th>398</th>\n",
       "      <td>Iron Bank EURO</td>\n",
       "      <td>1.13</td>\n",
       "      <td>135975249</td>\n",
       "      <td>399</td>\n",
       "      <td>0.0</td>\n",
       "      <td>-36.07787</td>\n",
       "      <td>0.0</td>\n",
       "    </tr>\n",
       "    <tr>\n",
       "      <th>335</th>\n",
       "      <td>Ankr Reward-Bearing Staked ETH</td>\n",
       "      <td>3426.16</td>\n",
       "      <td>182201557</td>\n",
       "      <td>336</td>\n",
       "      <td>0.0</td>\n",
       "      <td>-27.61330</td>\n",
       "      <td>0.0</td>\n",
       "    </tr>\n",
       "    <tr>\n",
       "      <th>411</th>\n",
       "      <td>BNB48 Club Token</td>\n",
       "      <td>63.43</td>\n",
       "      <td>127100662</td>\n",
       "      <td>412</td>\n",
       "      <td>0.0</td>\n",
       "      <td>-13.73973</td>\n",
       "      <td>0.0</td>\n",
       "    </tr>\n",
       "  </tbody>\n",
       "</table>\n",
       "<p>500 rows × 7 columns</p>\n",
       "</div>"
      ],
      "text/plain": [
       "                               Name     Price   MarketCap Rank      Volume  \\\n",
       "337                         GXChain      2.44   180917515  338   771998376   \n",
       "184                       FLEX Coin      5.76   453045215  185  1082624623   \n",
       "475                          APENFT  0.000003    93653418  476   197634235   \n",
       "439                          Voxies      3.17   114005388  440   188076665   \n",
       "453                 Harvest Finance    164.85   105769907  454   128682430   \n",
       "..                              ...       ...         ...  ...         ...   \n",
       "79                 Bitcoin Cash ABC     95.97  1803694806   81      850.71   \n",
       "494                 Doge Army Token       0.0    88273797  495       22.44   \n",
       "398                  Iron Bank EURO      1.13   135975249  399         0.0   \n",
       "335  Ankr Reward-Bearing Staked ETH   3426.16   182201557  336         0.0   \n",
       "411                BNB48 Club Token     63.43   127100662  412         0.0   \n",
       "\n",
       "     ATHChangePercent VolumeMarketCapRatio  \n",
       "337         -77.01147             4.267129  \n",
       "184         -23.81561             2.389661  \n",
       "475         -63.48180             2.110273  \n",
       "439         -32.61316             1.649717  \n",
       "453         -96.75399             1.216626  \n",
       "..                ...                  ...  \n",
       "79          -74.61861                  0.0  \n",
       "494         -94.59884                  0.0  \n",
       "398         -36.07787                  0.0  \n",
       "335         -27.61330                  0.0  \n",
       "411         -13.73973                  0.0  \n",
       "\n",
       "[500 rows x 7 columns]"
      ]
     },
     "execution_count": 9,
     "metadata": {},
     "output_type": "execute_result"
    }
   ],
   "source": [
    "df.sort_values(\"VolumeMarketCapRatio\", ascending=False)"
   ]
  },
  {
   "cell_type": "code",
   "execution_count": 10,
   "id": "e08fe595-405a-4e41-a8e8-a5cb7d0e23b9",
   "metadata": {},
   "outputs": [
    {
     "data": {
      "application/vnd.plotly.v1+json": {
       "config": {
        "plotlyServerURL": "https://plot.ly"
       },
       "data": [
        {
         "mode": "markers",
         "type": "scatter",
         "x": [
          "Bitcoin",
          "Ethereum",
          "Binance Coin",
          "Tether",
          "Solana",
          "Cardano",
          "USD Coin",
          "XRP",
          "Terra",
          "Polkadot",
          "Avalanche",
          "Dogecoin",
          "Shiba Inu",
          "Polygon",
          "Binance USD",
          "Crypto.com Coin",
          "Wrapped Bitcoin",
          "Litecoin",
          "TerraUSD",
          "Algorand",
          "Chainlink",
          "Dai",
          "Near",
          "Bitcoin Cash",
          "Uniswap",
          "TRON",
          "Cosmos",
          "OKB",
          "Stellar",
          "Axie Infinity",
          "Lido Staked Ether",
          "VeChain",
          "cETH",
          "Fantom",
          "The Sandbox",
          "FTX Token",
          "Hedera",
          "Theta Network",
          "Filecoin",
          "Elrond",
          "Internet Computer",
          "Ethereum Classic",
          "Magic Internet Money",
          "Decentraland",
          "IOTA",
          "Monero",
          "Helium",
          "Tezos",
          "cDAI",
          "LEO Token",
          "Gala",
          "The Graph",
          "Aave",
          "Klaytn",
          "cUSDC",
          "EOS",
          "PancakeSwap",
          "Flow",
          "Arweave",
          "Radix",
          "Harmony",
          "BitTorrent",
          "Kusama",
          "Enjin Coin",
          "Loopring",
          "Quant",
          "Amp",
          "Olympus",
          "Stacks",
          "Bitcoin SV",
          "Maker",
          "Kadena",
          "eCash",
          "THORChain",
          "Convex Finance",
          "Curve DAO Token",
          "Huobi BTC",
          "Theta Fuel",
          "NEO",
          "Bitcoin Cash ABC",
          "Sushi",
          "Basic Attention Token",
          "Zcash",
          "Frax",
          "Spell Token",
          "Celsius Network",
          "Celo",
          "KuCoin Token",
          "Chiliz",
          "Huobi Token",
          "ECOMI",
          "Osmosis",
          "Waves",
          "Dash",
          "Oasis Network",
          "Holo",
          "NEXO",
          "Marinade staked SOL",
          "TrueUSD",
          "Bitkub Coin",
          "Compound",
          "IoTeX",
          "Mina Protocol",
          "XDC Network",
          "NEM",
          "e-Radix",
          "Synthetix Network Token",
          "Livepeer",
          "yearn.finance",
          "LINK",
          "1inch",
          "Pax Dollar",
          "Zilliqa",
          "Decentralized Social",
          "GateToken",
          "ICON",
          "Ravencoin",
          "Decred",
          "Immutable X",
          "Frax Share",
          "Qtum",
          "Gnosis",
          "OEC Token",
          "WAX",
          "Audius",
          "Liquity USD",
          "Ethereum Name Service",
          "Nexus Mutual",
          "cUSDT",
          "Dogelon Mars",
          "OMG Network",
          "Fei USD",
          "Ankr",
          "DeFi Kingdoms",
          "Wonderland",
          "Velas",
          "renBTC",
          "Rally",
          "Convex CRV",
          "Secret",
          "WOO Network",
          "Bancor Network Token",
          "Siacoin",
          "SafeMoon [OLD]",
          "IOST",
          "Horizen",
          "Render Token",
          "Bitcoin Gold",
          "Telcoin",
          "Metahero",
          "Rocket Pool",
          "xSUSHI",
          "Smooth Love Potion",
          "0x",
          "Illuvium",
          "Anchor Protocol",
          "Nervos Network",
          "dYdX",
          "UFO Gaming",
          "UMA",
          "SwissBorg",
          "Ontology",
          "ConstitutionDAO",
          "Hive",
          "REN",
          "Perpetual Protocol",
          "Syscoin",
          "Boba Network",
          "SKALE",
          "Neutrino USD",
          "Raydium",
          "WazirX",
          "Mobox",
          "Kava",
          "Mask Network",
          "DigiByte",
          "Moonriver",
          "NuCypher",
          "Nano",
          "OriginTrail",
          "Coin98",
          "Tribe",
          "Serum",
          "Yield Guild Games",
          "FLEX Coin",
          "Flux",
          "Synapse",
          "WINkLink",
          "PlayDapp",
          "Constellation",
          "Polymath",
          "Golem",
          "Aragon",
          "XYO Network",
          "Ultra",
          "Celer Network",
          "Klima DAO",
          "Chromia",
          "Function X",
          "Persistence",
          "Energy Web Token",
          "JUST",
          "Reserve Rights Token",
          "Dent",
          "DUSK Network",
          "Injective Protocol",
          "Ocean Protocol",
          "StarLink",
          "Lisk",
          "Veritaseum",
          "Hathor",
          "Zipmex Token",
          "Fetch.ai",
          "JasmyCoin",
          "Keep Network",
          "DigitalBits",
          "Vader Protocol",
          "Casper Network",
          "Cartesi",
          "JOE",
          "Anyswap",
          "Victoria VR",
          "SuperFarm",
          "Cratos",
          "COTI",
          "Biconomy",
          "Everscale",
          "RMRK",
          "Sapphire",
          "Tokemak",
          "Mirror Protocol",
          "HUSD",
          "PAX Gold",
          "Vulcan Forged",
          "Alpha Finance",
          "Radicle",
          "Mdex",
          "Baby Doge Coin",
          "Redacted Cartel",
          "Swipe",
          "Medibloc",
          "Reef Finance",
          "Tether Gold",
          "Rari Governance Token",
          "Origin Dollar",
          "TitanSwap",
          "Request",
          "Alchemix USD",
          "DAO Maker",
          "Dvision Network",
          "Verge",
          "PLEX",
          "Tenset",
          "Wilder World",
          "VeThor Token",
          "MiL.k Alliance",
          "CoinEx Token",
          "Dopex",
          "Status",
          "Pundi X",
          "Metis Token",
          "PlatON Network",
          "Alien Worlds",
          "sETH",
          "LUKSO Token",
          "Bitcoin Diamond",
          "inSure DeFi",
          "Zenon",
          "Origin Protocol",
          "Storj",
          "Trust Wallet Token",
          "Orbs",
          "Phantasma",
          "KardiaChain",
          "Polkastarter",
          "Ergo",
          "Conflux",
          "Qredo",
          "NKN",
          "Pundi X [OLD]",
          "Alchemy Pay",
          "DODO",
          "Sun Token",
          "AscendEx Token",
          "Civic",
          "Ardor",
          "Interest Bearing Bitcoin",
          "Star Atlas",
          "Keep3rV1",
          "Bifrost",
          "VVS Finance",
          "Alchemix",
          "Orchid Protocol",
          "Pirate Chain",
          "iExec RLC",
          "Bezoge Earth",
          "Tokamak Network",
          "KILT Protocol",
          "My Neighbor Alice",
          "Xido Finance",
          "Mango",
          "MX Token",
          "Escoin Token",
          "Band Protocol",
          "Lido Staked SOL",
          "Avalaunch",
          "Chia",
          "Divi",
          "Merit Circle",
          "Popsicle Finance",
          "BakerySwap",
          "Akash Network",
          "Prometeus",
          "StormX",
          "XSGD",
          "Vectorspace AI",
          "sBTC",
          "Neos Credits",
          "Unibright",
          "Sovryn",
          "Klever",
          "Gitcoin",
          "API3",
          "Ark",
          "Ampleforth",
          "SingularityNET",
          "Hxro",
          "AllianceBlock",
          "Numeraire",
          "Stratis",
          "Circuits of Value",
          "Bonfida",
          "Orion Protocol",
          "TrueFi",
          "Power Ledger",
          "Ankr Reward-Bearing Staked ETH",
          "Seedify.fund",
          "GXChain",
          "agEUR",
          "Lido DAO",
          "Venus",
          "Bounce",
          "Oxygen",
          "Balancer",
          "aelf",
          "Metadium",
          "AIOZ Network",
          "SafePal",
          "Gemini Dollar",
          "BENQI",
          "MaidSafeCoin",
          "Dawn Protocol",
          "DEAPCOIN",
          "Coin of the champions",
          "CoinMetro",
          "Steem",
          "BTC Standard Hashrate Token",
          "Regen",
          "bZx Protocol",
          "IDEX",
          "Electroneum",
          "Verasity",
          "RSK Infrastructure Framework",
          "TomoChain",
          "Beta Finance",
          "Biswap",
          "Aavegotchi",
          "Telos",
          "FEG Token",
          "DeFi Pulse Index",
          "Clover Finance",
          "CRYPTO20",
          "Badger DAO",
          "GMX",
          "Beldex",
          "Linear",
          "Gods Unchained",
          "RedFOX Labs",
          "hi Dollar",
          "Hermez Network",
          "Utrust",
          "OpenDAO",
          "USDX",
          "Ellipsis",
          "Wrapped NXM",
          "Uquid Coin",
          "Index Coop - ETH 2x Flexible Leverage Index",
          "Swarm",
          "Solanium",
          "SuperRare",
          "chrono.tech",
          "STP Network",
          "QuarkChain",
          "Syntropy",
          "Enzyme",
          "Proton",
          "sUSD",
          "QANplatform",
          "Iron Bank EURO",
          "Kin",
          "Metal",
          "Ion",
          "Hector DAO",
          "Dero",
          "Aave [OLD]",
          "Wanchain",
          "Kyber Network Crystal",
          "Adventure Gold",
          "Spookyswap",
          "PEAKDEFI",
          "Railgun",
          "BNB48 Club Token",
          "FUNToken",
          "Presearch",
          "KeeperDAO",
          "Somnium Space CUBEs",
          "Aurory",
          "cBAT",
          "Wrapped Centrifuge",
          "MXC",
          "Samoyedcoin",
          "Quickswap",
          "BTSE Token",
          "Everipedia",
          "Augur",
          "Kirobo",
          "LIT",
          "VelasPad",
          "Strike",
          "Kyber Network Crystal Legacy",
          "Invictus",
          "RIZON",
          "Rich Quack",
          "XCAD Network",
          "Woonkly Power",
          "NAGA",
          "LTO Network",
          "DerivaDAO",
          "BSCPAD",
          "Voxies",
          "STASIS EURO",
          "Socean Staked Sol",
          "DeRace",
          "Automata",
          "Star Atlas DAO",
          "sETH2",
          "DFI.money",
          "Unizen",
          "GuildFi",
          "LCX",
          "sEUR",
          "Decentral Games",
          "THORChain (ERC20)",
          "Harvest Finance",
          "Handshake",
          "Ethernity Chain",
          "Impossible Decentralized Incubator Access",
          "Boson Protocol",
          "Strong",
          "IRISnet",
          "CertiK",
          "c0x",
          "WHALE",
          "Travala.com",
          "ARPA Chain",
          "Celo Dollar",
          "district0x",
          "Sentinel",
          "Ribbon Finance",
          "Alpaca Finance",
          "Tranchess",
          "MIMO Parallel Governance Token",
          "Decentral Games Governance",
          "Taboo Token",
          "Komodo",
          "APENFT",
          "Litentry",
          "DeFi Land",
          "BitShares",
          "Alpha Quark Token",
          "cUNI",
          "ShapeShift FOX Token",
          "MixMarvel",
          "Tokocrypto",
          "Beefy.Finance",
          "BarnBridge",
          "Altura",
          "mStable USD",
          "GM",
          "Terra Virtua Kolect",
          "Tornado Cash",
          "Contentos",
          "Karura",
          "COCOS BCX",
          "Doge Army Token",
          "Token Pocket",
          "Reflexer Ungovernance Token",
          "Streamr XDATA",
          "ParaSwap",
          "DVF"
         ],
         "y": [
          25248247765,
          14749623358,
          1550567857,
          53487183308,
          1864462812,
          1285691861,
          2511407958,
          2761849123,
          2322530907,
          1358538565,
          995436285,
          1082439447,
          973015202,
          1954550161,
          3882327501,
          242571424,
          280979736,
          913255206,
          173647909,
          436947274,
          1040140970,
          464784256,
          670814652,
          1899461534,
          481818639,
          1212007324,
          725470355,
          326374251,
          313528560,
          224208220,
          9311073,
          319406744,
          1066816,
          908997946,
          1408766148,
          83288483,
          64318952,
          200933834,
          527414291,
          135479260,
          275292289,
          303030947,
          197998972,
          594663342,
          242925544,
          137456272,
          30159452,
          148740512,
          211223047,
          713958,
          491556408,
          114578892,
          450835813,
          20871130,
          7193426,
          531547533,
          101539332,
          51985472,
          52047515,
          771340,
          87988380,
          744132754,
          81354344,
          221665395,
          228689396,
          28706341,
          19954343,
          40706433,
          134183184,
          138800327,
          72727172,
          58685217,
          26120260,
          58414442,
          58840569,
          775829432,
          2051813,
          20629312,
          103594032,
          850.71,
          875512866,
          232915265,
          286298373,
          26434383,
          101963591,
          8341748,
          31771368,
          12155130,
          185376377,
          111287063,
          5571721,
          36694240,
          88268653,
          199432905,
          320137087,
          107512807,
          13342263,
          64599365,
          131069741,
          24455822,
          89826192,
          40441836,
          41035347,
          11395003,
          22438381,
          2666973,
          116816830,
          145426203,
          275773668,
          5748855,
          99905512,
          12220832,
          178431655,
          23876048,
          4075029,
          361543218,
          60577768,
          2948917,
          64716115,
          17800206,
          133138327,
          18859674,
          26880699,
          64444299,
          20901316,
          17624602,
          69815020,
          175596,
          126671646,
          27501756,
          298016560,
          23329606,
          46756639,
          36184658,
          51056526,
          11883259,
          3506209,
          9714201,
          649130,
          12739983,
          30694396,
          31598489,
          21367590,
          780452,
          65043998,
          43038552,
          31861227,
          12880304,
          8074246,
          13740926,
          3171094,
          1709898,
          50357142,
          60367871,
          23086814,
          19315647,
          10063544,
          248621605,
          9993570,
          28164623,
          1804392,
          51568945,
          109111313,
          54584093,
          48105265,
          19905746,
          30448074,
          6540552,
          17011762,
          13340249,
          57724481,
          8023854,
          76218710,
          45220405,
          78594296,
          15494646,
          33089117,
          24103532,
          18892083,
          6006258,
          44441465,
          13163854,
          81237365,
          30108110,
          1082624623,
          23979604,
          3802833,
          65968139,
          69846246,
          1351560,
          14092794,
          8553795,
          295299677,
          10564318,
          6404952,
          73490514,
          4413510,
          87298057,
          7780367,
          2108647,
          4948929,
          348076424,
          49769973,
          35457485,
          180493112,
          13604014,
          22270870,
          11612850,
          8513224,
          491358,
          13487157,
          22973370,
          19469699,
          40023940,
          13676659,
          1255965,
          20354379,
          22025578,
          20322666,
          34424911,
          20915349,
          14350809,
          13794079,
          1196366,
          37491702,
          117197960,
          9238179,
          6509042,
          379445,
          2469379,
          10776065,
          44775237,
          10829820,
          18249471,
          6028209,
          51968504,
          9217932,
          4177210,
          30983430,
          58244291,
          5413140,
          19891956,
          1487009,
          14311277,
          936266,
          72089,
          102555691,
          85285,
          3394510,
          3433761,
          11002772,
          14558889,
          2839391,
          6374896,
          12003939,
          39677500,
          767614,
          1683973,
          6278715,
          7828228,
          64684468,
          6013260,
          49534935,
          130.78,
          2765269,
          2013898,
          2010765,
          302037,
          19062709,
          53515641,
          5199226,
          4189300,
          2649785,
          2017097,
          16156028,
          1206858,
          7165610,
          31965381,
          6863253,
          1125.99,
          42095249,
          29664449,
          215429843,
          1733005,
          16894217,
          5274773,
          359396,
          21654270,
          8150557,
          6587047,
          6926524,
          36016744,
          8330981,
          415197,
          17551904,
          2148668,
          3869930,
          501286,
          111860545,
          2525822,
          1223311,
          430001,
          609942,
          16361782,
          4708973,
          5665947,
          5441416,
          384293,
          15994724,
          15849896,
          12937082,
          1476079,
          1875307,
          3457030,
          3597548,
          1093238,
          34256,
          4012447,
          2408883,
          160095,
          960065,
          69309338,
          3854640,
          2641908,
          1728721,
          935988,
          168541,
          1723463,
          4962799,
          4745694,
          9726343,
          4307317,
          4218812,
          18915408,
          9989989,
          0,
          2927312,
          771998376,
          389174,
          4508254,
          8139896,
          3875225,
          746649,
          16223032,
          15395098,
          7580687,
          1014805,
          22850536,
          6214038,
          11064395,
          664726,
          8241211,
          10596905,
          85563,
          123603,
          22050543,
          3317674,
          353345,
          51786,
          21570521,
          395293,
          45883899,
          1618527,
          3202342,
          8469459,
          17359366,
          28994558,
          1039348,
          436400,
          365632,
          11644569,
          10088.05,
          6433325,
          1187045,
          172199,
          70135081,
          22857978,
          2715658,
          601559,
          237761,
          7628162,
          135758326,
          1042423,
          15594075,
          2899009,
          5332131,
          4766624,
          1432328,
          1000515,
          14087840,
          1695690,
          16948563,
          2828541,
          2573627,
          91383676,
          2281183,
          173703,
          1856120,
          0,
          3962777,
          9902570,
          333795,
          5825690,
          285777,
          13254.01,
          3787373,
          2670155,
          12911319,
          10449264,
          21968,
          3532402,
          0,
          1423389,
          3482316,
          1178286,
          794858,
          1891964,
          303946,
          2992240,
          11508625,
          3482293,
          37472395,
          938826,
          2114899,
          28898566,
          260842,
          2609508,
          293669,
          2741088,
          33472570,
          1358806,
          813703,
          2067038,
          3206050,
          2443981,
          4388346,
          27925906,
          3236613,
          2230165,
          188076665,
          522334,
          2235017,
          3196944,
          6302660,
          7652015,
          153131,
          18494902,
          1067407,
          5219921,
          2390170,
          31075,
          1516718,
          294651,
          128682430,
          692700,
          5796017,
          293553,
          4270378,
          19472088,
          3463674,
          8795488,
          23025,
          1797014,
          7390591,
          15567843,
          1348689,
          2980225,
          3868588,
          4220249,
          80510717,
          15146017,
          77346,
          381437,
          1953116,
          1722214,
          197634235,
          12888641,
          2619120,
          15342959,
          11048950,
          35340,
          1384908,
          5053810,
          16483484,
          591752,
          22503280,
          1480310,
          69344,
          8871279,
          7901220,
          2929719,
          36794603,
          3048687,
          16525085,
          22.44,
          242567,
          1902861,
          4400815,
          905014,
          754686
         ]
        }
       ],
       "layout": {
        "autosize": true,
        "shapes": [
         {
          "line": {
           "dash": "dot"
          },
          "type": "line",
          "x0": 0,
          "x1": 1,
          "xref": "x domain",
          "y0": 11763914,
          "y1": 11763914,
          "yref": "y"
         },
         {
          "line": {
           "dash": "dot"
          },
          "type": "line",
          "x0": 0,
          "x1": 1,
          "xref": "x domain",
          "y0": 2749723908.8261085,
          "y1": 2749723908.8261085,
          "yref": "y"
         }
        ],
        "template": {
         "data": {
          "bar": [
           {
            "error_x": {
             "color": "#2a3f5f"
            },
            "error_y": {
             "color": "#2a3f5f"
            },
            "marker": {
             "line": {
              "color": "#E5ECF6",
              "width": 0.5
             }
            },
            "type": "bar"
           }
          ],
          "barpolar": [
           {
            "marker": {
             "line": {
              "color": "#E5ECF6",
              "width": 0.5
             }
            },
            "type": "barpolar"
           }
          ],
          "carpet": [
           {
            "aaxis": {
             "endlinecolor": "#2a3f5f",
             "gridcolor": "white",
             "linecolor": "white",
             "minorgridcolor": "white",
             "startlinecolor": "#2a3f5f"
            },
            "baxis": {
             "endlinecolor": "#2a3f5f",
             "gridcolor": "white",
             "linecolor": "white",
             "minorgridcolor": "white",
             "startlinecolor": "#2a3f5f"
            },
            "type": "carpet"
           }
          ],
          "choropleth": [
           {
            "colorbar": {
             "outlinewidth": 0,
             "ticks": ""
            },
            "type": "choropleth"
           }
          ],
          "contour": [
           {
            "colorbar": {
             "outlinewidth": 0,
             "ticks": ""
            },
            "colorscale": [
             [
              0,
              "#0d0887"
             ],
             [
              0.1111111111111111,
              "#46039f"
             ],
             [
              0.2222222222222222,
              "#7201a8"
             ],
             [
              0.3333333333333333,
              "#9c179e"
             ],
             [
              0.4444444444444444,
              "#bd3786"
             ],
             [
              0.5555555555555556,
              "#d8576b"
             ],
             [
              0.6666666666666666,
              "#ed7953"
             ],
             [
              0.7777777777777778,
              "#fb9f3a"
             ],
             [
              0.8888888888888888,
              "#fdca26"
             ],
             [
              1,
              "#f0f921"
             ]
            ],
            "type": "contour"
           }
          ],
          "contourcarpet": [
           {
            "colorbar": {
             "outlinewidth": 0,
             "ticks": ""
            },
            "type": "contourcarpet"
           }
          ],
          "heatmap": [
           {
            "colorbar": {
             "outlinewidth": 0,
             "ticks": ""
            },
            "colorscale": [
             [
              0,
              "#0d0887"
             ],
             [
              0.1111111111111111,
              "#46039f"
             ],
             [
              0.2222222222222222,
              "#7201a8"
             ],
             [
              0.3333333333333333,
              "#9c179e"
             ],
             [
              0.4444444444444444,
              "#bd3786"
             ],
             [
              0.5555555555555556,
              "#d8576b"
             ],
             [
              0.6666666666666666,
              "#ed7953"
             ],
             [
              0.7777777777777778,
              "#fb9f3a"
             ],
             [
              0.8888888888888888,
              "#fdca26"
             ],
             [
              1,
              "#f0f921"
             ]
            ],
            "type": "heatmap"
           }
          ],
          "heatmapgl": [
           {
            "colorbar": {
             "outlinewidth": 0,
             "ticks": ""
            },
            "colorscale": [
             [
              0,
              "#0d0887"
             ],
             [
              0.1111111111111111,
              "#46039f"
             ],
             [
              0.2222222222222222,
              "#7201a8"
             ],
             [
              0.3333333333333333,
              "#9c179e"
             ],
             [
              0.4444444444444444,
              "#bd3786"
             ],
             [
              0.5555555555555556,
              "#d8576b"
             ],
             [
              0.6666666666666666,
              "#ed7953"
             ],
             [
              0.7777777777777778,
              "#fb9f3a"
             ],
             [
              0.8888888888888888,
              "#fdca26"
             ],
             [
              1,
              "#f0f921"
             ]
            ],
            "type": "heatmapgl"
           }
          ],
          "histogram": [
           {
            "marker": {
             "colorbar": {
              "outlinewidth": 0,
              "ticks": ""
             }
            },
            "type": "histogram"
           }
          ],
          "histogram2d": [
           {
            "colorbar": {
             "outlinewidth": 0,
             "ticks": ""
            },
            "colorscale": [
             [
              0,
              "#0d0887"
             ],
             [
              0.1111111111111111,
              "#46039f"
             ],
             [
              0.2222222222222222,
              "#7201a8"
             ],
             [
              0.3333333333333333,
              "#9c179e"
             ],
             [
              0.4444444444444444,
              "#bd3786"
             ],
             [
              0.5555555555555556,
              "#d8576b"
             ],
             [
              0.6666666666666666,
              "#ed7953"
             ],
             [
              0.7777777777777778,
              "#fb9f3a"
             ],
             [
              0.8888888888888888,
              "#fdca26"
             ],
             [
              1,
              "#f0f921"
             ]
            ],
            "type": "histogram2d"
           }
          ],
          "histogram2dcontour": [
           {
            "colorbar": {
             "outlinewidth": 0,
             "ticks": ""
            },
            "colorscale": [
             [
              0,
              "#0d0887"
             ],
             [
              0.1111111111111111,
              "#46039f"
             ],
             [
              0.2222222222222222,
              "#7201a8"
             ],
             [
              0.3333333333333333,
              "#9c179e"
             ],
             [
              0.4444444444444444,
              "#bd3786"
             ],
             [
              0.5555555555555556,
              "#d8576b"
             ],
             [
              0.6666666666666666,
              "#ed7953"
             ],
             [
              0.7777777777777778,
              "#fb9f3a"
             ],
             [
              0.8888888888888888,
              "#fdca26"
             ],
             [
              1,
              "#f0f921"
             ]
            ],
            "type": "histogram2dcontour"
           }
          ],
          "mesh3d": [
           {
            "colorbar": {
             "outlinewidth": 0,
             "ticks": ""
            },
            "type": "mesh3d"
           }
          ],
          "parcoords": [
           {
            "line": {
             "colorbar": {
              "outlinewidth": 0,
              "ticks": ""
             }
            },
            "type": "parcoords"
           }
          ],
          "pie": [
           {
            "automargin": true,
            "type": "pie"
           }
          ],
          "scatter": [
           {
            "marker": {
             "colorbar": {
              "outlinewidth": 0,
              "ticks": ""
             }
            },
            "type": "scatter"
           }
          ],
          "scatter3d": [
           {
            "line": {
             "colorbar": {
              "outlinewidth": 0,
              "ticks": ""
             }
            },
            "marker": {
             "colorbar": {
              "outlinewidth": 0,
              "ticks": ""
             }
            },
            "type": "scatter3d"
           }
          ],
          "scattercarpet": [
           {
            "marker": {
             "colorbar": {
              "outlinewidth": 0,
              "ticks": ""
             }
            },
            "type": "scattercarpet"
           }
          ],
          "scattergeo": [
           {
            "marker": {
             "colorbar": {
              "outlinewidth": 0,
              "ticks": ""
             }
            },
            "type": "scattergeo"
           }
          ],
          "scattergl": [
           {
            "marker": {
             "colorbar": {
              "outlinewidth": 0,
              "ticks": ""
             }
            },
            "type": "scattergl"
           }
          ],
          "scattermapbox": [
           {
            "marker": {
             "colorbar": {
              "outlinewidth": 0,
              "ticks": ""
             }
            },
            "type": "scattermapbox"
           }
          ],
          "scatterpolar": [
           {
            "marker": {
             "colorbar": {
              "outlinewidth": 0,
              "ticks": ""
             }
            },
            "type": "scatterpolar"
           }
          ],
          "scatterpolargl": [
           {
            "marker": {
             "colorbar": {
              "outlinewidth": 0,
              "ticks": ""
             }
            },
            "type": "scatterpolargl"
           }
          ],
          "scatterternary": [
           {
            "marker": {
             "colorbar": {
              "outlinewidth": 0,
              "ticks": ""
             }
            },
            "type": "scatterternary"
           }
          ],
          "surface": [
           {
            "colorbar": {
             "outlinewidth": 0,
             "ticks": ""
            },
            "colorscale": [
             [
              0,
              "#0d0887"
             ],
             [
              0.1111111111111111,
              "#46039f"
             ],
             [
              0.2222222222222222,
              "#7201a8"
             ],
             [
              0.3333333333333333,
              "#9c179e"
             ],
             [
              0.4444444444444444,
              "#bd3786"
             ],
             [
              0.5555555555555556,
              "#d8576b"
             ],
             [
              0.6666666666666666,
              "#ed7953"
             ],
             [
              0.7777777777777778,
              "#fb9f3a"
             ],
             [
              0.8888888888888888,
              "#fdca26"
             ],
             [
              1,
              "#f0f921"
             ]
            ],
            "type": "surface"
           }
          ],
          "table": [
           {
            "cells": {
             "fill": {
              "color": "#EBF0F8"
             },
             "line": {
              "color": "white"
             }
            },
            "header": {
             "fill": {
              "color": "#C8D4E3"
             },
             "line": {
              "color": "white"
             }
            },
            "type": "table"
           }
          ]
         },
         "layout": {
          "annotationdefaults": {
           "arrowcolor": "#2a3f5f",
           "arrowhead": 0,
           "arrowwidth": 1
          },
          "autotypenumbers": "strict",
          "coloraxis": {
           "colorbar": {
            "outlinewidth": 0,
            "ticks": ""
           }
          },
          "colorscale": {
           "diverging": [
            [
             0,
             "#8e0152"
            ],
            [
             0.1,
             "#c51b7d"
            ],
            [
             0.2,
             "#de77ae"
            ],
            [
             0.3,
             "#f1b6da"
            ],
            [
             0.4,
             "#fde0ef"
            ],
            [
             0.5,
             "#f7f7f7"
            ],
            [
             0.6,
             "#e6f5d0"
            ],
            [
             0.7,
             "#b8e186"
            ],
            [
             0.8,
             "#7fbc41"
            ],
            [
             0.9,
             "#4d9221"
            ],
            [
             1,
             "#276419"
            ]
           ],
           "sequential": [
            [
             0,
             "#0d0887"
            ],
            [
             0.1111111111111111,
             "#46039f"
            ],
            [
             0.2222222222222222,
             "#7201a8"
            ],
            [
             0.3333333333333333,
             "#9c179e"
            ],
            [
             0.4444444444444444,
             "#bd3786"
            ],
            [
             0.5555555555555556,
             "#d8576b"
            ],
            [
             0.6666666666666666,
             "#ed7953"
            ],
            [
             0.7777777777777778,
             "#fb9f3a"
            ],
            [
             0.8888888888888888,
             "#fdca26"
            ],
            [
             1,
             "#f0f921"
            ]
           ],
           "sequentialminus": [
            [
             0,
             "#0d0887"
            ],
            [
             0.1111111111111111,
             "#46039f"
            ],
            [
             0.2222222222222222,
             "#7201a8"
            ],
            [
             0.3333333333333333,
             "#9c179e"
            ],
            [
             0.4444444444444444,
             "#bd3786"
            ],
            [
             0.5555555555555556,
             "#d8576b"
            ],
            [
             0.6666666666666666,
             "#ed7953"
            ],
            [
             0.7777777777777778,
             "#fb9f3a"
            ],
            [
             0.8888888888888888,
             "#fdca26"
            ],
            [
             1,
             "#f0f921"
            ]
           ]
          },
          "colorway": [
           "#636efa",
           "#EF553B",
           "#00cc96",
           "#ab63fa",
           "#FFA15A",
           "#19d3f3",
           "#FF6692",
           "#B6E880",
           "#FF97FF",
           "#FECB52"
          ],
          "font": {
           "color": "#2a3f5f"
          },
          "geo": {
           "bgcolor": "white",
           "lakecolor": "white",
           "landcolor": "#E5ECF6",
           "showlakes": true,
           "showland": true,
           "subunitcolor": "white"
          },
          "hoverlabel": {
           "align": "left"
          },
          "hovermode": "closest",
          "mapbox": {
           "style": "light"
          },
          "paper_bgcolor": "white",
          "plot_bgcolor": "#E5ECF6",
          "polar": {
           "angularaxis": {
            "gridcolor": "white",
            "linecolor": "white",
            "ticks": ""
           },
           "bgcolor": "#E5ECF6",
           "radialaxis": {
            "gridcolor": "white",
            "linecolor": "white",
            "ticks": ""
           }
          },
          "scene": {
           "xaxis": {
            "backgroundcolor": "#E5ECF6",
            "gridcolor": "white",
            "gridwidth": 2,
            "linecolor": "white",
            "showbackground": true,
            "ticks": "",
            "zerolinecolor": "white"
           },
           "yaxis": {
            "backgroundcolor": "#E5ECF6",
            "gridcolor": "white",
            "gridwidth": 2,
            "linecolor": "white",
            "showbackground": true,
            "ticks": "",
            "zerolinecolor": "white"
           },
           "zaxis": {
            "backgroundcolor": "#E5ECF6",
            "gridcolor": "white",
            "gridwidth": 2,
            "linecolor": "white",
            "showbackground": true,
            "ticks": "",
            "zerolinecolor": "white"
           }
          },
          "shapedefaults": {
           "line": {
            "color": "#2a3f5f"
           }
          },
          "ternary": {
           "aaxis": {
            "gridcolor": "white",
            "linecolor": "white",
            "ticks": ""
           },
           "baxis": {
            "gridcolor": "white",
            "linecolor": "white",
            "ticks": ""
           },
           "bgcolor": "#E5ECF6",
           "caxis": {
            "gridcolor": "white",
            "linecolor": "white",
            "ticks": ""
           }
          },
          "title": {
           "x": 0.05
          },
          "xaxis": {
           "automargin": true,
           "gridcolor": "white",
           "linecolor": "white",
           "ticks": "",
           "title": {
            "standoff": 15
           },
           "zerolinecolor": "white",
           "zerolinewidth": 2
          },
          "yaxis": {
           "automargin": true,
           "gridcolor": "white",
           "linecolor": "white",
           "ticks": "",
           "title": {
            "standoff": 15
           },
           "zerolinecolor": "white",
           "zerolinewidth": 2
          }
         }
        },
        "xaxis": {
         "autorange": true,
         "range": [
          -29.12176898222941,
          528.1217689822294
         ],
         "tickangle": 45,
         "type": "category"
        },
        "yaxis": {
         "autorange": true,
         "range": [
          0.2984769788031274,
          11.78079560186854
         ],
         "type": "log"
        }
       }
      },
      "image/png": "[encoded data removed]",
      "text/html": [
       "<div>                            <div id=\"68b7392c-bc4a-4ed1-b165-469119c380cd\" class=\"plotly-graph-div\" style=\"height:525px; width:100%;\"></div>            <script type=\"text/javascript\">                require([\"plotly\"], function(Plotly) {                    window.PLOTLYENV=window.PLOTLYENV || {};                                    if (document.getElementById(\"68b7392c-bc4a-4ed1-b165-469119c380cd\")) {                    Plotly.newPlot(                        \"68b7392c-bc4a-4ed1-b165-469119c380cd\",                        [{\"mode\": \"markers\", \"type\": \"scatter\", \"x\": [\"Bitcoin\", \"Ethereum\", \"Binance Coin\", \"Tether\", \"Solana\", \"Cardano\", \"USD Coin\", \"XRP\", \"Terra\", \"Polkadot\", \"Avalanche\", \"Dogecoin\", \"Shiba Inu\", \"Polygon\", \"Binance USD\", \"Crypto.com Coin\", \"Wrapped Bitcoin\", \"Litecoin\", \"TerraUSD\", \"Algorand\", \"Chainlink\", \"Dai\", \"Near\", \"Bitcoin Cash\", \"Uniswap\", \"TRON\", \"Cosmos\", \"OKB\", \"Stellar\", \"Axie Infinity\", \"Lido Staked Ether\", \"VeChain\", \"cETH\", \"Fantom\", \"The Sandbox\", \"FTX Token\", \"Hedera\", \"Theta Network\", \"Filecoin\", \"Elrond\", \"Internet Computer\", \"Ethereum Classic\", \"Magic Internet Money\", \"Decentraland\", \"IOTA\", \"Monero\", \"Helium\", \"Tezos\", \"cDAI\", \"LEO Token\", \"Gala\", \"The Graph\", \"Aave\", \"Klaytn\", \"cUSDC\", \"EOS\", \"PancakeSwap\", \"Flow\", \"Arweave\", \"Radix\", \"Harmony\", \"BitTorrent\", \"Kusama\", \"Enjin Coin\", \"Loopring\", \"Quant\", \"Amp\", \"Olympus\", \"Stacks\", \"Bitcoin SV\", \"Maker\", \"Kadena\", \"eCash\", \"THORChain\", \"Convex Finance\", \"Curve DAO Token\", \"Huobi BTC\", \"Theta Fuel\", \"NEO\", \"Bitcoin Cash ABC\", \"Sushi\", \"Basic Attention Token\", \"Zcash\", \"Frax\", \"Spell Token\", \"Celsius Network\", \"Celo\", \"KuCoin Token\", \"Chiliz\", \"Huobi Token\", \"ECOMI\", \"Osmosis\", \"Waves\", \"Dash\", \"Oasis Network\", \"Holo\", \"NEXO\", \"Marinade staked SOL\", \"TrueUSD\", \"Bitkub Coin\", \"Compound\", \"IoTeX\", \"Mina Protocol\", \"XDC Network\", \"NEM\", \"e-Radix\", \"Synthetix Network Token\", \"Livepeer\", \"yearn.finance\", \"LINK\", \"1inch\", \"Pax Dollar\", \"Zilliqa\", \"Decentralized Social\", \"GateToken\", \"ICON\", \"Ravencoin\", \"Decred\", \"Immutable X\", \"Frax Share\", \"Qtum\", \"Gnosis\", \"OEC Token\", \"WAX\", \"Audius\", \"Liquity USD\", \"Ethereum Name Service\", \"Nexus Mutual\", \"cUSDT\", \"Dogelon Mars\", \"OMG Network\", \"Fei USD\", \"Ankr\", \"DeFi Kingdoms\", \"Wonderland\", \"Velas\", \"renBTC\", \"Rally\", \"Convex CRV\", \"Secret\", \"WOO Network\", \"Bancor Network Token\", \"Siacoin\", \"SafeMoon [OLD]\", \"IOST\", \"Horizen\", \"Render Token\", \"Bitcoin Gold\", \"Telcoin\", \"Metahero\", \"Rocket Pool\", \"xSUSHI\", \"Smooth Love Potion\", \"0x\", \"Illuvium\", \"Anchor Protocol\", \"Nervos Network\", \"dYdX\", \"UFO Gaming\", \"UMA\", \"SwissBorg\", \"Ontology\", \"ConstitutionDAO\", \"Hive\", \"REN\", \"Perpetual Protocol\", \"Syscoin\", \"Boba Network\", \"SKALE\", \"Neutrino USD\", \"Raydium\", \"WazirX\", \"Mobox\", \"Kava\", \"Mask Network\", \"DigiByte\", \"Moonriver\", \"NuCypher\", \"Nano\", \"OriginTrail\", \"Coin98\", \"Tribe\", \"Serum\", \"Yield Guild Games\", \"FLEX Coin\", \"Flux\", \"Synapse\", \"WINkLink\", \"PlayDapp\", \"Constellation\", \"Polymath\", \"Golem\", \"Aragon\", \"XYO Network\", \"Ultra\", \"Celer Network\", \"Klima DAO\", \"Chromia\", \"Function X\", \"Persistence\", \"Energy Web Token\", \"JUST\", \"Reserve Rights Token\", \"Dent\", \"DUSK Network\", \"Injective Protocol\", \"Ocean Protocol\", \"StarLink\", \"Lisk\", \"Veritaseum\", \"Hathor\", \"Zipmex Token\", \"Fetch.ai\", \"JasmyCoin\", \"Keep Network\", \"DigitalBits\", \"Vader Protocol\", \"Casper Network\", \"Cartesi\", \"JOE\", \"Anyswap\", \"Victoria VR\", \"SuperFarm\", \"Cratos\", \"COTI\", \"Biconomy\", \"Everscale\", \"RMRK\", \"Sapphire\", \"Tokemak\", \"Mirror Protocol\", \"HUSD\", \"PAX Gold\", \"Vulcan Forged\", \"Alpha Finance\", \"Radicle\", \"Mdex\", \"Baby Doge Coin\", \"Redacted Cartel\", \"Swipe\", \"Medibloc\", \"Reef Finance\", \"Tether Gold\", \"Rari Governance Token\", \"Origin Dollar\", \"TitanSwap\", \"Request\", \"Alchemix USD\", \"DAO Maker\", \"Dvision Network\", \"Verge\", \"PLEX\", \"Tenset\", \"Wilder World\", \"VeThor Token\", \"MiL.k Alliance\", \"CoinEx Token\", \"Dopex\", \"Status\", \"Pundi X\", \"Metis Token\", \"PlatON Network\", \"Alien Worlds\", \"sETH\", \"LUKSO Token\", \"Bitcoin Diamond\", \"inSure DeFi\", \"Zenon\", \"Origin Protocol\", \"Storj\", \"Trust Wallet Token\", \"Orbs\", \"Phantasma\", \"KardiaChain\", \"Polkastarter\", \"Ergo\", \"Conflux\", \"Qredo\", \"NKN\", \"Pundi X [OLD]\", \"Alchemy Pay\", \"DODO\", \"Sun Token\", \"AscendEx Token\", \"Civic\", \"Ardor\", \"Interest Bearing Bitcoin\", \"Star Atlas\", \"Keep3rV1\", \"Bifrost\", \"VVS Finance\", \"Alchemix\", \"Orchid Protocol\", \"Pirate Chain\", \"iExec RLC\", \"Bezoge Earth\", \"Tokamak Network\", \"KILT Protocol\", \"My Neighbor Alice\", \"Xido Finance\", \"Mango\", \"MX Token\", \"Escoin Token\", \"Band Protocol\", \"Lido Staked SOL\", \"Avalaunch\", \"Chia\", \"Divi\", \"Merit Circle\", \"Popsicle Finance\", \"BakerySwap\", \"Akash Network\", \"Prometeus\", \"StormX\", \"XSGD\", \"Vectorspace AI\", \"sBTC\", \"Neos Credits\", \"Unibright\", \"Sovryn\", \"Klever\", \"Gitcoin\", \"API3\", \"Ark\", \"Ampleforth\", \"SingularityNET\", \"Hxro\", \"AllianceBlock\", \"Numeraire\", \"Stratis\", \"Circuits of Value\", \"Bonfida\", \"Orion Protocol\", \"TrueFi\", \"Power Ledger\", \"Ankr Reward-Bearing Staked ETH\", \"Seedify.fund\", \"GXChain\", \"agEUR\", \"Lido DAO\", \"Venus\", \"Bounce\", \"Oxygen\", \"Balancer\", \"aelf\", \"Metadium\", \"AIOZ Network\", \"SafePal\", \"Gemini Dollar\", \"BENQI\", \"MaidSafeCoin\", \"Dawn Protocol\", \"DEAPCOIN\", \"Coin of the champions\", \"CoinMetro\", \"Steem\", \"BTC Standard Hashrate Token\", \"Regen\", \"bZx Protocol\", \"IDEX\", \"Electroneum\", \"Verasity\", \"RSK Infrastructure Framework\", \"TomoChain\", \"Beta Finance\", \"Biswap\", \"Aavegotchi\", \"Telos\", \"FEG Token\", \"DeFi Pulse Index\", \"Clover Finance\", \"CRYPTO20\", \"Badger DAO\", \"GMX\", \"Beldex\", \"Linear\", \"Gods Unchained\", \"RedFOX Labs\", \"hi Dollar\", \"Hermez Network\", \"Utrust\", \"OpenDAO\", \"USDX\", \"Ellipsis\", \"Wrapped NXM\", \"Uquid Coin\", \"Index Coop - ETH 2x Flexible Leverage Index\", \"Swarm\", \"Solanium\", \"SuperRare\", \"chrono.tech\", \"STP Network\", \"QuarkChain\", \"Syntropy\", \"Enzyme\", \"Proton\", \"sUSD\", \"QANplatform\", \"Iron Bank EURO\", \"Kin\", \"Metal\", \"Ion\", \"Hector DAO\", \"Dero\", \"Aave [OLD]\", \"Wanchain\", \"Kyber Network Crystal\", \"Adventure Gold\", \"Spookyswap\", \"PEAKDEFI\", \"Railgun\", \"BNB48 Club Token\", \"FUNToken\", \"Presearch\", \"KeeperDAO\", \"Somnium Space CUBEs\", \"Aurory\", \"cBAT\", \"Wrapped Centrifuge\", \"MXC\", \"Samoyedcoin\", \"Quickswap\", \"BTSE Token\", \"Everipedia\", \"Augur\", \"Kirobo\", \"LIT\", \"VelasPad\", \"Strike\", \"Kyber Network Crystal Legacy\", \"Invictus\", \"RIZON\", \"Rich Quack\", \"XCAD Network\", \"Woonkly Power\", \"NAGA\", \"LTO Network\", \"DerivaDAO\", \"BSCPAD\", \"Voxies\", \"STASIS EURO\", \"Socean Staked Sol\", \"DeRace\", \"Automata\", \"Star Atlas DAO\", \"sETH2\", \"DFI.money\", \"Unizen\", \"GuildFi\", \"LCX\", \"sEUR\", \"Decentral Games\", \"THORChain (ERC20)\", \"Harvest Finance\", \"Handshake\", \"Ethernity Chain\", \"Impossible Decentralized Incubator Access\", \"Boson Protocol\", \"Strong\", \"IRISnet\", \"CertiK\", \"c0x\", \"WHALE\", \"Travala.com\", \"ARPA Chain\", \"Celo Dollar\", \"district0x\", \"Sentinel\", \"Ribbon Finance\", \"Alpaca Finance\", \"Tranchess\", \"MIMO Parallel Governance Token\", \"Decentral Games Governance\", \"Taboo Token\", \"Komodo\", \"APENFT\", \"Litentry\", \"DeFi Land\", \"BitShares\", \"Alpha Quark Token\", \"cUNI\", \"ShapeShift FOX Token\", \"MixMarvel\", \"Tokocrypto\", \"Beefy.Finance\", \"BarnBridge\", \"Altura\", \"mStable USD\", \"GM\", \"Terra Virtua Kolect\", \"Tornado Cash\", \"Contentos\", \"Karura\", \"COCOS BCX\", \"Doge Army Token\", \"Token Pocket\", \"Reflexer Ungovernance Token\", \"Streamr XDATA\", \"ParaSwap\", \"DVF\"], \"y\": [25248247765, 14749623358, 1550567857, 53487183308, 1864462812, 1285691861, 2511407958, 2761849123, 2322530907, 1358538565, 995436285, 1082439447, 973015202, 1954550161, 3882327501, 242571424, 280979736, 913255206, 173647909, 436947274, 1040140970, 464784256, 670814652, 1899461534, 481818639, 1212007324, 725470355, 326374251, 313528560, 224208220, 9311073, 319406744, 1066816, 908997946, 1408766148, 83288483, 64318952, 200933834, 527414291, 135479260, 275292289, 303030947, 197998972, 594663342, 242925544, 137456272, 30159452, 148740512, 211223047, 713958, 491556408, 114578892, 450835813, 20871130, 7193426, 531547533, 101539332, 51985472, 52047515, 771340, 87988380, 744132754, 81354344, 221665395, 228689396, 28706341, 19954343, 40706433, 134183184, 138800327, 72727172, 58685217, 26120260, 58414442, 58840569, 775829432, 2051813, 20629312, 103594032, 850.71, 875512866, 232915265, 286298373, 26434383, 101963591, 8341748, 31771368, 12155130, 185376377, 111287063, 5571721, 36694240, 88268653, 199432905, 320137087, 107512807, 13342263, 64599365, 131069741, 24455822, 89826192, 40441836, 41035347, 11395003, 22438381, 2666973, 116816830, 145426203, 275773668, 5748855, 99905512, 12220832, 178431655, 23876048, 4075029, 361543218, 60577768, 2948917, 64716115, 17800206, 133138327, 18859674, 26880699, 64444299, 20901316, 17624602, 69815020, 175596, 126671646, 27501756, 298016560, 23329606, 46756639, 36184658, 51056526, 11883259, 3506209, 9714201, 649130, 12739983, 30694396, 31598489, 21367590, 780452, 65043998, 43038552, 31861227, 12880304, 8074246, 13740926, 3171094, 1709898, 50357142, 60367871, 23086814, 19315647, 10063544, 248621605, 9993570, 28164623, 1804392, 51568945, 109111313, 54584093, 48105265, 19905746, 30448074, 6540552, 17011762, 13340249, 57724481, 8023854, 76218710, 45220405, 78594296, 15494646, 33089117, 24103532, 18892083, 6006258, 44441465, 13163854, 81237365, 30108110, 1082624623, 23979604, 3802833, 65968139, 69846246, 1351560, 14092794, 8553795, 295299677, 10564318, 6404952, 73490514, 4413510, 87298057, 7780367, 2108647, 4948929, 348076424, 49769973, 35457485, 180493112, 13604014, 22270870, 11612850, 8513224, 491358, 13487157, 22973370, 19469699, 40023940, 13676659, 1255965, 20354379, 22025578, 20322666, 34424911, 20915349, 14350809, 13794079, 1196366, 37491702, 117197960, 9238179, 6509042, 379445, 2469379, 10776065, 44775237, 10829820, 18249471, 6028209, 51968504, 9217932, 4177210, 30983430, 58244291, 5413140, 19891956, 1487009, 14311277, 936266, 72089, 102555691, 85285, 3394510, 3433761, 11002772, 14558889, 2839391, 6374896, 12003939, 39677500, 767614, 1683973, 6278715, 7828228, 64684468, 6013260, 49534935, 130.78, 2765269, 2013898, 2010765, 302037, 19062709, 53515641, 5199226, 4189300, 2649785, 2017097, 16156028, 1206858, 7165610, 31965381, 6863253, 1125.99, 42095249, 29664449, 215429843, 1733005, 16894217, 5274773, 359396, 21654270, 8150557, 6587047, 6926524, 36016744, 8330981, 415197, 17551904, 2148668, 3869930, 501286, 111860545, 2525822, 1223311, 430001, 609942, 16361782, 4708973, 5665947, 5441416, 384293, 15994724, 15849896, 12937082, 1476079, 1875307, 3457030, 3597548, 1093238, 34256, 4012447, 2408883, 160095, 960065, 69309338, 3854640, 2641908, 1728721, 935988, 168541, 1723463, 4962799, 4745694, 9726343, 4307317, 4218812, 18915408, 9989989, 0.0, 2927312, 771998376, 389174, 4508254, 8139896, 3875225, 746649, 16223032, 15395098, 7580687, 1014805, 22850536, 6214038, 11064395, 664726, 8241211, 10596905, 85563, 123603, 22050543, 3317674, 353345, 51786, 21570521, 395293, 45883899, 1618527, 3202342, 8469459, 17359366, 28994558, 1039348, 436400, 365632, 11644569, 10088.05, 6433325, 1187045, 172199, 70135081, 22857978, 2715658, 601559, 237761, 7628162, 135758326, 1042423, 15594075, 2899009, 5332131, 4766624, 1432328, 1000515, 14087840, 1695690, 16948563, 2828541, 2573627, 91383676, 2281183, 173703, 1856120, 0.0, 3962777, 9902570, 333795, 5825690, 285777, 13254.01, 3787373, 2670155, 12911319, 10449264, 21968, 3532402, 0.0, 1423389, 3482316, 1178286, 794858, 1891964, 303946, 2992240, 11508625, 3482293, 37472395, 938826, 2114899, 28898566, 260842, 2609508, 293669, 2741088, 33472570, 1358806, 813703, 2067038, 3206050, 2443981, 4388346, 27925906, 3236613, 2230165, 188076665, 522334, 2235017, 3196944, 6302660, 7652015, 153131, 18494902, 1067407, 5219921, 2390170, 31075, 1516718, 294651, 128682430, 692700, 5796017, 293553, 4270378, 19472088, 3463674, 8795488, 23025, 1797014, 7390591, 15567843, 1348689, 2980225, 3868588, 4220249, 80510717, 15146017, 77346, 381437, 1953116, 1722214, 197634235, 12888641, 2619120, 15342959, 11048950, 35340, 1384908, 5053810, 16483484, 591752, 22503280, 1480310, 69344, 8871279, 7901220, 2929719, 36794603, 3048687, 16525085, 22.44, 242567, 1902861, 4400815, 905014, 754686]}],                        {\"shapes\": [{\"line\": {\"dash\": \"dot\"}, \"type\": \"line\", \"x0\": 0, \"x1\": 1, \"xref\": \"x domain\", \"y0\": 11763914.0, \"y1\": 11763914.0, \"yref\": \"y\"}, {\"line\": {\"dash\": \"dot\"}, \"type\": \"line\", \"x0\": 0, \"x1\": 1, \"xref\": \"x domain\", \"y0\": 2749723908.8261085, \"y1\": 2749723908.8261085, \"yref\": \"y\"}], \"template\": {\"data\": {\"bar\": [{\"error_x\": {\"color\": \"#2a3f5f\"}, \"error_y\": {\"color\": \"#2a3f5f\"}, \"marker\": {\"line\": {\"color\": \"#E5ECF6\", \"width\": 0.5}}, \"type\": \"bar\"}], \"barpolar\": [{\"marker\": {\"line\": {\"color\": \"#E5ECF6\", \"width\": 0.5}}, \"type\": \"barpolar\"}], \"carpet\": [{\"aaxis\": {\"endlinecolor\": \"#2a3f5f\", \"gridcolor\": \"white\", \"linecolor\": \"white\", \"minorgridcolor\": \"white\", \"startlinecolor\": \"#2a3f5f\"}, \"baxis\": {\"endlinecolor\": \"#2a3f5f\", \"gridcolor\": \"white\", \"linecolor\": \"white\", \"minorgridcolor\": \"white\", \"startlinecolor\": \"#2a3f5f\"}, \"type\": \"carpet\"}], \"choropleth\": [{\"colorbar\": {\"outlinewidth\": 0, \"ticks\": \"\"}, \"type\": \"choropleth\"}], \"contour\": [{\"colorbar\": {\"outlinewidth\": 0, \"ticks\": \"\"}, \"colorscale\": [[0.0, \"#0d0887\"], [0.1111111111111111, \"#46039f\"], [0.2222222222222222, \"#7201a8\"], [0.3333333333333333, \"#9c179e\"], [0.4444444444444444, \"#bd3786\"], [0.5555555555555556, \"#d8576b\"], [0.6666666666666666, \"#ed7953\"], [0.7777777777777778, \"#fb9f3a\"], [0.8888888888888888, \"#fdca26\"], [1.0, \"#f0f921\"]], \"type\": \"contour\"}], \"contourcarpet\": [{\"colorbar\": {\"outlinewidth\": 0, \"ticks\": \"\"}, \"type\": \"contourcarpet\"}], \"heatmap\": [{\"colorbar\": {\"outlinewidth\": 0, \"ticks\": \"\"}, \"colorscale\": [[0.0, \"#0d0887\"], [0.1111111111111111, \"#46039f\"], [0.2222222222222222, \"#7201a8\"], [0.3333333333333333, \"#9c179e\"], [0.4444444444444444, \"#bd3786\"], [0.5555555555555556, \"#d8576b\"], [0.6666666666666666, \"#ed7953\"], [0.7777777777777778, \"#fb9f3a\"], [0.8888888888888888, \"#fdca26\"], [1.0, \"#f0f921\"]], \"type\": \"heatmap\"}], \"heatmapgl\": [{\"colorbar\": {\"outlinewidth\": 0, \"ticks\": \"\"}, \"colorscale\": [[0.0, \"#0d0887\"], [0.1111111111111111, \"#46039f\"], [0.2222222222222222, \"#7201a8\"], [0.3333333333333333, \"#9c179e\"], [0.4444444444444444, \"#bd3786\"], [0.5555555555555556, \"#d8576b\"], [0.6666666666666666, \"#ed7953\"], [0.7777777777777778, \"#fb9f3a\"], [0.8888888888888888, \"#fdca26\"], [1.0, \"#f0f921\"]], \"type\": \"heatmapgl\"}], \"histogram\": [{\"marker\": {\"colorbar\": {\"outlinewidth\": 0, \"ticks\": \"\"}}, \"type\": \"histogram\"}], \"histogram2d\": [{\"colorbar\": {\"outlinewidth\": 0, \"ticks\": \"\"}, \"colorscale\": [[0.0, \"#0d0887\"], [0.1111111111111111, \"#46039f\"], [0.2222222222222222, \"#7201a8\"], [0.3333333333333333, \"#9c179e\"], [0.4444444444444444, \"#bd3786\"], [0.5555555555555556, \"#d8576b\"], [0.6666666666666666, \"#ed7953\"], [0.7777777777777778, \"#fb9f3a\"], [0.8888888888888888, \"#fdca26\"], [1.0, \"#f0f921\"]], \"type\": \"histogram2d\"}], \"histogram2dcontour\": [{\"colorbar\": {\"outlinewidth\": 0, \"ticks\": \"\"}, \"colorscale\": [[0.0, \"#0d0887\"], [0.1111111111111111, \"#46039f\"], [0.2222222222222222, \"#7201a8\"], [0.3333333333333333, \"#9c179e\"], [0.4444444444444444, \"#bd3786\"], [0.5555555555555556, \"#d8576b\"], [0.6666666666666666, \"#ed7953\"], [0.7777777777777778, \"#fb9f3a\"], [0.8888888888888888, \"#fdca26\"], [1.0, \"#f0f921\"]], \"type\": \"histogram2dcontour\"}], \"mesh3d\": [{\"colorbar\": {\"outlinewidth\": 0, \"ticks\": \"\"}, \"type\": \"mesh3d\"}], \"parcoords\": [{\"line\": {\"colorbar\": {\"outlinewidth\": 0, \"ticks\": \"\"}}, \"type\": \"parcoords\"}], \"pie\": [{\"automargin\": true, \"type\": \"pie\"}], \"scatter\": [{\"marker\": {\"colorbar\": {\"outlinewidth\": 0, \"ticks\": \"\"}}, \"type\": \"scatter\"}], \"scatter3d\": [{\"line\": {\"colorbar\": {\"outlinewidth\": 0, \"ticks\": \"\"}}, \"marker\": {\"colorbar\": {\"outlinewidth\": 0, \"ticks\": \"\"}}, \"type\": \"scatter3d\"}], \"scattercarpet\": [{\"marker\": {\"colorbar\": {\"outlinewidth\": 0, \"ticks\": \"\"}}, \"type\": \"scattercarpet\"}], \"scattergeo\": [{\"marker\": {\"colorbar\": {\"outlinewidth\": 0, \"ticks\": \"\"}}, \"type\": \"scattergeo\"}], \"scattergl\": [{\"marker\": {\"colorbar\": {\"outlinewidth\": 0, \"ticks\": \"\"}}, \"type\": \"scattergl\"}], \"scattermapbox\": [{\"marker\": {\"colorbar\": {\"outlinewidth\": 0, \"ticks\": \"\"}}, \"type\": \"scattermapbox\"}], \"scatterpolar\": [{\"marker\": {\"colorbar\": {\"outlinewidth\": 0, \"ticks\": \"\"}}, \"type\": \"scatterpolar\"}], \"scatterpolargl\": [{\"marker\": {\"colorbar\": {\"outlinewidth\": 0, \"ticks\": \"\"}}, \"type\": \"scatterpolargl\"}], \"scatterternary\": [{\"marker\": {\"colorbar\": {\"outlinewidth\": 0, \"ticks\": \"\"}}, \"type\": \"scatterternary\"}], \"surface\": [{\"colorbar\": {\"outlinewidth\": 0, \"ticks\": \"\"}, \"colorscale\": [[0.0, \"#0d0887\"], [0.1111111111111111, \"#46039f\"], [0.2222222222222222, \"#7201a8\"], [0.3333333333333333, \"#9c179e\"], [0.4444444444444444, \"#bd3786\"], [0.5555555555555556, \"#d8576b\"], [0.6666666666666666, \"#ed7953\"], [0.7777777777777778, \"#fb9f3a\"], [0.8888888888888888, \"#fdca26\"], [1.0, \"#f0f921\"]], \"type\": \"surface\"}], \"table\": [{\"cells\": {\"fill\": {\"color\": \"#EBF0F8\"}, \"line\": {\"color\": \"white\"}}, \"header\": {\"fill\": {\"color\": \"#C8D4E3\"}, \"line\": {\"color\": \"white\"}}, \"type\": \"table\"}]}, \"layout\": {\"annotationdefaults\": {\"arrowcolor\": \"#2a3f5f\", \"arrowhead\": 0, \"arrowwidth\": 1}, \"autotypenumbers\": \"strict\", \"coloraxis\": {\"colorbar\": {\"outlinewidth\": 0, \"ticks\": \"\"}}, \"colorscale\": {\"diverging\": [[0, \"#8e0152\"], [0.1, \"#c51b7d\"], [0.2, \"#de77ae\"], [0.3, \"#f1b6da\"], [0.4, \"#fde0ef\"], [0.5, \"#f7f7f7\"], [0.6, \"#e6f5d0\"], [0.7, \"#b8e186\"], [0.8, \"#7fbc41\"], [0.9, \"#4d9221\"], [1, \"#276419\"]], \"sequential\": [[0.0, \"#0d0887\"], [0.1111111111111111, \"#46039f\"], [0.2222222222222222, \"#7201a8\"], [0.3333333333333333, \"#9c179e\"], [0.4444444444444444, \"#bd3786\"], [0.5555555555555556, \"#d8576b\"], [0.6666666666666666, \"#ed7953\"], [0.7777777777777778, \"#fb9f3a\"], [0.8888888888888888, \"#fdca26\"], [1.0, \"#f0f921\"]], \"sequentialminus\": [[0.0, \"#0d0887\"], [0.1111111111111111, \"#46039f\"], [0.2222222222222222, \"#7201a8\"], [0.3333333333333333, \"#9c179e\"], [0.4444444444444444, \"#bd3786\"], [0.5555555555555556, \"#d8576b\"], [0.6666666666666666, \"#ed7953\"], [0.7777777777777778, \"#fb9f3a\"], [0.8888888888888888, \"#fdca26\"], [1.0, \"#f0f921\"]]}, \"colorway\": [\"#636efa\", \"#EF553B\", \"#00cc96\", \"#ab63fa\", \"#FFA15A\", \"#19d3f3\", \"#FF6692\", \"#B6E880\", \"#FF97FF\", \"#FECB52\"], \"font\": {\"color\": \"#2a3f5f\"}, \"geo\": {\"bgcolor\": \"white\", \"lakecolor\": \"white\", \"landcolor\": \"#E5ECF6\", \"showlakes\": true, \"showland\": true, \"subunitcolor\": \"white\"}, \"hoverlabel\": {\"align\": \"left\"}, \"hovermode\": \"closest\", \"mapbox\": {\"style\": \"light\"}, \"paper_bgcolor\": \"white\", \"plot_bgcolor\": \"#E5ECF6\", \"polar\": {\"angularaxis\": {\"gridcolor\": \"white\", \"linecolor\": \"white\", \"ticks\": \"\"}, \"bgcolor\": \"#E5ECF6\", \"radialaxis\": {\"gridcolor\": \"white\", \"linecolor\": \"white\", \"ticks\": \"\"}}, \"scene\": {\"xaxis\": {\"backgroundcolor\": \"#E5ECF6\", \"gridcolor\": \"white\", \"gridwidth\": 2, \"linecolor\": \"white\", \"showbackground\": true, \"ticks\": \"\", \"zerolinecolor\": \"white\"}, \"yaxis\": {\"backgroundcolor\": \"#E5ECF6\", \"gridcolor\": \"white\", \"gridwidth\": 2, \"linecolor\": \"white\", \"showbackground\": true, \"ticks\": \"\", \"zerolinecolor\": \"white\"}, \"zaxis\": {\"backgroundcolor\": \"#E5ECF6\", \"gridcolor\": \"white\", \"gridwidth\": 2, \"linecolor\": \"white\", \"showbackground\": true, \"ticks\": \"\", \"zerolinecolor\": \"white\"}}, \"shapedefaults\": {\"line\": {\"color\": \"#2a3f5f\"}}, \"ternary\": {\"aaxis\": {\"gridcolor\": \"white\", \"linecolor\": \"white\", \"ticks\": \"\"}, \"baxis\": {\"gridcolor\": \"white\", \"linecolor\": \"white\", \"ticks\": \"\"}, \"bgcolor\": \"#E5ECF6\", \"caxis\": {\"gridcolor\": \"white\", \"linecolor\": \"white\", \"ticks\": \"\"}}, \"title\": {\"x\": 0.05}, \"xaxis\": {\"automargin\": true, \"gridcolor\": \"white\", \"linecolor\": \"white\", \"ticks\": \"\", \"title\": {\"standoff\": 15}, \"zerolinecolor\": \"white\", \"zerolinewidth\": 2}, \"yaxis\": {\"automargin\": true, \"gridcolor\": \"white\", \"linecolor\": \"white\", \"ticks\": \"\", \"title\": {\"standoff\": 15}, \"zerolinecolor\": \"white\", \"zerolinewidth\": 2}}}, \"xaxis\": {\"tickangle\": 45}, \"yaxis\": {\"type\": \"log\"}},                        {\"responsive\": true}                    ).then(function(){\n",
       "                            \n",
       "var gd = document.getElementById('68b7392c-bc4a-4ed1-b165-469119c380cd');\n",
       "var x = new MutationObserver(function (mutations, observer) {{\n",
       "        var display = window.getComputedStyle(gd).display;\n",
       "        if (!display || display === 'none') {{\n",
       "            console.log([gd, 'removed!']);\n",
       "            Plotly.purge(gd);\n",
       "            observer.disconnect();\n",
       "        }}\n",
       "}});\n",
       "\n",
       "// Listen for the removal of the full notebook cells\n",
       "var notebookContainer = gd.closest('#notebook-container');\n",
       "if (notebookContainer) {{\n",
       "    x.observe(notebookContainer, {childList: true});\n",
       "}}\n",
       "\n",
       "// Listen for the clearing of the current output cell\n",
       "var outputEl = gd.closest('.output');\n",
       "if (outputEl) {{\n",
       "    x.observe(outputEl, {childList: true});\n",
       "}}\n",
       "\n",
       "                        })                };                });            </script>        </div>"
      ]
     },
     "metadata": {},
     "output_type": "display_data"
    }
   ],
   "source": [
    "fig = go.Figure()\n",
    "\n",
    "fig.add_trace(go.Scatter(x=df.Name, y=df.Volume, mode='markers'))\n",
    "fig.add_hline(\n",
    "    y=df.Volume.median(),\n",
    "    line_dash=\"dot\",\n",
    ")\n",
    "fig.add_hline(\n",
    "    y=df.Volume.median() + df.Volume.std(),\n",
    "    line_dash=\"dot\",\n",
    ")\n",
    "\n",
    "fig.update_yaxes(type=\"log\")\n",
    "fig.update_xaxes(tickangle=45)"
   ]
  },
  {
   "cell_type": "code",
   "execution_count": 11,
   "id": "f158ecba-e4dc-44d3-a72c-89ac636ccb4b",
   "metadata": {},
   "outputs": [
    {
     "data": {
      "application/vnd.plotly.v1+json": {
       "config": {
        "plotlyServerURL": "https://plot.ly"
       },
       "data": [
        {
         "mode": "markers",
         "type": "scatter",
         "x": [
          "Bitcoin",
          "Ethereum",
          "Binance Coin",
          "Tether",
          "Solana",
          "Cardano",
          "USD Coin",
          "XRP",
          "Terra",
          "Polkadot",
          "Avalanche",
          "Dogecoin",
          "Shiba Inu",
          "Polygon",
          "Binance USD",
          "Crypto.com Coin",
          "Wrapped Bitcoin",
          "Litecoin",
          "TerraUSD",
          "Algorand",
          "Chainlink",
          "Dai",
          "Near",
          "Bitcoin Cash",
          "Uniswap",
          "TRON",
          "Cosmos",
          "OKB",
          "Stellar",
          "Axie Infinity",
          "Lido Staked Ether",
          "VeChain",
          "cETH",
          "Fantom",
          "The Sandbox",
          "FTX Token",
          "Hedera",
          "Theta Network",
          "Filecoin",
          "Elrond",
          "Internet Computer",
          "Ethereum Classic",
          "Magic Internet Money",
          "Decentraland",
          "IOTA",
          "Monero",
          "Helium",
          "Tezos",
          "cDAI",
          "LEO Token",
          "Gala",
          "The Graph",
          "Aave",
          "Klaytn",
          "cUSDC",
          "EOS",
          "PancakeSwap",
          "Flow",
          "Arweave",
          "Radix",
          "Harmony",
          "BitTorrent",
          "Kusama",
          "Enjin Coin",
          "Loopring",
          "Quant",
          "Amp",
          "Olympus",
          "Stacks",
          "Bitcoin SV",
          "Maker",
          "Kadena",
          "eCash",
          "THORChain",
          "Convex Finance",
          "Curve DAO Token",
          "Huobi BTC",
          "Theta Fuel",
          "NEO",
          "Bitcoin Cash ABC",
          "Sushi",
          "Basic Attention Token",
          "Zcash",
          "Frax",
          "Spell Token",
          "Celsius Network",
          "Celo",
          "KuCoin Token",
          "Chiliz",
          "Huobi Token",
          "ECOMI",
          "Osmosis",
          "Waves",
          "Dash",
          "Oasis Network",
          "Holo",
          "NEXO",
          "Marinade staked SOL",
          "TrueUSD",
          "Bitkub Coin",
          "Compound",
          "IoTeX",
          "Mina Protocol",
          "XDC Network",
          "NEM",
          "e-Radix",
          "Synthetix Network Token",
          "Livepeer",
          "yearn.finance",
          "LINK",
          "1inch",
          "Pax Dollar",
          "Zilliqa",
          "Decentralized Social",
          "GateToken",
          "ICON",
          "Ravencoin",
          "Decred",
          "Immutable X",
          "Frax Share",
          "Qtum",
          "Gnosis",
          "OEC Token",
          "WAX",
          "Audius",
          "Liquity USD",
          "Ethereum Name Service",
          "Nexus Mutual",
          "cUSDT",
          "Dogelon Mars",
          "OMG Network",
          "Fei USD",
          "Ankr",
          "DeFi Kingdoms",
          "Wonderland",
          "Velas",
          "renBTC",
          "Rally",
          "Convex CRV",
          "Secret",
          "WOO Network",
          "Bancor Network Token",
          "Siacoin",
          "SafeMoon [OLD]",
          "IOST",
          "Horizen",
          "Render Token",
          "Bitcoin Gold",
          "Telcoin",
          "Metahero",
          "Rocket Pool",
          "xSUSHI",
          "Smooth Love Potion",
          "0x",
          "Illuvium",
          "Anchor Protocol",
          "Nervos Network",
          "dYdX",
          "UFO Gaming",
          "UMA",
          "SwissBorg",
          "Ontology",
          "ConstitutionDAO",
          "Hive",
          "REN",
          "Perpetual Protocol",
          "Syscoin",
          "Boba Network",
          "SKALE",
          "Neutrino USD",
          "Raydium",
          "WazirX",
          "Mobox",
          "Kava",
          "Mask Network",
          "DigiByte",
          "Moonriver",
          "NuCypher",
          "Nano",
          "OriginTrail",
          "Coin98",
          "Tribe",
          "Serum",
          "Yield Guild Games",
          "FLEX Coin",
          "Flux",
          "Synapse",
          "WINkLink",
          "PlayDapp",
          "Constellation",
          "Polymath",
          "Golem",
          "Aragon",
          "XYO Network",
          "Ultra",
          "Celer Network",
          "Klima DAO",
          "Chromia",
          "Function X",
          "Persistence",
          "Energy Web Token",
          "JUST",
          "Reserve Rights Token",
          "Dent",
          "DUSK Network",
          "Injective Protocol",
          "Ocean Protocol",
          "StarLink",
          "Lisk",
          "Veritaseum",
          "Hathor",
          "Zipmex Token",
          "Fetch.ai",
          "JasmyCoin",
          "Keep Network",
          "DigitalBits",
          "Vader Protocol",
          "Casper Network",
          "Cartesi",
          "JOE",
          "Anyswap",
          "Victoria VR",
          "SuperFarm",
          "Cratos",
          "COTI",
          "Biconomy",
          "Everscale",
          "RMRK",
          "Sapphire",
          "Tokemak",
          "Mirror Protocol",
          "HUSD",
          "PAX Gold",
          "Vulcan Forged",
          "Alpha Finance",
          "Radicle",
          "Mdex",
          "Baby Doge Coin",
          "Redacted Cartel",
          "Swipe",
          "Medibloc",
          "Reef Finance",
          "Tether Gold",
          "Rari Governance Token",
          "Origin Dollar",
          "TitanSwap",
          "Request",
          "Alchemix USD",
          "DAO Maker",
          "Dvision Network",
          "Verge",
          "PLEX",
          "Tenset",
          "Wilder World",
          "VeThor Token",
          "MiL.k Alliance",
          "CoinEx Token",
          "Dopex",
          "Status",
          "Pundi X",
          "Metis Token",
          "PlatON Network",
          "Alien Worlds",
          "sETH",
          "LUKSO Token",
          "Bitcoin Diamond",
          "inSure DeFi",
          "Zenon",
          "Origin Protocol",
          "Storj",
          "Trust Wallet Token",
          "Orbs",
          "Phantasma",
          "KardiaChain",
          "Polkastarter",
          "Ergo",
          "Conflux",
          "Qredo",
          "NKN",
          "Pundi X [OLD]",
          "Alchemy Pay",
          "DODO",
          "Sun Token",
          "AscendEx Token",
          "Civic",
          "Ardor",
          "Interest Bearing Bitcoin",
          "Star Atlas",
          "Keep3rV1",
          "Bifrost",
          "VVS Finance",
          "Alchemix",
          "Orchid Protocol",
          "Pirate Chain",
          "iExec RLC",
          "Bezoge Earth",
          "Tokamak Network",
          "KILT Protocol",
          "My Neighbor Alice",
          "Xido Finance",
          "Mango",
          "MX Token",
          "Escoin Token",
          "Band Protocol",
          "Lido Staked SOL",
          "Avalaunch",
          "Chia",
          "Divi",
          "Merit Circle",
          "Popsicle Finance",
          "BakerySwap",
          "Akash Network",
          "Prometeus",
          "StormX",
          "XSGD",
          "Vectorspace AI",
          "sBTC",
          "Neos Credits",
          "Unibright",
          "Sovryn",
          "Klever",
          "Gitcoin",
          "API3",
          "Ark",
          "Ampleforth",
          "SingularityNET",
          "Hxro",
          "AllianceBlock",
          "Numeraire",
          "Stratis",
          "Circuits of Value",
          "Bonfida",
          "Orion Protocol",
          "TrueFi",
          "Power Ledger",
          "Ankr Reward-Bearing Staked ETH",
          "Seedify.fund",
          "GXChain",
          "agEUR",
          "Lido DAO",
          "Venus",
          "Bounce",
          "Oxygen",
          "Balancer",
          "aelf",
          "Metadium",
          "AIOZ Network",
          "SafePal",
          "Gemini Dollar",
          "BENQI",
          "MaidSafeCoin",
          "Dawn Protocol",
          "DEAPCOIN",
          "Coin of the champions",
          "CoinMetro",
          "Steem",
          "BTC Standard Hashrate Token",
          "Regen",
          "bZx Protocol",
          "IDEX",
          "Electroneum",
          "Verasity",
          "RSK Infrastructure Framework",
          "TomoChain",
          "Beta Finance",
          "Biswap",
          "Aavegotchi",
          "Telos",
          "FEG Token",
          "DeFi Pulse Index",
          "Clover Finance",
          "CRYPTO20",
          "Badger DAO",
          "GMX",
          "Beldex",
          "Linear",
          "Gods Unchained",
          "RedFOX Labs",
          "hi Dollar",
          "Hermez Network",
          "Utrust",
          "OpenDAO",
          "USDX",
          "Ellipsis",
          "Wrapped NXM",
          "Uquid Coin",
          "Index Coop - ETH 2x Flexible Leverage Index",
          "Swarm",
          "Solanium",
          "SuperRare",
          "chrono.tech",
          "STP Network",
          "QuarkChain",
          "Syntropy",
          "Enzyme",
          "Proton",
          "sUSD",
          "QANplatform",
          "Iron Bank EURO",
          "Kin",
          "Metal",
          "Ion",
          "Hector DAO",
          "Dero",
          "Aave [OLD]",
          "Wanchain",
          "Kyber Network Crystal",
          "Adventure Gold",
          "Spookyswap",
          "PEAKDEFI",
          "Railgun",
          "BNB48 Club Token",
          "FUNToken",
          "Presearch",
          "KeeperDAO",
          "Somnium Space CUBEs",
          "Aurory",
          "cBAT",
          "Wrapped Centrifuge",
          "MXC",
          "Samoyedcoin",
          "Quickswap",
          "BTSE Token",
          "Everipedia",
          "Augur",
          "Kirobo",
          "LIT",
          "VelasPad",
          "Strike",
          "Kyber Network Crystal Legacy",
          "Invictus",
          "RIZON",
          "Rich Quack",
          "XCAD Network",
          "Woonkly Power",
          "NAGA",
          "LTO Network",
          "DerivaDAO",
          "BSCPAD",
          "Voxies",
          "STASIS EURO",
          "Socean Staked Sol",
          "DeRace",
          "Automata",
          "Star Atlas DAO",
          "sETH2",
          "DFI.money",
          "Unizen",
          "GuildFi",
          "LCX",
          "sEUR",
          "Decentral Games",
          "THORChain (ERC20)",
          "Harvest Finance",
          "Handshake",
          "Ethernity Chain",
          "Impossible Decentralized Incubator Access",
          "Boson Protocol",
          "Strong",
          "IRISnet",
          "CertiK",
          "c0x",
          "WHALE",
          "Travala.com",
          "ARPA Chain",
          "Celo Dollar",
          "district0x",
          "Sentinel",
          "Ribbon Finance",
          "Alpaca Finance",
          "Tranchess",
          "MIMO Parallel Governance Token",
          "Decentral Games Governance",
          "Taboo Token",
          "Komodo",
          "APENFT",
          "Litentry",
          "DeFi Land",
          "BitShares",
          "Alpha Quark Token",
          "cUNI",
          "ShapeShift FOX Token",
          "MixMarvel",
          "Tokocrypto",
          "Beefy.Finance",
          "BarnBridge",
          "Altura",
          "mStable USD",
          "GM",
          "Terra Virtua Kolect",
          "Tornado Cash",
          "Contentos",
          "Karura",
          "COCOS BCX",
          "Doge Army Token",
          "Token Pocket",
          "Reflexer Ungovernance Token",
          "Streamr XDATA",
          "ParaSwap",
          "DVF"
         ],
         "y": [
          0.02820218986611619,
          0.033242883370795916,
          0.017715890467991123,
          0.6852246915728168,
          0.03457327312783396,
          0.029368610497229664,
          0.05962242639655516,
          0.0697623719655856,
          0.07555939859166987,
          0.04625951285217444,
          0.03871026435798929,
          0.04747806877637704,
          0.05177536213673469,
          0.1120531149853411,
          0.26140694733114234,
          0.017302131432957328,
          0.022991592290259738,
          0.08852488458706058,
          0.017221861815671088,
          0.04335274220210768,
          0.11005532791821736,
          0.051841699711308566,
          0.07686586548743905,
          0.22940417973321878,
          0.06073151057768505,
          0.1537845504270619,
          0.092430223848262,
          0.04279753866576419,
          0.046426510418367574,
          0.034409573066069024,
          0.0015427196782738625,
          0.05658759587172483,
          0.0001943126269126065,
          0.16568220055223026,
          0.25881259340700075,
          0.015315339880267884,
          0.01213652572766456,
          0.03958689008349265,
          0.10574617647911057,
          0.02745301039425121,
          0.059343047770340426,
          0.0661185221860837,
          0.04375747806613477,
          0.13486435075973113,
          0.05735342349355524,
          0.03520739161966921,
          0.00782784033795091,
          0.039203167406609146,
          0.05590384150962659,
          0.00020392383821923806,
          0.1422871354563296,
          0.033863306504938774,
          0.13752133769339525,
          0.006378678200645176,
          0.0022381521217780596,
          0.17594343539694166,
          0.03363849810427347,
          0.018553772997651,
          0.01868623407036433,
          0.00028279081482455006,
          0.033029826161207226,
          0.28825763199678756,
          0.03154876563009777,
          0.08777808103144792,
          0.09081291666487111,
          0.011794744072935296,
          0.008396461387197712,
          0.017241441740994533,
          0.05711315548002814,
          0.059996342401627,
          0.033353504220923744,
          0.02773640750863409,
          0.012418864844047861,
          0.02845156716418423,
          0.02882113198803357,
          0.40584517307661505,
          0.0010848163422406696,
          0.01093709264697727,
          0.055288099384756054,
          4.716485278829372e-07,
          0.49010113535860284,
          0.13120137966812248,
          0.16228210252456196,
          0.01510905078329368,
          0.05888685011420551,
          0.0048876629771813455,
          0.01901918773645869,
          0.007623671806876118,
          0.11764365908655992,
          0.07265446420636076,
          0.0036891175457642554,
          0.025013717610527047,
          0.060247769281892856,
          0.14019552330630125,
          0.23543440532051063,
          0.0797568946022975,
          0.010029027742765654,
          0.04961939190368938,
          0.10141663872255025,
          0.018968802077496072,
          0.07091220754564478,
          0.03395386228693348,
          0.03602810166059048,
          0.010011167786381153,
          0.019727883082751023,
          0.0024111920040917447,
          0.1064672892847418,
          0.13714517258446232,
          0.2612174101053628,
          0.005470183550106424,
          0.09641588520160971,
          0.0118230924694297,
          0.17293735046353442,
          0.023340223935038904,
          0.0040701264919391945,
          0.36625285763629944,
          0.06208584115275989,
          0.003068327800310095,
          0.06796449617315177,
          0.01891162149506741,
          0.14232578490342782,
          0.020313084324290964,
          0.029280056669553165,
          0.07397963184556695,
          0.02418223371582201,
          0.020407763076251632,
          0.08126212788024707,
          0.00020484747501665397,
          0.14796954027193657,
          0.032495754160223954,
          0.352194120540667,
          0.02811041334617344,
          0.05659042815569884,
          0.04418435051146839,
          0.062455392992395324,
          0.01461051058476884,
          0.004317480518213412,
          0.011986787856828149,
          0.0008122697857773051,
          0.016103507019612766,
          0.039151969984961996,
          0.0407826762374177,
          0.02776999955362846,
          0.001027524067696638,
          0.0872760920310988,
          0.05815583900214195,
          0.04374785249362342,
          0.01773702139034018,
          0.011246174423683888,
          0.01965231811410254,
          0.004602299165035898,
          0.00255704666139767,
          0.07537273363359129,
          0.09194824224698991,
          0.03543658259866414,
          0.029684811436099107,
          0.015470406478537323,
          0.38508286613967074,
          0.016299669355119284,
          0.04599670016742174,
          0.003059826552240494,
          0.08803609543512837,
          0.18735959907925412,
          0.09429367535146779,
          0.08413147732161032,
          0.03524543072952759,
          0.05414321903600964,
          0.011726874495101151,
          0.030506427098511688,
          0.02487335470933901,
          0.10841991095577189,
          0.015123442729671251,
          0.14480113135407266,
          0.0860880569981141,
          0.15088758876081032,
          0.030440879525253824,
          0.06501789614751297,
          0.049303137531651324,
          0.03990198424354192,
          0.0127529441043934,
          0.09525720453601741,
          0.02822007342925681,
          0.17537956983842284,
          0.06543732575674976,
          2.3896613122820423,
          0.052972827042442994,
          0.008419809791310245,
          0.14657773017339568,
          0.1559573146560932,
          0.0030367800083907124,
          0.03207513877576621,
          0.01962357322145876,
          0.6778126868398281,
          0.024988077504921238,
          0.015158675530513598,
          0.17575768172585213,
          0.010683983852689202,
          0.21227949845637029,
          0.019059207614418455,
          0.005199043903181778,
          0.012329639200183042,
          0.8692039941172904,
          0.12547762989928674,
          0.09078045937822414,
          0.46723107452381624,
          0.036352979920896866,
          0.05951985718272423,
          0.03128727358796492,
          0.02330127015486307,
          0.0013510156344539567,
          0.037725514138969025,
          0.0649379466616726,
          0.055396377580274485,
          0.11406779466976162,
          0.039365713970185325,
          0.00362346393412329,
          0.059278117283534895,
          0.06424077917012355,
          0.059807847585428224,
          0.10157104718975908,
          0.06174207134111026,
          0.042962874325498446,
          0.04145930520493379,
          0.0036007055910130432,
          0.1130066439374174,
          0.3535871807041245,
          0.027994225798262246,
          0.01974093635057612,
          0.0011686315617151527,
          0.0076219043516823366,
          0.03328474457111824,
          0.13852648938855583,
          0.03354035156094265,
          0.05654182468886533,
          0.019455398063056354,
          0.16895747234582034,
          0.030269059676449606,
          0.013790944877102628,
          0.10234950477771283,
          0.19343433915886366,
          0.01797970319715496,
          0.06613955554226762,
          0.004964679639842483,
          0.047800240026642564,
          0.0031644526140436387,
          0.000244595730138731,
          0.34852247516598267,
          0.0002910623014308631,
          0.011714423926480776,
          0.012026078331166796,
          0.03872114366448344,
          0.05123837847508545,
          0.010100402207799683,
          0.022721792352164028,
          0.042833901162547386,
          0.14164185302977877,
          0.002770477335804552,
          0.0061060230878961326,
          0.02291175298889612,
          0.028660892555918305,
          0.23787730018410902,
          0.022353851167453285,
          0.18617919878327835,
          4.967301912845752e-07,
          0.01051963897630763,
          0.007730052852096206,
          0.007748821710994818,
          0.001174121001212668,
          0.07459641989007976,
          0.21093709721804282,
          0.021066532100638347,
          0.017079445550798524,
          0.010817435148990785,
          0.008245940548417633,
          0.0664606067818201,
          0.004990178322407154,
          0.029991085641883214,
          0.13459873160366445,
          0.028936986433539705,
          4.797786256195676e-06,
          0.17950969218672855,
          0.12715935894426544,
          0.9276032419436149,
          0.0075061112259715585,
          0.07397330960449733,
          0.02310690211447723,
          0.0015877239668840388,
          0.09569898190307263,
          0.03606375501642417,
          0.02921655987765698,
          0.03087087361996609,
          0.16137783426960653,
          0.037353652128388246,
          0.0018660367063397985,
          0.07925037011664954,
          0.009715654456696577,
          0.01750096726249192,
          0.002269571893995745,
          0.5066681410368987,
          0.011522398173643263,
          0.0055973025865418335,
          0.001967673802907222,
          0.00281065055287597,
          0.07571464888950762,
          0.0220609185612001,
          0.026552489518815184,
          0.02575355782386304,
          0.0018270717150358998,
          0.07606563468049395,
          0.07578497335346993,
          0.0625330012716832,
          0.007135657123920901,
          0.009251638299283398,
          0.01713846292414006,
          0.01789510544978602,
          0.005448802544153454,
          0.00017091206477974378,
          0.020028484899952664,
          0.012044203262906637,
          0.0008015554165459623,
          0.0048365589276039575,
          0.3517479035896224,
          0.019775740423490833,
          0.013640908636352766,
          0.008947189908731645,
          0.00486249687771488,
          0.0008857049105618869,
          0.009108351801725628,
          0.026279343408343942,
          0.025248174273305266,
          0.052126328992968186,
          0.02314340039283501,
          0.022982583970740315,
          0.1033941939118111,
          0.05462373353859486,
          0,
          0.016077611513277985,
          4.2671290062767,
          0.0021678943829334806,
          0.025326353503425793,
          0.046046825037637254,
          0.02207234228445754,
          0.0042549019097198135,
          0.0926177956393826,
          0.08898950628202087,
          0.04402235707986633,
          0.005916209386491002,
          0.1336661779025497,
          0.036539156882750806,
          0.0650897243701535,
          0.003912829040040161,
          0.04910273703839202,
          0.06317934502327241,
          0.0005110758791454246,
          0.0007394647142464207,
          0.13215091125788003,
          0.019884262460752294,
          0.0021432417871765667,
          0.0003179169908828374,
          0.1326125764897721,
          0.0024331845268661537,
          0.28265287469060135,
          0.009998546173244924,
          0.01978567397099379,
          0.05308649091412741,
          0.10890149478092795,
          0.1830175227731364,
          0.006564284971370479,
          0.002768527553862468,
          0.0023547047471877344,
          0.07607975824126673,
          6.599057796849535e-05,
          0.042194363893003885,
          0.007806493888608514,
          0.0011379084602967688,
          0.46427960563678417,
          0.15239671127607207,
          0.01813118758378009,
          0.004041408774719491,
          0.001598521481420325,
          0.051540305186314146,
          0.9198044296595788,
          0.007064454158803365,
          0.10608883150537682,
          0.01982728620193891,
          0.036982334509662186,
          0.03316762569627327,
          0.009993677167390528,
          0.007045136821300935,
          0.09989820166870751,
          0.012033963270824531,
          0.12134623345762938,
          0.02026407696400513,
          0.018725580321554042,
          0.6704885618687656,
          0.016754573872272423,
          0.0012764887134222027,
          0.013645563637676777,
          0,
          0.029398096228536494,
          0.07383680709847171,
          0.0024918964560453824,
          0.043535756677739804,
          0.002140611663170702,
          0.00010002405360083794,
          0.02862565485695925,
          0.020363095159654482,
          0.09863803574176391,
          0.08093602530177942,
          0.00017090099662011538,
          0.027650647155421714,
          0,
          0.011261459072148131,
          0.02761529600752362,
          0.00935472235337664,
          0.0063219609941040245,
          0.015108930031497608,
          0.0024314720054852234,
          0.023952756145534496,
          0.09228637057897074,
          0.028007547600058077,
          0.30300910617185817,
          0.007647178844631411,
          0.01730493364554288,
          0.23952236968967683,
          0.0021743272059772034,
          0.021903215280582936,
          0.002481516643375945,
          0.02319751490403062,
          0.2834777743684578,
          0.011536458942014768,
          0.006934319445542826,
          0.01766191584105706,
          0.02751341676508109,
          0.0211199391049696,
          0.03804746477035297,
          0.2425704935844944,
          0.028353331479853205,
          0.019552116250841894,
          1.6497173361666029,
          0.004623196566194909,
          0.019868905514062948,
          0.028737646000383563,
          0.05720311210792914,
          0.06961367940689116,
          0.0014018180270094415,
          0.17140309509940801,
          0.009928057954104825,
          0.04861298851612521,
          0.02230079567964851,
          0.00029120873487886343,
          0.014224684682942463,
          0.002775443356143824,
          1.2166261051926612,
          0.006569301718506379,
          0.05523268501380032,
          0.002836978446944566,
          0.04187788610670435,
          0.1914395750532552,
          0.03408440762789518,
          0.08679047554663791,
          0.00022937400233516184,
          0.017937937276862458,
          0.07401308761204012,
          0.15756041191573159,
          0.013701998078900603,
          0.030436330375067076,
          0.03964661501242396,
          0.043463121765451876,
          0.8354237973480599,
          0.15745746340157682,
          0.0008053840799373012,
          0.004002530184770414,
          0.020525163280429547,
          0.018225050688340877,
          2.110272526305447,
          0.1376618387410857,
          0.02798004664323943,
          0.16403503223746563,
          0.11824281625890708,
          0.00037820500245785093,
          0.014849014730836598,
          0.054264227524995524,
          0.1773200473817785,
          0.006452864971309847,
          0.24685214502882735,
          0.01626167732526381,
          0.000761796787543023,
          0.09859796239731355,
          0.08806285557898769,
          0.032777925796054715,
          0.41352335885423924,
          0.03428131519909582,
          0.18683169079255313,
          2.542090718041731e-07,
          0.0027506109488982396,
          0.0216239492583955,
          0.05041291643982192,
          0.01039615026287322,
          0.00867926306755895
         ]
        }
       ],
       "layout": {
        "autosize": true,
        "shapes": [
         {
          "line": {
           "dash": "dot"
          },
          "type": "line",
          "x0": 0,
          "x1": 1,
          "xref": "x domain",
          "y0": 0.03035269502575834,
          "y1": 0.03035269502575834,
          "yref": "y"
         },
         {
          "line": {
           "dash": "dot"
          },
          "type": "line",
          "x0": 0,
          "x1": 1,
          "xref": "x domain",
          "y0": 0.30536151760998986,
          "y1": 0.30536151760998986,
          "yref": "y"
         }
        ],
        "template": {
         "data": {
          "bar": [
           {
            "error_x": {
             "color": "#2a3f5f"
            },
            "error_y": {
             "color": "#2a3f5f"
            },
            "marker": {
             "line": {
              "color": "#E5ECF6",
              "width": 0.5
             }
            },
            "type": "bar"
           }
          ],
          "barpolar": [
           {
            "marker": {
             "line": {
              "color": "#E5ECF6",
              "width": 0.5
             }
            },
            "type": "barpolar"
           }
          ],
          "carpet": [
           {
            "aaxis": {
             "endlinecolor": "#2a3f5f",
             "gridcolor": "white",
             "linecolor": "white",
             "minorgridcolor": "white",
             "startlinecolor": "#2a3f5f"
            },
            "baxis": {
             "endlinecolor": "#2a3f5f",
             "gridcolor": "white",
             "linecolor": "white",
             "minorgridcolor": "white",
             "startlinecolor": "#2a3f5f"
            },
            "type": "carpet"
           }
          ],
          "choropleth": [
           {
            "colorbar": {
             "outlinewidth": 0,
             "ticks": ""
            },
            "type": "choropleth"
           }
          ],
          "contour": [
           {
            "colorbar": {
             "outlinewidth": 0,
             "ticks": ""
            },
            "colorscale": [
             [
              0,
              "#0d0887"
             ],
             [
              0.1111111111111111,
              "#46039f"
             ],
             [
              0.2222222222222222,
              "#7201a8"
             ],
             [
              0.3333333333333333,
              "#9c179e"
             ],
             [
              0.4444444444444444,
              "#bd3786"
             ],
             [
              0.5555555555555556,
              "#d8576b"
             ],
             [
              0.6666666666666666,
              "#ed7953"
             ],
             [
              0.7777777777777778,
              "#fb9f3a"
             ],
             [
              0.8888888888888888,
              "#fdca26"
             ],
             [
              1,
              "#f0f921"
             ]
            ],
            "type": "contour"
           }
          ],
          "contourcarpet": [
           {
            "colorbar": {
             "outlinewidth": 0,
             "ticks": ""
            },
            "type": "contourcarpet"
           }
          ],
          "heatmap": [
           {
            "colorbar": {
             "outlinewidth": 0,
             "ticks": ""
            },
            "colorscale": [
             [
              0,
              "#0d0887"
             ],
             [
              0.1111111111111111,
              "#46039f"
             ],
             [
              0.2222222222222222,
              "#7201a8"
             ],
             [
              0.3333333333333333,
              "#9c179e"
             ],
             [
              0.4444444444444444,
              "#bd3786"
             ],
             [
              0.5555555555555556,
              "#d8576b"
             ],
             [
              0.6666666666666666,
              "#ed7953"
             ],
             [
              0.7777777777777778,
              "#fb9f3a"
             ],
             [
              0.8888888888888888,
              "#fdca26"
             ],
             [
              1,
              "#f0f921"
             ]
            ],
            "type": "heatmap"
           }
          ],
          "heatmapgl": [
           {
            "colorbar": {
             "outlinewidth": 0,
             "ticks": ""
            },
            "colorscale": [
             [
              0,
              "#0d0887"
             ],
             [
              0.1111111111111111,
              "#46039f"
             ],
             [
              0.2222222222222222,
              "#7201a8"
             ],
             [
              0.3333333333333333,
              "#9c179e"
             ],
             [
              0.4444444444444444,
              "#bd3786"
             ],
             [
              0.5555555555555556,
              "#d8576b"
             ],
             [
              0.6666666666666666,
              "#ed7953"
             ],
             [
              0.7777777777777778,
              "#fb9f3a"
             ],
             [
              0.8888888888888888,
              "#fdca26"
             ],
             [
              1,
              "#f0f921"
             ]
            ],
            "type": "heatmapgl"
           }
          ],
          "histogram": [
           {
            "marker": {
             "colorbar": {
              "outlinewidth": 0,
              "ticks": ""
             }
            },
            "type": "histogram"
           }
          ],
          "histogram2d": [
           {
            "colorbar": {
             "outlinewidth": 0,
             "ticks": ""
            },
            "colorscale": [
             [
              0,
              "#0d0887"
             ],
             [
              0.1111111111111111,
              "#46039f"
             ],
             [
              0.2222222222222222,
              "#7201a8"
             ],
             [
              0.3333333333333333,
              "#9c179e"
             ],
             [
              0.4444444444444444,
              "#bd3786"
             ],
             [
              0.5555555555555556,
              "#d8576b"
             ],
             [
              0.6666666666666666,
              "#ed7953"
             ],
             [
              0.7777777777777778,
              "#fb9f3a"
             ],
             [
              0.8888888888888888,
              "#fdca26"
             ],
             [
              1,
              "#f0f921"
             ]
            ],
            "type": "histogram2d"
           }
          ],
          "histogram2dcontour": [
           {
            "colorbar": {
             "outlinewidth": 0,
             "ticks": ""
            },
            "colorscale": [
             [
              0,
              "#0d0887"
             ],
             [
              0.1111111111111111,
              "#46039f"
             ],
             [
              0.2222222222222222,
              "#7201a8"
             ],
             [
              0.3333333333333333,
              "#9c179e"
             ],
             [
              0.4444444444444444,
              "#bd3786"
             ],
             [
              0.5555555555555556,
              "#d8576b"
             ],
             [
              0.6666666666666666,
              "#ed7953"
             ],
             [
              0.7777777777777778,
              "#fb9f3a"
             ],
             [
              0.8888888888888888,
              "#fdca26"
             ],
             [
              1,
              "#f0f921"
             ]
            ],
            "type": "histogram2dcontour"
           }
          ],
          "mesh3d": [
           {
            "colorbar": {
             "outlinewidth": 0,
             "ticks": ""
            },
            "type": "mesh3d"
           }
          ],
          "parcoords": [
           {
            "line": {
             "colorbar": {
              "outlinewidth": 0,
              "ticks": ""
             }
            },
            "type": "parcoords"
           }
          ],
          "pie": [
           {
            "automargin": true,
            "type": "pie"
           }
          ],
          "scatter": [
           {
            "marker": {
             "colorbar": {
              "outlinewidth": 0,
              "ticks": ""
             }
            },
            "type": "scatter"
           }
          ],
          "scatter3d": [
           {
            "line": {
             "colorbar": {
              "outlinewidth": 0,
              "ticks": ""
             }
            },
            "marker": {
             "colorbar": {
              "outlinewidth": 0,
              "ticks": ""
             }
            },
            "type": "scatter3d"
           }
          ],
          "scattercarpet": [
           {
            "marker": {
             "colorbar": {
              "outlinewidth": 0,
              "ticks": ""
             }
            },
            "type": "scattercarpet"
           }
          ],
          "scattergeo": [
           {
            "marker": {
             "colorbar": {
              "outlinewidth": 0,
              "ticks": ""
             }
            },
            "type": "scattergeo"
           }
          ],
          "scattergl": [
           {
            "marker": {
             "colorbar": {
              "outlinewidth": 0,
              "ticks": ""
             }
            },
            "type": "scattergl"
           }
          ],
          "scattermapbox": [
           {
            "marker": {
             "colorbar": {
              "outlinewidth": 0,
              "ticks": ""
             }
            },
            "type": "scattermapbox"
           }
          ],
          "scatterpolar": [
           {
            "marker": {
             "colorbar": {
              "outlinewidth": 0,
              "ticks": ""
             }
            },
            "type": "scatterpolar"
           }
          ],
          "scatterpolargl": [
           {
            "marker": {
             "colorbar": {
              "outlinewidth": 0,
              "ticks": ""
             }
            },
            "type": "scatterpolargl"
           }
          ],
          "scatterternary": [
           {
            "marker": {
             "colorbar": {
              "outlinewidth": 0,
              "ticks": ""
             }
            },
            "type": "scatterternary"
           }
          ],
          "surface": [
           {
            "colorbar": {
             "outlinewidth": 0,
             "ticks": ""
            },
            "colorscale": [
             [
              0,
              "#0d0887"
             ],
             [
              0.1111111111111111,
              "#46039f"
             ],
             [
              0.2222222222222222,
              "#7201a8"
             ],
             [
              0.3333333333333333,
              "#9c179e"
             ],
             [
              0.4444444444444444,
              "#bd3786"
             ],
             [
              0.5555555555555556,
              "#d8576b"
             ],
             [
              0.6666666666666666,
              "#ed7953"
             ],
             [
              0.7777777777777778,
              "#fb9f3a"
             ],
             [
              0.8888888888888888,
              "#fdca26"
             ],
             [
              1,
              "#f0f921"
             ]
            ],
            "type": "surface"
           }
          ],
          "table": [
           {
            "cells": {
             "fill": {
              "color": "#EBF0F8"
             },
             "line": {
              "color": "white"
             }
            },
            "header": {
             "fill": {
              "color": "#C8D4E3"
             },
             "line": {
              "color": "white"
             }
            },
            "type": "table"
           }
          ]
         },
         "layout": {
          "annotationdefaults": {
           "arrowcolor": "#2a3f5f",
           "arrowhead": 0,
           "arrowwidth": 1
          },
          "autotypenumbers": "strict",
          "coloraxis": {
           "colorbar": {
            "outlinewidth": 0,
            "ticks": ""
           }
          },
          "colorscale": {
           "diverging": [
            [
             0,
             "#8e0152"
            ],
            [
             0.1,
             "#c51b7d"
            ],
            [
             0.2,
             "#de77ae"
            ],
            [
             0.3,
             "#f1b6da"
            ],
            [
             0.4,
             "#fde0ef"
            ],
            [
             0.5,
             "#f7f7f7"
            ],
            [
             0.6,
             "#e6f5d0"
            ],
            [
             0.7,
             "#b8e186"
            ],
            [
             0.8,
             "#7fbc41"
            ],
            [
             0.9,
             "#4d9221"
            ],
            [
             1,
             "#276419"
            ]
           ],
           "sequential": [
            [
             0,
             "#0d0887"
            ],
            [
             0.1111111111111111,
             "#46039f"
            ],
            [
             0.2222222222222222,
             "#7201a8"
            ],
            [
             0.3333333333333333,
             "#9c179e"
            ],
            [
             0.4444444444444444,
             "#bd3786"
            ],
            [
             0.5555555555555556,
             "#d8576b"
            ],
            [
             0.6666666666666666,
             "#ed7953"
            ],
            [
             0.7777777777777778,
             "#fb9f3a"
            ],
            [
             0.8888888888888888,
             "#fdca26"
            ],
            [
             1,
             "#f0f921"
            ]
           ],
           "sequentialminus": [
            [
             0,
             "#0d0887"
            ],
            [
             0.1111111111111111,
             "#46039f"
            ],
            [
             0.2222222222222222,
             "#7201a8"
            ],
            [
             0.3333333333333333,
             "#9c179e"
            ],
            [
             0.4444444444444444,
             "#bd3786"
            ],
            [
             0.5555555555555556,
             "#d8576b"
            ],
            [
             0.6666666666666666,
             "#ed7953"
            ],
            [
             0.7777777777777778,
             "#fb9f3a"
            ],
            [
             0.8888888888888888,
             "#fdca26"
            ],
            [
             1,
             "#f0f921"
            ]
           ]
          },
          "colorway": [
           "#636efa",
           "#EF553B",
           "#00cc96",
           "#ab63fa",
           "#FFA15A",
           "#19d3f3",
           "#FF6692",
           "#B6E880",
           "#FF97FF",
           "#FECB52"
          ],
          "font": {
           "color": "#2a3f5f"
          },
          "geo": {
           "bgcolor": "white",
           "lakecolor": "white",
           "landcolor": "#E5ECF6",
           "showlakes": true,
           "showland": true,
           "subunitcolor": "white"
          },
          "hoverlabel": {
           "align": "left"
          },
          "hovermode": "closest",
          "mapbox": {
           "style": "light"
          },
          "paper_bgcolor": "white",
          "plot_bgcolor": "#E5ECF6",
          "polar": {
           "angularaxis": {
            "gridcolor": "white",
            "linecolor": "white",
            "ticks": ""
           },
           "bgcolor": "#E5ECF6",
           "radialaxis": {
            "gridcolor": "white",
            "linecolor": "white",
            "ticks": ""
           }
          },
          "scene": {
           "xaxis": {
            "backgroundcolor": "#E5ECF6",
            "gridcolor": "white",
            "gridwidth": 2,
            "linecolor": "white",
            "showbackground": true,
            "ticks": "",
            "zerolinecolor": "white"
           },
           "yaxis": {
            "backgroundcolor": "#E5ECF6",
            "gridcolor": "white",
            "gridwidth": 2,
            "linecolor": "white",
            "showbackground": true,
            "ticks": "",
            "zerolinecolor": "white"
           },
           "zaxis": {
            "backgroundcolor": "#E5ECF6",
            "gridcolor": "white",
            "gridwidth": 2,
            "linecolor": "white",
            "showbackground": true,
            "ticks": "",
            "zerolinecolor": "white"
           }
          },
          "shapedefaults": {
           "line": {
            "color": "#2a3f5f"
           }
          },
          "ternary": {
           "aaxis": {
            "gridcolor": "white",
            "linecolor": "white",
            "ticks": ""
           },
           "baxis": {
            "gridcolor": "white",
            "linecolor": "white",
            "ticks": ""
           },
           "bgcolor": "#E5ECF6",
           "caxis": {
            "gridcolor": "white",
            "linecolor": "white",
            "ticks": ""
           }
          },
          "title": {
           "x": 0.05
          },
          "xaxis": {
           "automargin": true,
           "gridcolor": "white",
           "linecolor": "white",
           "ticks": "",
           "title": {
            "standoff": 15
           },
           "zerolinecolor": "white",
           "zerolinewidth": 2
          },
          "yaxis": {
           "automargin": true,
           "gridcolor": "white",
           "linecolor": "white",
           "ticks": "",
           "title": {
            "standoff": 15
           },
           "zerolinecolor": "white",
           "zerolinewidth": 2
          }
         }
        },
        "xaxis": {
         "autorange": true,
         "range": [
          -29.12176898222941,
          528.1217689822294
         ],
         "tickangle": 45,
         "type": "category"
        },
        "yaxis": {
         "autorange": true,
         "range": [
          -7.4057721388580555,
          1.4410989566511587
         ],
         "type": "log"
        }
       }
      },
      "image/png": "[encoded data removed]",
      "text/html": [
       "<div>                            <div id=\"0e0e9d4c-3c76-49f1-8140-401f59dd1858\" class=\"plotly-graph-div\" style=\"height:525px; width:100%;\"></div>            <script type=\"text/javascript\">                require([\"plotly\"], function(Plotly) {                    window.PLOTLYENV=window.PLOTLYENV || {};                                    if (document.getElementById(\"0e0e9d4c-3c76-49f1-8140-401f59dd1858\")) {                    Plotly.newPlot(                        \"0e0e9d4c-3c76-49f1-8140-401f59dd1858\",                        [{\"mode\": \"markers\", \"type\": \"scatter\", \"x\": [\"Bitcoin\", \"Ethereum\", \"Binance Coin\", \"Tether\", \"Solana\", \"Cardano\", \"USD Coin\", \"XRP\", \"Terra\", \"Polkadot\", \"Avalanche\", \"Dogecoin\", \"Shiba Inu\", \"Polygon\", \"Binance USD\", \"Crypto.com Coin\", \"Wrapped Bitcoin\", \"Litecoin\", \"TerraUSD\", \"Algorand\", \"Chainlink\", \"Dai\", \"Near\", \"Bitcoin Cash\", \"Uniswap\", \"TRON\", \"Cosmos\", \"OKB\", \"Stellar\", \"Axie Infinity\", \"Lido Staked Ether\", \"VeChain\", \"cETH\", \"Fantom\", \"The Sandbox\", \"FTX Token\", \"Hedera\", \"Theta Network\", \"Filecoin\", \"Elrond\", \"Internet Computer\", \"Ethereum Classic\", \"Magic Internet Money\", \"Decentraland\", \"IOTA\", \"Monero\", \"Helium\", \"Tezos\", \"cDAI\", \"LEO Token\", \"Gala\", \"The Graph\", \"Aave\", \"Klaytn\", \"cUSDC\", \"EOS\", \"PancakeSwap\", \"Flow\", \"Arweave\", \"Radix\", \"Harmony\", \"BitTorrent\", \"Kusama\", \"Enjin Coin\", \"Loopring\", \"Quant\", \"Amp\", \"Olympus\", \"Stacks\", \"Bitcoin SV\", \"Maker\", \"Kadena\", \"eCash\", \"THORChain\", \"Convex Finance\", \"Curve DAO Token\", \"Huobi BTC\", \"Theta Fuel\", \"NEO\", \"Bitcoin Cash ABC\", \"Sushi\", \"Basic Attention Token\", \"Zcash\", \"Frax\", \"Spell Token\", \"Celsius Network\", \"Celo\", \"KuCoin Token\", \"Chiliz\", \"Huobi Token\", \"ECOMI\", \"Osmosis\", \"Waves\", \"Dash\", \"Oasis Network\", \"Holo\", \"NEXO\", \"Marinade staked SOL\", \"TrueUSD\", \"Bitkub Coin\", \"Compound\", \"IoTeX\", \"Mina Protocol\", \"XDC Network\", \"NEM\", \"e-Radix\", \"Synthetix Network Token\", \"Livepeer\", \"yearn.finance\", \"LINK\", \"1inch\", \"Pax Dollar\", \"Zilliqa\", \"Decentralized Social\", \"GateToken\", \"ICON\", \"Ravencoin\", \"Decred\", \"Immutable X\", \"Frax Share\", \"Qtum\", \"Gnosis\", \"OEC Token\", \"WAX\", \"Audius\", \"Liquity USD\", \"Ethereum Name Service\", \"Nexus Mutual\", \"cUSDT\", \"Dogelon Mars\", \"OMG Network\", \"Fei USD\", \"Ankr\", \"DeFi Kingdoms\", \"Wonderland\", \"Velas\", \"renBTC\", \"Rally\", \"Convex CRV\", \"Secret\", \"WOO Network\", \"Bancor Network Token\", \"Siacoin\", \"SafeMoon [OLD]\", \"IOST\", \"Horizen\", \"Render Token\", \"Bitcoin Gold\", \"Telcoin\", \"Metahero\", \"Rocket Pool\", \"xSUSHI\", \"Smooth Love Potion\", \"0x\", \"Illuvium\", \"Anchor Protocol\", \"Nervos Network\", \"dYdX\", \"UFO Gaming\", \"UMA\", \"SwissBorg\", \"Ontology\", \"ConstitutionDAO\", \"Hive\", \"REN\", \"Perpetual Protocol\", \"Syscoin\", \"Boba Network\", \"SKALE\", \"Neutrino USD\", \"Raydium\", \"WazirX\", \"Mobox\", \"Kava\", \"Mask Network\", \"DigiByte\", \"Moonriver\", \"NuCypher\", \"Nano\", \"OriginTrail\", \"Coin98\", \"Tribe\", \"Serum\", \"Yield Guild Games\", \"FLEX Coin\", \"Flux\", \"Synapse\", \"WINkLink\", \"PlayDapp\", \"Constellation\", \"Polymath\", \"Golem\", \"Aragon\", \"XYO Network\", \"Ultra\", \"Celer Network\", \"Klima DAO\", \"Chromia\", \"Function X\", \"Persistence\", \"Energy Web Token\", \"JUST\", \"Reserve Rights Token\", \"Dent\", \"DUSK Network\", \"Injective Protocol\", \"Ocean Protocol\", \"StarLink\", \"Lisk\", \"Veritaseum\", \"Hathor\", \"Zipmex Token\", \"Fetch.ai\", \"JasmyCoin\", \"Keep Network\", \"DigitalBits\", \"Vader Protocol\", \"Casper Network\", \"Cartesi\", \"JOE\", \"Anyswap\", \"Victoria VR\", \"SuperFarm\", \"Cratos\", \"COTI\", \"Biconomy\", \"Everscale\", \"RMRK\", \"Sapphire\", \"Tokemak\", \"Mirror Protocol\", \"HUSD\", \"PAX Gold\", \"Vulcan Forged\", \"Alpha Finance\", \"Radicle\", \"Mdex\", \"Baby Doge Coin\", \"Redacted Cartel\", \"Swipe\", \"Medibloc\", \"Reef Finance\", \"Tether Gold\", \"Rari Governance Token\", \"Origin Dollar\", \"TitanSwap\", \"Request\", \"Alchemix USD\", \"DAO Maker\", \"Dvision Network\", \"Verge\", \"PLEX\", \"Tenset\", \"Wilder World\", \"VeThor Token\", \"MiL.k Alliance\", \"CoinEx Token\", \"Dopex\", \"Status\", \"Pundi X\", \"Metis Token\", \"PlatON Network\", \"Alien Worlds\", \"sETH\", \"LUKSO Token\", \"Bitcoin Diamond\", \"inSure DeFi\", \"Zenon\", \"Origin Protocol\", \"Storj\", \"Trust Wallet Token\", \"Orbs\", \"Phantasma\", \"KardiaChain\", \"Polkastarter\", \"Ergo\", \"Conflux\", \"Qredo\", \"NKN\", \"Pundi X [OLD]\", \"Alchemy Pay\", \"DODO\", \"Sun Token\", \"AscendEx Token\", \"Civic\", \"Ardor\", \"Interest Bearing Bitcoin\", \"Star Atlas\", \"Keep3rV1\", \"Bifrost\", \"VVS Finance\", \"Alchemix\", \"Orchid Protocol\", \"Pirate Chain\", \"iExec RLC\", \"Bezoge Earth\", \"Tokamak Network\", \"KILT Protocol\", \"My Neighbor Alice\", \"Xido Finance\", \"Mango\", \"MX Token\", \"Escoin Token\", \"Band Protocol\", \"Lido Staked SOL\", \"Avalaunch\", \"Chia\", \"Divi\", \"Merit Circle\", \"Popsicle Finance\", \"BakerySwap\", \"Akash Network\", \"Prometeus\", \"StormX\", \"XSGD\", \"Vectorspace AI\", \"sBTC\", \"Neos Credits\", \"Unibright\", \"Sovryn\", \"Klever\", \"Gitcoin\", \"API3\", \"Ark\", \"Ampleforth\", \"SingularityNET\", \"Hxro\", \"AllianceBlock\", \"Numeraire\", \"Stratis\", \"Circuits of Value\", \"Bonfida\", \"Orion Protocol\", \"TrueFi\", \"Power Ledger\", \"Ankr Reward-Bearing Staked ETH\", \"Seedify.fund\", \"GXChain\", \"agEUR\", \"Lido DAO\", \"Venus\", \"Bounce\", \"Oxygen\", \"Balancer\", \"aelf\", \"Metadium\", \"AIOZ Network\", \"SafePal\", \"Gemini Dollar\", \"BENQI\", \"MaidSafeCoin\", \"Dawn Protocol\", \"DEAPCOIN\", \"Coin of the champions\", \"CoinMetro\", \"Steem\", \"BTC Standard Hashrate Token\", \"Regen\", \"bZx Protocol\", \"IDEX\", \"Electroneum\", \"Verasity\", \"RSK Infrastructure Framework\", \"TomoChain\", \"Beta Finance\", \"Biswap\", \"Aavegotchi\", \"Telos\", \"FEG Token\", \"DeFi Pulse Index\", \"Clover Finance\", \"CRYPTO20\", \"Badger DAO\", \"GMX\", \"Beldex\", \"Linear\", \"Gods Unchained\", \"RedFOX Labs\", \"hi Dollar\", \"Hermez Network\", \"Utrust\", \"OpenDAO\", \"USDX\", \"Ellipsis\", \"Wrapped NXM\", \"Uquid Coin\", \"Index Coop - ETH 2x Flexible Leverage Index\", \"Swarm\", \"Solanium\", \"SuperRare\", \"chrono.tech\", \"STP Network\", \"QuarkChain\", \"Syntropy\", \"Enzyme\", \"Proton\", \"sUSD\", \"QANplatform\", \"Iron Bank EURO\", \"Kin\", \"Metal\", \"Ion\", \"Hector DAO\", \"Dero\", \"Aave [OLD]\", \"Wanchain\", \"Kyber Network Crystal\", \"Adventure Gold\", \"Spookyswap\", \"PEAKDEFI\", \"Railgun\", \"BNB48 Club Token\", \"FUNToken\", \"Presearch\", \"KeeperDAO\", \"Somnium Space CUBEs\", \"Aurory\", \"cBAT\", \"Wrapped Centrifuge\", \"MXC\", \"Samoyedcoin\", \"Quickswap\", \"BTSE Token\", \"Everipedia\", \"Augur\", \"Kirobo\", \"LIT\", \"VelasPad\", \"Strike\", \"Kyber Network Crystal Legacy\", \"Invictus\", \"RIZON\", \"Rich Quack\", \"XCAD Network\", \"Woonkly Power\", \"NAGA\", \"LTO Network\", \"DerivaDAO\", \"BSCPAD\", \"Voxies\", \"STASIS EURO\", \"Socean Staked Sol\", \"DeRace\", \"Automata\", \"Star Atlas DAO\", \"sETH2\", \"DFI.money\", \"Unizen\", \"GuildFi\", \"LCX\", \"sEUR\", \"Decentral Games\", \"THORChain (ERC20)\", \"Harvest Finance\", \"Handshake\", \"Ethernity Chain\", \"Impossible Decentralized Incubator Access\", \"Boson Protocol\", \"Strong\", \"IRISnet\", \"CertiK\", \"c0x\", \"WHALE\", \"Travala.com\", \"ARPA Chain\", \"Celo Dollar\", \"district0x\", \"Sentinel\", \"Ribbon Finance\", \"Alpaca Finance\", \"Tranchess\", \"MIMO Parallel Governance Token\", \"Decentral Games Governance\", \"Taboo Token\", \"Komodo\", \"APENFT\", \"Litentry\", \"DeFi Land\", \"BitShares\", \"Alpha Quark Token\", \"cUNI\", \"ShapeShift FOX Token\", \"MixMarvel\", \"Tokocrypto\", \"Beefy.Finance\", \"BarnBridge\", \"Altura\", \"mStable USD\", \"GM\", \"Terra Virtua Kolect\", \"Tornado Cash\", \"Contentos\", \"Karura\", \"COCOS BCX\", \"Doge Army Token\", \"Token Pocket\", \"Reflexer Ungovernance Token\", \"Streamr XDATA\", \"ParaSwap\", \"DVF\"], \"y\": [0.02820218986611619, 0.033242883370795916, 0.017715890467991123, 0.6852246915728168, 0.03457327312783396, 0.029368610497229664, 0.05962242639655516, 0.0697623719655856, 0.07555939859166987, 0.04625951285217444, 0.03871026435798929, 0.04747806877637704, 0.05177536213673469, 0.1120531149853411, 0.26140694733114234, 0.017302131432957328, 0.022991592290259738, 0.08852488458706058, 0.017221861815671088, 0.04335274220210768, 0.11005532791821736, 0.051841699711308566, 0.07686586548743905, 0.22940417973321878, 0.06073151057768505, 0.1537845504270619, 0.092430223848262, 0.04279753866576419, 0.046426510418367574, 0.034409573066069024, 0.0015427196782738625, 0.05658759587172483, 0.0001943126269126065, 0.16568220055223026, 0.25881259340700075, 0.015315339880267884, 0.01213652572766456, 0.03958689008349265, 0.10574617647911057, 0.02745301039425121, 0.059343047770340426, 0.0661185221860837, 0.04375747806613477, 0.13486435075973113, 0.05735342349355524, 0.03520739161966921, 0.00782784033795091, 0.039203167406609146, 0.05590384150962659, 0.00020392383821923806, 0.1422871354563296, 0.033863306504938774, 0.13752133769339525, 0.006378678200645176, 0.0022381521217780596, 0.17594343539694166, 0.03363849810427347, 0.018553772997651, 0.01868623407036433, 0.00028279081482455006, 0.033029826161207226, 0.28825763199678756, 0.03154876563009777, 0.08777808103144792, 0.09081291666487111, 0.011794744072935296, 0.008396461387197712, 0.017241441740994533, 0.05711315548002814, 0.059996342401627, 0.033353504220923744, 0.02773640750863409, 0.012418864844047861, 0.02845156716418423, 0.02882113198803357, 0.40584517307661505, 0.0010848163422406696, 0.01093709264697727, 0.055288099384756054, 4.716485278829372e-07, 0.49010113535860284, 0.13120137966812248, 0.16228210252456196, 0.01510905078329368, 0.05888685011420551, 0.0048876629771813455, 0.01901918773645869, 0.007623671806876118, 0.11764365908655992, 0.07265446420636076, 0.0036891175457642554, 0.025013717610527047, 0.060247769281892856, 0.14019552330630125, 0.23543440532051063, 0.0797568946022975, 0.010029027742765654, 0.04961939190368938, 0.10141663872255025, 0.018968802077496072, 0.07091220754564478, 0.03395386228693348, 0.03602810166059048, 0.010011167786381153, 0.019727883082751023, 0.0024111920040917447, 0.1064672892847418, 0.13714517258446232, 0.2612174101053628, 0.005470183550106424, 0.09641588520160971, 0.0118230924694297, 0.17293735046353442, 0.023340223935038904, 0.0040701264919391945, 0.36625285763629944, 0.06208584115275989, 0.003068327800310095, 0.06796449617315177, 0.01891162149506741, 0.14232578490342782, 0.020313084324290964, 0.029280056669553165, 0.07397963184556695, 0.02418223371582201, 0.020407763076251632, 0.08126212788024707, 0.00020484747501665397, 0.14796954027193657, 0.032495754160223954, 0.352194120540667, 0.02811041334617344, 0.05659042815569884, 0.04418435051146839, 0.062455392992395324, 0.01461051058476884, 0.004317480518213412, 0.011986787856828149, 0.0008122697857773051, 0.016103507019612766, 0.039151969984961996, 0.0407826762374177, 0.02776999955362846, 0.001027524067696638, 0.0872760920310988, 0.05815583900214195, 0.04374785249362342, 0.01773702139034018, 0.011246174423683888, 0.01965231811410254, 0.004602299165035898, 0.00255704666139767, 0.07537273363359129, 0.09194824224698991, 0.03543658259866414, 0.029684811436099107, 0.015470406478537323, 0.38508286613967074, 0.016299669355119284, 0.04599670016742174, 0.003059826552240494, 0.08803609543512837, 0.18735959907925412, 0.09429367535146779, 0.08413147732161032, 0.03524543072952759, 0.05414321903600964, 0.011726874495101151, 0.030506427098511688, 0.02487335470933901, 0.10841991095577189, 0.015123442729671251, 0.14480113135407266, 0.0860880569981141, 0.15088758876081032, 0.030440879525253824, 0.06501789614751297, 0.049303137531651324, 0.03990198424354192, 0.0127529441043934, 0.09525720453601741, 0.02822007342925681, 0.17537956983842284, 0.06543732575674976, 2.3896613122820423, 0.052972827042442994, 0.008419809791310245, 0.14657773017339568, 0.1559573146560932, 0.0030367800083907124, 0.03207513877576621, 0.01962357322145876, 0.6778126868398281, 0.024988077504921238, 0.015158675530513598, 0.17575768172585213, 0.010683983852689202, 0.21227949845637029, 0.019059207614418455, 0.005199043903181778, 0.012329639200183042, 0.8692039941172904, 0.12547762989928674, 0.09078045937822414, 0.46723107452381624, 0.036352979920896866, 0.05951985718272423, 0.03128727358796492, 0.02330127015486307, 0.0013510156344539567, 0.037725514138969025, 0.0649379466616726, 0.055396377580274485, 0.11406779466976162, 0.039365713970185325, 0.00362346393412329, 0.059278117283534895, 0.06424077917012355, 0.059807847585428224, 0.10157104718975908, 0.06174207134111026, 0.042962874325498446, 0.04145930520493379, 0.0036007055910130432, 0.1130066439374174, 0.3535871807041245, 0.027994225798262246, 0.01974093635057612, 0.0011686315617151527, 0.0076219043516823366, 0.03328474457111824, 0.13852648938855583, 0.03354035156094265, 0.05654182468886533, 0.019455398063056354, 0.16895747234582034, 0.030269059676449606, 0.013790944877102628, 0.10234950477771283, 0.19343433915886366, 0.01797970319715496, 0.06613955554226762, 0.004964679639842483, 0.047800240026642564, 0.0031644526140436387, 0.000244595730138731, 0.34852247516598267, 0.0002910623014308631, 0.011714423926480776, 0.012026078331166796, 0.03872114366448344, 0.05123837847508545, 0.010100402207799683, 0.022721792352164028, 0.042833901162547386, 0.14164185302977877, 0.002770477335804552, 0.0061060230878961326, 0.02291175298889612, 0.028660892555918305, 0.23787730018410902, 0.022353851167453285, 0.18617919878327835, 4.967301912845752e-07, 0.01051963897630763, 0.007730052852096206, 0.007748821710994818, 0.001174121001212668, 0.07459641989007976, 0.21093709721804282, 0.021066532100638347, 0.017079445550798524, 0.010817435148990785, 0.008245940548417633, 0.0664606067818201, 0.004990178322407154, 0.029991085641883214, 0.13459873160366445, 0.028936986433539705, 4.797786256195676e-06, 0.17950969218672855, 0.12715935894426544, 0.9276032419436149, 0.0075061112259715585, 0.07397330960449733, 0.02310690211447723, 0.0015877239668840388, 0.09569898190307263, 0.03606375501642417, 0.02921655987765698, 0.03087087361996609, 0.16137783426960653, 0.037353652128388246, 0.0018660367063397985, 0.07925037011664954, 0.009715654456696577, 0.01750096726249192, 0.002269571893995745, 0.5066681410368987, 0.011522398173643263, 0.0055973025865418335, 0.001967673802907222, 0.00281065055287597, 0.07571464888950762, 0.0220609185612001, 0.026552489518815184, 0.02575355782386304, 0.0018270717150358998, 0.07606563468049395, 0.07578497335346993, 0.0625330012716832, 0.007135657123920901, 0.009251638299283398, 0.01713846292414006, 0.01789510544978602, 0.005448802544153454, 0.00017091206477974378, 0.020028484899952664, 0.012044203262906637, 0.0008015554165459623, 0.0048365589276039575, 0.3517479035896224, 0.019775740423490833, 0.013640908636352766, 0.008947189908731645, 0.00486249687771488, 0.0008857049105618869, 0.009108351801725628, 0.026279343408343942, 0.025248174273305266, 0.052126328992968186, 0.02314340039283501, 0.022982583970740315, 0.1033941939118111, 0.05462373353859486, 0.0, 0.016077611513277985, 4.2671290062767, 0.0021678943829334806, 0.025326353503425793, 0.046046825037637254, 0.02207234228445754, 0.0042549019097198135, 0.0926177956393826, 0.08898950628202087, 0.04402235707986633, 0.005916209386491002, 0.1336661779025497, 0.036539156882750806, 0.0650897243701535, 0.003912829040040161, 0.04910273703839202, 0.06317934502327241, 0.0005110758791454246, 0.0007394647142464207, 0.13215091125788003, 0.019884262460752294, 0.0021432417871765667, 0.0003179169908828374, 0.1326125764897721, 0.0024331845268661537, 0.28265287469060135, 0.009998546173244924, 0.01978567397099379, 0.05308649091412741, 0.10890149478092795, 0.1830175227731364, 0.006564284971370479, 0.002768527553862468, 0.0023547047471877344, 0.07607975824126673, 6.599057796849535e-05, 0.042194363893003885, 0.007806493888608514, 0.0011379084602967688, 0.46427960563678417, 0.15239671127607207, 0.01813118758378009, 0.004041408774719491, 0.001598521481420325, 0.051540305186314146, 0.9198044296595788, 0.007064454158803365, 0.10608883150537682, 0.01982728620193891, 0.036982334509662186, 0.03316762569627327, 0.009993677167390528, 0.007045136821300935, 0.09989820166870751, 0.012033963270824531, 0.12134623345762938, 0.02026407696400513, 0.018725580321554042, 0.6704885618687656, 0.016754573872272423, 0.0012764887134222027, 0.013645563637676777, 0.0, 0.029398096228536494, 0.07383680709847171, 0.0024918964560453824, 0.043535756677739804, 0.002140611663170702, 0.00010002405360083794, 0.02862565485695925, 0.020363095159654482, 0.09863803574176391, 0.08093602530177942, 0.00017090099662011538, 0.027650647155421714, 0.0, 0.011261459072148131, 0.02761529600752362, 0.00935472235337664, 0.0063219609941040245, 0.015108930031497608, 0.0024314720054852234, 0.023952756145534496, 0.09228637057897074, 0.028007547600058077, 0.30300910617185817, 0.007647178844631411, 0.01730493364554288, 0.23952236968967683, 0.0021743272059772034, 0.021903215280582936, 0.002481516643375945, 0.02319751490403062, 0.2834777743684578, 0.011536458942014768, 0.006934319445542826, 0.01766191584105706, 0.02751341676508109, 0.0211199391049696, 0.03804746477035297, 0.2425704935844944, 0.028353331479853205, 0.019552116250841894, 1.6497173361666029, 0.004623196566194909, 0.019868905514062948, 0.028737646000383563, 0.05720311210792914, 0.06961367940689116, 0.0014018180270094415, 0.17140309509940801, 0.009928057954104825, 0.04861298851612521, 0.02230079567964851, 0.00029120873487886343, 0.014224684682942463, 0.002775443356143824, 1.2166261051926612, 0.006569301718506379, 0.05523268501380032, 0.002836978446944566, 0.04187788610670435, 0.1914395750532552, 0.03408440762789518, 0.08679047554663791, 0.00022937400233516184, 0.017937937276862458, 0.07401308761204012, 0.15756041191573159, 0.013701998078900603, 0.030436330375067076, 0.03964661501242396, 0.043463121765451876, 0.8354237973480599, 0.15745746340157682, 0.0008053840799373012, 0.004002530184770414, 0.020525163280429547, 0.018225050688340877, 2.110272526305447, 0.1376618387410857, 0.02798004664323943, 0.16403503223746563, 0.11824281625890708, 0.00037820500245785093, 0.014849014730836598, 0.054264227524995524, 0.1773200473817785, 0.006452864971309847, 0.24685214502882735, 0.01626167732526381, 0.000761796787543023, 0.09859796239731355, 0.08806285557898769, 0.032777925796054715, 0.41352335885423924, 0.03428131519909582, 0.18683169079255313, 2.542090718041731e-07, 0.0027506109488982396, 0.0216239492583955, 0.05041291643982192, 0.01039615026287322, 0.00867926306755895]}],                        {\"shapes\": [{\"line\": {\"dash\": \"dot\"}, \"type\": \"line\", \"x0\": 0, \"x1\": 1, \"xref\": \"x domain\", \"y0\": 0.03035269502575834, \"y1\": 0.03035269502575834, \"yref\": \"y\"}, {\"line\": {\"dash\": \"dot\"}, \"type\": \"line\", \"x0\": 0, \"x1\": 1, \"xref\": \"x domain\", \"y0\": 0.30536151760998986, \"y1\": 0.30536151760998986, \"yref\": \"y\"}], \"template\": {\"data\": {\"bar\": [{\"error_x\": {\"color\": \"#2a3f5f\"}, \"error_y\": {\"color\": \"#2a3f5f\"}, \"marker\": {\"line\": {\"color\": \"#E5ECF6\", \"width\": 0.5}}, \"type\": \"bar\"}], \"barpolar\": [{\"marker\": {\"line\": {\"color\": \"#E5ECF6\", \"width\": 0.5}}, \"type\": \"barpolar\"}], \"carpet\": [{\"aaxis\": {\"endlinecolor\": \"#2a3f5f\", \"gridcolor\": \"white\", \"linecolor\": \"white\", \"minorgridcolor\": \"white\", \"startlinecolor\": \"#2a3f5f\"}, \"baxis\": {\"endlinecolor\": \"#2a3f5f\", \"gridcolor\": \"white\", \"linecolor\": \"white\", \"minorgridcolor\": \"white\", \"startlinecolor\": \"#2a3f5f\"}, \"type\": \"carpet\"}], \"choropleth\": [{\"colorbar\": {\"outlinewidth\": 0, \"ticks\": \"\"}, \"type\": \"choropleth\"}], \"contour\": [{\"colorbar\": {\"outlinewidth\": 0, \"ticks\": \"\"}, \"colorscale\": [[0.0, \"#0d0887\"], [0.1111111111111111, \"#46039f\"], [0.2222222222222222, \"#7201a8\"], [0.3333333333333333, \"#9c179e\"], [0.4444444444444444, \"#bd3786\"], [0.5555555555555556, \"#d8576b\"], [0.6666666666666666, \"#ed7953\"], [0.7777777777777778, \"#fb9f3a\"], [0.8888888888888888, \"#fdca26\"], [1.0, \"#f0f921\"]], \"type\": \"contour\"}], \"contourcarpet\": [{\"colorbar\": {\"outlinewidth\": 0, \"ticks\": \"\"}, \"type\": \"contourcarpet\"}], \"heatmap\": [{\"colorbar\": {\"outlinewidth\": 0, \"ticks\": \"\"}, \"colorscale\": [[0.0, \"#0d0887\"], [0.1111111111111111, \"#46039f\"], [0.2222222222222222, \"#7201a8\"], [0.3333333333333333, \"#9c179e\"], [0.4444444444444444, \"#bd3786\"], [0.5555555555555556, \"#d8576b\"], [0.6666666666666666, \"#ed7953\"], [0.7777777777777778, \"#fb9f3a\"], [0.8888888888888888, \"#fdca26\"], [1.0, \"#f0f921\"]], \"type\": \"heatmap\"}], \"heatmapgl\": [{\"colorbar\": {\"outlinewidth\": 0, \"ticks\": \"\"}, \"colorscale\": [[0.0, \"#0d0887\"], [0.1111111111111111, \"#46039f\"], [0.2222222222222222, \"#7201a8\"], [0.3333333333333333, \"#9c179e\"], [0.4444444444444444, \"#bd3786\"], [0.5555555555555556, \"#d8576b\"], [0.6666666666666666, \"#ed7953\"], [0.7777777777777778, \"#fb9f3a\"], [0.8888888888888888, \"#fdca26\"], [1.0, \"#f0f921\"]], \"type\": \"heatmapgl\"}], \"histogram\": [{\"marker\": {\"colorbar\": {\"outlinewidth\": 0, \"ticks\": \"\"}}, \"type\": \"histogram\"}], \"histogram2d\": [{\"colorbar\": {\"outlinewidth\": 0, \"ticks\": \"\"}, \"colorscale\": [[0.0, \"#0d0887\"], [0.1111111111111111, \"#46039f\"], [0.2222222222222222, \"#7201a8\"], [0.3333333333333333, \"#9c179e\"], [0.4444444444444444, \"#bd3786\"], [0.5555555555555556, \"#d8576b\"], [0.6666666666666666, \"#ed7953\"], [0.7777777777777778, \"#fb9f3a\"], [0.8888888888888888, \"#fdca26\"], [1.0, \"#f0f921\"]], \"type\": \"histogram2d\"}], \"histogram2dcontour\": [{\"colorbar\": {\"outlinewidth\": 0, \"ticks\": \"\"}, \"colorscale\": [[0.0, \"#0d0887\"], [0.1111111111111111, \"#46039f\"], [0.2222222222222222, \"#7201a8\"], [0.3333333333333333, \"#9c179e\"], [0.4444444444444444, \"#bd3786\"], [0.5555555555555556, \"#d8576b\"], [0.6666666666666666, \"#ed7953\"], [0.7777777777777778, \"#fb9f3a\"], [0.8888888888888888, \"#fdca26\"], [1.0, \"#f0f921\"]], \"type\": \"histogram2dcontour\"}], \"mesh3d\": [{\"colorbar\": {\"outlinewidth\": 0, \"ticks\": \"\"}, \"type\": \"mesh3d\"}], \"parcoords\": [{\"line\": {\"colorbar\": {\"outlinewidth\": 0, \"ticks\": \"\"}}, \"type\": \"parcoords\"}], \"pie\": [{\"automargin\": true, \"type\": \"pie\"}], \"scatter\": [{\"marker\": {\"colorbar\": {\"outlinewidth\": 0, \"ticks\": \"\"}}, \"type\": \"scatter\"}], \"scatter3d\": [{\"line\": {\"colorbar\": {\"outlinewidth\": 0, \"ticks\": \"\"}}, \"marker\": {\"colorbar\": {\"outlinewidth\": 0, \"ticks\": \"\"}}, \"type\": \"scatter3d\"}], \"scattercarpet\": [{\"marker\": {\"colorbar\": {\"outlinewidth\": 0, \"ticks\": \"\"}}, \"type\": \"scattercarpet\"}], \"scattergeo\": [{\"marker\": {\"colorbar\": {\"outlinewidth\": 0, \"ticks\": \"\"}}, \"type\": \"scattergeo\"}], \"scattergl\": [{\"marker\": {\"colorbar\": {\"outlinewidth\": 0, \"ticks\": \"\"}}, \"type\": \"scattergl\"}], \"scattermapbox\": [{\"marker\": {\"colorbar\": {\"outlinewidth\": 0, \"ticks\": \"\"}}, \"type\": \"scattermapbox\"}], \"scatterpolar\": [{\"marker\": {\"colorbar\": {\"outlinewidth\": 0, \"ticks\": \"\"}}, \"type\": \"scatterpolar\"}], \"scatterpolargl\": [{\"marker\": {\"colorbar\": {\"outlinewidth\": 0, \"ticks\": \"\"}}, \"type\": \"scatterpolargl\"}], \"scatterternary\": [{\"marker\": {\"colorbar\": {\"outlinewidth\": 0, \"ticks\": \"\"}}, \"type\": \"scatterternary\"}], \"surface\": [{\"colorbar\": {\"outlinewidth\": 0, \"ticks\": \"\"}, \"colorscale\": [[0.0, \"#0d0887\"], [0.1111111111111111, \"#46039f\"], [0.2222222222222222, \"#7201a8\"], [0.3333333333333333, \"#9c179e\"], [0.4444444444444444, \"#bd3786\"], [0.5555555555555556, \"#d8576b\"], [0.6666666666666666, \"#ed7953\"], [0.7777777777777778, \"#fb9f3a\"], [0.8888888888888888, \"#fdca26\"], [1.0, \"#f0f921\"]], \"type\": \"surface\"}], \"table\": [{\"cells\": {\"fill\": {\"color\": \"#EBF0F8\"}, \"line\": {\"color\": \"white\"}}, \"header\": {\"fill\": {\"color\": \"#C8D4E3\"}, \"line\": {\"color\": \"white\"}}, \"type\": \"table\"}]}, \"layout\": {\"annotationdefaults\": {\"arrowcolor\": \"#2a3f5f\", \"arrowhead\": 0, \"arrowwidth\": 1}, \"autotypenumbers\": \"strict\", \"coloraxis\": {\"colorbar\": {\"outlinewidth\": 0, \"ticks\": \"\"}}, \"colorscale\": {\"diverging\": [[0, \"#8e0152\"], [0.1, \"#c51b7d\"], [0.2, \"#de77ae\"], [0.3, \"#f1b6da\"], [0.4, \"#fde0ef\"], [0.5, \"#f7f7f7\"], [0.6, \"#e6f5d0\"], [0.7, \"#b8e186\"], [0.8, \"#7fbc41\"], [0.9, \"#4d9221\"], [1, \"#276419\"]], \"sequential\": [[0.0, \"#0d0887\"], [0.1111111111111111, \"#46039f\"], [0.2222222222222222, \"#7201a8\"], [0.3333333333333333, \"#9c179e\"], [0.4444444444444444, \"#bd3786\"], [0.5555555555555556, \"#d8576b\"], [0.6666666666666666, \"#ed7953\"], [0.7777777777777778, \"#fb9f3a\"], [0.8888888888888888, \"#fdca26\"], [1.0, \"#f0f921\"]], \"sequentialminus\": [[0.0, \"#0d0887\"], [0.1111111111111111, \"#46039f\"], [0.2222222222222222, \"#7201a8\"], [0.3333333333333333, \"#9c179e\"], [0.4444444444444444, \"#bd3786\"], [0.5555555555555556, \"#d8576b\"], [0.6666666666666666, \"#ed7953\"], [0.7777777777777778, \"#fb9f3a\"], [0.8888888888888888, \"#fdca26\"], [1.0, \"#f0f921\"]]}, \"colorway\": [\"#636efa\", \"#EF553B\", \"#00cc96\", \"#ab63fa\", \"#FFA15A\", \"#19d3f3\", \"#FF6692\", \"#B6E880\", \"#FF97FF\", \"#FECB52\"], \"font\": {\"color\": \"#2a3f5f\"}, \"geo\": {\"bgcolor\": \"white\", \"lakecolor\": \"white\", \"landcolor\": \"#E5ECF6\", \"showlakes\": true, \"showland\": true, \"subunitcolor\": \"white\"}, \"hoverlabel\": {\"align\": \"left\"}, \"hovermode\": \"closest\", \"mapbox\": {\"style\": \"light\"}, \"paper_bgcolor\": \"white\", \"plot_bgcolor\": \"#E5ECF6\", \"polar\": {\"angularaxis\": {\"gridcolor\": \"white\", \"linecolor\": \"white\", \"ticks\": \"\"}, \"bgcolor\": \"#E5ECF6\", \"radialaxis\": {\"gridcolor\": \"white\", \"linecolor\": \"white\", \"ticks\": \"\"}}, \"scene\": {\"xaxis\": {\"backgroundcolor\": \"#E5ECF6\", \"gridcolor\": \"white\", \"gridwidth\": 2, \"linecolor\": \"white\", \"showbackground\": true, \"ticks\": \"\", \"zerolinecolor\": \"white\"}, \"yaxis\": {\"backgroundcolor\": \"#E5ECF6\", \"gridcolor\": \"white\", \"gridwidth\": 2, \"linecolor\": \"white\", \"showbackground\": true, \"ticks\": \"\", \"zerolinecolor\": \"white\"}, \"zaxis\": {\"backgroundcolor\": \"#E5ECF6\", \"gridcolor\": \"white\", \"gridwidth\": 2, \"linecolor\": \"white\", \"showbackground\": true, \"ticks\": \"\", \"zerolinecolor\": \"white\"}}, \"shapedefaults\": {\"line\": {\"color\": \"#2a3f5f\"}}, \"ternary\": {\"aaxis\": {\"gridcolor\": \"white\", \"linecolor\": \"white\", \"ticks\": \"\"}, \"baxis\": {\"gridcolor\": \"white\", \"linecolor\": \"white\", \"ticks\": \"\"}, \"bgcolor\": \"#E5ECF6\", \"caxis\": {\"gridcolor\": \"white\", \"linecolor\": \"white\", \"ticks\": \"\"}}, \"title\": {\"x\": 0.05}, \"xaxis\": {\"automargin\": true, \"gridcolor\": \"white\", \"linecolor\": \"white\", \"ticks\": \"\", \"title\": {\"standoff\": 15}, \"zerolinecolor\": \"white\", \"zerolinewidth\": 2}, \"yaxis\": {\"automargin\": true, \"gridcolor\": \"white\", \"linecolor\": \"white\", \"ticks\": \"\", \"title\": {\"standoff\": 15}, \"zerolinecolor\": \"white\", \"zerolinewidth\": 2}}}, \"xaxis\": {\"tickangle\": 45}, \"yaxis\": {\"type\": \"log\"}},                        {\"responsive\": true}                    ).then(function(){\n",
       "                            \n",
       "var gd = document.getElementById('0e0e9d4c-3c76-49f1-8140-401f59dd1858');\n",
       "var x = new MutationObserver(function (mutations, observer) {{\n",
       "        var display = window.getComputedStyle(gd).display;\n",
       "        if (!display || display === 'none') {{\n",
       "            console.log([gd, 'removed!']);\n",
       "            Plotly.purge(gd);\n",
       "            observer.disconnect();\n",
       "        }}\n",
       "}});\n",
       "\n",
       "// Listen for the removal of the full notebook cells\n",
       "var notebookContainer = gd.closest('#notebook-container');\n",
       "if (notebookContainer) {{\n",
       "    x.observe(notebookContainer, {childList: true});\n",
       "}}\n",
       "\n",
       "// Listen for the clearing of the current output cell\n",
       "var outputEl = gd.closest('.output');\n",
       "if (outputEl) {{\n",
       "    x.observe(outputEl, {childList: true});\n",
       "}}\n",
       "\n",
       "                        })                };                });            </script>        </div>"
      ]
     },
     "metadata": {},
     "output_type": "display_data"
    }
   ],
   "source": [
    "fig = go.Figure()\n",
    "\n",
    "fig.add_trace(go.Scatter(x=df.Name, y=df.VolumeMarketCapRatio, mode='markers'))\n",
    "fig.add_hline(\n",
    "    y=df.VolumeMarketCapRatio.median(),\n",
    "    line_dash=\"dot\",\n",
    ")\n",
    "fig.add_hline(\n",
    "    y=df.VolumeMarketCapRatio.median() + df.VolumeMarketCapRatio.std(),\n",
    "    line_dash=\"dot\",\n",
    ")\n",
    "fig.update_yaxes(type=\"log\")\n",
    "fig.update_xaxes(tickangle=45)"
   ]
  }
 ],
 "metadata": {
  "kernelspec": {
   "display_name": "Python 3 (ipykernel)",
   "language": "python",
   "name": "python3"
  },
  "language_info": {
   "codemirror_mode": {
    "name": "ipython",
    "version": 3
   },
   "file_extension": ".py",
   "mimetype": "text/x-python",
   "name": "python",
   "nbconvert_exporter": "python",
   "pygments_lexer": "ipython3",
   "version": "3.10.1"
  }
 },
 "nbformat": 4,
 "nbformat_minor": 5
}
