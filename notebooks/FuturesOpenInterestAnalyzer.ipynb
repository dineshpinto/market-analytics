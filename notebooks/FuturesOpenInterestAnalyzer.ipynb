{
 "cells": [
  {
   "cell_type": "code",
   "execution_count": 1,
   "id": "99cce7e9-c6d7-4b8f-b17e-c593a47739c8",
   "metadata": {},
   "outputs": [],
   "source": [
    "import time\n",
    "import numpy as np\n",
    "import pandas as pd\n",
    "from datetime import datetime\n",
    "\n",
    "from ftx import FtxClient\n",
    "from pycoingecko import CoinGeckoAPI\n",
    "\n",
    "from IPython.display import display, clear_output\n",
    "import plotly.graph_objects as go\n",
    "from plotly.subplots import make_subplots"
   ]
  },
  {
   "cell_type": "markdown",
   "id": "087d1ecb-0664-4cbd-8b07-8713d4ceeef0",
   "metadata": {},
   "source": [
    "# Get futures and funding rates from FTX"
   ]
  },
  {
   "cell_type": "code",
   "execution_count": 2,
   "id": "224fc096-98b2-4535-bb40-bac29382cb58",
   "metadata": {},
   "outputs": [],
   "source": [
    "def get_futures_data() -> pd.DataFrame:\n",
    "    ftx = FtxClient()\n",
    "\n",
    "    futures = ftx.get_futures()\n",
    "    funding_rates = ftx.get_funding_rates()\n",
    "\n",
    "    df = pd.DataFrame(columns=[\"market\", \"name\", \"open_interest\", \"funding_rate\"])\n",
    "\n",
    "    idx = 0\n",
    "    for future in futures:\n",
    "        if future[\"perpetual\"]:\n",
    "            for funding in funding_rates:\n",
    "                if funding[\"future\"] == future[\"name\"]:\n",
    "                    funding_rate = funding[\"rate\"]\n",
    "                    break\n",
    "            df.loc[idx] = [future[\"name\"], future[\"underlying\"], future[\"openInterestUsd\"], funding_rate]\n",
    "            idx += 1\n",
    "    \n",
    "    return df"
   ]
  },
  {
   "cell_type": "markdown",
   "id": "dd63bb66-b70b-4f79-9930-3b8e8437329d",
   "metadata": {},
   "source": [
    "# Get market caps from CoinGecko"
   ]
  },
  {
   "cell_type": "code",
   "execution_count": 3,
   "id": "1ed1cc21-eee8-4377-aa22-151e2ba1c6ba",
   "metadata": {},
   "outputs": [],
   "source": [
    "def get_market_cap_data(df: pd.DataFrame) -> pd.DataFrame:\n",
    "    cg = CoinGeckoAPI()\n",
    "    markets = cg.get_coins_markets(vs_currency=[\"usd\"], per_page=250)\n",
    "    \n",
    "    market_caps = np.zeros(len(df))\n",
    "\n",
    "    for idx, name in enumerate(df[\"name\"]):\n",
    "        market_cap = 0\n",
    "        for market in markets:\n",
    "            if name.lower() == market[\"symbol\"].lower():\n",
    "                market_cap = market[\"market_cap\"]\n",
    "                break\n",
    "        market_caps[idx] = market_cap\n",
    "\n",
    "    df[\"market_cap\"] = market_caps\n",
    "\n",
    "    # Remove any values without market caps\n",
    "    df = df[df[\"market_cap\"] != 0]\n",
    "    df = df.reset_index(drop=True)\n",
    "    \n",
    "    return df"
   ]
  },
  {
   "cell_type": "markdown",
   "id": "39aa6891-b554-4921-954f-ddc6530c18c7",
   "metadata": {},
   "source": [
    "# Calculate the FOM metric\n",
    "\n",
    "The calculation of the derived metric is simple, the idea is to take the open interest in the market $i$ and normalize it with the market cap. This ratio can be then multiplied with the absolute value of the funding rate. A large value would indicate a strong perp bias towards one direction. The direction is indicated by the sign of the funding rate. \n",
    "\n",
    "Let, \n",
    "$$ FR_i = \\text{funding rate of market i} $$\n",
    "$$ OI_i = \\text{open interest of market i} $$\n",
    "$$ MC_i = \\text{market cap of market i} $$\n",
    "\n",
    "\n",
    "The derived FOM metric, \n",
    "\n",
    "$$ FOM_i = \\left(\\frac{OI_i}{MC_i}\\right) \\times abs(FR_i) $$"
   ]
  },
  {
   "cell_type": "code",
   "execution_count": 9,
   "id": "7f82a4a8-ef4b-4b78-b58d-6d8d09a792ff",
   "metadata": {},
   "outputs": [],
   "source": [
    "df = get_futures_data()\n",
    "df = get_market_cap_data(df)\n",
    "df[\"oi_macp_ratio\"] = df[\"open_interest\"] / df[\"market_cap\"]\n",
    "df[\"fom\"] = df[\"oi_macp_ratio\"] *  df[\"funding_rate\"].abs()\n",
    "df = df.sort_values(\"fom\", ascending=False)"
   ]
  },
  {
   "cell_type": "markdown",
   "id": "7b9f09aa-fee7-4090-acdd-0a46198bf1ba",
   "metadata": {},
   "source": [
    "# Plotting the FOM\n",
    "\n",
    "We see a strong variation in FOM across different cryptos. We can filter this by looking at the top 5 percentile."
   ]
  },
  {
   "cell_type": "code",
   "execution_count": 36,
   "id": "8420ebdc-75ea-4a86-9d3e-3e4bee4fd54e",
   "metadata": {},
   "outputs": [
    {
     "data": {
      "application/vnd.plotly.v1+json": {
       "config": {
        "plotlyServerURL": "https://plot.ly"
       },
       "data": [
        {
         "mode": "markers",
         "name": "FOM",
         "type": "scatter",
         "x": [
          "LOOKS",
          "GMT",
          "RAY",
          "WAVES",
          "DYDX",
          "AXS",
          "SUSHI",
          "KNC",
          "SPELL",
          "FTM",
          "CRV",
          "ATOM",
          "PAXG",
          "DENT",
          "KAVA",
          "ZEC",
          "YFI",
          "XMR",
          "REN",
          "SRM",
          "NEAR",
          "SNX",
          "LUNA",
          "MKR",
          "CHR",
          "SLP",
          "OMG",
          "SCRT",
          "RUNE",
          "ZIL",
          "XAUT",
          "QTUM",
          "1INCH",
          "COMP",
          "SOL",
          "ENS",
          "ENJ",
          "RNDR",
          "SXP",
          "ETC",
          "CRO",
          "HT",
          "BSV",
          "BCH",
          "BAT",
          "CAKE",
          "BNT",
          "DOGE",
          "ONE",
          "SKL",
          "AVAX",
          "DOT",
          "AR",
          "STX",
          "AUDIO",
          "ONT",
          "ZRX",
          "IMX",
          "FLOW",
          "XRP",
          "FXS",
          "MATIC",
          "PERP",
          "XEM",
          "KSM",
          "APE",
          "LRC",
          "LINK",
          "FIL",
          "HNT",
          "PEOPLE",
          "LEO",
          "DASH",
          "MINA",
          "BIT",
          "C98",
          "ADA",
          "ALGO",
          "XTZ",
          "MANA",
          "ETH",
          "GALA",
          "ICX",
          "SAND",
          "UST",
          "EGLD",
          "ANC",
          "LTC",
          "BTC",
          "AAVE",
          "GRT",
          "SHIB",
          "HOT",
          "THETA",
          "CHZ",
          "UNI",
          "CVX",
          "NEO",
          "VET",
          "GLMR",
          "CUSDT",
          "EOS",
          "ROSE",
          "BNB",
          "IOST",
          "CEL",
          "HBAR",
          "XLM",
          "ICP",
          "SC",
          "CELO",
          "BTT",
          "OKB",
          "USDT",
          "TRX",
          "FTT"
         ],
         "xaxis": "x",
         "y": [
          1.7582657949438864e-05,
          3.658831623796498e-06,
          1.2552994777956492e-06,
          1.2048535467549053e-06,
          6.764207982793925e-07,
          5.579596750469053e-07,
          4.343071177408553e-07,
          4.1428794620828085e-07,
          3.930313381626986e-07,
          3.357568957183828e-07,
          2.870901306440406e-07,
          2.823642471965634e-07,
          2.7564251802309666e-07,
          2.627910486338556e-07,
          2.5600600091559626e-07,
          2.516552816595514e-07,
          2.4843888751772375e-07,
          2.384578077721356e-07,
          2.2274776336491645e-07,
          2.143322249100941e-07,
          2.0999982038733155e-07,
          2.0911907516193834e-07,
          1.9797161493665898e-07,
          1.94206240705385e-07,
          1.8744828671614632e-07,
          1.7325347004765712e-07,
          1.7271097424870447e-07,
          1.6511297823107006e-07,
          1.5288202498716538e-07,
          1.453682223548959e-07,
          1.4486492640738377e-07,
          1.34569465897531e-07,
          1.2761377948238316e-07,
          1.2167515433578627e-07,
          1.0751296225920387e-07,
          1.0655196684325658e-07,
          1.0332252679900026e-07,
          9.945983646832301e-08,
          9.714072597022336e-08,
          9.610165486742778e-08,
          9.583690819994345e-08,
          9.337606893865876e-08,
          8.847082770151612e-08,
          8.077973886195972e-08,
          8.007913762708433e-08,
          7.10487212078654e-08,
          6.843866185325604e-08,
          6.518211665088245e-08,
          6.438911133393112e-08,
          5.8658014239359546e-08,
          5.829357878328086e-08,
          5.8026339687395505e-08,
          5.75147124256839e-08,
          5.5626451246888504e-08,
          5.470233534393502e-08,
          4.93618848705154e-08,
          4.718176898151317e-08,
          4.6367369429832384e-08,
          4.610660066512272e-08,
          4.599694028897899e-08,
          4.478311036630761e-08,
          4.4526131830920154e-08,
          4.016599279569502e-08,
          3.985541705591296e-08,
          3.9499829081639634e-08,
          3.8196023015975396e-08,
          3.71656289457452e-08,
          3.5963511217132896e-08,
          3.143237744543726e-08,
          3.032722578332604e-08,
          2.9409710665994624e-08,
          2.754159643820491e-08,
          2.655363867819564e-08,
          2.4701793852251566e-08,
          2.402842734198229e-08,
          2.3961619812616424e-08,
          2.2575929231252257e-08,
          2.2441307774835115e-08,
          2.119096179910502e-08,
          2.0735828860674088e-08,
          2.054770229394157e-08,
          1.8269472182766408e-08,
          1.8110454120199746e-08,
          1.7812195217495522e-08,
          1.7265844539282277e-08,
          1.6956129609926715e-08,
          1.5832832380684545e-08,
          1.5696356603381288e-08,
          1.5473847366479284e-08,
          1.514089612372729e-08,
          1.4700452781206282e-08,
          1.415577261840186e-08,
          1.2804941383324442e-08,
          1.268637074562013e-08,
          1.2578341948935431e-08,
          1.1522801815924682e-08,
          1.1326077597372927e-08,
          1.0819771792701389e-08,
          1.0731658394674739e-08,
          1.0668023019719173e-08,
          1.0324215829499246e-08,
          9.314616672792516e-09,
          9.2604973828405e-09,
          7.93169621659342e-09,
          7.597595940147125e-09,
          7.572210292247019e-09,
          4.834593472944685e-09,
          4.600958704611826e-09,
          4.447181869531787e-09,
          3.197616803425585e-09,
          2.9614884362440338e-09,
          2.5392778223563354e-09,
          8.317137712886199e-10,
          0,
          0,
          0
         ],
         "yaxis": "y"
        },
        {
         "mode": "markers",
         "name": "OI-MCAP ratio",
         "type": "scatter",
         "x": [
          "LOOKS",
          "GMT",
          "RAY",
          "WAVES",
          "DYDX",
          "AXS",
          "SUSHI",
          "KNC",
          "SPELL",
          "FTM",
          "CRV",
          "ATOM",
          "PAXG",
          "DENT",
          "KAVA",
          "ZEC",
          "YFI",
          "XMR",
          "REN",
          "SRM",
          "NEAR",
          "SNX",
          "LUNA",
          "MKR",
          "CHR",
          "SLP",
          "OMG",
          "SCRT",
          "RUNE",
          "ZIL",
          "XAUT",
          "QTUM",
          "1INCH",
          "COMP",
          "SOL",
          "ENS",
          "ENJ",
          "RNDR",
          "SXP",
          "ETC",
          "CRO",
          "HT",
          "BSV",
          "BCH",
          "BAT",
          "CAKE",
          "BNT",
          "DOGE",
          "ONE",
          "SKL",
          "AVAX",
          "DOT",
          "AR",
          "STX",
          "AUDIO",
          "ONT",
          "ZRX",
          "IMX",
          "FLOW",
          "XRP",
          "FXS",
          "MATIC",
          "PERP",
          "XEM",
          "KSM",
          "APE",
          "LRC",
          "LINK",
          "FIL",
          "HNT",
          "PEOPLE",
          "LEO",
          "DASH",
          "MINA",
          "BIT",
          "C98",
          "ADA",
          "ALGO",
          "XTZ",
          "MANA",
          "ETH",
          "GALA",
          "ICX",
          "SAND",
          "UST",
          "EGLD",
          "ANC",
          "LTC",
          "BTC",
          "AAVE",
          "GRT",
          "SHIB",
          "HOT",
          "THETA",
          "CHZ",
          "UNI",
          "CVX",
          "NEO",
          "VET",
          "GLMR",
          "CUSDT",
          "EOS",
          "ROSE",
          "BNB",
          "IOST",
          "CEL",
          "HBAR",
          "XLM",
          "ICP",
          "SC",
          "CELO",
          "BTT",
          "OKB",
          "USDT",
          "TRX",
          "FTT"
         ],
         "xaxis": "x2",
         "y": [
          0.11880174290161395,
          0.059980846291745875,
          0.05457823816502823,
          0.024588847892957254,
          0.05636839985661604,
          0.018598655834896845,
          0.02068129132099311,
          0.08285758924165616,
          0.012282229317584333,
          0.01526167707810831,
          0.01913934204293604,
          0.00941214157321878,
          0.010601635308580642,
          0.006738232016252708,
          0.005818318202627188,
          0.009320565987390794,
          0.016562592501181583,
          0.0054194956311849,
          0.017134443335762806,
          0.016487094223853395,
          0.013124988774208222,
          0.008364763006477533,
          0.010419558680876788,
          0.006935937168049465,
          0.009372414335807315,
          0.014437789170638093,
          0.012336498160621748,
          0.0013992625273819498,
          0.010192134999144358,
          0.016152024706099544,
          0.008521466259257869,
          0.004485648863251033,
          0.015951722435297896,
          0.013519461592865139,
          0.007679497304228848,
          0.011839107427028508,
          0.005438027726263171,
          0.0029252893078918533,
          0.008830975088202124,
          0.005057981835127777,
          0.001624354376270228,
          0.0066697192099041975,
          0.005529426731344758,
          0.008975526540217747,
          0.0040039568813542165,
          0.0027326431233794385,
          0.0017548374834168217,
          0.003430637718467497,
          0.006438911133393111,
          0.008379716319908507,
          0.004484121444867759,
          0.004144738549099679,
          0.00575147124256839,
          0.00111252902493777,
          0.004972939576721366,
          0.002146168907413713,
          0.0047181768981513165,
          0.009273473885966476,
          0.0027121529803013364,
          0.0025553855716099437,
          0.007463851727717935,
          0.0049473479812133505,
          0.008033198559139004,
          0.0017328442198223026,
          0.0032916524234699695,
          0.0190980115079877,
          0.006194271490957533,
          0.004495438902141612,
          0.003929047180679658,
          0.0027570205257569126,
          0.029409710665994626,
          0.0004442192973904018,
          0.00221280322318297,
          0.003528827693178795,
          0.0009241702823839343,
          0.0034230885446594893,
          0.0020523572028411144,
          0.0037402179624725193,
          0.0035318269665175032,
          0.0034559714767790147,
          0.0025684627867426963,
          0.009134736091383204,
          0.0030184090200332907,
          0.008906097608747762,
          0.0010791152837051423,
          0.0024223042299895306,
          0.0026388053967807573,
          0.005232118867793762,
          0.002210549623782755,
          0.01514089612372729,
          0.0073502263906031415,
          0.000943718174560124,
          0.0009146386702374601,
          0.0015857963432025163,
          0.004192780649645143,
          0.0019204669693207803,
          0.0022652155194745854,
          0.0027049429481753474,
          0.0015330940563821056,
          0.0053340115098595865,
          0.0008603513191249371,
          0.009314616672792516,
          0.003086832460946833,
          0.000793169621659342,
          0.0012662659900245208,
          0.0012620350487078365,
          0.0008057655788241141,
          0.002300479352305913,
          0.0022235909347658933,
          0.0007994042008563963,
          0.002961488436244034,
          6.682310058832461e-05,
          0.0008317137712886199,
          0.000977891735653933,
          0.0016618942447519946,
          0.014466923712919704
         ],
         "yaxis": "y2"
        },
        {
         "mode": "markers",
         "name": "FR",
         "type": "scatter",
         "x": [
          "LOOKS",
          "GMT",
          "RAY",
          "WAVES",
          "DYDX",
          "AXS",
          "SUSHI",
          "KNC",
          "SPELL",
          "FTM",
          "CRV",
          "ATOM",
          "PAXG",
          "DENT",
          "KAVA",
          "ZEC",
          "YFI",
          "XMR",
          "REN",
          "SRM",
          "NEAR",
          "SNX",
          "LUNA",
          "MKR",
          "CHR",
          "SLP",
          "OMG",
          "SCRT",
          "RUNE",
          "ZIL",
          "XAUT",
          "QTUM",
          "1INCH",
          "COMP",
          "SOL",
          "ENS",
          "ENJ",
          "RNDR",
          "SXP",
          "ETC",
          "CRO",
          "HT",
          "BSV",
          "BCH",
          "BAT",
          "CAKE",
          "BNT",
          "DOGE",
          "ONE",
          "SKL",
          "AVAX",
          "DOT",
          "AR",
          "STX",
          "AUDIO",
          "ONT",
          "ZRX",
          "IMX",
          "FLOW",
          "XRP",
          "FXS",
          "MATIC",
          "PERP",
          "XEM",
          "KSM",
          "APE",
          "LRC",
          "LINK",
          "FIL",
          "HNT",
          "PEOPLE",
          "LEO",
          "DASH",
          "MINA",
          "BIT",
          "C98",
          "ADA",
          "ALGO",
          "XTZ",
          "MANA",
          "ETH",
          "GALA",
          "ICX",
          "SAND",
          "UST",
          "EGLD",
          "ANC",
          "LTC",
          "BTC",
          "AAVE",
          "GRT",
          "SHIB",
          "HOT",
          "THETA",
          "CHZ",
          "UNI",
          "CVX",
          "NEO",
          "VET",
          "GLMR",
          "CUSDT",
          "EOS",
          "ROSE",
          "BNB",
          "IOST",
          "CEL",
          "HBAR",
          "XLM",
          "ICP",
          "SC",
          "CELO",
          "BTT",
          "OKB",
          "USDT",
          "TRX",
          "FTT"
         ],
         "xaxis": "x3",
         "y": [
          -0.000148,
          -6.1e-05,
          -2.3e-05,
          -4.9e-05,
          -1.2e-05,
          -3e-05,
          -2.1e-05,
          5e-06,
          -3.2e-05,
          -2.2e-05,
          -1.5e-05,
          -3e-05,
          2.6e-05,
          3.9e-05,
          -4.4e-05,
          2.7e-05,
          -1.5e-05,
          4.4e-05,
          1.3e-05,
          -1.3e-05,
          -1.6e-05,
          -2.5e-05,
          -1.9e-05,
          2.8e-05,
          -2e-05,
          1.2e-05,
          -1.4e-05,
          -0.000118,
          -1.5e-05,
          -9e-06,
          -1.7e-05,
          -3e-05,
          -8e-06,
          -9e-06,
          -1.4e-05,
          9e-06,
          -1.9e-05,
          -3.4e-05,
          -1.1e-05,
          -1.9e-05,
          -5.9e-05,
          -1.4e-05,
          -1.6e-05,
          -9e-06,
          -2e-05,
          -2.6e-05,
          -3.9e-05,
          1.9e-05,
          -1e-05,
          -7e-06,
          -1.3e-05,
          -1.4e-05,
          -1e-05,
          -5e-05,
          -1.1e-05,
          -2.3e-05,
          1e-05,
          -5e-06,
          1.7e-05,
          1.8e-05,
          6e-06,
          -9e-06,
          5e-06,
          2.3e-05,
          -1.2e-05,
          2e-06,
          -6e-06,
          -8e-06,
          8e-06,
          1.1e-05,
          -1e-06,
          6.2e-05,
          -1.2e-05,
          7e-06,
          -2.6e-05,
          -7e-06,
          -1.1e-05,
          -6e-06,
          -6e-06,
          6e-06,
          -8e-06,
          -2e-06,
          -6e-06,
          2e-06,
          -1.6e-05,
          7e-06,
          6e-06,
          3e-06,
          -7e-06,
          -1e-06,
          -2e-06,
          -1.5e-05,
          1.4e-05,
          -8e-06,
          -3e-06,
          -6e-06,
          5e-06,
          4e-06,
          7e-06,
          -2e-06,
          -1.2e-05,
          -1e-06,
          3e-06,
          -1e-05,
          6e-06,
          -6e-06,
          6e-06,
          -2e-06,
          2e-06,
          -4e-06,
          1e-06,
          3.8e-05,
          1e-06,
          0,
          0,
          0
         ],
         "yaxis": "y3"
        }
       ],
       "layout": {
        "height": 800,
        "shapes": [
         {
          "line": {
           "color": "green",
           "dash": "dash",
           "width": 3
          },
          "type": "line",
          "x0": 0,
          "x1": 1,
          "xref": "x domain",
          "y0": 4.652202570673678e-07,
          "y1": 4.652202570673678e-07,
          "yref": "y"
         }
        ],
        "template": {
         "data": {
          "bar": [
           {
            "error_x": {
             "color": "#2a3f5f"
            },
            "error_y": {
             "color": "#2a3f5f"
            },
            "marker": {
             "line": {
              "color": "#E5ECF6",
              "width": 0.5
             },
             "pattern": {
              "fillmode": "overlay",
              "size": 10,
              "solidity": 0.2
             }
            },
            "type": "bar"
           }
          ],
          "barpolar": [
           {
            "marker": {
             "line": {
              "color": "#E5ECF6",
              "width": 0.5
             },
             "pattern": {
              "fillmode": "overlay",
              "size": 10,
              "solidity": 0.2
             }
            },
            "type": "barpolar"
           }
          ],
          "carpet": [
           {
            "aaxis": {
             "endlinecolor": "#2a3f5f",
             "gridcolor": "white",
             "linecolor": "white",
             "minorgridcolor": "white",
             "startlinecolor": "#2a3f5f"
            },
            "baxis": {
             "endlinecolor": "#2a3f5f",
             "gridcolor": "white",
             "linecolor": "white",
             "minorgridcolor": "white",
             "startlinecolor": "#2a3f5f"
            },
            "type": "carpet"
           }
          ],
          "choropleth": [
           {
            "colorbar": {
             "outlinewidth": 0,
             "ticks": ""
            },
            "type": "choropleth"
           }
          ],
          "contour": [
           {
            "colorbar": {
             "outlinewidth": 0,
             "ticks": ""
            },
            "colorscale": [
             [
              0,
              "#0d0887"
             ],
             [
              0.1111111111111111,
              "#46039f"
             ],
             [
              0.2222222222222222,
              "#7201a8"
             ],
             [
              0.3333333333333333,
              "#9c179e"
             ],
             [
              0.4444444444444444,
              "#bd3786"
             ],
             [
              0.5555555555555556,
              "#d8576b"
             ],
             [
              0.6666666666666666,
              "#ed7953"
             ],
             [
              0.7777777777777778,
              "#fb9f3a"
             ],
             [
              0.8888888888888888,
              "#fdca26"
             ],
             [
              1,
              "#f0f921"
             ]
            ],
            "type": "contour"
           }
          ],
          "contourcarpet": [
           {
            "colorbar": {
             "outlinewidth": 0,
             "ticks": ""
            },
            "type": "contourcarpet"
           }
          ],
          "heatmap": [
           {
            "colorbar": {
             "outlinewidth": 0,
             "ticks": ""
            },
            "colorscale": [
             [
              0,
              "#0d0887"
             ],
             [
              0.1111111111111111,
              "#46039f"
             ],
             [
              0.2222222222222222,
              "#7201a8"
             ],
             [
              0.3333333333333333,
              "#9c179e"
             ],
             [
              0.4444444444444444,
              "#bd3786"
             ],
             [
              0.5555555555555556,
              "#d8576b"
             ],
             [
              0.6666666666666666,
              "#ed7953"
             ],
             [
              0.7777777777777778,
              "#fb9f3a"
             ],
             [
              0.8888888888888888,
              "#fdca26"
             ],
             [
              1,
              "#f0f921"
             ]
            ],
            "type": "heatmap"
           }
          ],
          "heatmapgl": [
           {
            "colorbar": {
             "outlinewidth": 0,
             "ticks": ""
            },
            "colorscale": [
             [
              0,
              "#0d0887"
             ],
             [
              0.1111111111111111,
              "#46039f"
             ],
             [
              0.2222222222222222,
              "#7201a8"
             ],
             [
              0.3333333333333333,
              "#9c179e"
             ],
             [
              0.4444444444444444,
              "#bd3786"
             ],
             [
              0.5555555555555556,
              "#d8576b"
             ],
             [
              0.6666666666666666,
              "#ed7953"
             ],
             [
              0.7777777777777778,
              "#fb9f3a"
             ],
             [
              0.8888888888888888,
              "#fdca26"
             ],
             [
              1,
              "#f0f921"
             ]
            ],
            "type": "heatmapgl"
           }
          ],
          "histogram": [
           {
            "marker": {
             "pattern": {
              "fillmode": "overlay",
              "size": 10,
              "solidity": 0.2
             }
            },
            "type": "histogram"
           }
          ],
          "histogram2d": [
           {
            "colorbar": {
             "outlinewidth": 0,
             "ticks": ""
            },
            "colorscale": [
             [
              0,
              "#0d0887"
             ],
             [
              0.1111111111111111,
              "#46039f"
             ],
             [
              0.2222222222222222,
              "#7201a8"
             ],
             [
              0.3333333333333333,
              "#9c179e"
             ],
             [
              0.4444444444444444,
              "#bd3786"
             ],
             [
              0.5555555555555556,
              "#d8576b"
             ],
             [
              0.6666666666666666,
              "#ed7953"
             ],
             [
              0.7777777777777778,
              "#fb9f3a"
             ],
             [
              0.8888888888888888,
              "#fdca26"
             ],
             [
              1,
              "#f0f921"
             ]
            ],
            "type": "histogram2d"
           }
          ],
          "histogram2dcontour": [
           {
            "colorbar": {
             "outlinewidth": 0,
             "ticks": ""
            },
            "colorscale": [
             [
              0,
              "#0d0887"
             ],
             [
              0.1111111111111111,
              "#46039f"
             ],
             [
              0.2222222222222222,
              "#7201a8"
             ],
             [
              0.3333333333333333,
              "#9c179e"
             ],
             [
              0.4444444444444444,
              "#bd3786"
             ],
             [
              0.5555555555555556,
              "#d8576b"
             ],
             [
              0.6666666666666666,
              "#ed7953"
             ],
             [
              0.7777777777777778,
              "#fb9f3a"
             ],
             [
              0.8888888888888888,
              "#fdca26"
             ],
             [
              1,
              "#f0f921"
             ]
            ],
            "type": "histogram2dcontour"
           }
          ],
          "mesh3d": [
           {
            "colorbar": {
             "outlinewidth": 0,
             "ticks": ""
            },
            "type": "mesh3d"
           }
          ],
          "parcoords": [
           {
            "line": {
             "colorbar": {
              "outlinewidth": 0,
              "ticks": ""
             }
            },
            "type": "parcoords"
           }
          ],
          "pie": [
           {
            "automargin": true,
            "type": "pie"
           }
          ],
          "scatter": [
           {
            "marker": {
             "colorbar": {
              "outlinewidth": 0,
              "ticks": ""
             }
            },
            "type": "scatter"
           }
          ],
          "scatter3d": [
           {
            "line": {
             "colorbar": {
              "outlinewidth": 0,
              "ticks": ""
             }
            },
            "marker": {
             "colorbar": {
              "outlinewidth": 0,
              "ticks": ""
             }
            },
            "type": "scatter3d"
           }
          ],
          "scattercarpet": [
           {
            "marker": {
             "colorbar": {
              "outlinewidth": 0,
              "ticks": ""
             }
            },
            "type": "scattercarpet"
           }
          ],
          "scattergeo": [
           {
            "marker": {
             "colorbar": {
              "outlinewidth": 0,
              "ticks": ""
             }
            },
            "type": "scattergeo"
           }
          ],
          "scattergl": [
           {
            "marker": {
             "colorbar": {
              "outlinewidth": 0,
              "ticks": ""
             }
            },
            "type": "scattergl"
           }
          ],
          "scattermapbox": [
           {
            "marker": {
             "colorbar": {
              "outlinewidth": 0,
              "ticks": ""
             }
            },
            "type": "scattermapbox"
           }
          ],
          "scatterpolar": [
           {
            "marker": {
             "colorbar": {
              "outlinewidth": 0,
              "ticks": ""
             }
            },
            "type": "scatterpolar"
           }
          ],
          "scatterpolargl": [
           {
            "marker": {
             "colorbar": {
              "outlinewidth": 0,
              "ticks": ""
             }
            },
            "type": "scatterpolargl"
           }
          ],
          "scatterternary": [
           {
            "marker": {
             "colorbar": {
              "outlinewidth": 0,
              "ticks": ""
             }
            },
            "type": "scatterternary"
           }
          ],
          "surface": [
           {
            "colorbar": {
             "outlinewidth": 0,
             "ticks": ""
            },
            "colorscale": [
             [
              0,
              "#0d0887"
             ],
             [
              0.1111111111111111,
              "#46039f"
             ],
             [
              0.2222222222222222,
              "#7201a8"
             ],
             [
              0.3333333333333333,
              "#9c179e"
             ],
             [
              0.4444444444444444,
              "#bd3786"
             ],
             [
              0.5555555555555556,
              "#d8576b"
             ],
             [
              0.6666666666666666,
              "#ed7953"
             ],
             [
              0.7777777777777778,
              "#fb9f3a"
             ],
             [
              0.8888888888888888,
              "#fdca26"
             ],
             [
              1,
              "#f0f921"
             ]
            ],
            "type": "surface"
           }
          ],
          "table": [
           {
            "cells": {
             "fill": {
              "color": "#EBF0F8"
             },
             "line": {
              "color": "white"
             }
            },
            "header": {
             "fill": {
              "color": "#C8D4E3"
             },
             "line": {
              "color": "white"
             }
            },
            "type": "table"
           }
          ]
         },
         "layout": {
          "annotationdefaults": {
           "arrowcolor": "#2a3f5f",
           "arrowhead": 0,
           "arrowwidth": 1
          },
          "autotypenumbers": "strict",
          "coloraxis": {
           "colorbar": {
            "outlinewidth": 0,
            "ticks": ""
           }
          },
          "colorscale": {
           "diverging": [
            [
             0,
             "#8e0152"
            ],
            [
             0.1,
             "#c51b7d"
            ],
            [
             0.2,
             "#de77ae"
            ],
            [
             0.3,
             "#f1b6da"
            ],
            [
             0.4,
             "#fde0ef"
            ],
            [
             0.5,
             "#f7f7f7"
            ],
            [
             0.6,
             "#e6f5d0"
            ],
            [
             0.7,
             "#b8e186"
            ],
            [
             0.8,
             "#7fbc41"
            ],
            [
             0.9,
             "#4d9221"
            ],
            [
             1,
             "#276419"
            ]
           ],
           "sequential": [
            [
             0,
             "#0d0887"
            ],
            [
             0.1111111111111111,
             "#46039f"
            ],
            [
             0.2222222222222222,
             "#7201a8"
            ],
            [
             0.3333333333333333,
             "#9c179e"
            ],
            [
             0.4444444444444444,
             "#bd3786"
            ],
            [
             0.5555555555555556,
             "#d8576b"
            ],
            [
             0.6666666666666666,
             "#ed7953"
            ],
            [
             0.7777777777777778,
             "#fb9f3a"
            ],
            [
             0.8888888888888888,
             "#fdca26"
            ],
            [
             1,
             "#f0f921"
            ]
           ],
           "sequentialminus": [
            [
             0,
             "#0d0887"
            ],
            [
             0.1111111111111111,
             "#46039f"
            ],
            [
             0.2222222222222222,
             "#7201a8"
            ],
            [
             0.3333333333333333,
             "#9c179e"
            ],
            [
             0.4444444444444444,
             "#bd3786"
            ],
            [
             0.5555555555555556,
             "#d8576b"
            ],
            [
             0.6666666666666666,
             "#ed7953"
            ],
            [
             0.7777777777777778,
             "#fb9f3a"
            ],
            [
             0.8888888888888888,
             "#fdca26"
            ],
            [
             1,
             "#f0f921"
            ]
           ]
          },
          "colorway": [
           "#636efa",
           "#EF553B",
           "#00cc96",
           "#ab63fa",
           "#FFA15A",
           "#19d3f3",
           "#FF6692",
           "#B6E880",
           "#FF97FF",
           "#FECB52"
          ],
          "font": {
           "color": "#2a3f5f"
          },
          "geo": {
           "bgcolor": "white",
           "lakecolor": "white",
           "landcolor": "#E5ECF6",
           "showlakes": true,
           "showland": true,
           "subunitcolor": "white"
          },
          "hoverlabel": {
           "align": "left"
          },
          "hovermode": "closest",
          "mapbox": {
           "style": "light"
          },
          "paper_bgcolor": "white",
          "plot_bgcolor": "#E5ECF6",
          "polar": {
           "angularaxis": {
            "gridcolor": "white",
            "linecolor": "white",
            "ticks": ""
           },
           "bgcolor": "#E5ECF6",
           "radialaxis": {
            "gridcolor": "white",
            "linecolor": "white",
            "ticks": ""
           }
          },
          "scene": {
           "xaxis": {
            "backgroundcolor": "#E5ECF6",
            "gridcolor": "white",
            "gridwidth": 2,
            "linecolor": "white",
            "showbackground": true,
            "ticks": "",
            "zerolinecolor": "white"
           },
           "yaxis": {
            "backgroundcolor": "#E5ECF6",
            "gridcolor": "white",
            "gridwidth": 2,
            "linecolor": "white",
            "showbackground": true,
            "ticks": "",
            "zerolinecolor": "white"
           },
           "zaxis": {
            "backgroundcolor": "#E5ECF6",
            "gridcolor": "white",
            "gridwidth": 2,
            "linecolor": "white",
            "showbackground": true,
            "ticks": "",
            "zerolinecolor": "white"
           }
          },
          "shapedefaults": {
           "line": {
            "color": "#2a3f5f"
           }
          },
          "ternary": {
           "aaxis": {
            "gridcolor": "white",
            "linecolor": "white",
            "ticks": ""
           },
           "baxis": {
            "gridcolor": "white",
            "linecolor": "white",
            "ticks": ""
           },
           "bgcolor": "#E5ECF6",
           "caxis": {
            "gridcolor": "white",
            "linecolor": "white",
            "ticks": ""
           }
          },
          "title": {
           "x": 0.05
          },
          "xaxis": {
           "automargin": true,
           "gridcolor": "white",
           "linecolor": "white",
           "ticks": "",
           "title": {
            "standoff": 15
           },
           "zerolinecolor": "white",
           "zerolinewidth": 2
          },
          "yaxis": {
           "automargin": true,
           "gridcolor": "white",
           "linecolor": "white",
           "ticks": "",
           "title": {
            "standoff": 15
           },
           "zerolinecolor": "white",
           "zerolinewidth": 2
          }
         }
        },
        "width": 1200,
        "xaxis": {
         "anchor": "y",
         "autorange": true,
         "domain": [
          0,
          1
         ],
         "matches": "x3",
         "range": [
          -6.949514449514449,
          121.94951444951445
         ],
         "showticklabels": false,
         "type": "category"
        },
        "xaxis2": {
         "anchor": "y2",
         "autorange": true,
         "domain": [
          0,
          1
         ],
         "matches": "x3",
         "range": [
          -6.949514449514449,
          121.94951444951445
         ],
         "showticklabels": false,
         "type": "category"
        },
        "xaxis3": {
         "anchor": "y3",
         "autorange": true,
         "domain": [
          0,
          1
         ],
         "range": [
          -6.949514449514449,
          121.94951444951445
         ],
         "type": "category"
        },
        "yaxis": {
         "anchor": "x",
         "autorange": true,
         "domain": [
          0.7333333333333333,
          1
         ],
         "range": [
          -9.447849269575817,
          -4.387092310472752
         ],
         "title": {
          "text": "FOM metric"
         },
         "type": "log"
        },
        "yaxis2": {
         "anchor": "x2",
         "autorange": true,
         "domain": [
          0.36666666666666664,
          0.6333333333333333
         ],
         "range": [
          -0.010030826955620627,
          0.1288993929578229
         ],
         "title": {
          "text": "Open interest / Market cap"
         },
         "type": "linear"
        },
        "yaxis3": {
         "anchor": "x3",
         "autorange": true,
         "domain": [
          0,
          0.26666666666666666
         ],
         "range": [
          -0.00016585916489738145,
          7.985916489738147e-05
         ],
         "title": {
          "text": "Funding rate"
         },
         "type": "linear"
        }
       }
      },
      "image/png": "[encoded data removed]",
      "text/html": [
       "<div>                            <div id=\"2f75de07-6662-43d8-a303-9bcd86e2ad81\" class=\"plotly-graph-div\" style=\"height:800px; width:1200px;\"></div>            <script type=\"text/javascript\">                require([\"plotly\"], function(Plotly) {                    window.PLOTLYENV=window.PLOTLYENV || {};                                    if (document.getElementById(\"2f75de07-6662-43d8-a303-9bcd86e2ad81\")) {                    Plotly.newPlot(                        \"2f75de07-6662-43d8-a303-9bcd86e2ad81\",                        [{\"mode\":\"markers\",\"name\":\"FOM\",\"x\":[\"LOOKS\",\"GMT\",\"RAY\",\"WAVES\",\"DYDX\",\"AXS\",\"SUSHI\",\"KNC\",\"SPELL\",\"FTM\",\"CRV\",\"ATOM\",\"PAXG\",\"DENT\",\"KAVA\",\"ZEC\",\"YFI\",\"XMR\",\"REN\",\"SRM\",\"NEAR\",\"SNX\",\"LUNA\",\"MKR\",\"CHR\",\"SLP\",\"OMG\",\"SCRT\",\"RUNE\",\"ZIL\",\"XAUT\",\"QTUM\",\"1INCH\",\"COMP\",\"SOL\",\"ENS\",\"ENJ\",\"RNDR\",\"SXP\",\"ETC\",\"CRO\",\"HT\",\"BSV\",\"BCH\",\"BAT\",\"CAKE\",\"BNT\",\"DOGE\",\"ONE\",\"SKL\",\"AVAX\",\"DOT\",\"AR\",\"STX\",\"AUDIO\",\"ONT\",\"ZRX\",\"IMX\",\"FLOW\",\"XRP\",\"FXS\",\"MATIC\",\"PERP\",\"XEM\",\"KSM\",\"APE\",\"LRC\",\"LINK\",\"FIL\",\"HNT\",\"PEOPLE\",\"LEO\",\"DASH\",\"MINA\",\"BIT\",\"C98\",\"ADA\",\"ALGO\",\"XTZ\",\"MANA\",\"ETH\",\"GALA\",\"ICX\",\"SAND\",\"UST\",\"EGLD\",\"ANC\",\"LTC\",\"BTC\",\"AAVE\",\"GRT\",\"SHIB\",\"HOT\",\"THETA\",\"CHZ\",\"UNI\",\"CVX\",\"NEO\",\"VET\",\"GLMR\",\"CUSDT\",\"EOS\",\"ROSE\",\"BNB\",\"IOST\",\"CEL\",\"HBAR\",\"XLM\",\"ICP\",\"SC\",\"CELO\",\"BTT\",\"OKB\",\"USDT\",\"TRX\",\"FTT\"],\"y\":[1.7582657949438864e-05,3.658831623796498e-06,1.2552994777956492e-06,1.2048535467549053e-06,6.764207982793925e-07,5.579596750469053e-07,4.343071177408553e-07,4.1428794620828085e-07,3.930313381626986e-07,3.357568957183828e-07,2.870901306440406e-07,2.823642471965634e-07,2.7564251802309666e-07,2.627910486338556e-07,2.5600600091559626e-07,2.516552816595514e-07,2.4843888751772375e-07,2.384578077721356e-07,2.2274776336491645e-07,2.143322249100941e-07,2.0999982038733155e-07,2.0911907516193834e-07,1.9797161493665898e-07,1.94206240705385e-07,1.8744828671614632e-07,1.7325347004765712e-07,1.7271097424870447e-07,1.6511297823107006e-07,1.5288202498716538e-07,1.453682223548959e-07,1.4486492640738377e-07,1.34569465897531e-07,1.2761377948238316e-07,1.2167515433578627e-07,1.0751296225920387e-07,1.0655196684325658e-07,1.0332252679900026e-07,9.945983646832301e-08,9.714072597022336e-08,9.610165486742778e-08,9.583690819994345e-08,9.337606893865876e-08,8.847082770151612e-08,8.077973886195972e-08,8.007913762708433e-08,7.10487212078654e-08,6.843866185325604e-08,6.518211665088245e-08,6.438911133393112e-08,5.8658014239359546e-08,5.829357878328086e-08,5.8026339687395505e-08,5.75147124256839e-08,5.5626451246888504e-08,5.470233534393502e-08,4.93618848705154e-08,4.718176898151317e-08,4.6367369429832384e-08,4.610660066512272e-08,4.599694028897899e-08,4.478311036630761e-08,4.4526131830920154e-08,4.016599279569502e-08,3.985541705591296e-08,3.9499829081639634e-08,3.8196023015975396e-08,3.71656289457452e-08,3.5963511217132896e-08,3.143237744543726e-08,3.032722578332604e-08,2.9409710665994624e-08,2.754159643820491e-08,2.655363867819564e-08,2.4701793852251566e-08,2.402842734198229e-08,2.3961619812616424e-08,2.2575929231252257e-08,2.2441307774835115e-08,2.119096179910502e-08,2.0735828860674088e-08,2.054770229394157e-08,1.8269472182766408e-08,1.8110454120199746e-08,1.7812195217495522e-08,1.7265844539282277e-08,1.6956129609926715e-08,1.5832832380684545e-08,1.5696356603381288e-08,1.5473847366479284e-08,1.514089612372729e-08,1.4700452781206282e-08,1.415577261840186e-08,1.2804941383324442e-08,1.268637074562013e-08,1.2578341948935431e-08,1.1522801815924682e-08,1.1326077597372927e-08,1.0819771792701389e-08,1.0731658394674739e-08,1.0668023019719173e-08,1.0324215829499246e-08,9.314616672792516e-09,9.2604973828405e-09,7.93169621659342e-09,7.597595940147125e-09,7.572210292247019e-09,4.834593472944685e-09,4.600958704611826e-09,4.447181869531787e-09,3.197616803425585e-09,2.9614884362440338e-09,2.5392778223563354e-09,8.317137712886199e-10,0.0,0.0,0.0],\"type\":\"scatter\",\"xaxis\":\"x\",\"yaxis\":\"y\"},{\"mode\":\"markers\",\"name\":\"OI-MCAP ratio\",\"x\":[\"LOOKS\",\"GMT\",\"RAY\",\"WAVES\",\"DYDX\",\"AXS\",\"SUSHI\",\"KNC\",\"SPELL\",\"FTM\",\"CRV\",\"ATOM\",\"PAXG\",\"DENT\",\"KAVA\",\"ZEC\",\"YFI\",\"XMR\",\"REN\",\"SRM\",\"NEAR\",\"SNX\",\"LUNA\",\"MKR\",\"CHR\",\"SLP\",\"OMG\",\"SCRT\",\"RUNE\",\"ZIL\",\"XAUT\",\"QTUM\",\"1INCH\",\"COMP\",\"SOL\",\"ENS\",\"ENJ\",\"RNDR\",\"SXP\",\"ETC\",\"CRO\",\"HT\",\"BSV\",\"BCH\",\"BAT\",\"CAKE\",\"BNT\",\"DOGE\",\"ONE\",\"SKL\",\"AVAX\",\"DOT\",\"AR\",\"STX\",\"AUDIO\",\"ONT\",\"ZRX\",\"IMX\",\"FLOW\",\"XRP\",\"FXS\",\"MATIC\",\"PERP\",\"XEM\",\"KSM\",\"APE\",\"LRC\",\"LINK\",\"FIL\",\"HNT\",\"PEOPLE\",\"LEO\",\"DASH\",\"MINA\",\"BIT\",\"C98\",\"ADA\",\"ALGO\",\"XTZ\",\"MANA\",\"ETH\",\"GALA\",\"ICX\",\"SAND\",\"UST\",\"EGLD\",\"ANC\",\"LTC\",\"BTC\",\"AAVE\",\"GRT\",\"SHIB\",\"HOT\",\"THETA\",\"CHZ\",\"UNI\",\"CVX\",\"NEO\",\"VET\",\"GLMR\",\"CUSDT\",\"EOS\",\"ROSE\",\"BNB\",\"IOST\",\"CEL\",\"HBAR\",\"XLM\",\"ICP\",\"SC\",\"CELO\",\"BTT\",\"OKB\",\"USDT\",\"TRX\",\"FTT\"],\"y\":[0.11880174290161395,0.059980846291745875,0.05457823816502823,0.024588847892957254,0.05636839985661604,0.018598655834896845,0.02068129132099311,0.08285758924165616,0.012282229317584333,0.01526167707810831,0.01913934204293604,0.00941214157321878,0.010601635308580642,0.006738232016252708,0.005818318202627188,0.009320565987390794,0.016562592501181583,0.0054194956311849,0.017134443335762806,0.016487094223853395,0.013124988774208222,0.008364763006477533,0.010419558680876788,0.006935937168049465,0.009372414335807315,0.014437789170638093,0.012336498160621748,0.0013992625273819498,0.010192134999144358,0.016152024706099544,0.008521466259257869,0.004485648863251033,0.015951722435297896,0.013519461592865139,0.007679497304228848,0.011839107427028508,0.005438027726263171,0.0029252893078918533,0.008830975088202124,0.005057981835127777,0.001624354376270228,0.0066697192099041975,0.005529426731344758,0.008975526540217747,0.0040039568813542165,0.0027326431233794385,0.0017548374834168217,0.003430637718467497,0.006438911133393111,0.008379716319908507,0.004484121444867759,0.004144738549099679,0.00575147124256839,0.00111252902493777,0.004972939576721366,0.002146168907413713,0.0047181768981513165,0.009273473885966476,0.0027121529803013364,0.0025553855716099437,0.007463851727717935,0.0049473479812133505,0.008033198559139004,0.0017328442198223026,0.0032916524234699695,0.0190980115079877,0.006194271490957533,0.004495438902141612,0.003929047180679658,0.0027570205257569126,0.029409710665994626,0.0004442192973904018,0.00221280322318297,0.003528827693178795,0.0009241702823839343,0.0034230885446594893,0.0020523572028411144,0.0037402179624725193,0.0035318269665175032,0.0034559714767790147,0.0025684627867426963,0.009134736091383204,0.0030184090200332907,0.008906097608747762,0.0010791152837051423,0.0024223042299895306,0.0026388053967807573,0.005232118867793762,0.002210549623782755,0.01514089612372729,0.0073502263906031415,0.000943718174560124,0.0009146386702374601,0.0015857963432025163,0.004192780649645143,0.0019204669693207803,0.0022652155194745854,0.0027049429481753474,0.0015330940563821056,0.0053340115098595865,0.0008603513191249371,0.009314616672792516,0.003086832460946833,0.000793169621659342,0.0012662659900245208,0.0012620350487078365,0.0008057655788241141,0.002300479352305913,0.0022235909347658933,0.0007994042008563963,0.002961488436244034,6.682310058832461e-05,0.0008317137712886199,0.000977891735653933,0.0016618942447519946,0.014466923712919704],\"type\":\"scatter\",\"xaxis\":\"x2\",\"yaxis\":\"y2\"},{\"mode\":\"markers\",\"name\":\"FR\",\"x\":[\"LOOKS\",\"GMT\",\"RAY\",\"WAVES\",\"DYDX\",\"AXS\",\"SUSHI\",\"KNC\",\"SPELL\",\"FTM\",\"CRV\",\"ATOM\",\"PAXG\",\"DENT\",\"KAVA\",\"ZEC\",\"YFI\",\"XMR\",\"REN\",\"SRM\",\"NEAR\",\"SNX\",\"LUNA\",\"MKR\",\"CHR\",\"SLP\",\"OMG\",\"SCRT\",\"RUNE\",\"ZIL\",\"XAUT\",\"QTUM\",\"1INCH\",\"COMP\",\"SOL\",\"ENS\",\"ENJ\",\"RNDR\",\"SXP\",\"ETC\",\"CRO\",\"HT\",\"BSV\",\"BCH\",\"BAT\",\"CAKE\",\"BNT\",\"DOGE\",\"ONE\",\"SKL\",\"AVAX\",\"DOT\",\"AR\",\"STX\",\"AUDIO\",\"ONT\",\"ZRX\",\"IMX\",\"FLOW\",\"XRP\",\"FXS\",\"MATIC\",\"PERP\",\"XEM\",\"KSM\",\"APE\",\"LRC\",\"LINK\",\"FIL\",\"HNT\",\"PEOPLE\",\"LEO\",\"DASH\",\"MINA\",\"BIT\",\"C98\",\"ADA\",\"ALGO\",\"XTZ\",\"MANA\",\"ETH\",\"GALA\",\"ICX\",\"SAND\",\"UST\",\"EGLD\",\"ANC\",\"LTC\",\"BTC\",\"AAVE\",\"GRT\",\"SHIB\",\"HOT\",\"THETA\",\"CHZ\",\"UNI\",\"CVX\",\"NEO\",\"VET\",\"GLMR\",\"CUSDT\",\"EOS\",\"ROSE\",\"BNB\",\"IOST\",\"CEL\",\"HBAR\",\"XLM\",\"ICP\",\"SC\",\"CELO\",\"BTT\",\"OKB\",\"USDT\",\"TRX\",\"FTT\"],\"y\":[-0.000148,-6.1e-05,-2.3e-05,-4.9e-05,-1.2e-05,-3e-05,-2.1e-05,5e-06,-3.2e-05,-2.2e-05,-1.5e-05,-3e-05,2.6e-05,3.9e-05,-4.4e-05,2.7e-05,-1.5e-05,4.4e-05,1.3e-05,-1.3e-05,-1.6e-05,-2.5e-05,-1.9e-05,2.8e-05,-2e-05,1.2e-05,-1.4e-05,-0.000118,-1.5e-05,-9e-06,-1.7e-05,-3e-05,-8e-06,-9e-06,-1.4e-05,9e-06,-1.9e-05,-3.4e-05,-1.1e-05,-1.9e-05,-5.9e-05,-1.4e-05,-1.6e-05,-9e-06,-2e-05,-2.6e-05,-3.9e-05,1.9e-05,-1e-05,-7e-06,-1.3e-05,-1.4e-05,-1e-05,-5e-05,-1.1e-05,-2.3e-05,1e-05,-5e-06,1.7e-05,1.8e-05,6e-06,-9e-06,5e-06,2.3e-05,-1.2e-05,2e-06,-6e-06,-8e-06,8e-06,1.1e-05,-1e-06,6.2e-05,-1.2e-05,7e-06,-2.6e-05,-7e-06,-1.1e-05,-6e-06,-6e-06,6e-06,-8e-06,-2e-06,-6e-06,2e-06,-1.6e-05,7e-06,6e-06,3e-06,-7e-06,-1e-06,-2e-06,-1.5e-05,1.4e-05,-8e-06,-3e-06,-6e-06,5e-06,4e-06,7e-06,-2e-06,-1.2e-05,-1e-06,3e-06,-1e-05,6e-06,-6e-06,6e-06,-2e-06,2e-06,-4e-06,1e-06,3.8e-05,1e-06,0.0,0.0,0.0],\"type\":\"scatter\",\"xaxis\":\"x3\",\"yaxis\":\"y3\"}],                        {\"template\":{\"data\":{\"bar\":[{\"error_x\":{\"color\":\"#2a3f5f\"},\"error_y\":{\"color\":\"#2a3f5f\"},\"marker\":{\"line\":{\"color\":\"#E5ECF6\",\"width\":0.5},\"pattern\":{\"fillmode\":\"overlay\",\"size\":10,\"solidity\":0.2}},\"type\":\"bar\"}],\"barpolar\":[{\"marker\":{\"line\":{\"color\":\"#E5ECF6\",\"width\":0.5},\"pattern\":{\"fillmode\":\"overlay\",\"size\":10,\"solidity\":0.2}},\"type\":\"barpolar\"}],\"carpet\":[{\"aaxis\":{\"endlinecolor\":\"#2a3f5f\",\"gridcolor\":\"white\",\"linecolor\":\"white\",\"minorgridcolor\":\"white\",\"startlinecolor\":\"#2a3f5f\"},\"baxis\":{\"endlinecolor\":\"#2a3f5f\",\"gridcolor\":\"white\",\"linecolor\":\"white\",\"minorgridcolor\":\"white\",\"startlinecolor\":\"#2a3f5f\"},\"type\":\"carpet\"}],\"choropleth\":[{\"colorbar\":{\"outlinewidth\":0,\"ticks\":\"\"},\"type\":\"choropleth\"}],\"contour\":[{\"colorbar\":{\"outlinewidth\":0,\"ticks\":\"\"},\"colorscale\":[[0.0,\"#0d0887\"],[0.1111111111111111,\"#46039f\"],[0.2222222222222222,\"#7201a8\"],[0.3333333333333333,\"#9c179e\"],[0.4444444444444444,\"#bd3786\"],[0.5555555555555556,\"#d8576b\"],[0.6666666666666666,\"#ed7953\"],[0.7777777777777778,\"#fb9f3a\"],[0.8888888888888888,\"#fdca26\"],[1.0,\"#f0f921\"]],\"type\":\"contour\"}],\"contourcarpet\":[{\"colorbar\":{\"outlinewidth\":0,\"ticks\":\"\"},\"type\":\"contourcarpet\"}],\"heatmap\":[{\"colorbar\":{\"outlinewidth\":0,\"ticks\":\"\"},\"colorscale\":[[0.0,\"#0d0887\"],[0.1111111111111111,\"#46039f\"],[0.2222222222222222,\"#7201a8\"],[0.3333333333333333,\"#9c179e\"],[0.4444444444444444,\"#bd3786\"],[0.5555555555555556,\"#d8576b\"],[0.6666666666666666,\"#ed7953\"],[0.7777777777777778,\"#fb9f3a\"],[0.8888888888888888,\"#fdca26\"],[1.0,\"#f0f921\"]],\"type\":\"heatmap\"}],\"heatmapgl\":[{\"colorbar\":{\"outlinewidth\":0,\"ticks\":\"\"},\"colorscale\":[[0.0,\"#0d0887\"],[0.1111111111111111,\"#46039f\"],[0.2222222222222222,\"#7201a8\"],[0.3333333333333333,\"#9c179e\"],[0.4444444444444444,\"#bd3786\"],[0.5555555555555556,\"#d8576b\"],[0.6666666666666666,\"#ed7953\"],[0.7777777777777778,\"#fb9f3a\"],[0.8888888888888888,\"#fdca26\"],[1.0,\"#f0f921\"]],\"type\":\"heatmapgl\"}],\"histogram\":[{\"marker\":{\"pattern\":{\"fillmode\":\"overlay\",\"size\":10,\"solidity\":0.2}},\"type\":\"histogram\"}],\"histogram2d\":[{\"colorbar\":{\"outlinewidth\":0,\"ticks\":\"\"},\"colorscale\":[[0.0,\"#0d0887\"],[0.1111111111111111,\"#46039f\"],[0.2222222222222222,\"#7201a8\"],[0.3333333333333333,\"#9c179e\"],[0.4444444444444444,\"#bd3786\"],[0.5555555555555556,\"#d8576b\"],[0.6666666666666666,\"#ed7953\"],[0.7777777777777778,\"#fb9f3a\"],[0.8888888888888888,\"#fdca26\"],[1.0,\"#f0f921\"]],\"type\":\"histogram2d\"}],\"histogram2dcontour\":[{\"colorbar\":{\"outlinewidth\":0,\"ticks\":\"\"},\"colorscale\":[[0.0,\"#0d0887\"],[0.1111111111111111,\"#46039f\"],[0.2222222222222222,\"#7201a8\"],[0.3333333333333333,\"#9c179e\"],[0.4444444444444444,\"#bd3786\"],[0.5555555555555556,\"#d8576b\"],[0.6666666666666666,\"#ed7953\"],[0.7777777777777778,\"#fb9f3a\"],[0.8888888888888888,\"#fdca26\"],[1.0,\"#f0f921\"]],\"type\":\"histogram2dcontour\"}],\"mesh3d\":[{\"colorbar\":{\"outlinewidth\":0,\"ticks\":\"\"},\"type\":\"mesh3d\"}],\"parcoords\":[{\"line\":{\"colorbar\":{\"outlinewidth\":0,\"ticks\":\"\"}},\"type\":\"parcoords\"}],\"pie\":[{\"automargin\":true,\"type\":\"pie\"}],\"scatter\":[{\"marker\":{\"colorbar\":{\"outlinewidth\":0,\"ticks\":\"\"}},\"type\":\"scatter\"}],\"scatter3d\":[{\"line\":{\"colorbar\":{\"outlinewidth\":0,\"ticks\":\"\"}},\"marker\":{\"colorbar\":{\"outlinewidth\":0,\"ticks\":\"\"}},\"type\":\"scatter3d\"}],\"scattercarpet\":[{\"marker\":{\"colorbar\":{\"outlinewidth\":0,\"ticks\":\"\"}},\"type\":\"scattercarpet\"}],\"scattergeo\":[{\"marker\":{\"colorbar\":{\"outlinewidth\":0,\"ticks\":\"\"}},\"type\":\"scattergeo\"}],\"scattergl\":[{\"marker\":{\"colorbar\":{\"outlinewidth\":0,\"ticks\":\"\"}},\"type\":\"scattergl\"}],\"scattermapbox\":[{\"marker\":{\"colorbar\":{\"outlinewidth\":0,\"ticks\":\"\"}},\"type\":\"scattermapbox\"}],\"scatterpolar\":[{\"marker\":{\"colorbar\":{\"outlinewidth\":0,\"ticks\":\"\"}},\"type\":\"scatterpolar\"}],\"scatterpolargl\":[{\"marker\":{\"colorbar\":{\"outlinewidth\":0,\"ticks\":\"\"}},\"type\":\"scatterpolargl\"}],\"scatterternary\":[{\"marker\":{\"colorbar\":{\"outlinewidth\":0,\"ticks\":\"\"}},\"type\":\"scatterternary\"}],\"surface\":[{\"colorbar\":{\"outlinewidth\":0,\"ticks\":\"\"},\"colorscale\":[[0.0,\"#0d0887\"],[0.1111111111111111,\"#46039f\"],[0.2222222222222222,\"#7201a8\"],[0.3333333333333333,\"#9c179e\"],[0.4444444444444444,\"#bd3786\"],[0.5555555555555556,\"#d8576b\"],[0.6666666666666666,\"#ed7953\"],[0.7777777777777778,\"#fb9f3a\"],[0.8888888888888888,\"#fdca26\"],[1.0,\"#f0f921\"]],\"type\":\"surface\"}],\"table\":[{\"cells\":{\"fill\":{\"color\":\"#EBF0F8\"},\"line\":{\"color\":\"white\"}},\"header\":{\"fill\":{\"color\":\"#C8D4E3\"},\"line\":{\"color\":\"white\"}},\"type\":\"table\"}]},\"layout\":{\"annotationdefaults\":{\"arrowcolor\":\"#2a3f5f\",\"arrowhead\":0,\"arrowwidth\":1},\"autotypenumbers\":\"strict\",\"coloraxis\":{\"colorbar\":{\"outlinewidth\":0,\"ticks\":\"\"}},\"colorscale\":{\"diverging\":[[0,\"#8e0152\"],[0.1,\"#c51b7d\"],[0.2,\"#de77ae\"],[0.3,\"#f1b6da\"],[0.4,\"#fde0ef\"],[0.5,\"#f7f7f7\"],[0.6,\"#e6f5d0\"],[0.7,\"#b8e186\"],[0.8,\"#7fbc41\"],[0.9,\"#4d9221\"],[1,\"#276419\"]],\"sequential\":[[0.0,\"#0d0887\"],[0.1111111111111111,\"#46039f\"],[0.2222222222222222,\"#7201a8\"],[0.3333333333333333,\"#9c179e\"],[0.4444444444444444,\"#bd3786\"],[0.5555555555555556,\"#d8576b\"],[0.6666666666666666,\"#ed7953\"],[0.7777777777777778,\"#fb9f3a\"],[0.8888888888888888,\"#fdca26\"],[1.0,\"#f0f921\"]],\"sequentialminus\":[[0.0,\"#0d0887\"],[0.1111111111111111,\"#46039f\"],[0.2222222222222222,\"#7201a8\"],[0.3333333333333333,\"#9c179e\"],[0.4444444444444444,\"#bd3786\"],[0.5555555555555556,\"#d8576b\"],[0.6666666666666666,\"#ed7953\"],[0.7777777777777778,\"#fb9f3a\"],[0.8888888888888888,\"#fdca26\"],[1.0,\"#f0f921\"]]},\"colorway\":[\"#636efa\",\"#EF553B\",\"#00cc96\",\"#ab63fa\",\"#FFA15A\",\"#19d3f3\",\"#FF6692\",\"#B6E880\",\"#FF97FF\",\"#FECB52\"],\"font\":{\"color\":\"#2a3f5f\"},\"geo\":{\"bgcolor\":\"white\",\"lakecolor\":\"white\",\"landcolor\":\"#E5ECF6\",\"showlakes\":true,\"showland\":true,\"subunitcolor\":\"white\"},\"hoverlabel\":{\"align\":\"left\"},\"hovermode\":\"closest\",\"mapbox\":{\"style\":\"light\"},\"paper_bgcolor\":\"white\",\"plot_bgcolor\":\"#E5ECF6\",\"polar\":{\"angularaxis\":{\"gridcolor\":\"white\",\"linecolor\":\"white\",\"ticks\":\"\"},\"bgcolor\":\"#E5ECF6\",\"radialaxis\":{\"gridcolor\":\"white\",\"linecolor\":\"white\",\"ticks\":\"\"}},\"scene\":{\"xaxis\":{\"backgroundcolor\":\"#E5ECF6\",\"gridcolor\":\"white\",\"gridwidth\":2,\"linecolor\":\"white\",\"showbackground\":true,\"ticks\":\"\",\"zerolinecolor\":\"white\"},\"yaxis\":{\"backgroundcolor\":\"#E5ECF6\",\"gridcolor\":\"white\",\"gridwidth\":2,\"linecolor\":\"white\",\"showbackground\":true,\"ticks\":\"\",\"zerolinecolor\":\"white\"},\"zaxis\":{\"backgroundcolor\":\"#E5ECF6\",\"gridcolor\":\"white\",\"gridwidth\":2,\"linecolor\":\"white\",\"showbackground\":true,\"ticks\":\"\",\"zerolinecolor\":\"white\"}},\"shapedefaults\":{\"line\":{\"color\":\"#2a3f5f\"}},\"ternary\":{\"aaxis\":{\"gridcolor\":\"white\",\"linecolor\":\"white\",\"ticks\":\"\"},\"baxis\":{\"gridcolor\":\"white\",\"linecolor\":\"white\",\"ticks\":\"\"},\"bgcolor\":\"#E5ECF6\",\"caxis\":{\"gridcolor\":\"white\",\"linecolor\":\"white\",\"ticks\":\"\"}},\"title\":{\"x\":0.05},\"xaxis\":{\"automargin\":true,\"gridcolor\":\"white\",\"linecolor\":\"white\",\"ticks\":\"\",\"title\":{\"standoff\":15},\"zerolinecolor\":\"white\",\"zerolinewidth\":2},\"yaxis\":{\"automargin\":true,\"gridcolor\":\"white\",\"linecolor\":\"white\",\"ticks\":\"\",\"title\":{\"standoff\":15},\"zerolinecolor\":\"white\",\"zerolinewidth\":2}}},\"xaxis\":{\"anchor\":\"y\",\"domain\":[0.0,1.0],\"matches\":\"x3\",\"showticklabels\":false},\"yaxis\":{\"anchor\":\"x\",\"domain\":[0.7333333333333333,1.0],\"type\":\"log\",\"title\":{\"text\":\"FOM metric\"}},\"xaxis2\":{\"anchor\":\"y2\",\"domain\":[0.0,1.0],\"matches\":\"x3\",\"showticklabels\":false},\"yaxis2\":{\"anchor\":\"x2\",\"domain\":[0.36666666666666664,0.6333333333333333],\"title\":{\"text\":\"Open interest / Market cap\"}},\"xaxis3\":{\"anchor\":\"y3\",\"domain\":[0.0,1.0]},\"yaxis3\":{\"anchor\":\"x3\",\"domain\":[0.0,0.26666666666666666],\"title\":{\"text\":\"Funding rate\"}},\"shapes\":[{\"line\":{\"color\":\"green\",\"dash\":\"dash\",\"width\":3},\"type\":\"line\",\"x0\":0,\"x1\":1,\"xref\":\"x domain\",\"y0\":4.652202570673678e-07,\"y1\":4.652202570673678e-07,\"yref\":\"y\"}],\"height\":800,\"width\":1200},                        {\"responsive\": true}                    ).then(function(){\n",
       "                            \n",
       "var gd = document.getElementById('2f75de07-6662-43d8-a303-9bcd86e2ad81');\n",
       "var x = new MutationObserver(function (mutations, observer) {{\n",
       "        var display = window.getComputedStyle(gd).display;\n",
       "        if (!display || display === 'none') {{\n",
       "            console.log([gd, 'removed!']);\n",
       "            Plotly.purge(gd);\n",
       "            observer.disconnect();\n",
       "        }}\n",
       "}});\n",
       "\n",
       "// Listen for the removal of the full notebook cells\n",
       "var notebookContainer = gd.closest('#notebook-container');\n",
       "if (notebookContainer) {{\n",
       "    x.observe(notebookContainer, {childList: true});\n",
       "}}\n",
       "\n",
       "// Listen for the clearing of the current output cell\n",
       "var outputEl = gd.closest('.output');\n",
       "if (outputEl) {{\n",
       "    x.observe(outputEl, {childList: true});\n",
       "}}\n",
       "\n",
       "                        })                };                });            </script>        </div>"
      ]
     },
     "metadata": {},
     "output_type": "display_data"
    }
   ],
   "source": [
    "fig = make_subplots(rows=3, cols=1, shared_xaxes=True)\n",
    "\n",
    "fig.add_trace(\n",
    "    go.Scatter(\n",
    "        x=df[\"name\"],\n",
    "        y=df[\"fom\"],\n",
    "        mode=\"markers\",\n",
    "        name=\"FOM\"\n",
    "    ),\n",
    "    row=1,\n",
    "    col=1\n",
    ")\n",
    "\n",
    "top_5_percentile = np.percentile(df[\"fom\"], 95)\n",
    "fig.add_hline(y=top_5_percentile, line_width=3, line_dash=\"dash\", line_color=\"green\")\n",
    "\n",
    "\n",
    "fig.add_trace(\n",
    "    go.Scatter(\n",
    "        x=df[\"name\"],\n",
    "        y=df[\"oi_macp_ratio\"],\n",
    "        mode=\"markers\",\n",
    "        name=\"OI-MCAP ratio\"\n",
    "    ),\n",
    "    row=2,\n",
    "    col=1\n",
    ")\n",
    "\n",
    "fig.add_trace(\n",
    "    go.Scatter(\n",
    "        x=df[\"name\"],\n",
    "        y=df[\"funding_rate\"],\n",
    "        mode=\"markers\",\n",
    "        name=\"FR\"\n",
    "    ),\n",
    "    row=3,\n",
    "    col=1\n",
    ")\n",
    "\n",
    "fig['layout']['yaxis']['type'] = 'log'\n",
    "fig['layout']['yaxis']['title'] = 'FOM metric'\n",
    "\n",
    "fig['layout']['yaxis2']['title'] = 'Open interest / Market cap'\n",
    "fig['layout']['yaxis3']['title'] = 'Funding rate'\n",
    "\n",
    "fig.update_layout(\n",
    "    height=800, width=1200\n",
    ")\n",
    "\n",
    "fig.write_image(\"../images/fom_metric.png\")\n",
    "fig.show()"
   ]
  },
  {
   "cell_type": "code",
   "execution_count": 11,
   "id": "f93027b8-ecf2-4582-81f5-389cfc46cbb5",
   "metadata": {},
   "outputs": [
    {
     "data": {
      "text/html": [
       "<div>\n",
       "<style scoped>\n",
       "    .dataframe tbody tr th:only-of-type {\n",
       "        vertical-align: middle;\n",
       "    }\n",
       "\n",
       "    .dataframe tbody tr th {\n",
       "        vertical-align: top;\n",
       "    }\n",
       "\n",
       "    .dataframe thead th {\n",
       "        text-align: right;\n",
       "    }\n",
       "</style>\n",
       "<table border=\"1\" class=\"dataframe\">\n",
       "  <thead>\n",
       "    <tr style=\"text-align: right;\">\n",
       "      <th></th>\n",
       "      <th>market</th>\n",
       "      <th>name</th>\n",
       "      <th>open_interest</th>\n",
       "      <th>funding_rate</th>\n",
       "      <th>market_cap</th>\n",
       "      <th>oi_macp_ratio</th>\n",
       "      <th>fom</th>\n",
       "    </tr>\n",
       "  </thead>\n",
       "  <tbody>\n",
       "    <tr>\n",
       "      <th>63</th>\n",
       "      <td>LOOKS-PERP</td>\n",
       "      <td>LOOKS</td>\n",
       "      <td>4.207979e+07</td>\n",
       "      <td>-0.000148</td>\n",
       "      <td>3.542017e+08</td>\n",
       "      <td>0.118802</td>\n",
       "      <td>1.758266e-05</td>\n",
       "    </tr>\n",
       "    <tr>\n",
       "      <th>48</th>\n",
       "      <td>GMT-PERP</td>\n",
       "      <td>GMT</td>\n",
       "      <td>7.905858e+07</td>\n",
       "      <td>-0.000061</td>\n",
       "      <td>1.318064e+09</td>\n",
       "      <td>0.059981</td>\n",
       "      <td>3.658832e-06</td>\n",
       "    </tr>\n",
       "    <tr>\n",
       "      <th>81</th>\n",
       "      <td>RAY-PERP</td>\n",
       "      <td>RAY</td>\n",
       "      <td>1.446990e+07</td>\n",
       "      <td>-0.000023</td>\n",
       "      <td>2.651221e+08</td>\n",
       "      <td>0.054578</td>\n",
       "      <td>1.255299e-06</td>\n",
       "    </tr>\n",
       "    <tr>\n",
       "      <th>105</th>\n",
       "      <td>WAVES-PERP</td>\n",
       "      <td>WAVES</td>\n",
       "      <td>5.124565e+07</td>\n",
       "      <td>-0.000049</td>\n",
       "      <td>2.084101e+09</td>\n",
       "      <td>0.024589</td>\n",
       "      <td>1.204854e-06</td>\n",
       "    </tr>\n",
       "    <tr>\n",
       "      <th>34</th>\n",
       "      <td>DYDX-PERP</td>\n",
       "      <td>DYDX</td>\n",
       "      <td>2.374216e+07</td>\n",
       "      <td>-0.000012</td>\n",
       "      <td>4.211963e+08</td>\n",
       "      <td>0.056368</td>\n",
       "      <td>6.764208e-07</td>\n",
       "    </tr>\n",
       "    <tr>\n",
       "      <th>10</th>\n",
       "      <td>AXS-PERP</td>\n",
       "      <td>AXS</td>\n",
       "      <td>6.927168e+07</td>\n",
       "      <td>-0.000030</td>\n",
       "      <td>3.724553e+09</td>\n",
       "      <td>0.018599</td>\n",
       "      <td>5.579597e-07</td>\n",
       "    </tr>\n",
       "  </tbody>\n",
       "</table>\n",
       "</div>"
      ],
      "text/plain": [
       "         market   name  open_interest  funding_rate    market_cap  \\\n",
       "63   LOOKS-PERP  LOOKS   4.207979e+07     -0.000148  3.542017e+08   \n",
       "48     GMT-PERP    GMT   7.905858e+07     -0.000061  1.318064e+09   \n",
       "81     RAY-PERP    RAY   1.446990e+07     -0.000023  2.651221e+08   \n",
       "105  WAVES-PERP  WAVES   5.124565e+07     -0.000049  2.084101e+09   \n",
       "34    DYDX-PERP   DYDX   2.374216e+07     -0.000012  4.211963e+08   \n",
       "10     AXS-PERP    AXS   6.927168e+07     -0.000030  3.724553e+09   \n",
       "\n",
       "     oi_macp_ratio           fom  \n",
       "63        0.118802  1.758266e-05  \n",
       "48        0.059981  3.658832e-06  \n",
       "81        0.054578  1.255299e-06  \n",
       "105       0.024589  1.204854e-06  \n",
       "34        0.056368  6.764208e-07  \n",
       "10        0.018599  5.579597e-07  "
      ]
     },
     "execution_count": 11,
     "metadata": {},
     "output_type": "execute_result"
    }
   ],
   "source": [
    "df[df[\"fom\"] > top_5_percentile]"
   ]
  },
  {
   "cell_type": "markdown",
   "id": "29e50e1f-87ca-47b2-b72b-bd9fe3e7284d",
   "metadata": {},
   "source": [
    "## LooksRare and STEPN\n",
    "Intrestingly, we see names like LooksRare (LOOKS) and STEPN (GMT) showing very strong negative bias. The case of GMT is particularly interesting, as the team recently announced a buyback and burn mechanism. From the data, the futures market participants do not appear to believe that will lead to positive price action for GMT. The token has performed reasonably well, and is currently at $2.19 (over 330% since listing, and several thousand percent for private investors). Could this be a mechanism for hedging their position?\n",
    "\n",
    "## Smooth Love Potion\n",
    "Another intersting case is Smooth Love Position (SLP), where the bias leans positive. The SLP token has not performed so strongly, and is currently down over 94% from listing. The SLP chart is quite interesting, as it has these very large impulse upward moves on high volume. These moves turn into wicks, as it appears people are selling into the impulse. Could the strong positive perp bias be an indication of a potential upcoming move?"
   ]
  },
  {
   "cell_type": "markdown",
   "id": "cd22cecf-b994-4a78-a215-281ca238401d",
   "metadata": {},
   "source": [
    "# Plot the variation of FOM with time"
   ]
  },
  {
   "cell_type": "code",
   "execution_count": null,
   "id": "52e764f2-54be-4fd1-b6dc-fda54c727d91",
   "metadata": {},
   "outputs": [],
   "source": [
    "fig = make_subplots()\n",
    "\n",
    "while True:\n",
    "    clear_output(wait=True)\n",
    "    \n",
    "    df = get_futures_data()\n",
    "    df = get_market_cap_data(df)\n",
    "    df[\"oi_macp_ratio\"] = df[\"open_interest\"] / df[\"market_cap\"]\n",
    "    df[\"fom\"] = df[\"oi_macp_ratio\"] *  df[\"funding_rate\"].abs()\n",
    "    df = df.sort_values(\"fom\", ascending=False).head()\n",
    "    \n",
    "    display(df)\n",
    "    \n",
    "    fig.append_trace(\n",
    "        go.Scatter(\n",
    "            x=df[\"market\"],\n",
    "            y=df[\"fom\"],\n",
    "            mode=\"markers\",\n",
    "            name=f\"{datetime.now()}\"\n",
    "        ),\n",
    "        row=1,\n",
    "        col=1,\n",
    "    )\n",
    "\n",
    "    fig.show()\n",
    "    \n",
    "    time.sleep(60 * 30)"
   ]
  }
 ],
 "metadata": {
  "kernelspec": {
   "display_name": "market_analytics",
   "language": "python",
   "name": "market_analytics"
  },
  "language_info": {
   "codemirror_mode": {
    "name": "ipython",
    "version": 3
   },
   "file_extension": ".py",
   "mimetype": "text/x-python",
   "name": "python",
   "nbconvert_exporter": "python",
   "pygments_lexer": "ipython3",
   "version": "3.10.0"
  }
 },
 "nbformat": 4,
 "nbformat_minor": 5
}
