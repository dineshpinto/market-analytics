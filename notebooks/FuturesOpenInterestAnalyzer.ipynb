{
 "cells": [
  {
   "cell_type": "code",
   "execution_count": 28,
   "id": "99cce7e9-c6d7-4b8f-b17e-c593a47739c8",
   "metadata": {},
   "outputs": [],
   "source": [
    "import os\n",
    "import time\n",
    "\n",
    "import numpy as np\n",
    "import pandas as pd\n",
    "from datetime import datetime\n",
    "from sklearn.preprocessing import MinMaxScaler\n",
    "\n",
    "from ftx import FtxClient\n",
    "from pycoingecko import CoinGeckoAPI\n",
    "\n",
    "from IPython.display import display, clear_output\n",
    "import plotly.graph_objects as go\n",
    "from plotly.subplots import make_subplots"
   ]
  },
  {
   "cell_type": "markdown",
   "id": "087d1ecb-0664-4cbd-8b07-8713d4ceeef0",
   "metadata": {},
   "source": [
    "# Get futures and funding rates from FTX"
   ]
  },
  {
   "cell_type": "code",
   "execution_count": 2,
   "id": "224fc096-98b2-4535-bb40-bac29382cb58",
   "metadata": {},
   "outputs": [],
   "source": [
    "def get_futures_data() -> pd.DataFrame:\n",
    "    ftx = FtxClient()\n",
    "\n",
    "    futures = ftx.get_futures()\n",
    "    funding_rates = ftx.get_funding_rates()\n",
    "\n",
    "    df = pd.DataFrame(columns=[\"market\", \"name\", \"open_interest\", \"funding_rate\"])\n",
    "\n",
    "    idx = 0\n",
    "    for future in futures:\n",
    "        if future[\"perpetual\"]:\n",
    "            for funding in funding_rates:\n",
    "                if funding[\"future\"] == future[\"name\"]:\n",
    "                    funding_rate = funding[\"rate\"]\n",
    "                    break\n",
    "            df.loc[idx] = [future[\"name\"], future[\"underlying\"], future[\"openInterestUsd\"], funding_rate]\n",
    "            idx += 1\n",
    "    \n",
    "    return df"
   ]
  },
  {
   "cell_type": "markdown",
   "id": "dd63bb66-b70b-4f79-9930-3b8e8437329d",
   "metadata": {},
   "source": [
    "# Get market caps from CoinGecko"
   ]
  },
  {
   "cell_type": "code",
   "execution_count": 3,
   "id": "1ed1cc21-eee8-4377-aa22-151e2ba1c6ba",
   "metadata": {},
   "outputs": [],
   "source": [
    "def get_market_cap_data(df: pd.DataFrame) -> pd.DataFrame:\n",
    "    cg = CoinGeckoAPI()\n",
    "    markets = cg.get_coins_markets(vs_currency=[\"usd\"], per_page=250)\n",
    "    \n",
    "    market_caps = np.zeros(len(df))\n",
    "    future_dilutions = np.zeros(len(df))\n",
    "\n",
    "    for idx, name in enumerate(df[\"name\"]):\n",
    "        market_cap = 0\n",
    "        future_dilution = 1\n",
    "        for market in markets:\n",
    "            if name.lower() == market[\"symbol\"].lower():\n",
    "                market_cap = market[\"market_cap\"]\n",
    "                if market[\"fully_diluted_valuation\"]:\n",
    "                    future_dilution = market[\"fully_diluted_valuation\"] / market[\"market_cap\"]\n",
    "                elif market[\"max_supply\"]:\n",
    "                    future_dilution = market[\"max_supply\"] / market[\"circulating_supply\"]\n",
    "                elif market[\"total_supply\"]:\n",
    "                    future_dilution = market[\"total_supply\"] / market[\"circulating_supply\"]\n",
    "                break\n",
    "        market_caps[idx] = market_cap\n",
    "        future_dilutions[idx] = future_dilution\n",
    "\n",
    "    df[\"market_cap\"] = market_caps\n",
    "    df[\"future_dilution\"] = future_dilutions\n",
    "\n",
    "\n",
    "    # Remove any values without market caps\n",
    "    df = df[df[\"market_cap\"] != 0]\n",
    "    df = df.reset_index(drop=True)\n",
    "    \n",
    "    return df"
   ]
  },
  {
   "cell_type": "markdown",
   "id": "39aa6891-b554-4921-954f-ddc6530c18c7",
   "metadata": {},
   "source": [
    "# Calculate the FOM metric\n",
    "\n",
    "The calculation of the derived metric is simple, the idea is to take the open interest in the market $i$ and normalize it with the market cap. This ratio can be then multiplied with the absolute value of the funding rate. A large value would indicate a strong perp bias towards one direction. The direction is indicated by the sign of the funding rate. \n",
    "\n",
    "Let, \n",
    "$$ FR_i = \\text{funding rate of market i} $$\n",
    "$$ OI_i = \\text{open interest of market i in USD} $$\n",
    "$$ MC_i = \\text{market cap of market i in USD} $$\n",
    "$$ D_i = \\text{future dilution of market i} = \\frac{FDV}{MCAP} \\text{or} \\frac{N_{max}}{N_{circ}}  \\text{or} \\frac{N_{total}}{N_{circ}} $$\n",
    "\n",
    "The derived FOM metric, \n",
    "\n",
    "$$ FOM_i = \\left(\\frac{OI_i}{MC_i}\\right) \\times abs(FR_i) \\times D_i $$"
   ]
  },
  {
   "cell_type": "code",
   "execution_count": 20,
   "id": "7f82a4a8-ef4b-4b78-b58d-6d8d09a792ff",
   "metadata": {},
   "outputs": [],
   "source": [
    "df = get_futures_data()\n",
    "df = get_market_cap_data(df)\n",
    "df[\"oi_macp_ratio\"] = df[\"open_interest\"] / df[\"market_cap\"]\n",
    "\n",
    "scaler = MinMaxScaler()\n",
    "df['oi_macp_ratio_scaled'] = scaler.fit_transform(df['oi_macp_ratio'].values.reshape(-1, 1))\n",
    "df['future_dilution_scaled'] = scaler.fit_transform(df['future_dilution'].values.reshape(-1, 1))\n",
    "\n",
    "df[\"fom\"] = df[\"oi_macp_ratio_scaled\"] * df[\"future_dilution_scaled\"] * df[\"funding_rate\"].abs()\n",
    "df = df.sort_values(\"fom\", ascending=False)"
   ]
  },
  {
   "cell_type": "markdown",
   "id": "7b9f09aa-fee7-4090-acdd-0a46198bf1ba",
   "metadata": {},
   "source": [
    "# Plotting the FOM\n",
    "\n",
    "We see a strong variation in FOM across different cryptos. We can filter this by looking at the top 5 percentile."
   ]
  },
  {
   "cell_type": "code",
   "execution_count": 29,
   "id": "8420ebdc-75ea-4a86-9d3e-3e4bee4fd54e",
   "metadata": {},
   "outputs": [
    {
     "data": {
      "application/vnd.plotly.v1+json": {
       "config": {
        "plotlyServerURL": "https://plot.ly"
       },
       "data": [
        {
         "mode": "markers",
         "name": "FOM",
         "type": "scatter",
         "x": [
          "LOOKS",
          "GMT",
          "CRV",
          "SRM",
          "RAY",
          "BIT",
          "AXS",
          "DYDX",
          "GLMR",
          "SPELL",
          "1INCH",
          "IMX",
          "KNC",
          "HT",
          "LUNA",
          "PERP",
          "APE",
          "FLOW",
          "ENS",
          "RNDR",
          "GALA",
          "ZIL",
          "ZEC",
          "FIL",
          "ANC",
          "FTT",
          "ETC",
          "SKL",
          "COMP",
          "C98",
          "AUDIO",
          "AR",
          "SAND",
          "AVAX",
          "AAVE",
          "FTM",
          "RUNE",
          "SOL",
          "SNX",
          "DENT",
          "UNI",
          "ICP",
          "SUSHI",
          "LINK",
          "HBAR",
          "ROSE",
          "GRT",
          "IOST",
          "ALGO",
          "FXS",
          "XRP",
          "CEL",
          "BSV",
          "CELO",
          "NEAR",
          "CRO",
          "HNT",
          "SCRT",
          "XLM",
          "BCH",
          "STX",
          "MINA",
          "MATIC",
          "MANA",
          "LRC",
          "KAVA",
          "SHIB",
          "KSM",
          "CHZ",
          "MKR",
          "VET",
          "ZRX",
          "LTC",
          "ONE",
          "YFI",
          "DOT",
          "OKB",
          "ENJ",
          "CVX",
          "ADA",
          "BTC",
          "ONT",
          "DASH",
          "SXP",
          "LEO",
          "NEO",
          "EGLD",
          "TRX",
          "QTUM",
          "BAT",
          "SLP",
          "WAVES",
          "CAKE",
          "REN",
          "PEOPLE",
          "XTZ",
          "ICX",
          "CUSDT",
          "DOGE",
          "PAXG",
          "HOT",
          "ATOM",
          "XMR",
          "XAUT",
          "OMG",
          "EOS",
          "BNT",
          "XEM",
          "ETH",
          "THETA",
          "SC",
          "USDT",
          "BNB",
          "UST",
          "BTT"
         ],
         "xaxis": "x",
         "y": [
          7.612820609204148e-06,
          2.160906477529363e-06,
          1.9231998986206358e-06,
          9.68614329045241e-07,
          7.498209129034361e-07,
          6.121487434250419e-07,
          4.5181921462293893e-07,
          1.1732275715540572e-07,
          1.1599776279193221e-07,
          1.0940869336241205e-07,
          9.860057227124406e-08,
          9.183431721973025e-08,
          9.091566100313458e-08,
          8.598601715333812e-08,
          5.2772541949081354e-08,
          3.523056018533841e-08,
          3.4226320196515456e-08,
          3.151721895331914e-08,
          3.0266864590351145e-08,
          2.4599350114244005e-08,
          2.362394789919068e-08,
          2.201867763442924e-08,
          2.2018541793450562e-08,
          1.753566788969959e-08,
          1.7011753178261777e-08,
          1.3970816452407005e-08,
          1.3200833457438032e-08,
          1.302897671387546e-08,
          1.235007889547609e-08,
          1.0518140847414031e-08,
          1.0011435276679296e-08,
          9.939438860238276e-09,
          9.199213739939098e-09,
          9.077340443395094e-09,
          7.014130240719011e-09,
          6.875268681472165e-09,
          6.765184195734459e-09,
          6.720071189226936e-09,
          6.590462850594115e-09,
          6.34497826471251e-09,
          6.115080216416792e-09,
          6.084980413392144e-09,
          5.970411105270414e-09,
          4.774889081998805e-09,
          4.0840995835934845e-09,
          4.024373940690459e-09,
          3.528425465542101e-09,
          3.3249379462777117e-09,
          3.23195618208622e-09,
          3.1344628810677247e-09,
          3.0397689125119896e-09,
          3.0038938934892127e-09,
          2.908366973567845e-09,
          2.8320779805425123e-09,
          2.7654457441115445e-09,
          2.725193466650601e-09,
          2.6384567793245087e-09,
          2.5457995422920112e-09,
          2.316382746519863e-09,
          2.271421625345462e-09,
          2.2169639546290944e-09,
          2.1000922625541233e-09,
          1.999889596019399e-09,
          1.8655469995133505e-09,
          1.6749783240526853e-09,
          1.6362651017362087e-09,
          1.4071174610960202e-09,
          1.1793147976038114e-09,
          1.166364474993756e-09,
          1.1585172763705566e-09,
          1.0087787454240556e-09,
          9.856800916992592e-10,
          8.938135814157653e-10,
          7.691919838731497e-10,
          7.38045683673599e-10,
          7.134682425624223e-10,
          5.144170565062096e-10,
          5.011077447372438e-10,
          4.104877821601944e-10,
          3.7458248972785576e-10,
          3.682772864875941e-10,
          3.4805748828734893e-10,
          3.4086546087354525e-10,
          3.120270378740907e-10,
          2.6081312197800184e-10,
          2.5439839638308797e-10,
          1.4108337789252904e-10,
          6.780656744211224e-11,
          3.443484312776156e-11,
          2.9583972185911985e-11,
          2.8097663612417807e-11,
          2.6629401425062357e-11,
          1.626417906560156e-11,
          1.1318334642560156e-11,
          8.192674593876129e-12,
          2.348038993453991e-12,
          2.2889354146624217e-12,
          2.231941780241946e-12,
          2.19128865090784e-12,
          1.980893962774167e-12,
          1.90169822485436e-12,
          1.7259721396217342e-12,
          1.6637733280919072e-12,
          1.6046539605958875e-12,
          1.5590531055594093e-12,
          1.5452714232344005e-12,
          1.0727819450479188e-12,
          1.0219150512879234e-12,
          1.0078402861571377e-12,
          5.88925833987401e-13,
          4.4750986796167987e-13,
          1.6045224682555238e-13,
          3.3476832370405696e-14,
          0,
          0
         ],
         "yaxis": "y"
        },
        {
         "mode": "markers",
         "name": "OI-MCAP ratio",
         "type": "scatter",
         "x": [
          "LOOKS",
          "GMT",
          "CRV",
          "SRM",
          "RAY",
          "BIT",
          "AXS",
          "DYDX",
          "GLMR",
          "SPELL",
          "1INCH",
          "IMX",
          "KNC",
          "HT",
          "LUNA",
          "PERP",
          "APE",
          "FLOW",
          "ENS",
          "RNDR",
          "GALA",
          "ZIL",
          "ZEC",
          "FIL",
          "ANC",
          "FTT",
          "ETC",
          "SKL",
          "COMP",
          "C98",
          "AUDIO",
          "AR",
          "SAND",
          "AVAX",
          "AAVE",
          "FTM",
          "RUNE",
          "SOL",
          "SNX",
          "DENT",
          "UNI",
          "ICP",
          "SUSHI",
          "LINK",
          "HBAR",
          "ROSE",
          "GRT",
          "IOST",
          "ALGO",
          "FXS",
          "XRP",
          "CEL",
          "BSV",
          "CELO",
          "NEAR",
          "CRO",
          "HNT",
          "SCRT",
          "XLM",
          "BCH",
          "STX",
          "MINA",
          "MATIC",
          "MANA",
          "LRC",
          "KAVA",
          "SHIB",
          "KSM",
          "CHZ",
          "MKR",
          "VET",
          "ZRX",
          "LTC",
          "ONE",
          "YFI",
          "DOT",
          "OKB",
          "ENJ",
          "CVX",
          "ADA",
          "BTC",
          "ONT",
          "DASH",
          "SXP",
          "LEO",
          "NEO",
          "EGLD",
          "TRX",
          "QTUM",
          "BAT",
          "SLP",
          "WAVES",
          "CAKE",
          "REN",
          "PEOPLE",
          "XTZ",
          "ICX",
          "CUSDT",
          "DOGE",
          "PAXG",
          "HOT",
          "ATOM",
          "XMR",
          "XAUT",
          "OMG",
          "EOS",
          "BNT",
          "XEM",
          "ETH",
          "THETA",
          "SC",
          "USDT",
          "BNB",
          "UST",
          "BTT"
         ],
         "xaxis": "x2",
         "y": [
          0.12038791271287244,
          0.0723563350048562,
          0.02791862747332789,
          0.016726907046596913,
          0.05367815385847801,
          0.0016621504512482367,
          0.01913833857877419,
          0.0552164232202946,
          0.004843408892272236,
          0.012614418047545,
          0.01710811704605603,
          0.007977452773568629,
          0.11368022136134953,
          0.006802153801272881,
          0.010784285813629146,
          0.008033775820854289,
          0.020596501881893974,
          0.0027873943933729023,
          0.010539700539721147,
          0.003675938177965649,
          0.009554299197323552,
          0.017474493084446752,
          0.010242787895987163,
          0.004393133651395189,
          0.003378153892108423,
          0.014784689279365519,
          0.005325901805942768,
          0.00973327403175615,
          0.010445404782074156,
          0.0036729094611430394,
          0.004676681838380623,
          0.005736427660792568,
          0.008788355130376246,
          0.004144489471061892,
          0.01565498313558998,
          0.017844986487869953,
          0.00929886132976381,
          0.008357317963470542,
          0.00875288663914338,
          0.005735579110146979,
          0.0021873653255093336,
          0.0021918625696473707,
          0.022775412943431016,
          0.004801523095774299,
          0.0006759321729991676,
          0.0033263846527517736,
          0.007267763182866204,
          0.0011198192168828953,
          0.00380301651557037,
          0.007430811613760568,
          0.002199621073924952,
          0.001141564488907281,
          0.004975076467083048,
          0.002522632722640512,
          0.013227669766663184,
          0.00163214122401156,
          0.002524306837012657,
          0.001737755686733655,
          0.002136194323248628,
          0.007744709798345948,
          0.0011432942976495992,
          0.003458956115511632,
          0.005039030682557228,
          0.003833785010790969,
          0.004957800652940365,
          0.005251862744326079,
          0.0009390822193810484,
          0.0034223421218667273,
          0.004048127790644188,
          0.005721793205970315,
          0.0016025238653085085,
          0.00625576791597304,
          0.005175307764404438,
          0.005822285004927392,
          0.01674063933217206,
          0.0034541218609655546,
          0.0007376887056222056,
          0.005429955925855922,
          0.002667679733923799,
          0.002175100275614418,
          0.0023561303068677965,
          0.003749576401708384,
          0.002076906518514163,
          0.0083804001716552,
          0.00043081424642327617,
          0.0028272772056711906,
          0.0022012428777252713,
          0.00500528045070748,
          0.00444352606661101,
          0.004390014169390894,
          0.014447987644316686,
          0.02607691794539186,
          0.00322644049642123,
          0.01877900104615235,
          0.029406398569705523,
          0.003681621651861807,
          0.0029712634374789316,
          0.0007741474074596969,
          0.0030209265315085743,
          0.008588514880977822,
          0.0008962922207468305,
          0.009346992999205392,
          0.007226293600073888,
          0.008695576049488816,
          0.01124116351827558,
          0.008376722010753127,
          0.001851798062635139,
          0.001647161240667499,
          0.002785195003427698,
          0.0018863899154675718,
          0.00088036683470623,
          0.0009409470011967907,
          0.0007984142890714524,
          0.0011319027049051264,
          7.940000105591038e-05
         ],
         "yaxis": "y2"
        },
        {
         "mode": "markers",
         "name": "FR",
         "type": "scatter",
         "x": [
          "LOOKS",
          "GMT",
          "CRV",
          "SRM",
          "RAY",
          "BIT",
          "AXS",
          "DYDX",
          "GLMR",
          "SPELL",
          "1INCH",
          "IMX",
          "KNC",
          "HT",
          "LUNA",
          "PERP",
          "APE",
          "FLOW",
          "ENS",
          "RNDR",
          "GALA",
          "ZIL",
          "ZEC",
          "FIL",
          "ANC",
          "FTT",
          "ETC",
          "SKL",
          "COMP",
          "C98",
          "AUDIO",
          "AR",
          "SAND",
          "AVAX",
          "AAVE",
          "FTM",
          "RUNE",
          "SOL",
          "SNX",
          "DENT",
          "UNI",
          "ICP",
          "SUSHI",
          "LINK",
          "HBAR",
          "ROSE",
          "GRT",
          "IOST",
          "ALGO",
          "FXS",
          "XRP",
          "CEL",
          "BSV",
          "CELO",
          "NEAR",
          "CRO",
          "HNT",
          "SCRT",
          "XLM",
          "BCH",
          "STX",
          "MINA",
          "MATIC",
          "MANA",
          "LRC",
          "KAVA",
          "SHIB",
          "KSM",
          "CHZ",
          "MKR",
          "VET",
          "ZRX",
          "LTC",
          "ONE",
          "YFI",
          "DOT",
          "OKB",
          "ENJ",
          "CVX",
          "ADA",
          "BTC",
          "ONT",
          "DASH",
          "SXP",
          "LEO",
          "NEO",
          "EGLD",
          "TRX",
          "QTUM",
          "BAT",
          "SLP",
          "WAVES",
          "CAKE",
          "REN",
          "PEOPLE",
          "XTZ",
          "ICX",
          "CUSDT",
          "DOGE",
          "PAXG",
          "HOT",
          "ATOM",
          "XMR",
          "XAUT",
          "OMG",
          "EOS",
          "BNT",
          "XEM",
          "ETH",
          "THETA",
          "SC",
          "USDT",
          "BNB",
          "UST",
          "BTT"
         ],
         "xaxis": "x3",
         "y": [
          -9.3e-05,
          -1.5e-05,
          -4.2e-05,
          -7e-06,
          -1.4e-05,
          -0.000177,
          -4.3e-05,
          -1e-06,
          3.2e-05,
          2.8e-05,
          -1e-05,
          -7e-06,
          -3e-06,
          -2.6e-05,
          -1.2e-05,
          -1.7e-05,
          -3e-06,
          -1.8e-05,
          4e-06,
          -2.6e-05,
          2e-06,
          -1.2e-05,
          -1.4e-05,
          2e-06,
          1.2e-05,
          3e-06,
          -2e-05,
          6e-06,
          -1.1e-05,
          -3e-06,
          1.3e-05,
          2.5e-05,
          3e-06,
          -6e-06,
          1.2e-05,
          -7e-06,
          -5e-06,
          -7e-06,
          -2.1e-05,
          -0.000111,
          1.1e-05,
          -1.2e-05,
          4e-06,
          -4e-06,
          2.1e-05,
          -3e-06,
          5e-06,
          5e-06,
          8e-06,
          3e-06,
          -6e-06,
          -2e-05,
          -2.6e-05,
          4e-06,
          -2e-06,
          -4e-05,
          -4e-06,
          5.3e-05,
          -5e-06,
          -1.3e-05,
          3.3e-05,
          -3e-06,
          4e-06,
          5e-06,
          -1.5e-05,
          -3.4e-05,
          -9e-06,
          -1.4e-05,
          2e-06,
          8e-06,
          1e-05,
          4e-06,
          -4e-06,
          6e-06,
          7e-06,
          -1.3e-05,
          -2.3e-05,
          6e-06,
          -1e-06,
          -2e-06,
          -7e-06,
          3e-06,
          -1e-06,
          -2e-06,
          -6.4e-05,
          -1e-06,
          5e-06,
          2.2e-05,
          -1e-06,
          -1.7e-05,
          4.2e-05,
          -2.2e-05,
          -0.000111,
          1.3e-05,
          6e-06,
          -1.4e-05,
          -1.7e-05,
          6.9e-05,
          -1.6e-05,
          5e-06,
          5e-05,
          -4e-06,
          -5e-06,
          4e-06,
          -3e-06,
          -4e-06,
          -1.3e-05,
          -1.4e-05,
          -8e-06,
          -7e-06,
          1.2e-05,
          4e-06,
          -1e-06,
          -3e-06,
          -0.000231
         ],
         "yaxis": "y3"
        },
        {
         "mode": "markers",
         "name": "D",
         "type": "scatter",
         "x": [
          "LOOKS",
          "GMT",
          "CRV",
          "SRM",
          "RAY",
          "BIT",
          "AXS",
          "DYDX",
          "GLMR",
          "SPELL",
          "1INCH",
          "IMX",
          "KNC",
          "HT",
          "LUNA",
          "PERP",
          "APE",
          "FLOW",
          "ENS",
          "RNDR",
          "GALA",
          "ZIL",
          "ZEC",
          "FIL",
          "ANC",
          "FTT",
          "ETC",
          "SKL",
          "COMP",
          "C98",
          "AUDIO",
          "AR",
          "SAND",
          "AVAX",
          "AAVE",
          "FTM",
          "RUNE",
          "SOL",
          "SNX",
          "DENT",
          "UNI",
          "ICP",
          "SUSHI",
          "LINK",
          "HBAR",
          "ROSE",
          "GRT",
          "IOST",
          "ALGO",
          "FXS",
          "XRP",
          "CEL",
          "BSV",
          "CELO",
          "NEAR",
          "CRO",
          "HNT",
          "SCRT",
          "XLM",
          "BCH",
          "STX",
          "MINA",
          "MATIC",
          "MANA",
          "LRC",
          "KAVA",
          "SHIB",
          "KSM",
          "CHZ",
          "MKR",
          "VET",
          "ZRX",
          "LTC",
          "ONE",
          "YFI",
          "DOT",
          "OKB",
          "ENJ",
          "CVX",
          "ADA",
          "BTC",
          "ONT",
          "DASH",
          "SXP",
          "LEO",
          "NEO",
          "EGLD",
          "TRX",
          "QTUM",
          "BAT",
          "SLP",
          "WAVES",
          "CAKE",
          "REN",
          "PEOPLE",
          "XTZ",
          "ICX",
          "CUSDT",
          "DOGE",
          "PAXG",
          "HOT",
          "ATOM",
          "XMR",
          "XAUT",
          "OMG",
          "EOS",
          "BNT",
          "XEM",
          "ETH",
          "THETA",
          "SC",
          "USDT",
          "BNB",
          "UST",
          "BTT"
         ],
         "xaxis": "x4",
         "y": [
          4.072162897551184,
          10.000000002125823,
          8.426998454211782,
          38.532619761541476,
          5.511928971574958,
          10.866648712612864,
          3.489250032558059,
          10.60809109573693,
          4.435644078561694,
          2.4073808410802493,
          3.614389274380245,
          8.500365482711338,
          2.204391938682609,
          3.2211293041832714,
          2.8548260001107573,
          2.1762362843949634,
          3.510696653515392,
          3.9194700145853028,
          4.266201663920401,
          2.1876717037257234,
          6.629104770950082,
          1.476101076824167,
          1.6985524161580365,
          10.177760303812189,
          2.9403430843890073,
          2.429785125066885,
          1.5678693677307152,
          2.015488935208225,
          1.488862337109724,
          5.405405394052217,
          1.7562037151220407,
          1.3171417500247247,
          2.5896943815604736,
          2.6803145942111177,
          1.169245363788423,
          1.2494329686966263,
          1.6624817850881917,
          1.5234654164237786,
          1.1631741566209461,
          1.0454240901538092,
          2.190630490699031,
          2.0837081537176325,
          1.296752762072329,
          2.1412838366282014,
          2.4719355702851624,
          2.8653295110514057,
          1.4430804420005245,
          3.885899531012649,
          1.4897018977751644,
          1.6415588654360045,
          2.0787758403517937,
          1.6383038498400306,
          1.1029638906772956,
          2.308332914222974,
          1.4746591880964124,
          1.1979177963863963,
          2.218036752947757,
          1.1305808988699728,
          2.016874462244943,
          1.1027174825934367,
          1.2849269607794103,
          1.9351203283165337,
          1.4549919699698588,
          1.4485403715707337,
          1.1031487218331866,
          1.0418028915136286,
          1.8210060750555712,
          1.113573584236618,
          1.663319885784157,
          1.1156826654988616,
          1.2988566750276462,
          1.1799464965037483,
          1.1977933525452684,
          1.1005898803557366,
          1.02836471648404,
          1.0732244019987314,
          1.153208634254652,
          1.0702734494484807,
          1.715927717879976,
          1.40333848185942,
          1.1041350805167782,
          1.1425313268722213,
          1.770342665406359,
          1.0846568833520602,
          1.0521543580476882,
          1.417836381681554,
          1.0598380018822426,
          1.0026151144798745,
          1.0354191589466906,
          1.0016127159681594,
          1,
          1,
          1,
          1,
          1,
          1,
          1,
          1,
          1,
          1,
          1,
          1,
          1,
          1,
          1,
          1,
          1,
          1,
          1,
          1,
          1,
          1,
          1,
          0.9997897604071968,
          1.0685127937768726
         ],
         "yaxis": "y4"
        }
       ],
       "layout": {
        "height": 800,
        "shapes": [
         {
          "fillcolor": "green",
          "line": {
           "width": 0
          },
          "opacity": 0.3,
          "type": "rect",
          "x0": 0,
          "x1": 1,
          "xref": "x domain",
          "y0": 4.999180732635693e-07,
          "y1": 7.612820609204148e-06,
          "yref": "y"
         },
         {
          "fillcolor": "green",
          "line": {
           "width": 0
          },
          "opacity": 0.3,
          "type": "rect",
          "x0": 0,
          "x1": 1,
          "xref": "x2 domain",
          "y0": 0.028364958802241175,
          "y1": 0.12038791271287244,
          "yref": "y2"
         },
         {
          "fillcolor": "green",
          "line": {
           "width": 0
          },
          "opacity": 0.3,
          "type": "rect",
          "x0": 0,
          "x1": 1,
          "xref": "x4 domain",
          "y0": 8.449008562761648,
          "y1": 38.532619761541476,
          "yref": "y4"
         }
        ],
        "template": {
         "data": {
          "bar": [
           {
            "error_x": {
             "color": "#2a3f5f"
            },
            "error_y": {
             "color": "#2a3f5f"
            },
            "marker": {
             "line": {
              "color": "#E5ECF6",
              "width": 0.5
             },
             "pattern": {
              "fillmode": "overlay",
              "size": 10,
              "solidity": 0.2
             }
            },
            "type": "bar"
           }
          ],
          "barpolar": [
           {
            "marker": {
             "line": {
              "color": "#E5ECF6",
              "width": 0.5
             },
             "pattern": {
              "fillmode": "overlay",
              "size": 10,
              "solidity": 0.2
             }
            },
            "type": "barpolar"
           }
          ],
          "carpet": [
           {
            "aaxis": {
             "endlinecolor": "#2a3f5f",
             "gridcolor": "white",
             "linecolor": "white",
             "minorgridcolor": "white",
             "startlinecolor": "#2a3f5f"
            },
            "baxis": {
             "endlinecolor": "#2a3f5f",
             "gridcolor": "white",
             "linecolor": "white",
             "minorgridcolor": "white",
             "startlinecolor": "#2a3f5f"
            },
            "type": "carpet"
           }
          ],
          "choropleth": [
           {
            "colorbar": {
             "outlinewidth": 0,
             "ticks": ""
            },
            "type": "choropleth"
           }
          ],
          "contour": [
           {
            "colorbar": {
             "outlinewidth": 0,
             "ticks": ""
            },
            "colorscale": [
             [
              0,
              "#0d0887"
             ],
             [
              0.1111111111111111,
              "#46039f"
             ],
             [
              0.2222222222222222,
              "#7201a8"
             ],
             [
              0.3333333333333333,
              "#9c179e"
             ],
             [
              0.4444444444444444,
              "#bd3786"
             ],
             [
              0.5555555555555556,
              "#d8576b"
             ],
             [
              0.6666666666666666,
              "#ed7953"
             ],
             [
              0.7777777777777778,
              "#fb9f3a"
             ],
             [
              0.8888888888888888,
              "#fdca26"
             ],
             [
              1,
              "#f0f921"
             ]
            ],
            "type": "contour"
           }
          ],
          "contourcarpet": [
           {
            "colorbar": {
             "outlinewidth": 0,
             "ticks": ""
            },
            "type": "contourcarpet"
           }
          ],
          "heatmap": [
           {
            "colorbar": {
             "outlinewidth": 0,
             "ticks": ""
            },
            "colorscale": [
             [
              0,
              "#0d0887"
             ],
             [
              0.1111111111111111,
              "#46039f"
             ],
             [
              0.2222222222222222,
              "#7201a8"
             ],
             [
              0.3333333333333333,
              "#9c179e"
             ],
             [
              0.4444444444444444,
              "#bd3786"
             ],
             [
              0.5555555555555556,
              "#d8576b"
             ],
             [
              0.6666666666666666,
              "#ed7953"
             ],
             [
              0.7777777777777778,
              "#fb9f3a"
             ],
             [
              0.8888888888888888,
              "#fdca26"
             ],
             [
              1,
              "#f0f921"
             ]
            ],
            "type": "heatmap"
           }
          ],
          "heatmapgl": [
           {
            "colorbar": {
             "outlinewidth": 0,
             "ticks": ""
            },
            "colorscale": [
             [
              0,
              "#0d0887"
             ],
             [
              0.1111111111111111,
              "#46039f"
             ],
             [
              0.2222222222222222,
              "#7201a8"
             ],
             [
              0.3333333333333333,
              "#9c179e"
             ],
             [
              0.4444444444444444,
              "#bd3786"
             ],
             [
              0.5555555555555556,
              "#d8576b"
             ],
             [
              0.6666666666666666,
              "#ed7953"
             ],
             [
              0.7777777777777778,
              "#fb9f3a"
             ],
             [
              0.8888888888888888,
              "#fdca26"
             ],
             [
              1,
              "#f0f921"
             ]
            ],
            "type": "heatmapgl"
           }
          ],
          "histogram": [
           {
            "marker": {
             "pattern": {
              "fillmode": "overlay",
              "size": 10,
              "solidity": 0.2
             }
            },
            "type": "histogram"
           }
          ],
          "histogram2d": [
           {
            "colorbar": {
             "outlinewidth": 0,
             "ticks": ""
            },
            "colorscale": [
             [
              0,
              "#0d0887"
             ],
             [
              0.1111111111111111,
              "#46039f"
             ],
             [
              0.2222222222222222,
              "#7201a8"
             ],
             [
              0.3333333333333333,
              "#9c179e"
             ],
             [
              0.4444444444444444,
              "#bd3786"
             ],
             [
              0.5555555555555556,
              "#d8576b"
             ],
             [
              0.6666666666666666,
              "#ed7953"
             ],
             [
              0.7777777777777778,
              "#fb9f3a"
             ],
             [
              0.8888888888888888,
              "#fdca26"
             ],
             [
              1,
              "#f0f921"
             ]
            ],
            "type": "histogram2d"
           }
          ],
          "histogram2dcontour": [
           {
            "colorbar": {
             "outlinewidth": 0,
             "ticks": ""
            },
            "colorscale": [
             [
              0,
              "#0d0887"
             ],
             [
              0.1111111111111111,
              "#46039f"
             ],
             [
              0.2222222222222222,
              "#7201a8"
             ],
             [
              0.3333333333333333,
              "#9c179e"
             ],
             [
              0.4444444444444444,
              "#bd3786"
             ],
             [
              0.5555555555555556,
              "#d8576b"
             ],
             [
              0.6666666666666666,
              "#ed7953"
             ],
             [
              0.7777777777777778,
              "#fb9f3a"
             ],
             [
              0.8888888888888888,
              "#fdca26"
             ],
             [
              1,
              "#f0f921"
             ]
            ],
            "type": "histogram2dcontour"
           }
          ],
          "mesh3d": [
           {
            "colorbar": {
             "outlinewidth": 0,
             "ticks": ""
            },
            "type": "mesh3d"
           }
          ],
          "parcoords": [
           {
            "line": {
             "colorbar": {
              "outlinewidth": 0,
              "ticks": ""
             }
            },
            "type": "parcoords"
           }
          ],
          "pie": [
           {
            "automargin": true,
            "type": "pie"
           }
          ],
          "scatter": [
           {
            "marker": {
             "colorbar": {
              "outlinewidth": 0,
              "ticks": ""
             }
            },
            "type": "scatter"
           }
          ],
          "scatter3d": [
           {
            "line": {
             "colorbar": {
              "outlinewidth": 0,
              "ticks": ""
             }
            },
            "marker": {
             "colorbar": {
              "outlinewidth": 0,
              "ticks": ""
             }
            },
            "type": "scatter3d"
           }
          ],
          "scattercarpet": [
           {
            "marker": {
             "colorbar": {
              "outlinewidth": 0,
              "ticks": ""
             }
            },
            "type": "scattercarpet"
           }
          ],
          "scattergeo": [
           {
            "marker": {
             "colorbar": {
              "outlinewidth": 0,
              "ticks": ""
             }
            },
            "type": "scattergeo"
           }
          ],
          "scattergl": [
           {
            "marker": {
             "colorbar": {
              "outlinewidth": 0,
              "ticks": ""
             }
            },
            "type": "scattergl"
           }
          ],
          "scattermapbox": [
           {
            "marker": {
             "colorbar": {
              "outlinewidth": 0,
              "ticks": ""
             }
            },
            "type": "scattermapbox"
           }
          ],
          "scatterpolar": [
           {
            "marker": {
             "colorbar": {
              "outlinewidth": 0,
              "ticks": ""
             }
            },
            "type": "scatterpolar"
           }
          ],
          "scatterpolargl": [
           {
            "marker": {
             "colorbar": {
              "outlinewidth": 0,
              "ticks": ""
             }
            },
            "type": "scatterpolargl"
           }
          ],
          "scatterternary": [
           {
            "marker": {
             "colorbar": {
              "outlinewidth": 0,
              "ticks": ""
             }
            },
            "type": "scatterternary"
           }
          ],
          "surface": [
           {
            "colorbar": {
             "outlinewidth": 0,
             "ticks": ""
            },
            "colorscale": [
             [
              0,
              "#0d0887"
             ],
             [
              0.1111111111111111,
              "#46039f"
             ],
             [
              0.2222222222222222,
              "#7201a8"
             ],
             [
              0.3333333333333333,
              "#9c179e"
             ],
             [
              0.4444444444444444,
              "#bd3786"
             ],
             [
              0.5555555555555556,
              "#d8576b"
             ],
             [
              0.6666666666666666,
              "#ed7953"
             ],
             [
              0.7777777777777778,
              "#fb9f3a"
             ],
             [
              0.8888888888888888,
              "#fdca26"
             ],
             [
              1,
              "#f0f921"
             ]
            ],
            "type": "surface"
           }
          ],
          "table": [
           {
            "cells": {
             "fill": {
              "color": "#EBF0F8"
             },
             "line": {
              "color": "white"
             }
            },
            "header": {
             "fill": {
              "color": "#C8D4E3"
             },
             "line": {
              "color": "white"
             }
            },
            "type": "table"
           }
          ]
         },
         "layout": {
          "annotationdefaults": {
           "arrowcolor": "#2a3f5f",
           "arrowhead": 0,
           "arrowwidth": 1
          },
          "autotypenumbers": "strict",
          "coloraxis": {
           "colorbar": {
            "outlinewidth": 0,
            "ticks": ""
           }
          },
          "colorscale": {
           "diverging": [
            [
             0,
             "#8e0152"
            ],
            [
             0.1,
             "#c51b7d"
            ],
            [
             0.2,
             "#de77ae"
            ],
            [
             0.3,
             "#f1b6da"
            ],
            [
             0.4,
             "#fde0ef"
            ],
            [
             0.5,
             "#f7f7f7"
            ],
            [
             0.6,
             "#e6f5d0"
            ],
            [
             0.7,
             "#b8e186"
            ],
            [
             0.8,
             "#7fbc41"
            ],
            [
             0.9,
             "#4d9221"
            ],
            [
             1,
             "#276419"
            ]
           ],
           "sequential": [
            [
             0,
             "#0d0887"
            ],
            [
             0.1111111111111111,
             "#46039f"
            ],
            [
             0.2222222222222222,
             "#7201a8"
            ],
            [
             0.3333333333333333,
             "#9c179e"
            ],
            [
             0.4444444444444444,
             "#bd3786"
            ],
            [
             0.5555555555555556,
             "#d8576b"
            ],
            [
             0.6666666666666666,
             "#ed7953"
            ],
            [
             0.7777777777777778,
             "#fb9f3a"
            ],
            [
             0.8888888888888888,
             "#fdca26"
            ],
            [
             1,
             "#f0f921"
            ]
           ],
           "sequentialminus": [
            [
             0,
             "#0d0887"
            ],
            [
             0.1111111111111111,
             "#46039f"
            ],
            [
             0.2222222222222222,
             "#7201a8"
            ],
            [
             0.3333333333333333,
             "#9c179e"
            ],
            [
             0.4444444444444444,
             "#bd3786"
            ],
            [
             0.5555555555555556,
             "#d8576b"
            ],
            [
             0.6666666666666666,
             "#ed7953"
            ],
            [
             0.7777777777777778,
             "#fb9f3a"
            ],
            [
             0.8888888888888888,
             "#fdca26"
            ],
            [
             1,
             "#f0f921"
            ]
           ]
          },
          "colorway": [
           "#636efa",
           "#EF553B",
           "#00cc96",
           "#ab63fa",
           "#FFA15A",
           "#19d3f3",
           "#FF6692",
           "#B6E880",
           "#FF97FF",
           "#FECB52"
          ],
          "font": {
           "color": "#2a3f5f"
          },
          "geo": {
           "bgcolor": "white",
           "lakecolor": "white",
           "landcolor": "#E5ECF6",
           "showlakes": true,
           "showland": true,
           "subunitcolor": "white"
          },
          "hoverlabel": {
           "align": "left"
          },
          "hovermode": "closest",
          "mapbox": {
           "style": "light"
          },
          "paper_bgcolor": "white",
          "plot_bgcolor": "#E5ECF6",
          "polar": {
           "angularaxis": {
            "gridcolor": "white",
            "linecolor": "white",
            "ticks": ""
           },
           "bgcolor": "#E5ECF6",
           "radialaxis": {
            "gridcolor": "white",
            "linecolor": "white",
            "ticks": ""
           }
          },
          "scene": {
           "xaxis": {
            "backgroundcolor": "#E5ECF6",
            "gridcolor": "white",
            "gridwidth": 2,
            "linecolor": "white",
            "showbackground": true,
            "ticks": "",
            "zerolinecolor": "white"
           },
           "yaxis": {
            "backgroundcolor": "#E5ECF6",
            "gridcolor": "white",
            "gridwidth": 2,
            "linecolor": "white",
            "showbackground": true,
            "ticks": "",
            "zerolinecolor": "white"
           },
           "zaxis": {
            "backgroundcolor": "#E5ECF6",
            "gridcolor": "white",
            "gridwidth": 2,
            "linecolor": "white",
            "showbackground": true,
            "ticks": "",
            "zerolinecolor": "white"
           }
          },
          "shapedefaults": {
           "line": {
            "color": "#2a3f5f"
           }
          },
          "ternary": {
           "aaxis": {
            "gridcolor": "white",
            "linecolor": "white",
            "ticks": ""
           },
           "baxis": {
            "gridcolor": "white",
            "linecolor": "white",
            "ticks": ""
           },
           "bgcolor": "#E5ECF6",
           "caxis": {
            "gridcolor": "white",
            "linecolor": "white",
            "ticks": ""
           }
          },
          "title": {
           "x": 0.05
          },
          "xaxis": {
           "automargin": true,
           "gridcolor": "white",
           "linecolor": "white",
           "ticks": "",
           "title": {
            "standoff": 15
           },
           "zerolinecolor": "white",
           "zerolinewidth": 2
          },
          "yaxis": {
           "automargin": true,
           "gridcolor": "white",
           "linecolor": "white",
           "ticks": "",
           "title": {
            "standoff": 15
           },
           "zerolinecolor": "white",
           "zerolinewidth": 2
          }
         }
        },
        "title": {
         "text": "Analyzed at 2022-04-23 04:32 UTC<br><sup>Green areas indicate top 5 percentile; FOM uses rescaled inputs</sup>"
        },
        "width": 1000,
        "xaxis": {
         "anchor": "y",
         "autorange": true,
         "domain": [
          0,
          1
         ],
         "matches": "x4",
         "range": [
          -7.033613445378152,
          121.03361344537815
         ],
         "showticklabels": false,
         "type": "category"
        },
        "xaxis2": {
         "anchor": "y2",
         "autorange": true,
         "domain": [
          0,
          1
         ],
         "matches": "x4",
         "range": [
          -7.033613445378152,
          121.03361344537815
         ],
         "showticklabels": false,
         "type": "category"
        },
        "xaxis3": {
         "anchor": "y3",
         "autorange": true,
         "domain": [
          0,
          1
         ],
         "matches": "x4",
         "range": [
          -7.033613445378152,
          121.03361344537815
         ],
         "showticklabels": false,
         "type": "category"
        },
        "xaxis4": {
         "anchor": "y4",
         "autorange": true,
         "domain": [
          0,
          1
         ],
         "range": [
          -7.033613445378152,
          121.03361344537815
         ],
         "type": "category"
        },
        "yaxis": {
         "anchor": "x",
         "autorange": true,
         "domain": [
          0.80625,
          1
         ],
         "range": [
          -14.285602687520944,
          -4.308107358760547
         ],
         "title": {
          "text": "FOM (log scale)"
         },
         "type": "log"
        },
        "yaxis2": {
         "anchor": "x2",
         "autorange": true,
         "domain": [
          0.5375,
          0.73125
         ],
         "range": [
          -0.01158674413754178,
          0.13205405685147012
         ],
         "title": {
          "text": "Open interest / Market cap"
         },
         "type": "linear"
        },
        "yaxis3": {
         "anchor": "x3",
         "autorange": true,
         "domain": [
          0.26875,
          0.4625
         ],
         "range": [
          -0.0002600905702571748,
          9.80905702571748e-05
         ],
         "title": {
          "text": "Funding rate"
         },
         "type": "linear"
        },
        "yaxis4": {
         "anchor": "x4",
         "autorange": true,
         "domain": [
          0,
          0.19375
         ],
         "range": [
          -2.6397149999214538,
          42.172124521870124
         ],
         "title": {
          "text": "Future dilution"
         },
         "type": "linear"
        }
       }
      },
      "image/png": "[encoded data removed]",
      "text/html": [
       "<div>                            <div id=\"2ab96b3a-fe38-4a04-abe7-288c3e1b21b7\" class=\"plotly-graph-div\" style=\"height:800px; width:1000px;\"></div>            <script type=\"text/javascript\">                require([\"plotly\"], function(Plotly) {                    window.PLOTLYENV=window.PLOTLYENV || {};                                    if (document.getElementById(\"2ab96b3a-fe38-4a04-abe7-288c3e1b21b7\")) {                    Plotly.newPlot(                        \"2ab96b3a-fe38-4a04-abe7-288c3e1b21b7\",                        [{\"mode\":\"markers\",\"name\":\"FOM\",\"x\":[\"LOOKS\",\"GMT\",\"CRV\",\"SRM\",\"RAY\",\"BIT\",\"AXS\",\"DYDX\",\"GLMR\",\"SPELL\",\"1INCH\",\"IMX\",\"KNC\",\"HT\",\"LUNA\",\"PERP\",\"APE\",\"FLOW\",\"ENS\",\"RNDR\",\"GALA\",\"ZIL\",\"ZEC\",\"FIL\",\"ANC\",\"FTT\",\"ETC\",\"SKL\",\"COMP\",\"C98\",\"AUDIO\",\"AR\",\"SAND\",\"AVAX\",\"AAVE\",\"FTM\",\"RUNE\",\"SOL\",\"SNX\",\"DENT\",\"UNI\",\"ICP\",\"SUSHI\",\"LINK\",\"HBAR\",\"ROSE\",\"GRT\",\"IOST\",\"ALGO\",\"FXS\",\"XRP\",\"CEL\",\"BSV\",\"CELO\",\"NEAR\",\"CRO\",\"HNT\",\"SCRT\",\"XLM\",\"BCH\",\"STX\",\"MINA\",\"MATIC\",\"MANA\",\"LRC\",\"KAVA\",\"SHIB\",\"KSM\",\"CHZ\",\"MKR\",\"VET\",\"ZRX\",\"LTC\",\"ONE\",\"YFI\",\"DOT\",\"OKB\",\"ENJ\",\"CVX\",\"ADA\",\"BTC\",\"ONT\",\"DASH\",\"SXP\",\"LEO\",\"NEO\",\"EGLD\",\"TRX\",\"QTUM\",\"BAT\",\"SLP\",\"WAVES\",\"CAKE\",\"REN\",\"PEOPLE\",\"XTZ\",\"ICX\",\"CUSDT\",\"DOGE\",\"PAXG\",\"HOT\",\"ATOM\",\"XMR\",\"XAUT\",\"OMG\",\"EOS\",\"BNT\",\"XEM\",\"ETH\",\"THETA\",\"SC\",\"USDT\",\"BNB\",\"UST\",\"BTT\"],\"y\":[7.612820609204148e-06,2.160906477529363e-06,1.9231998986206358e-06,9.68614329045241e-07,7.498209129034361e-07,6.121487434250419e-07,4.5181921462293893e-07,1.1732275715540572e-07,1.1599776279193221e-07,1.0940869336241205e-07,9.860057227124406e-08,9.183431721973025e-08,9.091566100313458e-08,8.598601715333812e-08,5.2772541949081354e-08,3.523056018533841e-08,3.4226320196515456e-08,3.151721895331914e-08,3.0266864590351145e-08,2.4599350114244005e-08,2.362394789919068e-08,2.201867763442924e-08,2.2018541793450562e-08,1.753566788969959e-08,1.7011753178261777e-08,1.3970816452407005e-08,1.3200833457438032e-08,1.302897671387546e-08,1.235007889547609e-08,1.0518140847414031e-08,1.0011435276679296e-08,9.939438860238276e-09,9.199213739939098e-09,9.077340443395094e-09,7.014130240719011e-09,6.875268681472165e-09,6.765184195734459e-09,6.720071189226936e-09,6.590462850594115e-09,6.34497826471251e-09,6.115080216416792e-09,6.084980413392144e-09,5.970411105270414e-09,4.774889081998805e-09,4.0840995835934845e-09,4.024373940690459e-09,3.528425465542101e-09,3.3249379462777117e-09,3.23195618208622e-09,3.1344628810677247e-09,3.0397689125119896e-09,3.0038938934892127e-09,2.908366973567845e-09,2.8320779805425123e-09,2.7654457441115445e-09,2.725193466650601e-09,2.6384567793245087e-09,2.5457995422920112e-09,2.316382746519863e-09,2.271421625345462e-09,2.2169639546290944e-09,2.1000922625541233e-09,1.999889596019399e-09,1.8655469995133505e-09,1.6749783240526853e-09,1.6362651017362087e-09,1.4071174610960202e-09,1.1793147976038114e-09,1.166364474993756e-09,1.1585172763705566e-09,1.0087787454240556e-09,9.856800916992592e-10,8.938135814157653e-10,7.691919838731497e-10,7.38045683673599e-10,7.134682425624223e-10,5.144170565062096e-10,5.011077447372438e-10,4.104877821601944e-10,3.7458248972785576e-10,3.682772864875941e-10,3.4805748828734893e-10,3.4086546087354525e-10,3.120270378740907e-10,2.6081312197800184e-10,2.5439839638308797e-10,1.4108337789252904e-10,6.780656744211224e-11,3.443484312776156e-11,2.9583972185911985e-11,2.8097663612417807e-11,2.6629401425062357e-11,1.626417906560156e-11,1.1318334642560156e-11,8.192674593876129e-12,2.348038993453991e-12,2.2889354146624217e-12,2.231941780241946e-12,2.19128865090784e-12,1.980893962774167e-12,1.90169822485436e-12,1.7259721396217342e-12,1.6637733280919072e-12,1.6046539605958875e-12,1.5590531055594093e-12,1.5452714232344005e-12,1.0727819450479188e-12,1.0219150512879234e-12,1.0078402861571377e-12,5.88925833987401e-13,4.4750986796167987e-13,1.6045224682555238e-13,3.3476832370405696e-14,0.0,0.0],\"type\":\"scatter\",\"xaxis\":\"x\",\"yaxis\":\"y\"},{\"mode\":\"markers\",\"name\":\"OI-MCAP ratio\",\"x\":[\"LOOKS\",\"GMT\",\"CRV\",\"SRM\",\"RAY\",\"BIT\",\"AXS\",\"DYDX\",\"GLMR\",\"SPELL\",\"1INCH\",\"IMX\",\"KNC\",\"HT\",\"LUNA\",\"PERP\",\"APE\",\"FLOW\",\"ENS\",\"RNDR\",\"GALA\",\"ZIL\",\"ZEC\",\"FIL\",\"ANC\",\"FTT\",\"ETC\",\"SKL\",\"COMP\",\"C98\",\"AUDIO\",\"AR\",\"SAND\",\"AVAX\",\"AAVE\",\"FTM\",\"RUNE\",\"SOL\",\"SNX\",\"DENT\",\"UNI\",\"ICP\",\"SUSHI\",\"LINK\",\"HBAR\",\"ROSE\",\"GRT\",\"IOST\",\"ALGO\",\"FXS\",\"XRP\",\"CEL\",\"BSV\",\"CELO\",\"NEAR\",\"CRO\",\"HNT\",\"SCRT\",\"XLM\",\"BCH\",\"STX\",\"MINA\",\"MATIC\",\"MANA\",\"LRC\",\"KAVA\",\"SHIB\",\"KSM\",\"CHZ\",\"MKR\",\"VET\",\"ZRX\",\"LTC\",\"ONE\",\"YFI\",\"DOT\",\"OKB\",\"ENJ\",\"CVX\",\"ADA\",\"BTC\",\"ONT\",\"DASH\",\"SXP\",\"LEO\",\"NEO\",\"EGLD\",\"TRX\",\"QTUM\",\"BAT\",\"SLP\",\"WAVES\",\"CAKE\",\"REN\",\"PEOPLE\",\"XTZ\",\"ICX\",\"CUSDT\",\"DOGE\",\"PAXG\",\"HOT\",\"ATOM\",\"XMR\",\"XAUT\",\"OMG\",\"EOS\",\"BNT\",\"XEM\",\"ETH\",\"THETA\",\"SC\",\"USDT\",\"BNB\",\"UST\",\"BTT\"],\"y\":[0.12038791271287244,0.0723563350048562,0.02791862747332789,0.016726907046596913,0.05367815385847801,0.0016621504512482367,0.01913833857877419,0.0552164232202946,0.004843408892272236,0.012614418047545,0.01710811704605603,0.007977452773568629,0.11368022136134953,0.006802153801272881,0.010784285813629146,0.008033775820854289,0.020596501881893974,0.0027873943933729023,0.010539700539721147,0.003675938177965649,0.009554299197323552,0.017474493084446752,0.010242787895987163,0.004393133651395189,0.003378153892108423,0.014784689279365519,0.005325901805942768,0.00973327403175615,0.010445404782074156,0.0036729094611430394,0.004676681838380623,0.005736427660792568,0.008788355130376246,0.004144489471061892,0.01565498313558998,0.017844986487869953,0.00929886132976381,0.008357317963470542,0.00875288663914338,0.005735579110146979,0.0021873653255093336,0.0021918625696473707,0.022775412943431016,0.004801523095774299,0.0006759321729991676,0.0033263846527517736,0.007267763182866204,0.0011198192168828953,0.00380301651557037,0.007430811613760568,0.002199621073924952,0.001141564488907281,0.004975076467083048,0.002522632722640512,0.013227669766663184,0.00163214122401156,0.002524306837012657,0.001737755686733655,0.002136194323248628,0.007744709798345948,0.0011432942976495992,0.003458956115511632,0.005039030682557228,0.003833785010790969,0.004957800652940365,0.005251862744326079,0.0009390822193810484,0.0034223421218667273,0.004048127790644188,0.005721793205970315,0.0016025238653085085,0.00625576791597304,0.005175307764404438,0.005822285004927392,0.01674063933217206,0.0034541218609655546,0.0007376887056222056,0.005429955925855922,0.002667679733923799,0.002175100275614418,0.0023561303068677965,0.003749576401708384,0.002076906518514163,0.0083804001716552,0.00043081424642327617,0.0028272772056711906,0.0022012428777252713,0.00500528045070748,0.00444352606661101,0.004390014169390894,0.014447987644316686,0.02607691794539186,0.00322644049642123,0.01877900104615235,0.029406398569705523,0.003681621651861807,0.0029712634374789316,0.0007741474074596969,0.0030209265315085743,0.008588514880977822,0.0008962922207468305,0.009346992999205392,0.007226293600073888,0.008695576049488816,0.01124116351827558,0.008376722010753127,0.001851798062635139,0.001647161240667499,0.002785195003427698,0.0018863899154675718,0.00088036683470623,0.0009409470011967907,0.0007984142890714524,0.0011319027049051264,7.940000105591038e-05],\"type\":\"scatter\",\"xaxis\":\"x2\",\"yaxis\":\"y2\"},{\"mode\":\"markers\",\"name\":\"FR\",\"x\":[\"LOOKS\",\"GMT\",\"CRV\",\"SRM\",\"RAY\",\"BIT\",\"AXS\",\"DYDX\",\"GLMR\",\"SPELL\",\"1INCH\",\"IMX\",\"KNC\",\"HT\",\"LUNA\",\"PERP\",\"APE\",\"FLOW\",\"ENS\",\"RNDR\",\"GALA\",\"ZIL\",\"ZEC\",\"FIL\",\"ANC\",\"FTT\",\"ETC\",\"SKL\",\"COMP\",\"C98\",\"AUDIO\",\"AR\",\"SAND\",\"AVAX\",\"AAVE\",\"FTM\",\"RUNE\",\"SOL\",\"SNX\",\"DENT\",\"UNI\",\"ICP\",\"SUSHI\",\"LINK\",\"HBAR\",\"ROSE\",\"GRT\",\"IOST\",\"ALGO\",\"FXS\",\"XRP\",\"CEL\",\"BSV\",\"CELO\",\"NEAR\",\"CRO\",\"HNT\",\"SCRT\",\"XLM\",\"BCH\",\"STX\",\"MINA\",\"MATIC\",\"MANA\",\"LRC\",\"KAVA\",\"SHIB\",\"KSM\",\"CHZ\",\"MKR\",\"VET\",\"ZRX\",\"LTC\",\"ONE\",\"YFI\",\"DOT\",\"OKB\",\"ENJ\",\"CVX\",\"ADA\",\"BTC\",\"ONT\",\"DASH\",\"SXP\",\"LEO\",\"NEO\",\"EGLD\",\"TRX\",\"QTUM\",\"BAT\",\"SLP\",\"WAVES\",\"CAKE\",\"REN\",\"PEOPLE\",\"XTZ\",\"ICX\",\"CUSDT\",\"DOGE\",\"PAXG\",\"HOT\",\"ATOM\",\"XMR\",\"XAUT\",\"OMG\",\"EOS\",\"BNT\",\"XEM\",\"ETH\",\"THETA\",\"SC\",\"USDT\",\"BNB\",\"UST\",\"BTT\"],\"y\":[-9.3e-05,-1.5e-05,-4.2e-05,-7e-06,-1.4e-05,-0.000177,-4.3e-05,-1e-06,3.2e-05,2.8e-05,-1e-05,-7e-06,-3e-06,-2.6e-05,-1.2e-05,-1.7e-05,-3e-06,-1.8e-05,4e-06,-2.6e-05,2e-06,-1.2e-05,-1.4e-05,2e-06,1.2e-05,3e-06,-2e-05,6e-06,-1.1e-05,-3e-06,1.3e-05,2.5e-05,3e-06,-6e-06,1.2e-05,-7e-06,-5e-06,-7e-06,-2.1e-05,-0.000111,1.1e-05,-1.2e-05,4e-06,-4e-06,2.1e-05,-3e-06,5e-06,5e-06,8e-06,3e-06,-6e-06,-2e-05,-2.6e-05,4e-06,-2e-06,-4e-05,-4e-06,5.3e-05,-5e-06,-1.3e-05,3.3e-05,-3e-06,4e-06,5e-06,-1.5e-05,-3.4e-05,-9e-06,-1.4e-05,2e-06,8e-06,1e-05,4e-06,-4e-06,6e-06,7e-06,-1.3e-05,-2.3e-05,6e-06,-1e-06,-2e-06,-7e-06,3e-06,-1e-06,-2e-06,-6.4e-05,-1e-06,5e-06,2.2e-05,-1e-06,-1.7e-05,4.2e-05,-2.2e-05,-0.000111,1.3e-05,6e-06,-1.4e-05,-1.7e-05,6.9e-05,-1.6e-05,5e-06,5e-05,-4e-06,-5e-06,4e-06,-3e-06,-4e-06,-1.3e-05,-1.4e-05,-8e-06,-7e-06,1.2e-05,4e-06,-1e-06,-3e-06,-0.000231],\"type\":\"scatter\",\"xaxis\":\"x3\",\"yaxis\":\"y3\"},{\"mode\":\"markers\",\"name\":\"D\",\"x\":[\"LOOKS\",\"GMT\",\"CRV\",\"SRM\",\"RAY\",\"BIT\",\"AXS\",\"DYDX\",\"GLMR\",\"SPELL\",\"1INCH\",\"IMX\",\"KNC\",\"HT\",\"LUNA\",\"PERP\",\"APE\",\"FLOW\",\"ENS\",\"RNDR\",\"GALA\",\"ZIL\",\"ZEC\",\"FIL\",\"ANC\",\"FTT\",\"ETC\",\"SKL\",\"COMP\",\"C98\",\"AUDIO\",\"AR\",\"SAND\",\"AVAX\",\"AAVE\",\"FTM\",\"RUNE\",\"SOL\",\"SNX\",\"DENT\",\"UNI\",\"ICP\",\"SUSHI\",\"LINK\",\"HBAR\",\"ROSE\",\"GRT\",\"IOST\",\"ALGO\",\"FXS\",\"XRP\",\"CEL\",\"BSV\",\"CELO\",\"NEAR\",\"CRO\",\"HNT\",\"SCRT\",\"XLM\",\"BCH\",\"STX\",\"MINA\",\"MATIC\",\"MANA\",\"LRC\",\"KAVA\",\"SHIB\",\"KSM\",\"CHZ\",\"MKR\",\"VET\",\"ZRX\",\"LTC\",\"ONE\",\"YFI\",\"DOT\",\"OKB\",\"ENJ\",\"CVX\",\"ADA\",\"BTC\",\"ONT\",\"DASH\",\"SXP\",\"LEO\",\"NEO\",\"EGLD\",\"TRX\",\"QTUM\",\"BAT\",\"SLP\",\"WAVES\",\"CAKE\",\"REN\",\"PEOPLE\",\"XTZ\",\"ICX\",\"CUSDT\",\"DOGE\",\"PAXG\",\"HOT\",\"ATOM\",\"XMR\",\"XAUT\",\"OMG\",\"EOS\",\"BNT\",\"XEM\",\"ETH\",\"THETA\",\"SC\",\"USDT\",\"BNB\",\"UST\",\"BTT\"],\"y\":[4.072162897551184,10.000000002125823,8.426998454211782,38.532619761541476,5.511928971574958,10.866648712612864,3.489250032558059,10.60809109573693,4.435644078561694,2.4073808410802493,3.614389274380245,8.500365482711338,2.204391938682609,3.2211293041832714,2.8548260001107573,2.1762362843949634,3.510696653515392,3.9194700145853028,4.266201663920401,2.1876717037257234,6.629104770950082,1.476101076824167,1.6985524161580365,10.177760303812189,2.9403430843890073,2.429785125066885,1.5678693677307152,2.015488935208225,1.488862337109724,5.405405394052217,1.7562037151220407,1.3171417500247247,2.5896943815604736,2.6803145942111177,1.169245363788423,1.2494329686966263,1.6624817850881917,1.5234654164237786,1.1631741566209461,1.0454240901538092,2.190630490699031,2.0837081537176325,1.296752762072329,2.1412838366282014,2.4719355702851624,2.8653295110514057,1.4430804420005245,3.885899531012649,1.4897018977751644,1.6415588654360045,2.0787758403517937,1.6383038498400306,1.1029638906772956,2.308332914222974,1.4746591880964124,1.1979177963863963,2.218036752947757,1.1305808988699728,2.016874462244943,1.1027174825934367,1.2849269607794103,1.9351203283165337,1.4549919699698588,1.4485403715707337,1.1031487218331866,1.0418028915136286,1.8210060750555712,1.113573584236618,1.663319885784157,1.1156826654988616,1.2988566750276462,1.1799464965037483,1.1977933525452684,1.1005898803557366,1.02836471648404,1.0732244019987314,1.153208634254652,1.0702734494484807,1.715927717879976,1.40333848185942,1.1041350805167782,1.1425313268722213,1.770342665406359,1.0846568833520602,1.0521543580476882,1.417836381681554,1.0598380018822426,1.0026151144798745,1.0354191589466906,1.0016127159681594,1.0,1.0,1.0,1.0,1.0,1.0,1.0,1.0,1.0,1.0,1.0,1.0,1.0,1.0,1.0,1.0,1.0,1.0,1.0,1.0,1.0,1.0,1.0,0.9997897604071968,1.0685127937768726],\"type\":\"scatter\",\"xaxis\":\"x4\",\"yaxis\":\"y4\"}],                        {\"template\":{\"data\":{\"bar\":[{\"error_x\":{\"color\":\"#2a3f5f\"},\"error_y\":{\"color\":\"#2a3f5f\"},\"marker\":{\"line\":{\"color\":\"#E5ECF6\",\"width\":0.5},\"pattern\":{\"fillmode\":\"overlay\",\"size\":10,\"solidity\":0.2}},\"type\":\"bar\"}],\"barpolar\":[{\"marker\":{\"line\":{\"color\":\"#E5ECF6\",\"width\":0.5},\"pattern\":{\"fillmode\":\"overlay\",\"size\":10,\"solidity\":0.2}},\"type\":\"barpolar\"}],\"carpet\":[{\"aaxis\":{\"endlinecolor\":\"#2a3f5f\",\"gridcolor\":\"white\",\"linecolor\":\"white\",\"minorgridcolor\":\"white\",\"startlinecolor\":\"#2a3f5f\"},\"baxis\":{\"endlinecolor\":\"#2a3f5f\",\"gridcolor\":\"white\",\"linecolor\":\"white\",\"minorgridcolor\":\"white\",\"startlinecolor\":\"#2a3f5f\"},\"type\":\"carpet\"}],\"choropleth\":[{\"colorbar\":{\"outlinewidth\":0,\"ticks\":\"\"},\"type\":\"choropleth\"}],\"contour\":[{\"colorbar\":{\"outlinewidth\":0,\"ticks\":\"\"},\"colorscale\":[[0.0,\"#0d0887\"],[0.1111111111111111,\"#46039f\"],[0.2222222222222222,\"#7201a8\"],[0.3333333333333333,\"#9c179e\"],[0.4444444444444444,\"#bd3786\"],[0.5555555555555556,\"#d8576b\"],[0.6666666666666666,\"#ed7953\"],[0.7777777777777778,\"#fb9f3a\"],[0.8888888888888888,\"#fdca26\"],[1.0,\"#f0f921\"]],\"type\":\"contour\"}],\"contourcarpet\":[{\"colorbar\":{\"outlinewidth\":0,\"ticks\":\"\"},\"type\":\"contourcarpet\"}],\"heatmap\":[{\"colorbar\":{\"outlinewidth\":0,\"ticks\":\"\"},\"colorscale\":[[0.0,\"#0d0887\"],[0.1111111111111111,\"#46039f\"],[0.2222222222222222,\"#7201a8\"],[0.3333333333333333,\"#9c179e\"],[0.4444444444444444,\"#bd3786\"],[0.5555555555555556,\"#d8576b\"],[0.6666666666666666,\"#ed7953\"],[0.7777777777777778,\"#fb9f3a\"],[0.8888888888888888,\"#fdca26\"],[1.0,\"#f0f921\"]],\"type\":\"heatmap\"}],\"heatmapgl\":[{\"colorbar\":{\"outlinewidth\":0,\"ticks\":\"\"},\"colorscale\":[[0.0,\"#0d0887\"],[0.1111111111111111,\"#46039f\"],[0.2222222222222222,\"#7201a8\"],[0.3333333333333333,\"#9c179e\"],[0.4444444444444444,\"#bd3786\"],[0.5555555555555556,\"#d8576b\"],[0.6666666666666666,\"#ed7953\"],[0.7777777777777778,\"#fb9f3a\"],[0.8888888888888888,\"#fdca26\"],[1.0,\"#f0f921\"]],\"type\":\"heatmapgl\"}],\"histogram\":[{\"marker\":{\"pattern\":{\"fillmode\":\"overlay\",\"size\":10,\"solidity\":0.2}},\"type\":\"histogram\"}],\"histogram2d\":[{\"colorbar\":{\"outlinewidth\":0,\"ticks\":\"\"},\"colorscale\":[[0.0,\"#0d0887\"],[0.1111111111111111,\"#46039f\"],[0.2222222222222222,\"#7201a8\"],[0.3333333333333333,\"#9c179e\"],[0.4444444444444444,\"#bd3786\"],[0.5555555555555556,\"#d8576b\"],[0.6666666666666666,\"#ed7953\"],[0.7777777777777778,\"#fb9f3a\"],[0.8888888888888888,\"#fdca26\"],[1.0,\"#f0f921\"]],\"type\":\"histogram2d\"}],\"histogram2dcontour\":[{\"colorbar\":{\"outlinewidth\":0,\"ticks\":\"\"},\"colorscale\":[[0.0,\"#0d0887\"],[0.1111111111111111,\"#46039f\"],[0.2222222222222222,\"#7201a8\"],[0.3333333333333333,\"#9c179e\"],[0.4444444444444444,\"#bd3786\"],[0.5555555555555556,\"#d8576b\"],[0.6666666666666666,\"#ed7953\"],[0.7777777777777778,\"#fb9f3a\"],[0.8888888888888888,\"#fdca26\"],[1.0,\"#f0f921\"]],\"type\":\"histogram2dcontour\"}],\"mesh3d\":[{\"colorbar\":{\"outlinewidth\":0,\"ticks\":\"\"},\"type\":\"mesh3d\"}],\"parcoords\":[{\"line\":{\"colorbar\":{\"outlinewidth\":0,\"ticks\":\"\"}},\"type\":\"parcoords\"}],\"pie\":[{\"automargin\":true,\"type\":\"pie\"}],\"scatter\":[{\"marker\":{\"colorbar\":{\"outlinewidth\":0,\"ticks\":\"\"}},\"type\":\"scatter\"}],\"scatter3d\":[{\"line\":{\"colorbar\":{\"outlinewidth\":0,\"ticks\":\"\"}},\"marker\":{\"colorbar\":{\"outlinewidth\":0,\"ticks\":\"\"}},\"type\":\"scatter3d\"}],\"scattercarpet\":[{\"marker\":{\"colorbar\":{\"outlinewidth\":0,\"ticks\":\"\"}},\"type\":\"scattercarpet\"}],\"scattergeo\":[{\"marker\":{\"colorbar\":{\"outlinewidth\":0,\"ticks\":\"\"}},\"type\":\"scattergeo\"}],\"scattergl\":[{\"marker\":{\"colorbar\":{\"outlinewidth\":0,\"ticks\":\"\"}},\"type\":\"scattergl\"}],\"scattermapbox\":[{\"marker\":{\"colorbar\":{\"outlinewidth\":0,\"ticks\":\"\"}},\"type\":\"scattermapbox\"}],\"scatterpolar\":[{\"marker\":{\"colorbar\":{\"outlinewidth\":0,\"ticks\":\"\"}},\"type\":\"scatterpolar\"}],\"scatterpolargl\":[{\"marker\":{\"colorbar\":{\"outlinewidth\":0,\"ticks\":\"\"}},\"type\":\"scatterpolargl\"}],\"scatterternary\":[{\"marker\":{\"colorbar\":{\"outlinewidth\":0,\"ticks\":\"\"}},\"type\":\"scatterternary\"}],\"surface\":[{\"colorbar\":{\"outlinewidth\":0,\"ticks\":\"\"},\"colorscale\":[[0.0,\"#0d0887\"],[0.1111111111111111,\"#46039f\"],[0.2222222222222222,\"#7201a8\"],[0.3333333333333333,\"#9c179e\"],[0.4444444444444444,\"#bd3786\"],[0.5555555555555556,\"#d8576b\"],[0.6666666666666666,\"#ed7953\"],[0.7777777777777778,\"#fb9f3a\"],[0.8888888888888888,\"#fdca26\"],[1.0,\"#f0f921\"]],\"type\":\"surface\"}],\"table\":[{\"cells\":{\"fill\":{\"color\":\"#EBF0F8\"},\"line\":{\"color\":\"white\"}},\"header\":{\"fill\":{\"color\":\"#C8D4E3\"},\"line\":{\"color\":\"white\"}},\"type\":\"table\"}]},\"layout\":{\"annotationdefaults\":{\"arrowcolor\":\"#2a3f5f\",\"arrowhead\":0,\"arrowwidth\":1},\"autotypenumbers\":\"strict\",\"coloraxis\":{\"colorbar\":{\"outlinewidth\":0,\"ticks\":\"\"}},\"colorscale\":{\"diverging\":[[0,\"#8e0152\"],[0.1,\"#c51b7d\"],[0.2,\"#de77ae\"],[0.3,\"#f1b6da\"],[0.4,\"#fde0ef\"],[0.5,\"#f7f7f7\"],[0.6,\"#e6f5d0\"],[0.7,\"#b8e186\"],[0.8,\"#7fbc41\"],[0.9,\"#4d9221\"],[1,\"#276419\"]],\"sequential\":[[0.0,\"#0d0887\"],[0.1111111111111111,\"#46039f\"],[0.2222222222222222,\"#7201a8\"],[0.3333333333333333,\"#9c179e\"],[0.4444444444444444,\"#bd3786\"],[0.5555555555555556,\"#d8576b\"],[0.6666666666666666,\"#ed7953\"],[0.7777777777777778,\"#fb9f3a\"],[0.8888888888888888,\"#fdca26\"],[1.0,\"#f0f921\"]],\"sequentialminus\":[[0.0,\"#0d0887\"],[0.1111111111111111,\"#46039f\"],[0.2222222222222222,\"#7201a8\"],[0.3333333333333333,\"#9c179e\"],[0.4444444444444444,\"#bd3786\"],[0.5555555555555556,\"#d8576b\"],[0.6666666666666666,\"#ed7953\"],[0.7777777777777778,\"#fb9f3a\"],[0.8888888888888888,\"#fdca26\"],[1.0,\"#f0f921\"]]},\"colorway\":[\"#636efa\",\"#EF553B\",\"#00cc96\",\"#ab63fa\",\"#FFA15A\",\"#19d3f3\",\"#FF6692\",\"#B6E880\",\"#FF97FF\",\"#FECB52\"],\"font\":{\"color\":\"#2a3f5f\"},\"geo\":{\"bgcolor\":\"white\",\"lakecolor\":\"white\",\"landcolor\":\"#E5ECF6\",\"showlakes\":true,\"showland\":true,\"subunitcolor\":\"white\"},\"hoverlabel\":{\"align\":\"left\"},\"hovermode\":\"closest\",\"mapbox\":{\"style\":\"light\"},\"paper_bgcolor\":\"white\",\"plot_bgcolor\":\"#E5ECF6\",\"polar\":{\"angularaxis\":{\"gridcolor\":\"white\",\"linecolor\":\"white\",\"ticks\":\"\"},\"bgcolor\":\"#E5ECF6\",\"radialaxis\":{\"gridcolor\":\"white\",\"linecolor\":\"white\",\"ticks\":\"\"}},\"scene\":{\"xaxis\":{\"backgroundcolor\":\"#E5ECF6\",\"gridcolor\":\"white\",\"gridwidth\":2,\"linecolor\":\"white\",\"showbackground\":true,\"ticks\":\"\",\"zerolinecolor\":\"white\"},\"yaxis\":{\"backgroundcolor\":\"#E5ECF6\",\"gridcolor\":\"white\",\"gridwidth\":2,\"linecolor\":\"white\",\"showbackground\":true,\"ticks\":\"\",\"zerolinecolor\":\"white\"},\"zaxis\":{\"backgroundcolor\":\"#E5ECF6\",\"gridcolor\":\"white\",\"gridwidth\":2,\"linecolor\":\"white\",\"showbackground\":true,\"ticks\":\"\",\"zerolinecolor\":\"white\"}},\"shapedefaults\":{\"line\":{\"color\":\"#2a3f5f\"}},\"ternary\":{\"aaxis\":{\"gridcolor\":\"white\",\"linecolor\":\"white\",\"ticks\":\"\"},\"baxis\":{\"gridcolor\":\"white\",\"linecolor\":\"white\",\"ticks\":\"\"},\"bgcolor\":\"#E5ECF6\",\"caxis\":{\"gridcolor\":\"white\",\"linecolor\":\"white\",\"ticks\":\"\"}},\"title\":{\"x\":0.05},\"xaxis\":{\"automargin\":true,\"gridcolor\":\"white\",\"linecolor\":\"white\",\"ticks\":\"\",\"title\":{\"standoff\":15},\"zerolinecolor\":\"white\",\"zerolinewidth\":2},\"yaxis\":{\"automargin\":true,\"gridcolor\":\"white\",\"linecolor\":\"white\",\"ticks\":\"\",\"title\":{\"standoff\":15},\"zerolinecolor\":\"white\",\"zerolinewidth\":2}}},\"xaxis\":{\"anchor\":\"y\",\"domain\":[0.0,1.0],\"matches\":\"x4\",\"showticklabels\":false},\"yaxis\":{\"anchor\":\"x\",\"domain\":[0.80625,1.0],\"type\":\"log\",\"title\":{\"text\":\"FOM (log scale)\"}},\"xaxis2\":{\"anchor\":\"y2\",\"domain\":[0.0,1.0],\"matches\":\"x4\",\"showticklabels\":false},\"yaxis2\":{\"anchor\":\"x2\",\"domain\":[0.5375,0.73125],\"title\":{\"text\":\"Open interest / Market cap\"}},\"xaxis3\":{\"anchor\":\"y3\",\"domain\":[0.0,1.0],\"matches\":\"x4\",\"showticklabels\":false},\"yaxis3\":{\"anchor\":\"x3\",\"domain\":[0.26875,0.4625],\"title\":{\"text\":\"Funding rate\"}},\"xaxis4\":{\"anchor\":\"y4\",\"domain\":[0.0,1.0]},\"yaxis4\":{\"anchor\":\"x4\",\"domain\":[0.0,0.19375],\"title\":{\"text\":\"Future dilution\"}},\"shapes\":[{\"fillcolor\":\"green\",\"line\":{\"width\":0},\"opacity\":0.3,\"type\":\"rect\",\"x0\":0,\"x1\":1,\"xref\":\"x domain\",\"y0\":4.999180732635693e-07,\"y1\":7.612820609204148e-06,\"yref\":\"y\"},{\"fillcolor\":\"green\",\"line\":{\"width\":0},\"opacity\":0.3,\"type\":\"rect\",\"x0\":0,\"x1\":1,\"xref\":\"x2 domain\",\"y0\":0.028364958802241175,\"y1\":0.12038791271287244,\"yref\":\"y2\"},{\"fillcolor\":\"green\",\"line\":{\"width\":0},\"opacity\":0.3,\"type\":\"rect\",\"x0\":0,\"x1\":1,\"xref\":\"x4 domain\",\"y0\":8.449008562761648,\"y1\":38.532619761541476,\"yref\":\"y4\"}],\"title\":{\"text\":\"Analyzed at 2022-04-23 04:32 UTC<br><sup>Green areas indicate top 5 percentile; FOM uses rescaled inputs</sup>\"},\"height\":800,\"width\":1000},                        {\"responsive\": true}                    ).then(function(){\n",
       "                            \n",
       "var gd = document.getElementById('2ab96b3a-fe38-4a04-abe7-288c3e1b21b7');\n",
       "var x = new MutationObserver(function (mutations, observer) {{\n",
       "        var display = window.getComputedStyle(gd).display;\n",
       "        if (!display || display === 'none') {{\n",
       "            console.log([gd, 'removed!']);\n",
       "            Plotly.purge(gd);\n",
       "            observer.disconnect();\n",
       "        }}\n",
       "}});\n",
       "\n",
       "// Listen for the removal of the full notebook cells\n",
       "var notebookContainer = gd.closest('#notebook-container');\n",
       "if (notebookContainer) {{\n",
       "    x.observe(notebookContainer, {childList: true});\n",
       "}}\n",
       "\n",
       "// Listen for the clearing of the current output cell\n",
       "var outputEl = gd.closest('.output');\n",
       "if (outputEl) {{\n",
       "    x.observe(outputEl, {childList: true});\n",
       "}}\n",
       "\n",
       "                        })                };                });            </script>        </div>"
      ]
     },
     "metadata": {},
     "output_type": "display_data"
    }
   ],
   "source": [
    "fig = make_subplots(rows=4, cols=1, shared_xaxes=True)\n",
    "\n",
    "fig.add_trace(\n",
    "    go.Scatter(\n",
    "        x=df[\"name\"],\n",
    "        y=df[\"fom\"],\n",
    "        mode=\"markers\",\n",
    "        name=\"FOM\"\n",
    "    ),\n",
    "    row=1,\n",
    "    col=1\n",
    ")\n",
    "\n",
    "top_5_percentile_fom = np.percentile(df[\"fom\"], 95)\n",
    "fig.add_hrect(\n",
    "    y0=top_5_percentile_fom,\n",
    "    y1=df[\"fom\"].max(),\n",
    "    fillcolor=\"green\",\n",
    "    opacity=0.3,\n",
    "    line_width=0,\n",
    "    row=1,\n",
    "    col=1\n",
    ")\n",
    "\n",
    "fig.add_trace(\n",
    "    go.Scatter(\n",
    "        x=df[\"name\"],\n",
    "        y=df[\"oi_macp_ratio\"],\n",
    "        mode=\"markers\",\n",
    "        name=\"OI-MCAP ratio\"\n",
    "    ),\n",
    "    row=2,\n",
    "    col=1\n",
    ")\n",
    "top_5_percentile_oi_mcap = np.percentile(df[\"oi_macp_ratio\"], 95)\n",
    "fig.add_hrect(\n",
    "    y0=top_5_percentile_oi_mcap,\n",
    "    y1=df[\"oi_macp_ratio\"].max(),\n",
    "    fillcolor=\"green\",\n",
    "    opacity=0.3,\n",
    "    line_width=0,\n",
    "    row=2,\n",
    "    col=1\n",
    ")\n",
    "\n",
    "fig.add_trace(\n",
    "    go.Scatter(\n",
    "        x=df[\"name\"],\n",
    "        y=df[\"funding_rate\"],\n",
    "        mode=\"markers\",\n",
    "        name=\"FR\"\n",
    "    ),\n",
    "    row=3,\n",
    "    col=1\n",
    ")\n",
    "\n",
    "fig.add_trace(\n",
    "    go.Scatter(\n",
    "        x=df[\"name\"],\n",
    "        y=df[\"future_dilution\"],\n",
    "        mode=\"markers\",\n",
    "        name=\"D\"\n",
    "    ),\n",
    "    row=4,\n",
    "    col=1\n",
    ")\n",
    "top_5_percentile_fd = np.percentile(df[\"future_dilution\"], 95)\n",
    "fig.add_hrect(\n",
    "    y0=top_5_percentile_fd,\n",
    "    y1=df[\"future_dilution\"].max(),\n",
    "    fillcolor=\"green\",\n",
    "    opacity=0.3,\n",
    "    line_width=0,\n",
    "    row=4,\n",
    "    col=1\n",
    ")\n",
    "\n",
    "\n",
    "fig['layout']['yaxis']['type'] = 'log'\n",
    "fig['layout']['yaxis']['title'] = 'FOM (log scale)'\n",
    "\n",
    "fig['layout']['yaxis2']['title'] = 'Open interest / Market cap'\n",
    "fig['layout']['yaxis3']['title'] = 'Funding rate'\n",
    "fig['layout']['yaxis4']['title'] = 'Future dilution'\n",
    "\n",
    "fig.update_layout(\n",
    "    title=f\"Analyzed at {datetime.now().strftime('%Y-%m-%d %H:%M')} UTC\" + \"<br><sup>Green areas indicate top 5 percentile; FOM uses rescaled inputs</sup>\",\n",
    "    height=800, width=1000\n",
    ")\n",
    "\n",
    "\n",
    "fig.write_image(os.path.join(\"..\", \"images\", \"fom_metric.png\"))\n",
    "fig.show()"
   ]
  },
  {
   "cell_type": "code",
   "execution_count": 30,
   "id": "f93027b8-ecf2-4582-81f5-389cfc46cbb5",
   "metadata": {},
   "outputs": [
    {
     "data": {
      "text/html": [
       "<div>\n",
       "<style scoped>\n",
       "    .dataframe tbody tr th:only-of-type {\n",
       "        vertical-align: middle;\n",
       "    }\n",
       "\n",
       "    .dataframe tbody tr th {\n",
       "        vertical-align: top;\n",
       "    }\n",
       "\n",
       "    .dataframe thead th {\n",
       "        text-align: right;\n",
       "    }\n",
       "</style>\n",
       "<table border=\"1\" class=\"dataframe\">\n",
       "  <thead>\n",
       "    <tr style=\"text-align: right;\">\n",
       "      <th></th>\n",
       "      <th>market</th>\n",
       "      <th>name</th>\n",
       "      <th>open_interest</th>\n",
       "      <th>funding_rate</th>\n",
       "      <th>market_cap</th>\n",
       "      <th>future_dilution</th>\n",
       "      <th>oi_macp_ratio</th>\n",
       "      <th>oi_macp_ratio_scaled</th>\n",
       "      <th>future_dilution_scaled</th>\n",
       "      <th>fom</th>\n",
       "    </tr>\n",
       "  </thead>\n",
       "  <tbody>\n",
       "    <tr>\n",
       "      <th>62</th>\n",
       "      <td>LOOKS-PERP</td>\n",
       "      <td>LOOKS</td>\n",
       "      <td>5.101088e+07</td>\n",
       "      <td>-0.000093</td>\n",
       "      <td>4.237209e+08</td>\n",
       "      <td>4.072163</td>\n",
       "      <td>0.120388</td>\n",
       "      <td>1.000000</td>\n",
       "      <td>0.081858</td>\n",
       "      <td>7.612821e-06</td>\n",
       "    </tr>\n",
       "    <tr>\n",
       "      <th>47</th>\n",
       "      <td>GMT-PERP</td>\n",
       "      <td>GMT</td>\n",
       "      <td>1.361474e+08</td>\n",
       "      <td>-0.000015</td>\n",
       "      <td>1.881623e+09</td>\n",
       "      <td>10.000000</td>\n",
       "      <td>0.072356</td>\n",
       "      <td>0.600763</td>\n",
       "      <td>0.239796</td>\n",
       "      <td>2.160906e-06</td>\n",
       "    </tr>\n",
       "    <tr>\n",
       "      <th>26</th>\n",
       "      <td>CRV-PERP</td>\n",
       "      <td>CRV</td>\n",
       "      <td>2.733753e+07</td>\n",
       "      <td>-0.000042</td>\n",
       "      <td>9.791859e+08</td>\n",
       "      <td>8.426998</td>\n",
       "      <td>0.027919</td>\n",
       "      <td>0.231399</td>\n",
       "      <td>0.197886</td>\n",
       "      <td>1.923200e-06</td>\n",
       "    </tr>\n",
       "    <tr>\n",
       "      <th>94</th>\n",
       "      <td>SRM-PERP</td>\n",
       "      <td>SRM</td>\n",
       "      <td>1.056495e+07</td>\n",
       "      <td>-0.000007</td>\n",
       "      <td>6.316139e+08</td>\n",
       "      <td>38.532620</td>\n",
       "      <td>0.016727</td>\n",
       "      <td>0.138373</td>\n",
       "      <td>1.000000</td>\n",
       "      <td>9.686143e-07</td>\n",
       "    </tr>\n",
       "    <tr>\n",
       "      <th>80</th>\n",
       "      <td>RAY-PERP</td>\n",
       "      <td>RAY</td>\n",
       "      <td>1.403416e+07</td>\n",
       "      <td>-0.000014</td>\n",
       "      <td>2.614500e+08</td>\n",
       "      <td>5.511929</td>\n",
       "      <td>0.053678</td>\n",
       "      <td>0.445511</td>\n",
       "      <td>0.120218</td>\n",
       "      <td>7.498209e-07</td>\n",
       "    </tr>\n",
       "    <tr>\n",
       "      <th>13</th>\n",
       "      <td>BIT-PERP</td>\n",
       "      <td>BIT</td>\n",
       "      <td>1.912507e+06</td>\n",
       "      <td>-0.000177</td>\n",
       "      <td>1.150622e+09</td>\n",
       "      <td>10.866649</td>\n",
       "      <td>0.001662</td>\n",
       "      <td>0.013156</td>\n",
       "      <td>0.262886</td>\n",
       "      <td>6.121487e-07</td>\n",
       "    </tr>\n",
       "  </tbody>\n",
       "</table>\n",
       "</div>"
      ],
      "text/plain": [
       "        market   name  open_interest  funding_rate    market_cap  \\\n",
       "62  LOOKS-PERP  LOOKS   5.101088e+07     -0.000093  4.237209e+08   \n",
       "47    GMT-PERP    GMT   1.361474e+08     -0.000015  1.881623e+09   \n",
       "26    CRV-PERP    CRV   2.733753e+07     -0.000042  9.791859e+08   \n",
       "94    SRM-PERP    SRM   1.056495e+07     -0.000007  6.316139e+08   \n",
       "80    RAY-PERP    RAY   1.403416e+07     -0.000014  2.614500e+08   \n",
       "13    BIT-PERP    BIT   1.912507e+06     -0.000177  1.150622e+09   \n",
       "\n",
       "    future_dilution  oi_macp_ratio  oi_macp_ratio_scaled  \\\n",
       "62         4.072163       0.120388              1.000000   \n",
       "47        10.000000       0.072356              0.600763   \n",
       "26         8.426998       0.027919              0.231399   \n",
       "94        38.532620       0.016727              0.138373   \n",
       "80         5.511929       0.053678              0.445511   \n",
       "13        10.866649       0.001662              0.013156   \n",
       "\n",
       "    future_dilution_scaled           fom  \n",
       "62                0.081858  7.612821e-06  \n",
       "47                0.239796  2.160906e-06  \n",
       "26                0.197886  1.923200e-06  \n",
       "94                1.000000  9.686143e-07  \n",
       "80                0.120218  7.498209e-07  \n",
       "13                0.262886  6.121487e-07  "
      ]
     },
     "execution_count": 30,
     "metadata": {},
     "output_type": "execute_result"
    }
   ],
   "source": [
    "df[df[\"fom\"] > top_5_percentile_fom]"
   ]
  },
  {
   "cell_type": "markdown",
   "id": "29e50e1f-87ca-47b2-b72b-bd9fe3e7284d",
   "metadata": {},
   "source": [
    "**Q.** Why are the FOM values high for certain projects?   \n",
    "**A.** Some possible reasons:\n",
    "1. Upcoming token unlocks causing sell pressure (use `future_dilution` as a reference)\n",
    "2. Sell pressure from spot holders compounding profits using perps\n",
    "3. Project holders hedging spot positions\n",
    "\n",
    "**Q.** Should I use this as an entry signal?  \n",
    "**A.** Alone, this isn't really enough. It can point you to the right projects to short/long, but entry/exit levels will have to be done separately (not financial advice ofc)."
   ]
  },
  {
   "cell_type": "markdown",
   "id": "cd22cecf-b994-4a78-a215-281ca238401d",
   "metadata": {},
   "source": [
    "# Plot the variation of FOM with time"
   ]
  },
  {
   "cell_type": "code",
   "execution_count": null,
   "id": "52e764f2-54be-4fd1-b6dc-fda54c727d91",
   "metadata": {},
   "outputs": [],
   "source": [
    "fig = make_subplots()\n",
    "\n",
    "while True:\n",
    "    clear_output(wait=True)\n",
    "    \n",
    "    df = get_futures_data()\n",
    "    df = get_market_cap_data(df)\n",
    "    df[\"oi_macsp_ratio\"] = df[\"open_interest\"] / df[\"market_cap\"]\n",
    "    df[\"fom\"] = df[\"oi_macp_ratio\"] *  df[\"funding_rate\"].abs()\n",
    "    df = df.sort_values(\"fom\", ascending=False).head()\n",
    "    \n",
    "    display(df)\n",
    "    \n",
    "    fig.append_trace(\n",
    "        go.Scatter(\n",
    "            x=df[\"market\"],\n",
    "            y=df[\"fom\"],\n",
    "            mode=\"markers\",\n",
    "            name=f\"{datetime.now()}\"\n",
    "        ),\n",
    "        row=1,\n",
    "        col=1,\n",
    "    )\n",
    "\n",
    "    fig.show()\n",
    "    \n",
    "    time.sleep(60 * 30)"
   ]
  }
 ],
 "metadata": {
  "kernelspec": {
   "display_name": "market_analytics",
   "language": "python",
   "name": "market_analytics"
  },
  "language_info": {
   "codemirror_mode": {
    "name": "ipython",
    "version": 3
   },
   "file_extension": ".py",
   "mimetype": "text/x-python",
   "name": "python",
   "nbconvert_exporter": "python",
   "pygments_lexer": "ipython3",
   "version": "3.10.0"
  }
 },
 "nbformat": 4,
 "nbformat_minor": 5
}
