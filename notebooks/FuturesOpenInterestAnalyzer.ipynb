{
 "cells": [
  {
   "cell_type": "code",
   "execution_count": 1,
   "id": "99cce7e9-c6d7-4b8f-b17e-c593a47739c8",
   "metadata": {},
   "outputs": [],
   "source": [
    "import time\n",
    "import numpy as np\n",
    "import pandas as pd\n",
    "from datetime import datetime\n",
    "\n",
    "from ftx import FtxClient\n",
    "from pycoingecko import CoinGeckoAPI\n",
    "\n",
    "from IPython.display import display, clear_output\n",
    "import plotly.graph_objects as go\n",
    "from plotly.subplots import make_subplots"
   ]
  },
  {
   "cell_type": "markdown",
   "id": "087d1ecb-0664-4cbd-8b07-8713d4ceeef0",
   "metadata": {},
   "source": [
    "# Get futures and funding rates from FTX"
   ]
  },
  {
   "cell_type": "code",
   "execution_count": 2,
   "id": "224fc096-98b2-4535-bb40-bac29382cb58",
   "metadata": {},
   "outputs": [],
   "source": [
    "def get_futures_data() -> pd.DataFrame:\n",
    "    ftx = FtxClient()\n",
    "\n",
    "    futures = ftx.get_futures()\n",
    "    funding_rates = ftx.get_funding_rates()\n",
    "\n",
    "    df = pd.DataFrame(columns=[\"market\", \"name\", \"open_interest\", \"funding_rate\"])\n",
    "\n",
    "    idx = 0\n",
    "    for future in futures:\n",
    "        if future[\"perpetual\"]:\n",
    "            for funding in funding_rates:\n",
    "                if funding[\"future\"] == future[\"name\"]:\n",
    "                    funding_rate = funding[\"rate\"]\n",
    "                    break\n",
    "            df.loc[idx] = [future[\"name\"], future[\"underlying\"], future[\"openInterestUsd\"], funding_rate]\n",
    "            idx += 1\n",
    "    \n",
    "    return df"
   ]
  },
  {
   "cell_type": "markdown",
   "id": "dd63bb66-b70b-4f79-9930-3b8e8437329d",
   "metadata": {},
   "source": [
    "# Get market caps from CoinGecko"
   ]
  },
  {
   "cell_type": "code",
   "execution_count": 3,
   "id": "1ed1cc21-eee8-4377-aa22-151e2ba1c6ba",
   "metadata": {},
   "outputs": [],
   "source": [
    "def get_market_cap_data(df: pd.DataFrame) -> pd.DataFrame:\n",
    "    cg = CoinGeckoAPI()\n",
    "    markets = cg.get_coins_markets(vs_currency=[\"usd\"], per_page=250)\n",
    "    \n",
    "    market_caps = np.zeros(len(df))\n",
    "\n",
    "    for idx, name in enumerate(df[\"name\"]):\n",
    "        market_cap = 0\n",
    "        for market in markets:\n",
    "            if name.lower() == market[\"symbol\"].lower():\n",
    "                market_cap = market[\"market_cap\"]\n",
    "                break\n",
    "        market_caps[idx] = market_cap\n",
    "\n",
    "    df[\"market_cap\"] = market_caps\n",
    "\n",
    "    # Remove any values without market caps\n",
    "    df = df[df[\"market_cap\"] != 0]\n",
    "    df = df.reset_index(drop=True)\n",
    "    \n",
    "    return df"
   ]
  },
  {
   "cell_type": "markdown",
   "id": "39aa6891-b554-4921-954f-ddc6530c18c7",
   "metadata": {},
   "source": [
    "# Calculate the FOM metric\n",
    "\n",
    "The calculation of the derived metric is simple, the idea is to take the open interest in the market $i$ and normalize it with the market cap. This ratio can be then multiplied with the absolute value of the funding rate. A large value would indicate a strong perp bias towards one direction. The direction is indicated by the sign of the funding rate. \n",
    "\n",
    "Let, \n",
    "$$ FR_i = \\text{funding rate of market i} $$\n",
    "$$ OI_i = \\text{open interest of market i} $$\n",
    "$$ MC_i = \\text{market cap of market i} $$\n",
    "\n",
    "\n",
    "The derived FOM metric, \n",
    "\n",
    "$$ FOM_i = \\left(\\frac{OI_i}{MC_i}\\right) \\times abs(FR_i) $$"
   ]
  },
  {
   "cell_type": "code",
   "execution_count": 4,
   "id": "7f82a4a8-ef4b-4b78-b58d-6d8d09a792ff",
   "metadata": {},
   "outputs": [],
   "source": [
    "df = get_futures_data()\n",
    "df = get_market_cap_data(df)\n",
    "df[\"oi_macp_ratio\"] = df[\"open_interest\"] / df[\"market_cap\"]\n",
    "df[\"fom\"] = df[\"oi_macp_ratio\"] *  df[\"funding_rate\"].abs()\n",
    "df = df.sort_values(\"fom\", ascending=False)"
   ]
  },
  {
   "cell_type": "markdown",
   "id": "7b9f09aa-fee7-4090-acdd-0a46198bf1ba",
   "metadata": {},
   "source": [
    "# Plotting the FOM\n",
    "\n",
    "We see a strong variation in FOM across different cryptos. We can filter this by looking at the top 5 percentile."
   ]
  },
  {
   "cell_type": "code",
   "execution_count": 17,
   "id": "8420ebdc-75ea-4a86-9d3e-3e4bee4fd54e",
   "metadata": {},
   "outputs": [
    {
     "data": {
      "application/vnd.plotly.v1+json": {
       "config": {
        "plotlyServerURL": "https://plot.ly"
       },
       "data": [
        {
         "mode": "markers",
         "name": "FOM",
         "type": "scatter",
         "x": [
          "LOOKS",
          "KNC",
          "WAVES",
          "RAY",
          "GMT",
          "FTT",
          "CRV",
          "DYDX",
          "AXS",
          "SLP",
          "1INCH",
          "REN",
          "SPELL",
          "LUNA",
          "BCH",
          "XMR",
          "COMP",
          "ATOM",
          "IMX",
          "FTM",
          "KAVA",
          "OMG",
          "SXP",
          "ZIL",
          "AR",
          "PERP",
          "DENT",
          "PAXG",
          "CUSDT",
          "APE",
          "QTUM",
          "AAVE",
          "SOL",
          "SAND",
          "XAUT",
          "ZRX",
          "BAT",
          "ZEC",
          "PEOPLE",
          "SNX",
          "HT",
          "ETC",
          "SUSHI",
          "FLOW",
          "YFI",
          "ENS",
          "ANC",
          "MKR",
          "NEAR",
          "GLMR",
          "ONE",
          "FIL",
          "AUDIO",
          "BNT",
          "SRM",
          "EGLD",
          "SKL",
          "OKB",
          "MATIC",
          "CHZ",
          "KSM",
          "STX",
          "C98",
          "ADA",
          "HOT",
          "ENJ",
          "ICX",
          "SCRT",
          "XEM",
          "EOS",
          "LEO",
          "XRP",
          "ALGO",
          "DOGE",
          "RUNE",
          "LRC",
          "XTZ",
          "ONT",
          "CRO",
          "MINA",
          "LTC",
          "LINK",
          "CEL",
          "IOST",
          "BIT",
          "BSV",
          "CELO",
          "UST",
          "GALA",
          "ETH",
          "RNDR",
          "ROSE",
          "TRX",
          "MANA",
          "AVAX",
          "SHIB",
          "DOT",
          "DASH",
          "ICP",
          "UNI",
          "CAKE",
          "XLM",
          "HBAR",
          "GRT",
          "SC",
          "CVX",
          "BTT",
          "VET",
          "BTC",
          "THETA",
          "HNT",
          "USDT",
          "FXS",
          "BNB",
          "NEO"
         ],
         "xaxis": "x",
         "y": [
          1.1999117008508993e-05,
          2.5662081975832115e-06,
          1.4756379739429127e-06,
          1.1155765596318956e-06,
          9.528249006608703e-07,
          8.204324232846597e-07,
          6.700756899824316e-07,
          6.338488353627646e-07,
          6.122566732395283e-07,
          5.677992858781127e-07,
          4.969383696044299e-07,
          2.9890357889175117e-07,
          2.9640717130264233e-07,
          2.9419613150017896e-07,
          2.9175168521322654e-07,
          2.8963232419088527e-07,
          2.845565877109265e-07,
          2.7634757202603286e-07,
          2.591685252290875e-07,
          2.302615421180867e-07,
          2.251741415456574e-07,
          2.2456851892330853e-07,
          2.0238409057063077e-07,
          1.863318451425865e-07,
          1.8630416380865855e-07,
          1.8429699924515597e-07,
          1.8298931035350521e-07,
          1.8108376161828737e-07,
          1.7974320191119846e-07,
          1.7806255310733865e-07,
          1.6903874201174064e-07,
          1.5874418352816134e-07,
          1.3391798662132476e-07,
          1.2815973329955017e-07,
          1.2605648445449314e-07,
          1.2113674750742762e-07,
          1.1834055196438093e-07,
          1.167560938828583e-07,
          1.16002503684962e-07,
          1.150921625587746e-07,
          1.1443408343838394e-07,
          1.10860283662233e-07,
          1.0786380037835652e-07,
          1.0584503705463293e-07,
          1.0175006708924154e-07,
          9.310566406342854e-08,
          9.021160176191612e-08,
          8.120236134055264e-08,
          7.471395836604583e-08,
          7.455707376391492e-08,
          6.933870972480616e-08,
          5.8984144173384574e-08,
          5.8297204537139334e-08,
          5.2699588444641194e-08,
          5.23338529140008e-08,
          5.1918396716019876e-08,
          5.060616143758887e-08,
          4.960099243015662e-08,
          4.91723265103667e-08,
          4.6353519638857417e-08,
          4.4817268359795326e-08,
          4.014166558391119e-08,
          3.985992836401944e-08,
          3.928491492935977e-08,
          3.811180743221136e-08,
          3.728581467173529e-08,
          3.722242581232463e-08,
          3.716434912212195e-08,
          3.6706271949106646e-08,
          3.557829853766245e-08,
          3.5375933962324515e-08,
          3.51696887574744e-08,
          3.4272418433936354e-08,
          3.113974485860268e-08,
          3.1088173490170574e-08,
          3.103901103543225e-08,
          2.839083548041093e-08,
          2.8149256830280636e-08,
          2.747939048170502e-08,
          2.653298169477534e-08,
          2.6522847633450883e-08,
          2.3608915837511677e-08,
          2.2123135596740067e-08,
          2.170071641099097e-08,
          2.1483163859102945e-08,
          2.1346167692161144e-08,
          2.0865340718848733e-08,
          1.9154845107214994e-08,
          1.852412304447793e-08,
          1.793585686739426e-08,
          1.7882149330777664e-08,
          1.535562337774181e-08,
          1.495762111639424e-08,
          1.3940688551301603e-08,
          1.3043796277432712e-08,
          1.2281796576163338e-08,
          1.2164166806350938e-08,
          1.1076341465287815e-08,
          1.0932717820893774e-08,
          9.408517115910252e-09,
          8.864966513009241e-09,
          8.524150705178137e-09,
          7.392626873010637e-09,
          7.331023140396407e-09,
          7.216578817961869e-09,
          7.066582999319133e-09,
          6.040760221288248e-09,
          4.4097785018647405e-09,
          4.362333606898657e-09,
          3.127600809010667e-09,
          2.715675866823072e-09,
          1.9596212846451967e-09,
          0,
          0,
          0
         ],
         "yaxis": "y"
        },
        {
         "mode": "markers",
         "name": "OI-MCAP ratio",
         "type": "scatter",
         "x": [
          "LOOKS",
          "KNC",
          "WAVES",
          "RAY",
          "GMT",
          "FTT",
          "CRV",
          "DYDX",
          "AXS",
          "SLP",
          "1INCH",
          "REN",
          "SPELL",
          "LUNA",
          "BCH",
          "XMR",
          "COMP",
          "ATOM",
          "IMX",
          "FTM",
          "KAVA",
          "OMG",
          "SXP",
          "ZIL",
          "AR",
          "PERP",
          "DENT",
          "PAXG",
          "CUSDT",
          "APE",
          "QTUM",
          "AAVE",
          "SOL",
          "SAND",
          "XAUT",
          "ZRX",
          "BAT",
          "ZEC",
          "PEOPLE",
          "SNX",
          "HT",
          "ETC",
          "SUSHI",
          "FLOW",
          "YFI",
          "ENS",
          "ANC",
          "MKR",
          "NEAR",
          "GLMR",
          "ONE",
          "FIL",
          "AUDIO",
          "BNT",
          "SRM",
          "EGLD",
          "SKL",
          "OKB",
          "MATIC",
          "CHZ",
          "KSM",
          "STX",
          "C98",
          "ADA",
          "HOT",
          "ENJ",
          "ICX",
          "SCRT",
          "XEM",
          "EOS",
          "LEO",
          "XRP",
          "ALGO",
          "DOGE",
          "RUNE",
          "LRC",
          "XTZ",
          "ONT",
          "CRO",
          "MINA",
          "LTC",
          "LINK",
          "CEL",
          "IOST",
          "BIT",
          "BSV",
          "CELO",
          "UST",
          "GALA",
          "ETH",
          "RNDR",
          "ROSE",
          "TRX",
          "MANA",
          "AVAX",
          "SHIB",
          "DOT",
          "DASH",
          "ICP",
          "UNI",
          "CAKE",
          "XLM",
          "HBAR",
          "GRT",
          "SC",
          "CVX",
          "BTT",
          "VET",
          "BTC",
          "THETA",
          "HNT",
          "USDT",
          "FXS",
          "BNB",
          "NEO"
         ],
         "xaxis": "x2",
         "y": [
          0.11763840204420582,
          0.06935697831305977,
          0.02459396623238188,
          0.05577882798159478,
          0.04764124503304351,
          0.016408648465693194,
          0.019708108528895048,
          0.05762262139661497,
          0.01913302103873526,
          0.014558956048156739,
          0.016030269987239675,
          0.01868147368073445,
          0.012350298804276764,
          0.010507004696434964,
          0.00941134468429763,
          0.005266042258016096,
          0.01138226350843706,
          0.00952922662158734,
          0.009598834267743982,
          0.015350769474539113,
          0.005003869812125719,
          0.012476028829072696,
          0.00919927684411958,
          0.016939258649326046,
          0.00582200511902058,
          0.008377136329325272,
          0.004158847962579664,
          0.012072250774552491,
          0.0008600153201492749,
          0.019784728123037627,
          0.004448387947677385,
          0.01587441835281613,
          0.00787752862478381,
          0.009154266664253584,
          0.008403765630299542,
          0.004486546203978801,
          0.004226448284442176,
          0.009729674490238191,
          0.029000625921240503,
          0.008853243273751893,
          0.006731416672846114,
          0.005039103802828773,
          0.021572760075671302,
          0.0030241439158466554,
          0.01695834451487359,
          0.011638208007928568,
          0.003221842920068433,
          0.006246335487734819,
          0.012452326394340971,
          0.005735159520301149,
          0.006303519065891469,
          0.0045372418594911215,
          0.005829720453713933,
          0.0017566529481547065,
          0.017444617638000266,
          0.002472304605524756,
          0.008434360239598145,
          0.0008857320076813683,
          0.0049172326510366696,
          0.00421395633080522,
          0.004481726835979532,
          0.0011150462662197552,
          0.0036236298512744946,
          0.0020676271015452508,
          0.0008469290540491412,
          0.005326544953105042,
          0.003101868817693719,
          0.0013764573748934056,
          0.0017479177118622214,
          0.011859432845887483,
          0.0004421991745290564,
          0.002512120625533886,
          0.003808046492659595,
          0.0034599716509558535,
          0.010362724496723525,
          0.00620780220708645,
          0.003548854435051366,
          0.002345771402523386,
          0.0015266328045391677,
          0.0037904259563964772,
          0.005304569526690176,
          0.004721783167502335,
          0.001301360917455298,
          0.0012765127300582923,
          0.001342697741193934,
          0.005336541923040286,
          0.002980762959835533,
          0.0011267555945420585,
          0.009262061522238964,
          0.0025622652667706084,
          0.0029803582217962773,
          0.003071124675548362,
          0.0016619579018215824,
          0.0034851721378254008,
          0.00434793209247757,
          0.0009447535827817953,
          0.004054722268783646,
          0.002215268293057563,
          0.0021865435641787545,
          0.0018817034231820501,
          0.002954988837669747,
          0.0021310376762945344,
          0.0008214029858900707,
          0.007331023140396407,
          0.0009020723522452336,
          0.0023555276664397108,
          6.711955801431387e-05,
          0.0014699261672882467,
          0.0021811668034493283,
          0.0015638004045053337,
          0.0027156758668230724,
          0.0009798106423225983,
          0.0071050730389967945,
          0.000800446624609892,
          0.002843705814770192
         ],
         "yaxis": "y2"
        },
        {
         "mode": "markers",
         "name": "FR",
         "type": "scatter",
         "x": [
          "LOOKS",
          "KNC",
          "WAVES",
          "RAY",
          "GMT",
          "FTT",
          "CRV",
          "DYDX",
          "AXS",
          "SLP",
          "1INCH",
          "REN",
          "SPELL",
          "LUNA",
          "BCH",
          "XMR",
          "COMP",
          "ATOM",
          "IMX",
          "FTM",
          "KAVA",
          "OMG",
          "SXP",
          "ZIL",
          "AR",
          "PERP",
          "DENT",
          "PAXG",
          "CUSDT",
          "APE",
          "QTUM",
          "AAVE",
          "SOL",
          "SAND",
          "XAUT",
          "ZRX",
          "BAT",
          "ZEC",
          "PEOPLE",
          "SNX",
          "HT",
          "ETC",
          "SUSHI",
          "FLOW",
          "YFI",
          "ENS",
          "ANC",
          "MKR",
          "NEAR",
          "GLMR",
          "ONE",
          "FIL",
          "AUDIO",
          "BNT",
          "SRM",
          "EGLD",
          "SKL",
          "OKB",
          "MATIC",
          "CHZ",
          "KSM",
          "STX",
          "C98",
          "ADA",
          "HOT",
          "ENJ",
          "ICX",
          "SCRT",
          "XEM",
          "EOS",
          "LEO",
          "XRP",
          "ALGO",
          "DOGE",
          "RUNE",
          "LRC",
          "XTZ",
          "ONT",
          "CRO",
          "MINA",
          "LTC",
          "LINK",
          "CEL",
          "IOST",
          "BIT",
          "BSV",
          "CELO",
          "UST",
          "GALA",
          "ETH",
          "RNDR",
          "ROSE",
          "TRX",
          "MANA",
          "AVAX",
          "SHIB",
          "DOT",
          "DASH",
          "ICP",
          "UNI",
          "CAKE",
          "XLM",
          "HBAR",
          "GRT",
          "SC",
          "CVX",
          "BTT",
          "VET",
          "BTC",
          "THETA",
          "HNT",
          "USDT",
          "FXS",
          "BNB",
          "NEO"
         ],
         "xaxis": "x3",
         "y": [
          -0.000102,
          -3.7e-05,
          -6e-05,
          -2e-05,
          -2e-05,
          -5e-05,
          -3.4e-05,
          -1.1e-05,
          -3.2e-05,
          -3.9e-05,
          -3.1e-05,
          1.6e-05,
          2.4e-05,
          -2.8e-05,
          3.1e-05,
          5.5e-05,
          -2.5e-05,
          -2.9e-05,
          -2.7e-05,
          -1.5e-05,
          -4.5e-05,
          -1.8e-05,
          -2.2e-05,
          -1.1e-05,
          -3.2e-05,
          2.2e-05,
          -4.4e-05,
          1.5e-05,
          -0.000209,
          -9e-06,
          -3.8e-05,
          1e-05,
          -1.7e-05,
          -1.4e-05,
          1.5e-05,
          2.7e-05,
          -2.8e-05,
          1.2e-05,
          -4e-06,
          -1.3e-05,
          -1.7e-05,
          -2.2e-05,
          -5e-06,
          -3.5e-05,
          -6e-06,
          -8e-06,
          -2.8e-05,
          -1.3e-05,
          -6e-06,
          1.3e-05,
          -1.1e-05,
          1.3e-05,
          -1e-05,
          -3e-05,
          3e-06,
          2.1e-05,
          -6e-06,
          -5.6e-05,
          -1e-05,
          -1.1e-05,
          -1e-05,
          -3.6e-05,
          1.1e-05,
          -1.9e-05,
          4.5e-05,
          -7e-06,
          -1.2e-05,
          -2.7e-05,
          2.1e-05,
          3e-06,
          8e-05,
          1.4e-05,
          -9e-06,
          -9e-06,
          -3e-06,
          -5e-06,
          8e-06,
          1.2e-05,
          -1.8e-05,
          7e-06,
          5e-06,
          5e-06,
          1.7e-05,
          1.7e-05,
          1.6e-05,
          -4e-06,
          -7e-06,
          -1.7e-05,
          -2e-06,
          -7e-06,
          6e-06,
          -5e-06,
          -9e-06,
          4e-06,
          3e-06,
          -1.3e-05,
          -3e-06,
          -5e-06,
          -5e-06,
          5e-06,
          -3e-06,
          -4e-06,
          9e-06,
          1e-06,
          8e-06,
          3e-06,
          -9e-05,
          3e-06,
          -2e-06,
          2e-06,
          -1e-06,
          -2e-06,
          0,
          0,
          0
         ],
         "yaxis": "y3"
        }
       ],
       "layout": {
        "height": 800,
        "shapes": [
         {
          "fillcolor": "green",
          "line": {
           "width": 0
          },
          "opacity": 0.3,
          "type": "rect",
          "x0": 0,
          "x1": 1,
          "xref": "x domain",
          "y0": 7.151827099730996e-07,
          "y1": 1.1999117008508993e-05,
          "yref": "y"
         }
        ],
        "template": {
         "data": {
          "bar": [
           {
            "error_x": {
             "color": "#2a3f5f"
            },
            "error_y": {
             "color": "#2a3f5f"
            },
            "marker": {
             "line": {
              "color": "#E5ECF6",
              "width": 0.5
             },
             "pattern": {
              "fillmode": "overlay",
              "size": 10,
              "solidity": 0.2
             }
            },
            "type": "bar"
           }
          ],
          "barpolar": [
           {
            "marker": {
             "line": {
              "color": "#E5ECF6",
              "width": 0.5
             },
             "pattern": {
              "fillmode": "overlay",
              "size": 10,
              "solidity": 0.2
             }
            },
            "type": "barpolar"
           }
          ],
          "carpet": [
           {
            "aaxis": {
             "endlinecolor": "#2a3f5f",
             "gridcolor": "white",
             "linecolor": "white",
             "minorgridcolor": "white",
             "startlinecolor": "#2a3f5f"
            },
            "baxis": {
             "endlinecolor": "#2a3f5f",
             "gridcolor": "white",
             "linecolor": "white",
             "minorgridcolor": "white",
             "startlinecolor": "#2a3f5f"
            },
            "type": "carpet"
           }
          ],
          "choropleth": [
           {
            "colorbar": {
             "outlinewidth": 0,
             "ticks": ""
            },
            "type": "choropleth"
           }
          ],
          "contour": [
           {
            "colorbar": {
             "outlinewidth": 0,
             "ticks": ""
            },
            "colorscale": [
             [
              0,
              "#0d0887"
             ],
             [
              0.1111111111111111,
              "#46039f"
             ],
             [
              0.2222222222222222,
              "#7201a8"
             ],
             [
              0.3333333333333333,
              "#9c179e"
             ],
             [
              0.4444444444444444,
              "#bd3786"
             ],
             [
              0.5555555555555556,
              "#d8576b"
             ],
             [
              0.6666666666666666,
              "#ed7953"
             ],
             [
              0.7777777777777778,
              "#fb9f3a"
             ],
             [
              0.8888888888888888,
              "#fdca26"
             ],
             [
              1,
              "#f0f921"
             ]
            ],
            "type": "contour"
           }
          ],
          "contourcarpet": [
           {
            "colorbar": {
             "outlinewidth": 0,
             "ticks": ""
            },
            "type": "contourcarpet"
           }
          ],
          "heatmap": [
           {
            "colorbar": {
             "outlinewidth": 0,
             "ticks": ""
            },
            "colorscale": [
             [
              0,
              "#0d0887"
             ],
             [
              0.1111111111111111,
              "#46039f"
             ],
             [
              0.2222222222222222,
              "#7201a8"
             ],
             [
              0.3333333333333333,
              "#9c179e"
             ],
             [
              0.4444444444444444,
              "#bd3786"
             ],
             [
              0.5555555555555556,
              "#d8576b"
             ],
             [
              0.6666666666666666,
              "#ed7953"
             ],
             [
              0.7777777777777778,
              "#fb9f3a"
             ],
             [
              0.8888888888888888,
              "#fdca26"
             ],
             [
              1,
              "#f0f921"
             ]
            ],
            "type": "heatmap"
           }
          ],
          "heatmapgl": [
           {
            "colorbar": {
             "outlinewidth": 0,
             "ticks": ""
            },
            "colorscale": [
             [
              0,
              "#0d0887"
             ],
             [
              0.1111111111111111,
              "#46039f"
             ],
             [
              0.2222222222222222,
              "#7201a8"
             ],
             [
              0.3333333333333333,
              "#9c179e"
             ],
             [
              0.4444444444444444,
              "#bd3786"
             ],
             [
              0.5555555555555556,
              "#d8576b"
             ],
             [
              0.6666666666666666,
              "#ed7953"
             ],
             [
              0.7777777777777778,
              "#fb9f3a"
             ],
             [
              0.8888888888888888,
              "#fdca26"
             ],
             [
              1,
              "#f0f921"
             ]
            ],
            "type": "heatmapgl"
           }
          ],
          "histogram": [
           {
            "marker": {
             "pattern": {
              "fillmode": "overlay",
              "size": 10,
              "solidity": 0.2
             }
            },
            "type": "histogram"
           }
          ],
          "histogram2d": [
           {
            "colorbar": {
             "outlinewidth": 0,
             "ticks": ""
            },
            "colorscale": [
             [
              0,
              "#0d0887"
             ],
             [
              0.1111111111111111,
              "#46039f"
             ],
             [
              0.2222222222222222,
              "#7201a8"
             ],
             [
              0.3333333333333333,
              "#9c179e"
             ],
             [
              0.4444444444444444,
              "#bd3786"
             ],
             [
              0.5555555555555556,
              "#d8576b"
             ],
             [
              0.6666666666666666,
              "#ed7953"
             ],
             [
              0.7777777777777778,
              "#fb9f3a"
             ],
             [
              0.8888888888888888,
              "#fdca26"
             ],
             [
              1,
              "#f0f921"
             ]
            ],
            "type": "histogram2d"
           }
          ],
          "histogram2dcontour": [
           {
            "colorbar": {
             "outlinewidth": 0,
             "ticks": ""
            },
            "colorscale": [
             [
              0,
              "#0d0887"
             ],
             [
              0.1111111111111111,
              "#46039f"
             ],
             [
              0.2222222222222222,
              "#7201a8"
             ],
             [
              0.3333333333333333,
              "#9c179e"
             ],
             [
              0.4444444444444444,
              "#bd3786"
             ],
             [
              0.5555555555555556,
              "#d8576b"
             ],
             [
              0.6666666666666666,
              "#ed7953"
             ],
             [
              0.7777777777777778,
              "#fb9f3a"
             ],
             [
              0.8888888888888888,
              "#fdca26"
             ],
             [
              1,
              "#f0f921"
             ]
            ],
            "type": "histogram2dcontour"
           }
          ],
          "mesh3d": [
           {
            "colorbar": {
             "outlinewidth": 0,
             "ticks": ""
            },
            "type": "mesh3d"
           }
          ],
          "parcoords": [
           {
            "line": {
             "colorbar": {
              "outlinewidth": 0,
              "ticks": ""
             }
            },
            "type": "parcoords"
           }
          ],
          "pie": [
           {
            "automargin": true,
            "type": "pie"
           }
          ],
          "scatter": [
           {
            "marker": {
             "colorbar": {
              "outlinewidth": 0,
              "ticks": ""
             }
            },
            "type": "scatter"
           }
          ],
          "scatter3d": [
           {
            "line": {
             "colorbar": {
              "outlinewidth": 0,
              "ticks": ""
             }
            },
            "marker": {
             "colorbar": {
              "outlinewidth": 0,
              "ticks": ""
             }
            },
            "type": "scatter3d"
           }
          ],
          "scattercarpet": [
           {
            "marker": {
             "colorbar": {
              "outlinewidth": 0,
              "ticks": ""
             }
            },
            "type": "scattercarpet"
           }
          ],
          "scattergeo": [
           {
            "marker": {
             "colorbar": {
              "outlinewidth": 0,
              "ticks": ""
             }
            },
            "type": "scattergeo"
           }
          ],
          "scattergl": [
           {
            "marker": {
             "colorbar": {
              "outlinewidth": 0,
              "ticks": ""
             }
            },
            "type": "scattergl"
           }
          ],
          "scattermapbox": [
           {
            "marker": {
             "colorbar": {
              "outlinewidth": 0,
              "ticks": ""
             }
            },
            "type": "scattermapbox"
           }
          ],
          "scatterpolar": [
           {
            "marker": {
             "colorbar": {
              "outlinewidth": 0,
              "ticks": ""
             }
            },
            "type": "scatterpolar"
           }
          ],
          "scatterpolargl": [
           {
            "marker": {
             "colorbar": {
              "outlinewidth": 0,
              "ticks": ""
             }
            },
            "type": "scatterpolargl"
           }
          ],
          "scatterternary": [
           {
            "marker": {
             "colorbar": {
              "outlinewidth": 0,
              "ticks": ""
             }
            },
            "type": "scatterternary"
           }
          ],
          "surface": [
           {
            "colorbar": {
             "outlinewidth": 0,
             "ticks": ""
            },
            "colorscale": [
             [
              0,
              "#0d0887"
             ],
             [
              0.1111111111111111,
              "#46039f"
             ],
             [
              0.2222222222222222,
              "#7201a8"
             ],
             [
              0.3333333333333333,
              "#9c179e"
             ],
             [
              0.4444444444444444,
              "#bd3786"
             ],
             [
              0.5555555555555556,
              "#d8576b"
             ],
             [
              0.6666666666666666,
              "#ed7953"
             ],
             [
              0.7777777777777778,
              "#fb9f3a"
             ],
             [
              0.8888888888888888,
              "#fdca26"
             ],
             [
              1,
              "#f0f921"
             ]
            ],
            "type": "surface"
           }
          ],
          "table": [
           {
            "cells": {
             "fill": {
              "color": "#EBF0F8"
             },
             "line": {
              "color": "white"
             }
            },
            "header": {
             "fill": {
              "color": "#C8D4E3"
             },
             "line": {
              "color": "white"
             }
            },
            "type": "table"
           }
          ]
         },
         "layout": {
          "annotationdefaults": {
           "arrowcolor": "#2a3f5f",
           "arrowhead": 0,
           "arrowwidth": 1
          },
          "autotypenumbers": "strict",
          "coloraxis": {
           "colorbar": {
            "outlinewidth": 0,
            "ticks": ""
           }
          },
          "colorscale": {
           "diverging": [
            [
             0,
             "#8e0152"
            ],
            [
             0.1,
             "#c51b7d"
            ],
            [
             0.2,
             "#de77ae"
            ],
            [
             0.3,
             "#f1b6da"
            ],
            [
             0.4,
             "#fde0ef"
            ],
            [
             0.5,
             "#f7f7f7"
            ],
            [
             0.6,
             "#e6f5d0"
            ],
            [
             0.7,
             "#b8e186"
            ],
            [
             0.8,
             "#7fbc41"
            ],
            [
             0.9,
             "#4d9221"
            ],
            [
             1,
             "#276419"
            ]
           ],
           "sequential": [
            [
             0,
             "#0d0887"
            ],
            [
             0.1111111111111111,
             "#46039f"
            ],
            [
             0.2222222222222222,
             "#7201a8"
            ],
            [
             0.3333333333333333,
             "#9c179e"
            ],
            [
             0.4444444444444444,
             "#bd3786"
            ],
            [
             0.5555555555555556,
             "#d8576b"
            ],
            [
             0.6666666666666666,
             "#ed7953"
            ],
            [
             0.7777777777777778,
             "#fb9f3a"
            ],
            [
             0.8888888888888888,
             "#fdca26"
            ],
            [
             1,
             "#f0f921"
            ]
           ],
           "sequentialminus": [
            [
             0,
             "#0d0887"
            ],
            [
             0.1111111111111111,
             "#46039f"
            ],
            [
             0.2222222222222222,
             "#7201a8"
            ],
            [
             0.3333333333333333,
             "#9c179e"
            ],
            [
             0.4444444444444444,
             "#bd3786"
            ],
            [
             0.5555555555555556,
             "#d8576b"
            ],
            [
             0.6666666666666666,
             "#ed7953"
            ],
            [
             0.7777777777777778,
             "#fb9f3a"
            ],
            [
             0.8888888888888888,
             "#fdca26"
            ],
            [
             1,
             "#f0f921"
            ]
           ]
          },
          "colorway": [
           "#636efa",
           "#EF553B",
           "#00cc96",
           "#ab63fa",
           "#FFA15A",
           "#19d3f3",
           "#FF6692",
           "#B6E880",
           "#FF97FF",
           "#FECB52"
          ],
          "font": {
           "color": "#2a3f5f"
          },
          "geo": {
           "bgcolor": "white",
           "lakecolor": "white",
           "landcolor": "#E5ECF6",
           "showlakes": true,
           "showland": true,
           "subunitcolor": "white"
          },
          "hoverlabel": {
           "align": "left"
          },
          "hovermode": "closest",
          "mapbox": {
           "style": "light"
          },
          "paper_bgcolor": "white",
          "plot_bgcolor": "#E5ECF6",
          "polar": {
           "angularaxis": {
            "gridcolor": "white",
            "linecolor": "white",
            "ticks": ""
           },
           "bgcolor": "#E5ECF6",
           "radialaxis": {
            "gridcolor": "white",
            "linecolor": "white",
            "ticks": ""
           }
          },
          "scene": {
           "xaxis": {
            "backgroundcolor": "#E5ECF6",
            "gridcolor": "white",
            "gridwidth": 2,
            "linecolor": "white",
            "showbackground": true,
            "ticks": "",
            "zerolinecolor": "white"
           },
           "yaxis": {
            "backgroundcolor": "#E5ECF6",
            "gridcolor": "white",
            "gridwidth": 2,
            "linecolor": "white",
            "showbackground": true,
            "ticks": "",
            "zerolinecolor": "white"
           },
           "zaxis": {
            "backgroundcolor": "#E5ECF6",
            "gridcolor": "white",
            "gridwidth": 2,
            "linecolor": "white",
            "showbackground": true,
            "ticks": "",
            "zerolinecolor": "white"
           }
          },
          "shapedefaults": {
           "line": {
            "color": "#2a3f5f"
           }
          },
          "ternary": {
           "aaxis": {
            "gridcolor": "white",
            "linecolor": "white",
            "ticks": ""
           },
           "baxis": {
            "gridcolor": "white",
            "linecolor": "white",
            "ticks": ""
           },
           "bgcolor": "#E5ECF6",
           "caxis": {
            "gridcolor": "white",
            "linecolor": "white",
            "ticks": ""
           }
          },
          "title": {
           "x": 0.05
          },
          "xaxis": {
           "automargin": true,
           "gridcolor": "white",
           "linecolor": "white",
           "ticks": "",
           "title": {
            "standoff": 15
           },
           "zerolinecolor": "white",
           "zerolinewidth": 2
          },
          "yaxis": {
           "automargin": true,
           "gridcolor": "white",
           "linecolor": "white",
           "ticks": "",
           "title": {
            "standoff": 15
           },
           "zerolinecolor": "white",
           "zerolinewidth": 2
          }
         }
        },
        "title": {
         "text": "Analyzed at 2022-04-16 21:50 UTC"
        },
        "width": 1000,
        "xaxis": {
         "anchor": "y",
         "autorange": true,
         "domain": [
          0,
          1
         ],
         "matches": "x3",
         "range": [
          -7.033613445378152,
          121.03361344537815
         ],
         "showticklabels": false,
         "type": "category"
        },
        "xaxis2": {
         "anchor": "y2",
         "autorange": true,
         "domain": [
          0,
          1
         ],
         "matches": "x3",
         "range": [
          -7.033613445378152,
          121.03361344537815
         ],
         "showticklabels": false,
         "type": "category"
        },
        "xaxis3": {
         "anchor": "y3",
         "autorange": true,
         "domain": [
          0,
          1
         ],
         "range": [
          -7.033613445378152,
          121.03361344537815
         ],
         "type": "category"
        },
        "yaxis": {
         "anchor": "x",
         "autorange": true,
         "domain": [
          0.7333333333333333,
          1
         ],
         "range": [
          -9.029886181637606,
          -4.598792382070347
         ],
         "title": {
          "text": "FOM metric (log scale)"
         },
         "type": "log"
        },
        "yaxis2": {
         "anchor": "x2",
         "autorange": true,
         "domain": [
          0.36666666666666664,
          0.6333333333333333
         ],
         "range": [
          -0.009931570542545263,
          0.1276370921447654
         ],
         "title": {
          "text": "Open interest / Market cap"
         },
         "type": "linear"
        },
        "yaxis3": {
         "anchor": "x3",
         "autorange": true,
         "domain": [
          0,
          0.26666666666666666
         ],
         "range": [
          -0.00023357761264449165,
          0.00010457761264449164
         ],
         "title": {
          "text": "Funding rate"
         },
         "type": "linear"
        }
       }
      },
      "image/png": "[encoded data removed]",
      "text/html": [
       "<div>                            <div id=\"761d9bf8-ad88-4294-ba33-50c8d216a9ca\" class=\"plotly-graph-div\" style=\"height:800px; width:1000px;\"></div>            <script type=\"text/javascript\">                require([\"plotly\"], function(Plotly) {                    window.PLOTLYENV=window.PLOTLYENV || {};                                    if (document.getElementById(\"761d9bf8-ad88-4294-ba33-50c8d216a9ca\")) {                    Plotly.newPlot(                        \"761d9bf8-ad88-4294-ba33-50c8d216a9ca\",                        [{\"mode\":\"markers\",\"name\":\"FOM\",\"x\":[\"LOOKS\",\"KNC\",\"WAVES\",\"RAY\",\"GMT\",\"FTT\",\"CRV\",\"DYDX\",\"AXS\",\"SLP\",\"1INCH\",\"REN\",\"SPELL\",\"LUNA\",\"BCH\",\"XMR\",\"COMP\",\"ATOM\",\"IMX\",\"FTM\",\"KAVA\",\"OMG\",\"SXP\",\"ZIL\",\"AR\",\"PERP\",\"DENT\",\"PAXG\",\"CUSDT\",\"APE\",\"QTUM\",\"AAVE\",\"SOL\",\"SAND\",\"XAUT\",\"ZRX\",\"BAT\",\"ZEC\",\"PEOPLE\",\"SNX\",\"HT\",\"ETC\",\"SUSHI\",\"FLOW\",\"YFI\",\"ENS\",\"ANC\",\"MKR\",\"NEAR\",\"GLMR\",\"ONE\",\"FIL\",\"AUDIO\",\"BNT\",\"SRM\",\"EGLD\",\"SKL\",\"OKB\",\"MATIC\",\"CHZ\",\"KSM\",\"STX\",\"C98\",\"ADA\",\"HOT\",\"ENJ\",\"ICX\",\"SCRT\",\"XEM\",\"EOS\",\"LEO\",\"XRP\",\"ALGO\",\"DOGE\",\"RUNE\",\"LRC\",\"XTZ\",\"ONT\",\"CRO\",\"MINA\",\"LTC\",\"LINK\",\"CEL\",\"IOST\",\"BIT\",\"BSV\",\"CELO\",\"UST\",\"GALA\",\"ETH\",\"RNDR\",\"ROSE\",\"TRX\",\"MANA\",\"AVAX\",\"SHIB\",\"DOT\",\"DASH\",\"ICP\",\"UNI\",\"CAKE\",\"XLM\",\"HBAR\",\"GRT\",\"SC\",\"CVX\",\"BTT\",\"VET\",\"BTC\",\"THETA\",\"HNT\",\"USDT\",\"FXS\",\"BNB\",\"NEO\"],\"y\":[1.1999117008508993e-05,2.5662081975832115e-06,1.4756379739429127e-06,1.1155765596318956e-06,9.528249006608703e-07,8.204324232846597e-07,6.700756899824316e-07,6.338488353627646e-07,6.122566732395283e-07,5.677992858781127e-07,4.969383696044299e-07,2.9890357889175117e-07,2.9640717130264233e-07,2.9419613150017896e-07,2.9175168521322654e-07,2.8963232419088527e-07,2.845565877109265e-07,2.7634757202603286e-07,2.591685252290875e-07,2.302615421180867e-07,2.251741415456574e-07,2.2456851892330853e-07,2.0238409057063077e-07,1.863318451425865e-07,1.8630416380865855e-07,1.8429699924515597e-07,1.8298931035350521e-07,1.8108376161828737e-07,1.7974320191119846e-07,1.7806255310733865e-07,1.6903874201174064e-07,1.5874418352816134e-07,1.3391798662132476e-07,1.2815973329955017e-07,1.2605648445449314e-07,1.2113674750742762e-07,1.1834055196438093e-07,1.167560938828583e-07,1.16002503684962e-07,1.150921625587746e-07,1.1443408343838394e-07,1.10860283662233e-07,1.0786380037835652e-07,1.0584503705463293e-07,1.0175006708924154e-07,9.310566406342854e-08,9.021160176191612e-08,8.120236134055264e-08,7.471395836604583e-08,7.455707376391492e-08,6.933870972480616e-08,5.8984144173384574e-08,5.8297204537139334e-08,5.2699588444641194e-08,5.23338529140008e-08,5.1918396716019876e-08,5.060616143758887e-08,4.960099243015662e-08,4.91723265103667e-08,4.6353519638857417e-08,4.4817268359795326e-08,4.014166558391119e-08,3.985992836401944e-08,3.928491492935977e-08,3.811180743221136e-08,3.728581467173529e-08,3.722242581232463e-08,3.716434912212195e-08,3.6706271949106646e-08,3.557829853766245e-08,3.5375933962324515e-08,3.51696887574744e-08,3.4272418433936354e-08,3.113974485860268e-08,3.1088173490170574e-08,3.103901103543225e-08,2.839083548041093e-08,2.8149256830280636e-08,2.747939048170502e-08,2.653298169477534e-08,2.6522847633450883e-08,2.3608915837511677e-08,2.2123135596740067e-08,2.170071641099097e-08,2.1483163859102945e-08,2.1346167692161144e-08,2.0865340718848733e-08,1.9154845107214994e-08,1.852412304447793e-08,1.793585686739426e-08,1.7882149330777664e-08,1.535562337774181e-08,1.495762111639424e-08,1.3940688551301603e-08,1.3043796277432712e-08,1.2281796576163338e-08,1.2164166806350938e-08,1.1076341465287815e-08,1.0932717820893774e-08,9.408517115910252e-09,8.864966513009241e-09,8.524150705178137e-09,7.392626873010637e-09,7.331023140396407e-09,7.216578817961869e-09,7.066582999319133e-09,6.040760221288248e-09,4.4097785018647405e-09,4.362333606898657e-09,3.127600809010667e-09,2.715675866823072e-09,1.9596212846451967e-09,0.0,0.0,0.0],\"type\":\"scatter\",\"xaxis\":\"x\",\"yaxis\":\"y\"},{\"mode\":\"markers\",\"name\":\"OI-MCAP ratio\",\"x\":[\"LOOKS\",\"KNC\",\"WAVES\",\"RAY\",\"GMT\",\"FTT\",\"CRV\",\"DYDX\",\"AXS\",\"SLP\",\"1INCH\",\"REN\",\"SPELL\",\"LUNA\",\"BCH\",\"XMR\",\"COMP\",\"ATOM\",\"IMX\",\"FTM\",\"KAVA\",\"OMG\",\"SXP\",\"ZIL\",\"AR\",\"PERP\",\"DENT\",\"PAXG\",\"CUSDT\",\"APE\",\"QTUM\",\"AAVE\",\"SOL\",\"SAND\",\"XAUT\",\"ZRX\",\"BAT\",\"ZEC\",\"PEOPLE\",\"SNX\",\"HT\",\"ETC\",\"SUSHI\",\"FLOW\",\"YFI\",\"ENS\",\"ANC\",\"MKR\",\"NEAR\",\"GLMR\",\"ONE\",\"FIL\",\"AUDIO\",\"BNT\",\"SRM\",\"EGLD\",\"SKL\",\"OKB\",\"MATIC\",\"CHZ\",\"KSM\",\"STX\",\"C98\",\"ADA\",\"HOT\",\"ENJ\",\"ICX\",\"SCRT\",\"XEM\",\"EOS\",\"LEO\",\"XRP\",\"ALGO\",\"DOGE\",\"RUNE\",\"LRC\",\"XTZ\",\"ONT\",\"CRO\",\"MINA\",\"LTC\",\"LINK\",\"CEL\",\"IOST\",\"BIT\",\"BSV\",\"CELO\",\"UST\",\"GALA\",\"ETH\",\"RNDR\",\"ROSE\",\"TRX\",\"MANA\",\"AVAX\",\"SHIB\",\"DOT\",\"DASH\",\"ICP\",\"UNI\",\"CAKE\",\"XLM\",\"HBAR\",\"GRT\",\"SC\",\"CVX\",\"BTT\",\"VET\",\"BTC\",\"THETA\",\"HNT\",\"USDT\",\"FXS\",\"BNB\",\"NEO\"],\"y\":[0.11763840204420582,0.06935697831305977,0.02459396623238188,0.05577882798159478,0.04764124503304351,0.016408648465693194,0.019708108528895048,0.05762262139661497,0.01913302103873526,0.014558956048156739,0.016030269987239675,0.01868147368073445,0.012350298804276764,0.010507004696434964,0.00941134468429763,0.005266042258016096,0.01138226350843706,0.00952922662158734,0.009598834267743982,0.015350769474539113,0.005003869812125719,0.012476028829072696,0.00919927684411958,0.016939258649326046,0.00582200511902058,0.008377136329325272,0.004158847962579664,0.012072250774552491,0.0008600153201492749,0.019784728123037627,0.004448387947677385,0.01587441835281613,0.00787752862478381,0.009154266664253584,0.008403765630299542,0.004486546203978801,0.004226448284442176,0.009729674490238191,0.029000625921240503,0.008853243273751893,0.006731416672846114,0.005039103802828773,0.021572760075671302,0.0030241439158466554,0.01695834451487359,0.011638208007928568,0.003221842920068433,0.006246335487734819,0.012452326394340971,0.005735159520301149,0.006303519065891469,0.0045372418594911215,0.005829720453713933,0.0017566529481547065,0.017444617638000266,0.002472304605524756,0.008434360239598145,0.0008857320076813683,0.0049172326510366696,0.00421395633080522,0.004481726835979532,0.0011150462662197552,0.0036236298512744946,0.0020676271015452508,0.0008469290540491412,0.005326544953105042,0.003101868817693719,0.0013764573748934056,0.0017479177118622214,0.011859432845887483,0.0004421991745290564,0.002512120625533886,0.003808046492659595,0.0034599716509558535,0.010362724496723525,0.00620780220708645,0.003548854435051366,0.002345771402523386,0.0015266328045391677,0.0037904259563964772,0.005304569526690176,0.004721783167502335,0.001301360917455298,0.0012765127300582923,0.001342697741193934,0.005336541923040286,0.002980762959835533,0.0011267555945420585,0.009262061522238964,0.0025622652667706084,0.0029803582217962773,0.003071124675548362,0.0016619579018215824,0.0034851721378254008,0.00434793209247757,0.0009447535827817953,0.004054722268783646,0.002215268293057563,0.0021865435641787545,0.0018817034231820501,0.002954988837669747,0.0021310376762945344,0.0008214029858900707,0.007331023140396407,0.0009020723522452336,0.0023555276664397108,6.711955801431387e-05,0.0014699261672882467,0.0021811668034493283,0.0015638004045053337,0.0027156758668230724,0.0009798106423225983,0.0071050730389967945,0.000800446624609892,0.002843705814770192],\"type\":\"scatter\",\"xaxis\":\"x2\",\"yaxis\":\"y2\"},{\"mode\":\"markers\",\"name\":\"FR\",\"x\":[\"LOOKS\",\"KNC\",\"WAVES\",\"RAY\",\"GMT\",\"FTT\",\"CRV\",\"DYDX\",\"AXS\",\"SLP\",\"1INCH\",\"REN\",\"SPELL\",\"LUNA\",\"BCH\",\"XMR\",\"COMP\",\"ATOM\",\"IMX\",\"FTM\",\"KAVA\",\"OMG\",\"SXP\",\"ZIL\",\"AR\",\"PERP\",\"DENT\",\"PAXG\",\"CUSDT\",\"APE\",\"QTUM\",\"AAVE\",\"SOL\",\"SAND\",\"XAUT\",\"ZRX\",\"BAT\",\"ZEC\",\"PEOPLE\",\"SNX\",\"HT\",\"ETC\",\"SUSHI\",\"FLOW\",\"YFI\",\"ENS\",\"ANC\",\"MKR\",\"NEAR\",\"GLMR\",\"ONE\",\"FIL\",\"AUDIO\",\"BNT\",\"SRM\",\"EGLD\",\"SKL\",\"OKB\",\"MATIC\",\"CHZ\",\"KSM\",\"STX\",\"C98\",\"ADA\",\"HOT\",\"ENJ\",\"ICX\",\"SCRT\",\"XEM\",\"EOS\",\"LEO\",\"XRP\",\"ALGO\",\"DOGE\",\"RUNE\",\"LRC\",\"XTZ\",\"ONT\",\"CRO\",\"MINA\",\"LTC\",\"LINK\",\"CEL\",\"IOST\",\"BIT\",\"BSV\",\"CELO\",\"UST\",\"GALA\",\"ETH\",\"RNDR\",\"ROSE\",\"TRX\",\"MANA\",\"AVAX\",\"SHIB\",\"DOT\",\"DASH\",\"ICP\",\"UNI\",\"CAKE\",\"XLM\",\"HBAR\",\"GRT\",\"SC\",\"CVX\",\"BTT\",\"VET\",\"BTC\",\"THETA\",\"HNT\",\"USDT\",\"FXS\",\"BNB\",\"NEO\"],\"y\":[-0.000102,-3.7e-05,-6e-05,-2e-05,-2e-05,-5e-05,-3.4e-05,-1.1e-05,-3.2e-05,-3.9e-05,-3.1e-05,1.6e-05,2.4e-05,-2.8e-05,3.1e-05,5.5e-05,-2.5e-05,-2.9e-05,-2.7e-05,-1.5e-05,-4.5e-05,-1.8e-05,-2.2e-05,-1.1e-05,-3.2e-05,2.2e-05,-4.4e-05,1.5e-05,-0.000209,-9e-06,-3.8e-05,1e-05,-1.7e-05,-1.4e-05,1.5e-05,2.7e-05,-2.8e-05,1.2e-05,-4e-06,-1.3e-05,-1.7e-05,-2.2e-05,-5e-06,-3.5e-05,-6e-06,-8e-06,-2.8e-05,-1.3e-05,-6e-06,1.3e-05,-1.1e-05,1.3e-05,-1e-05,-3e-05,3e-06,2.1e-05,-6e-06,-5.6e-05,-1e-05,-1.1e-05,-1e-05,-3.6e-05,1.1e-05,-1.9e-05,4.5e-05,-7e-06,-1.2e-05,-2.7e-05,2.1e-05,3e-06,8e-05,1.4e-05,-9e-06,-9e-06,-3e-06,-5e-06,8e-06,1.2e-05,-1.8e-05,7e-06,5e-06,5e-06,1.7e-05,1.7e-05,1.6e-05,-4e-06,-7e-06,-1.7e-05,-2e-06,-7e-06,6e-06,-5e-06,-9e-06,4e-06,3e-06,-1.3e-05,-3e-06,-5e-06,-5e-06,5e-06,-3e-06,-4e-06,9e-06,1e-06,8e-06,3e-06,-9e-05,3e-06,-2e-06,2e-06,-1e-06,-2e-06,0.0,0.0,0.0],\"type\":\"scatter\",\"xaxis\":\"x3\",\"yaxis\":\"y3\"}],                        {\"template\":{\"data\":{\"bar\":[{\"error_x\":{\"color\":\"#2a3f5f\"},\"error_y\":{\"color\":\"#2a3f5f\"},\"marker\":{\"line\":{\"color\":\"#E5ECF6\",\"width\":0.5},\"pattern\":{\"fillmode\":\"overlay\",\"size\":10,\"solidity\":0.2}},\"type\":\"bar\"}],\"barpolar\":[{\"marker\":{\"line\":{\"color\":\"#E5ECF6\",\"width\":0.5},\"pattern\":{\"fillmode\":\"overlay\",\"size\":10,\"solidity\":0.2}},\"type\":\"barpolar\"}],\"carpet\":[{\"aaxis\":{\"endlinecolor\":\"#2a3f5f\",\"gridcolor\":\"white\",\"linecolor\":\"white\",\"minorgridcolor\":\"white\",\"startlinecolor\":\"#2a3f5f\"},\"baxis\":{\"endlinecolor\":\"#2a3f5f\",\"gridcolor\":\"white\",\"linecolor\":\"white\",\"minorgridcolor\":\"white\",\"startlinecolor\":\"#2a3f5f\"},\"type\":\"carpet\"}],\"choropleth\":[{\"colorbar\":{\"outlinewidth\":0,\"ticks\":\"\"},\"type\":\"choropleth\"}],\"contour\":[{\"colorbar\":{\"outlinewidth\":0,\"ticks\":\"\"},\"colorscale\":[[0.0,\"#0d0887\"],[0.1111111111111111,\"#46039f\"],[0.2222222222222222,\"#7201a8\"],[0.3333333333333333,\"#9c179e\"],[0.4444444444444444,\"#bd3786\"],[0.5555555555555556,\"#d8576b\"],[0.6666666666666666,\"#ed7953\"],[0.7777777777777778,\"#fb9f3a\"],[0.8888888888888888,\"#fdca26\"],[1.0,\"#f0f921\"]],\"type\":\"contour\"}],\"contourcarpet\":[{\"colorbar\":{\"outlinewidth\":0,\"ticks\":\"\"},\"type\":\"contourcarpet\"}],\"heatmap\":[{\"colorbar\":{\"outlinewidth\":0,\"ticks\":\"\"},\"colorscale\":[[0.0,\"#0d0887\"],[0.1111111111111111,\"#46039f\"],[0.2222222222222222,\"#7201a8\"],[0.3333333333333333,\"#9c179e\"],[0.4444444444444444,\"#bd3786\"],[0.5555555555555556,\"#d8576b\"],[0.6666666666666666,\"#ed7953\"],[0.7777777777777778,\"#fb9f3a\"],[0.8888888888888888,\"#fdca26\"],[1.0,\"#f0f921\"]],\"type\":\"heatmap\"}],\"heatmapgl\":[{\"colorbar\":{\"outlinewidth\":0,\"ticks\":\"\"},\"colorscale\":[[0.0,\"#0d0887\"],[0.1111111111111111,\"#46039f\"],[0.2222222222222222,\"#7201a8\"],[0.3333333333333333,\"#9c179e\"],[0.4444444444444444,\"#bd3786\"],[0.5555555555555556,\"#d8576b\"],[0.6666666666666666,\"#ed7953\"],[0.7777777777777778,\"#fb9f3a\"],[0.8888888888888888,\"#fdca26\"],[1.0,\"#f0f921\"]],\"type\":\"heatmapgl\"}],\"histogram\":[{\"marker\":{\"pattern\":{\"fillmode\":\"overlay\",\"size\":10,\"solidity\":0.2}},\"type\":\"histogram\"}],\"histogram2d\":[{\"colorbar\":{\"outlinewidth\":0,\"ticks\":\"\"},\"colorscale\":[[0.0,\"#0d0887\"],[0.1111111111111111,\"#46039f\"],[0.2222222222222222,\"#7201a8\"],[0.3333333333333333,\"#9c179e\"],[0.4444444444444444,\"#bd3786\"],[0.5555555555555556,\"#d8576b\"],[0.6666666666666666,\"#ed7953\"],[0.7777777777777778,\"#fb9f3a\"],[0.8888888888888888,\"#fdca26\"],[1.0,\"#f0f921\"]],\"type\":\"histogram2d\"}],\"histogram2dcontour\":[{\"colorbar\":{\"outlinewidth\":0,\"ticks\":\"\"},\"colorscale\":[[0.0,\"#0d0887\"],[0.1111111111111111,\"#46039f\"],[0.2222222222222222,\"#7201a8\"],[0.3333333333333333,\"#9c179e\"],[0.4444444444444444,\"#bd3786\"],[0.5555555555555556,\"#d8576b\"],[0.6666666666666666,\"#ed7953\"],[0.7777777777777778,\"#fb9f3a\"],[0.8888888888888888,\"#fdca26\"],[1.0,\"#f0f921\"]],\"type\":\"histogram2dcontour\"}],\"mesh3d\":[{\"colorbar\":{\"outlinewidth\":0,\"ticks\":\"\"},\"type\":\"mesh3d\"}],\"parcoords\":[{\"line\":{\"colorbar\":{\"outlinewidth\":0,\"ticks\":\"\"}},\"type\":\"parcoords\"}],\"pie\":[{\"automargin\":true,\"type\":\"pie\"}],\"scatter\":[{\"marker\":{\"colorbar\":{\"outlinewidth\":0,\"ticks\":\"\"}},\"type\":\"scatter\"}],\"scatter3d\":[{\"line\":{\"colorbar\":{\"outlinewidth\":0,\"ticks\":\"\"}},\"marker\":{\"colorbar\":{\"outlinewidth\":0,\"ticks\":\"\"}},\"type\":\"scatter3d\"}],\"scattercarpet\":[{\"marker\":{\"colorbar\":{\"outlinewidth\":0,\"ticks\":\"\"}},\"type\":\"scattercarpet\"}],\"scattergeo\":[{\"marker\":{\"colorbar\":{\"outlinewidth\":0,\"ticks\":\"\"}},\"type\":\"scattergeo\"}],\"scattergl\":[{\"marker\":{\"colorbar\":{\"outlinewidth\":0,\"ticks\":\"\"}},\"type\":\"scattergl\"}],\"scattermapbox\":[{\"marker\":{\"colorbar\":{\"outlinewidth\":0,\"ticks\":\"\"}},\"type\":\"scattermapbox\"}],\"scatterpolar\":[{\"marker\":{\"colorbar\":{\"outlinewidth\":0,\"ticks\":\"\"}},\"type\":\"scatterpolar\"}],\"scatterpolargl\":[{\"marker\":{\"colorbar\":{\"outlinewidth\":0,\"ticks\":\"\"}},\"type\":\"scatterpolargl\"}],\"scatterternary\":[{\"marker\":{\"colorbar\":{\"outlinewidth\":0,\"ticks\":\"\"}},\"type\":\"scatterternary\"}],\"surface\":[{\"colorbar\":{\"outlinewidth\":0,\"ticks\":\"\"},\"colorscale\":[[0.0,\"#0d0887\"],[0.1111111111111111,\"#46039f\"],[0.2222222222222222,\"#7201a8\"],[0.3333333333333333,\"#9c179e\"],[0.4444444444444444,\"#bd3786\"],[0.5555555555555556,\"#d8576b\"],[0.6666666666666666,\"#ed7953\"],[0.7777777777777778,\"#fb9f3a\"],[0.8888888888888888,\"#fdca26\"],[1.0,\"#f0f921\"]],\"type\":\"surface\"}],\"table\":[{\"cells\":{\"fill\":{\"color\":\"#EBF0F8\"},\"line\":{\"color\":\"white\"}},\"header\":{\"fill\":{\"color\":\"#C8D4E3\"},\"line\":{\"color\":\"white\"}},\"type\":\"table\"}]},\"layout\":{\"annotationdefaults\":{\"arrowcolor\":\"#2a3f5f\",\"arrowhead\":0,\"arrowwidth\":1},\"autotypenumbers\":\"strict\",\"coloraxis\":{\"colorbar\":{\"outlinewidth\":0,\"ticks\":\"\"}},\"colorscale\":{\"diverging\":[[0,\"#8e0152\"],[0.1,\"#c51b7d\"],[0.2,\"#de77ae\"],[0.3,\"#f1b6da\"],[0.4,\"#fde0ef\"],[0.5,\"#f7f7f7\"],[0.6,\"#e6f5d0\"],[0.7,\"#b8e186\"],[0.8,\"#7fbc41\"],[0.9,\"#4d9221\"],[1,\"#276419\"]],\"sequential\":[[0.0,\"#0d0887\"],[0.1111111111111111,\"#46039f\"],[0.2222222222222222,\"#7201a8\"],[0.3333333333333333,\"#9c179e\"],[0.4444444444444444,\"#bd3786\"],[0.5555555555555556,\"#d8576b\"],[0.6666666666666666,\"#ed7953\"],[0.7777777777777778,\"#fb9f3a\"],[0.8888888888888888,\"#fdca26\"],[1.0,\"#f0f921\"]],\"sequentialminus\":[[0.0,\"#0d0887\"],[0.1111111111111111,\"#46039f\"],[0.2222222222222222,\"#7201a8\"],[0.3333333333333333,\"#9c179e\"],[0.4444444444444444,\"#bd3786\"],[0.5555555555555556,\"#d8576b\"],[0.6666666666666666,\"#ed7953\"],[0.7777777777777778,\"#fb9f3a\"],[0.8888888888888888,\"#fdca26\"],[1.0,\"#f0f921\"]]},\"colorway\":[\"#636efa\",\"#EF553B\",\"#00cc96\",\"#ab63fa\",\"#FFA15A\",\"#19d3f3\",\"#FF6692\",\"#B6E880\",\"#FF97FF\",\"#FECB52\"],\"font\":{\"color\":\"#2a3f5f\"},\"geo\":{\"bgcolor\":\"white\",\"lakecolor\":\"white\",\"landcolor\":\"#E5ECF6\",\"showlakes\":true,\"showland\":true,\"subunitcolor\":\"white\"},\"hoverlabel\":{\"align\":\"left\"},\"hovermode\":\"closest\",\"mapbox\":{\"style\":\"light\"},\"paper_bgcolor\":\"white\",\"plot_bgcolor\":\"#E5ECF6\",\"polar\":{\"angularaxis\":{\"gridcolor\":\"white\",\"linecolor\":\"white\",\"ticks\":\"\"},\"bgcolor\":\"#E5ECF6\",\"radialaxis\":{\"gridcolor\":\"white\",\"linecolor\":\"white\",\"ticks\":\"\"}},\"scene\":{\"xaxis\":{\"backgroundcolor\":\"#E5ECF6\",\"gridcolor\":\"white\",\"gridwidth\":2,\"linecolor\":\"white\",\"showbackground\":true,\"ticks\":\"\",\"zerolinecolor\":\"white\"},\"yaxis\":{\"backgroundcolor\":\"#E5ECF6\",\"gridcolor\":\"white\",\"gridwidth\":2,\"linecolor\":\"white\",\"showbackground\":true,\"ticks\":\"\",\"zerolinecolor\":\"white\"},\"zaxis\":{\"backgroundcolor\":\"#E5ECF6\",\"gridcolor\":\"white\",\"gridwidth\":2,\"linecolor\":\"white\",\"showbackground\":true,\"ticks\":\"\",\"zerolinecolor\":\"white\"}},\"shapedefaults\":{\"line\":{\"color\":\"#2a3f5f\"}},\"ternary\":{\"aaxis\":{\"gridcolor\":\"white\",\"linecolor\":\"white\",\"ticks\":\"\"},\"baxis\":{\"gridcolor\":\"white\",\"linecolor\":\"white\",\"ticks\":\"\"},\"bgcolor\":\"#E5ECF6\",\"caxis\":{\"gridcolor\":\"white\",\"linecolor\":\"white\",\"ticks\":\"\"}},\"title\":{\"x\":0.05},\"xaxis\":{\"automargin\":true,\"gridcolor\":\"white\",\"linecolor\":\"white\",\"ticks\":\"\",\"title\":{\"standoff\":15},\"zerolinecolor\":\"white\",\"zerolinewidth\":2},\"yaxis\":{\"automargin\":true,\"gridcolor\":\"white\",\"linecolor\":\"white\",\"ticks\":\"\",\"title\":{\"standoff\":15},\"zerolinecolor\":\"white\",\"zerolinewidth\":2}}},\"xaxis\":{\"anchor\":\"y\",\"domain\":[0.0,1.0],\"matches\":\"x3\",\"showticklabels\":false},\"yaxis\":{\"anchor\":\"x\",\"domain\":[0.7333333333333333,1.0],\"type\":\"log\",\"title\":{\"text\":\"FOM metric (log scale)\"}},\"xaxis2\":{\"anchor\":\"y2\",\"domain\":[0.0,1.0],\"matches\":\"x3\",\"showticklabels\":false},\"yaxis2\":{\"anchor\":\"x2\",\"domain\":[0.36666666666666664,0.6333333333333333],\"title\":{\"text\":\"Open interest / Market cap\"}},\"xaxis3\":{\"anchor\":\"y3\",\"domain\":[0.0,1.0]},\"yaxis3\":{\"anchor\":\"x3\",\"domain\":[0.0,0.26666666666666666],\"title\":{\"text\":\"Funding rate\"}},\"shapes\":[{\"fillcolor\":\"green\",\"line\":{\"width\":0},\"opacity\":0.3,\"type\":\"rect\",\"x0\":0,\"x1\":1,\"xref\":\"x domain\",\"y0\":7.151827099730996e-07,\"y1\":1.1999117008508993e-05,\"yref\":\"y\"}],\"title\":{\"text\":\"Analyzed at 2022-04-16 21:50 UTC\"},\"height\":800,\"width\":1000},                        {\"responsive\": true}                    ).then(function(){\n",
       "                            \n",
       "var gd = document.getElementById('761d9bf8-ad88-4294-ba33-50c8d216a9ca');\n",
       "var x = new MutationObserver(function (mutations, observer) {{\n",
       "        var display = window.getComputedStyle(gd).display;\n",
       "        if (!display || display === 'none') {{\n",
       "            console.log([gd, 'removed!']);\n",
       "            Plotly.purge(gd);\n",
       "            observer.disconnect();\n",
       "        }}\n",
       "}});\n",
       "\n",
       "// Listen for the removal of the full notebook cells\n",
       "var notebookContainer = gd.closest('#notebook-container');\n",
       "if (notebookContainer) {{\n",
       "    x.observe(notebookContainer, {childList: true});\n",
       "}}\n",
       "\n",
       "// Listen for the clearing of the current output cell\n",
       "var outputEl = gd.closest('.output');\n",
       "if (outputEl) {{\n",
       "    x.observe(outputEl, {childList: true});\n",
       "}}\n",
       "\n",
       "                        })                };                });            </script>        </div>"
      ]
     },
     "metadata": {},
     "output_type": "display_data"
    }
   ],
   "source": [
    "fig = make_subplots(rows=3, cols=1, shared_xaxes=True)\n",
    "\n",
    "fig.add_trace(\n",
    "    go.Scatter(\n",
    "        x=df[\"name\"],\n",
    "        y=df[\"fom\"],\n",
    "        mode=\"markers\",\n",
    "        name=\"FOM\"\n",
    "    ),\n",
    "    row=1,\n",
    "    col=1\n",
    ")\n",
    "\n",
    "top_5_percentile = np.percentile(df[\"fom\"], 95)\n",
    "\n",
    "fig.add_hrect(\n",
    "    y0=top_5_percentile,\n",
    "    y1=df[\"fom\"].max(),\n",
    "    fillcolor=\"green\",\n",
    "    opacity=0.3,\n",
    "    line_width=0,\n",
    ")\n",
    "\n",
    "fig.add_trace(\n",
    "    go.Scatter(\n",
    "        x=df[\"name\"],\n",
    "        y=df[\"oi_macp_ratio\"],\n",
    "        mode=\"markers\",\n",
    "        name=\"OI-MCAP ratio\"\n",
    "    ),\n",
    "    row=2,\n",
    "    col=1\n",
    ")\n",
    "\n",
    "fig.add_trace(\n",
    "    go.Scatter(\n",
    "        x=df[\"name\"],\n",
    "        y=df[\"funding_rate\"],\n",
    "        mode=\"markers\",\n",
    "        name=\"FR\"\n",
    "    ),\n",
    "    row=3,\n",
    "    col=1\n",
    ")\n",
    "\n",
    "\n",
    "fig['layout']['yaxis']['type'] = 'log'\n",
    "fig['layout']['yaxis']['title'] = 'FOM metric (log scale)'\n",
    "\n",
    "fig['layout']['yaxis2']['title'] = 'Open interest / Market cap'\n",
    "fig['layout']['yaxis3']['title'] = 'Funding rate'\n",
    "\n",
    "fig.update_layout(\n",
    "    title=f\"Analyzed at {datetime.now().strftime('%Y-%m-%d %H:%M')} UTC\",\n",
    "    height=800, width=1000\n",
    ")\n",
    "\n",
    "fig.write_image(\"../images/fom_metric.png\")\n",
    "fig.show()"
   ]
  },
  {
   "cell_type": "code",
   "execution_count": 6,
   "id": "f93027b8-ecf2-4582-81f5-389cfc46cbb5",
   "metadata": {},
   "outputs": [
    {
     "data": {
      "text/html": [
       "<div>\n",
       "<style scoped>\n",
       "    .dataframe tbody tr th:only-of-type {\n",
       "        vertical-align: middle;\n",
       "    }\n",
       "\n",
       "    .dataframe tbody tr th {\n",
       "        vertical-align: top;\n",
       "    }\n",
       "\n",
       "    .dataframe thead th {\n",
       "        text-align: right;\n",
       "    }\n",
       "</style>\n",
       "<table border=\"1\" class=\"dataframe\">\n",
       "  <thead>\n",
       "    <tr style=\"text-align: right;\">\n",
       "      <th></th>\n",
       "      <th>market</th>\n",
       "      <th>name</th>\n",
       "      <th>open_interest</th>\n",
       "      <th>funding_rate</th>\n",
       "      <th>market_cap</th>\n",
       "      <th>oi_macp_ratio</th>\n",
       "      <th>fom</th>\n",
       "    </tr>\n",
       "  </thead>\n",
       "  <tbody>\n",
       "    <tr>\n",
       "      <th>62</th>\n",
       "      <td>LOOKS-PERP</td>\n",
       "      <td>LOOKS</td>\n",
       "      <td>4.248326e+07</td>\n",
       "      <td>-0.000102</td>\n",
       "      <td>3.611343e+08</td>\n",
       "      <td>0.117638</td>\n",
       "      <td>1.199912e-05</td>\n",
       "    </tr>\n",
       "    <tr>\n",
       "      <th>58</th>\n",
       "      <td>KNC-PERP</td>\n",
       "      <td>KNC</td>\n",
       "      <td>3.095135e+07</td>\n",
       "      <td>-0.000037</td>\n",
       "      <td>4.462615e+08</td>\n",
       "      <td>0.069357</td>\n",
       "      <td>2.566208e-06</td>\n",
       "    </tr>\n",
       "    <tr>\n",
       "      <th>104</th>\n",
       "      <td>WAVES-PERP</td>\n",
       "      <td>WAVES</td>\n",
       "      <td>5.276258e+07</td>\n",
       "      <td>-0.000060</td>\n",
       "      <td>2.145346e+09</td>\n",
       "      <td>0.024594</td>\n",
       "      <td>1.475638e-06</td>\n",
       "    </tr>\n",
       "    <tr>\n",
       "      <th>80</th>\n",
       "      <td>RAY-PERP</td>\n",
       "      <td>RAY</td>\n",
       "      <td>1.489809e+07</td>\n",
       "      <td>-0.000020</td>\n",
       "      <td>2.670922e+08</td>\n",
       "      <td>0.055779</td>\n",
       "      <td>1.115577e-06</td>\n",
       "    </tr>\n",
       "    <tr>\n",
       "      <th>47</th>\n",
       "      <td>GMT-PERP</td>\n",
       "      <td>GMT</td>\n",
       "      <td>6.811122e+07</td>\n",
       "      <td>-0.000020</td>\n",
       "      <td>1.429669e+09</td>\n",
       "      <td>0.047641</td>\n",
       "      <td>9.528249e-07</td>\n",
       "    </tr>\n",
       "    <tr>\n",
       "      <th>43</th>\n",
       "      <td>FTT-PERP</td>\n",
       "      <td>FTT</td>\n",
       "      <td>9.326948e+07</td>\n",
       "      <td>-0.000050</td>\n",
       "      <td>5.684166e+09</td>\n",
       "      <td>0.016409</td>\n",
       "      <td>8.204324e-07</td>\n",
       "    </tr>\n",
       "  </tbody>\n",
       "</table>\n",
       "</div>"
      ],
      "text/plain": [
       "         market   name  open_interest  funding_rate    market_cap  \\\n",
       "62   LOOKS-PERP  LOOKS   4.248326e+07     -0.000102  3.611343e+08   \n",
       "58     KNC-PERP    KNC   3.095135e+07     -0.000037  4.462615e+08   \n",
       "104  WAVES-PERP  WAVES   5.276258e+07     -0.000060  2.145346e+09   \n",
       "80     RAY-PERP    RAY   1.489809e+07     -0.000020  2.670922e+08   \n",
       "47     GMT-PERP    GMT   6.811122e+07     -0.000020  1.429669e+09   \n",
       "43     FTT-PERP    FTT   9.326948e+07     -0.000050  5.684166e+09   \n",
       "\n",
       "     oi_macp_ratio           fom  \n",
       "62        0.117638  1.199912e-05  \n",
       "58        0.069357  2.566208e-06  \n",
       "104       0.024594  1.475638e-06  \n",
       "80        0.055779  1.115577e-06  \n",
       "47        0.047641  9.528249e-07  \n",
       "43        0.016409  8.204324e-07  "
      ]
     },
     "execution_count": 6,
     "metadata": {},
     "output_type": "execute_result"
    }
   ],
   "source": [
    "df[df[\"fom\"] > top_5_percentile]"
   ]
  },
  {
   "cell_type": "markdown",
   "id": "29e50e1f-87ca-47b2-b72b-bd9fe3e7284d",
   "metadata": {},
   "source": [
    "## LooksRare and STEPN\n",
    "Intrestingly, we see names like LooksRare (LOOKS) and STEPN (GMT) showing very strong negative bias. The case of GMT is particularly interesting, as the team recently announced a buyback and burn mechanism. From the data, the futures market participants do not appear to believe that will lead to positive price action for GMT. The token has performed reasonably well, and is currently at $2.19 (over 330% since listing, and several thousand percent for private investors). Could this be a mechanism for hedging their position?\n",
    "\n",
    "## Smooth Love Potion\n",
    "Another intersting case is Smooth Love Position (SLP), where the bias leans positive. The SLP token has not performed so strongly, and is currently down over 94% from listing. The SLP chart is quite interesting, as it has these very large impulse upward moves on high volume. These moves turn into wicks, as it appears people are selling into the impulse. Could the strong positive perp bias be an indication of a potential upcoming move?"
   ]
  },
  {
   "cell_type": "markdown",
   "id": "cd22cecf-b994-4a78-a215-281ca238401d",
   "metadata": {},
   "source": [
    "# Plot the variation of FOM with time"
   ]
  },
  {
   "cell_type": "code",
   "execution_count": null,
   "id": "52e764f2-54be-4fd1-b6dc-fda54c727d91",
   "metadata": {},
   "outputs": [],
   "source": [
    "fig = make_subplots()\n",
    "\n",
    "while True:\n",
    "    clear_output(wait=True)\n",
    "    \n",
    "    df = get_futures_data()\n",
    "    df = get_market_cap_data(df)\n",
    "    df[\"oi_macsp_ratio\"] = df[\"open_interest\"] / df[\"market_cap\"]\n",
    "    df[\"fom\"] = df[\"oi_macp_ratio\"] *  df[\"funding_rate\"].abs()\n",
    "    df = df.sort_values(\"fom\", ascending=False).head()\n",
    "    \n",
    "    display(df)\n",
    "    \n",
    "    fig.append_trace(\n",
    "        go.Scatter(\n",
    "            x=df[\"market\"],\n",
    "            y=df[\"fom\"],\n",
    "            mode=\"markers\",\n",
    "            name=f\"{datetime.now()}\"\n",
    "        ),\n",
    "        row=1,\n",
    "        col=1,\n",
    "    )\n",
    "\n",
    "    fig.show()\n",
    "    \n",
    "    time.sleep(60 * 30)"
   ]
  }
 ],
 "metadata": {
  "kernelspec": {
   "display_name": "market_analytics",
   "language": "python",
   "name": "market_analytics"
  },
  "language_info": {
   "codemirror_mode": {
    "name": "ipython",
    "version": 3
   },
   "file_extension": ".py",
   "mimetype": "text/x-python",
   "name": "python",
   "nbconvert_exporter": "python",
   "pygments_lexer": "ipython3",
   "version": "3.10.0"
  }
 },
 "nbformat": 4,
 "nbformat_minor": 5
}
