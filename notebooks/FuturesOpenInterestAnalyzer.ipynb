{
 "cells": [
  {
   "cell_type": "code",
   "execution_count": 1,
   "id": "99cce7e9-c6d7-4b8f-b17e-c593a47739c8",
   "metadata": {},
   "outputs": [],
   "source": [
    "import time\n",
    "import numpy as np\n",
    "import pandas as pd\n",
    "from datetime import datetime\n",
    "\n",
    "from ftx import FtxClient\n",
    "from pycoingecko import CoinGeckoAPI\n",
    "\n",
    "from IPython.display import display, clear_output\n",
    "import plotly.graph_objects as go\n",
    "from plotly.subplots import make_subplots"
   ]
  },
  {
   "cell_type": "markdown",
   "id": "087d1ecb-0664-4cbd-8b07-8713d4ceeef0",
   "metadata": {},
   "source": [
    "# Get futures and funding rates from FTX"
   ]
  },
  {
   "cell_type": "code",
   "execution_count": 2,
   "id": "224fc096-98b2-4535-bb40-bac29382cb58",
   "metadata": {},
   "outputs": [],
   "source": [
    "def get_futures_data() -> pd.DataFrame:\n",
    "    ftx = FtxClient()\n",
    "\n",
    "    futures = ftx.get_futures()\n",
    "    funding_rates = ftx.get_funding_rates()\n",
    "\n",
    "    df = pd.DataFrame(columns=[\"market\", \"name\", \"open_interest\", \"funding_rate\"])\n",
    "\n",
    "    idx = 0\n",
    "    for future in futures:\n",
    "        if future[\"perpetual\"]:\n",
    "            for funding in funding_rates:\n",
    "                if funding[\"future\"] == future[\"name\"]:\n",
    "                    funding_rate = funding[\"rate\"]\n",
    "                    break\n",
    "            df.loc[idx] = [future[\"name\"], future[\"underlying\"], future[\"openInterestUsd\"], funding_rate]\n",
    "            idx += 1\n",
    "    \n",
    "    return df"
   ]
  },
  {
   "cell_type": "markdown",
   "id": "dd63bb66-b70b-4f79-9930-3b8e8437329d",
   "metadata": {},
   "source": [
    "# Get market caps from CoinGecko"
   ]
  },
  {
   "cell_type": "code",
   "execution_count": 3,
   "id": "1ed1cc21-eee8-4377-aa22-151e2ba1c6ba",
   "metadata": {},
   "outputs": [],
   "source": [
    "def get_market_cap_data(df: pd.DataFrame) -> pd.DataFrame:\n",
    "    cg = CoinGeckoAPI()\n",
    "    markets = cg.get_coins_markets(vs_currency=[\"usd\"], per_page=250)\n",
    "    \n",
    "    market_caps = np.zeros(len(df))\n",
    "\n",
    "    for idx, name in enumerate(df[\"name\"]):\n",
    "        market_cap = 0\n",
    "        for market in markets:\n",
    "            if name.lower() == market[\"symbol\"].lower():\n",
    "                market_cap = market[\"market_cap\"]\n",
    "                break\n",
    "        market_caps[idx] = market_cap\n",
    "\n",
    "    df[\"market_cap\"] = market_caps\n",
    "\n",
    "    # Remove any values without market caps\n",
    "    df = df[df[\"market_cap\"] != 0]\n",
    "    df = df.reset_index(drop=True)\n",
    "    \n",
    "    return df"
   ]
  },
  {
   "cell_type": "markdown",
   "id": "39aa6891-b554-4921-954f-ddc6530c18c7",
   "metadata": {},
   "source": [
    "# Calculate the FOM metric\n",
    "\n",
    "The calculation of the derived metric is simple, the idea is to take the open interest in the market $i$ and normalize it with the market cap. This ratio can be then multiplied with the absolute value of the funding rate. A large value would indicate a strong perp bias towards one direction. The direction is indicated by the sign of the funding rate. \n",
    "\n",
    "Let, \n",
    "$$ FR_i = \\text{funding rate of market i} $$\n",
    "$$ OI_i = \\text{open interest of market i} $$\n",
    "$$ MC_i = \\text{market cap of market i} $$\n",
    "\n",
    "\n",
    "The derived FOM metric, \n",
    "\n",
    "$$ FOM_i = \\left(\\frac{OI_i}{MC_i}\\right) \\times abs(FR_i) $$"
   ]
  },
  {
   "cell_type": "code",
   "execution_count": 9,
   "id": "7f82a4a8-ef4b-4b78-b58d-6d8d09a792ff",
   "metadata": {},
   "outputs": [],
   "source": [
    "df = get_futures_data()\n",
    "df = get_market_cap_data(df)\n",
    "df[\"oi_macp_ratio\"] = df[\"open_interest\"] / df[\"market_cap\"]\n",
    "df[\"fom\"] = df[\"oi_macp_ratio\"] *  df[\"funding_rate\"].abs()\n",
    "df = df.sort_values(\"fom\", ascending=False)"
   ]
  },
  {
   "cell_type": "markdown",
   "id": "7b9f09aa-fee7-4090-acdd-0a46198bf1ba",
   "metadata": {},
   "source": [
    "# Plotting the FOM\n",
    "\n",
    "We see a strong variation in FOM across different cryptos. We can filter this by looking at the top 5 percentile."
   ]
  },
  {
   "cell_type": "code",
   "execution_count": 15,
   "id": "8420ebdc-75ea-4a86-9d3e-3e4bee4fd54e",
   "metadata": {},
   "outputs": [
    {
     "data": {
      "application/vnd.plotly.v1+json": {
       "config": {
        "plotlyServerURL": "https://plot.ly"
       },
       "data": [
        {
         "mode": "markers",
         "type": "scatter",
         "x": [
          "LOOKS",
          "GMT",
          "RAY",
          "WAVES",
          "DYDX",
          "AXS",
          "SUSHI",
          "KNC",
          "SPELL",
          "FTM",
          "CRV",
          "ATOM",
          "PAXG",
          "DENT",
          "KAVA",
          "ZEC",
          "YFI",
          "XMR",
          "REN",
          "SRM",
          "NEAR",
          "SNX",
          "LUNA",
          "MKR",
          "CHR",
          "SLP",
          "OMG",
          "SCRT",
          "RUNE",
          "ZIL",
          "XAUT",
          "QTUM",
          "1INCH",
          "COMP",
          "SOL",
          "ENS",
          "ENJ",
          "RNDR",
          "SXP",
          "ETC",
          "CRO",
          "HT",
          "BSV",
          "BCH",
          "BAT",
          "CAKE",
          "BNT",
          "DOGE",
          "ONE",
          "SKL",
          "AVAX",
          "DOT",
          "AR",
          "STX",
          "AUDIO",
          "ONT",
          "ZRX",
          "IMX",
          "FLOW",
          "XRP",
          "FXS",
          "MATIC",
          "PERP",
          "XEM",
          "KSM",
          "APE",
          "LRC",
          "LINK",
          "FIL",
          "HNT",
          "PEOPLE",
          "LEO",
          "DASH",
          "MINA",
          "BIT",
          "C98",
          "ADA",
          "ALGO",
          "XTZ",
          "MANA",
          "ETH",
          "GALA",
          "ICX",
          "SAND",
          "UST",
          "EGLD",
          "ANC",
          "LTC",
          "BTC",
          "AAVE",
          "GRT",
          "SHIB",
          "HOT",
          "THETA",
          "CHZ",
          "UNI",
          "CVX",
          "NEO",
          "VET",
          "GLMR",
          "CUSDT",
          "EOS",
          "ROSE",
          "BNB",
          "IOST",
          "CEL",
          "HBAR",
          "XLM",
          "ICP",
          "SC",
          "CELO",
          "BTT",
          "OKB",
          "USDT",
          "TRX",
          "FTT"
         ],
         "xaxis": "x",
         "y": [
          1.7582657949438864e-05,
          3.658831623796498e-06,
          1.2552994777956492e-06,
          1.2048535467549053e-06,
          6.764207982793925e-07,
          5.579596750469053e-07,
          4.343071177408553e-07,
          4.1428794620828085e-07,
          3.930313381626986e-07,
          3.357568957183828e-07,
          2.870901306440406e-07,
          2.823642471965634e-07,
          2.7564251802309666e-07,
          2.627910486338556e-07,
          2.5600600091559626e-07,
          2.516552816595514e-07,
          2.4843888751772375e-07,
          2.384578077721356e-07,
          2.2274776336491645e-07,
          2.143322249100941e-07,
          2.0999982038733155e-07,
          2.0911907516193834e-07,
          1.9797161493665898e-07,
          1.94206240705385e-07,
          1.8744828671614632e-07,
          1.7325347004765712e-07,
          1.7271097424870447e-07,
          1.6511297823107006e-07,
          1.5288202498716538e-07,
          1.453682223548959e-07,
          1.4486492640738377e-07,
          1.34569465897531e-07,
          1.2761377948238316e-07,
          1.2167515433578627e-07,
          1.0751296225920387e-07,
          1.0655196684325658e-07,
          1.0332252679900026e-07,
          9.945983646832301e-08,
          9.714072597022336e-08,
          9.610165486742778e-08,
          9.583690819994345e-08,
          9.337606893865876e-08,
          8.847082770151612e-08,
          8.077973886195972e-08,
          8.007913762708433e-08,
          7.10487212078654e-08,
          6.843866185325604e-08,
          6.518211665088245e-08,
          6.438911133393112e-08,
          5.8658014239359546e-08,
          5.829357878328086e-08,
          5.8026339687395505e-08,
          5.75147124256839e-08,
          5.5626451246888504e-08,
          5.470233534393502e-08,
          4.93618848705154e-08,
          4.718176898151317e-08,
          4.6367369429832384e-08,
          4.610660066512272e-08,
          4.599694028897899e-08,
          4.478311036630761e-08,
          4.4526131830920154e-08,
          4.016599279569502e-08,
          3.985541705591296e-08,
          3.9499829081639634e-08,
          3.8196023015975396e-08,
          3.71656289457452e-08,
          3.5963511217132896e-08,
          3.143237744543726e-08,
          3.032722578332604e-08,
          2.9409710665994624e-08,
          2.754159643820491e-08,
          2.655363867819564e-08,
          2.4701793852251566e-08,
          2.402842734198229e-08,
          2.3961619812616424e-08,
          2.2575929231252257e-08,
          2.2441307774835115e-08,
          2.119096179910502e-08,
          2.0735828860674088e-08,
          2.054770229394157e-08,
          1.8269472182766408e-08,
          1.8110454120199746e-08,
          1.7812195217495522e-08,
          1.7265844539282277e-08,
          1.6956129609926715e-08,
          1.5832832380684545e-08,
          1.5696356603381288e-08,
          1.5473847366479284e-08,
          1.514089612372729e-08,
          1.4700452781206282e-08,
          1.415577261840186e-08,
          1.2804941383324442e-08,
          1.268637074562013e-08,
          1.2578341948935431e-08,
          1.1522801815924682e-08,
          1.1326077597372927e-08,
          1.0819771792701389e-08,
          1.0731658394674739e-08,
          1.0668023019719173e-08,
          1.0324215829499246e-08,
          9.314616672792516e-09,
          9.2604973828405e-09,
          7.93169621659342e-09,
          7.597595940147125e-09,
          7.572210292247019e-09,
          4.834593472944685e-09,
          4.600958704611826e-09,
          4.447181869531787e-09,
          3.197616803425585e-09,
          2.9614884362440338e-09,
          2.5392778223563354e-09,
          8.317137712886199e-10,
          0,
          0,
          0
         ],
         "yaxis": "y"
        }
       ],
       "layout": {
        "height": 400,
        "shapes": [
         {
          "line": {
           "color": "green",
           "dash": "dash",
           "width": 3
          },
          "type": "line",
          "x0": 0,
          "x1": 1,
          "xref": "x domain",
          "y0": 4.652202570673678e-07,
          "y1": 4.652202570673678e-07,
          "yref": "y"
         }
        ],
        "template": {
         "data": {
          "bar": [
           {
            "error_x": {
             "color": "#2a3f5f"
            },
            "error_y": {
             "color": "#2a3f5f"
            },
            "marker": {
             "line": {
              "color": "#E5ECF6",
              "width": 0.5
             },
             "pattern": {
              "fillmode": "overlay",
              "size": 10,
              "solidity": 0.2
             }
            },
            "type": "bar"
           }
          ],
          "barpolar": [
           {
            "marker": {
             "line": {
              "color": "#E5ECF6",
              "width": 0.5
             },
             "pattern": {
              "fillmode": "overlay",
              "size": 10,
              "solidity": 0.2
             }
            },
            "type": "barpolar"
           }
          ],
          "carpet": [
           {
            "aaxis": {
             "endlinecolor": "#2a3f5f",
             "gridcolor": "white",
             "linecolor": "white",
             "minorgridcolor": "white",
             "startlinecolor": "#2a3f5f"
            },
            "baxis": {
             "endlinecolor": "#2a3f5f",
             "gridcolor": "white",
             "linecolor": "white",
             "minorgridcolor": "white",
             "startlinecolor": "#2a3f5f"
            },
            "type": "carpet"
           }
          ],
          "choropleth": [
           {
            "colorbar": {
             "outlinewidth": 0,
             "ticks": ""
            },
            "type": "choropleth"
           }
          ],
          "contour": [
           {
            "colorbar": {
             "outlinewidth": 0,
             "ticks": ""
            },
            "colorscale": [
             [
              0,
              "#0d0887"
             ],
             [
              0.1111111111111111,
              "#46039f"
             ],
             [
              0.2222222222222222,
              "#7201a8"
             ],
             [
              0.3333333333333333,
              "#9c179e"
             ],
             [
              0.4444444444444444,
              "#bd3786"
             ],
             [
              0.5555555555555556,
              "#d8576b"
             ],
             [
              0.6666666666666666,
              "#ed7953"
             ],
             [
              0.7777777777777778,
              "#fb9f3a"
             ],
             [
              0.8888888888888888,
              "#fdca26"
             ],
             [
              1,
              "#f0f921"
             ]
            ],
            "type": "contour"
           }
          ],
          "contourcarpet": [
           {
            "colorbar": {
             "outlinewidth": 0,
             "ticks": ""
            },
            "type": "contourcarpet"
           }
          ],
          "heatmap": [
           {
            "colorbar": {
             "outlinewidth": 0,
             "ticks": ""
            },
            "colorscale": [
             [
              0,
              "#0d0887"
             ],
             [
              0.1111111111111111,
              "#46039f"
             ],
             [
              0.2222222222222222,
              "#7201a8"
             ],
             [
              0.3333333333333333,
              "#9c179e"
             ],
             [
              0.4444444444444444,
              "#bd3786"
             ],
             [
              0.5555555555555556,
              "#d8576b"
             ],
             [
              0.6666666666666666,
              "#ed7953"
             ],
             [
              0.7777777777777778,
              "#fb9f3a"
             ],
             [
              0.8888888888888888,
              "#fdca26"
             ],
             [
              1,
              "#f0f921"
             ]
            ],
            "type": "heatmap"
           }
          ],
          "heatmapgl": [
           {
            "colorbar": {
             "outlinewidth": 0,
             "ticks": ""
            },
            "colorscale": [
             [
              0,
              "#0d0887"
             ],
             [
              0.1111111111111111,
              "#46039f"
             ],
             [
              0.2222222222222222,
              "#7201a8"
             ],
             [
              0.3333333333333333,
              "#9c179e"
             ],
             [
              0.4444444444444444,
              "#bd3786"
             ],
             [
              0.5555555555555556,
              "#d8576b"
             ],
             [
              0.6666666666666666,
              "#ed7953"
             ],
             [
              0.7777777777777778,
              "#fb9f3a"
             ],
             [
              0.8888888888888888,
              "#fdca26"
             ],
             [
              1,
              "#f0f921"
             ]
            ],
            "type": "heatmapgl"
           }
          ],
          "histogram": [
           {
            "marker": {
             "pattern": {
              "fillmode": "overlay",
              "size": 10,
              "solidity": 0.2
             }
            },
            "type": "histogram"
           }
          ],
          "histogram2d": [
           {
            "colorbar": {
             "outlinewidth": 0,
             "ticks": ""
            },
            "colorscale": [
             [
              0,
              "#0d0887"
             ],
             [
              0.1111111111111111,
              "#46039f"
             ],
             [
              0.2222222222222222,
              "#7201a8"
             ],
             [
              0.3333333333333333,
              "#9c179e"
             ],
             [
              0.4444444444444444,
              "#bd3786"
             ],
             [
              0.5555555555555556,
              "#d8576b"
             ],
             [
              0.6666666666666666,
              "#ed7953"
             ],
             [
              0.7777777777777778,
              "#fb9f3a"
             ],
             [
              0.8888888888888888,
              "#fdca26"
             ],
             [
              1,
              "#f0f921"
             ]
            ],
            "type": "histogram2d"
           }
          ],
          "histogram2dcontour": [
           {
            "colorbar": {
             "outlinewidth": 0,
             "ticks": ""
            },
            "colorscale": [
             [
              0,
              "#0d0887"
             ],
             [
              0.1111111111111111,
              "#46039f"
             ],
             [
              0.2222222222222222,
              "#7201a8"
             ],
             [
              0.3333333333333333,
              "#9c179e"
             ],
             [
              0.4444444444444444,
              "#bd3786"
             ],
             [
              0.5555555555555556,
              "#d8576b"
             ],
             [
              0.6666666666666666,
              "#ed7953"
             ],
             [
              0.7777777777777778,
              "#fb9f3a"
             ],
             [
              0.8888888888888888,
              "#fdca26"
             ],
             [
              1,
              "#f0f921"
             ]
            ],
            "type": "histogram2dcontour"
           }
          ],
          "mesh3d": [
           {
            "colorbar": {
             "outlinewidth": 0,
             "ticks": ""
            },
            "type": "mesh3d"
           }
          ],
          "parcoords": [
           {
            "line": {
             "colorbar": {
              "outlinewidth": 0,
              "ticks": ""
             }
            },
            "type": "parcoords"
           }
          ],
          "pie": [
           {
            "automargin": true,
            "type": "pie"
           }
          ],
          "scatter": [
           {
            "marker": {
             "colorbar": {
              "outlinewidth": 0,
              "ticks": ""
             }
            },
            "type": "scatter"
           }
          ],
          "scatter3d": [
           {
            "line": {
             "colorbar": {
              "outlinewidth": 0,
              "ticks": ""
             }
            },
            "marker": {
             "colorbar": {
              "outlinewidth": 0,
              "ticks": ""
             }
            },
            "type": "scatter3d"
           }
          ],
          "scattercarpet": [
           {
            "marker": {
             "colorbar": {
              "outlinewidth": 0,
              "ticks": ""
             }
            },
            "type": "scattercarpet"
           }
          ],
          "scattergeo": [
           {
            "marker": {
             "colorbar": {
              "outlinewidth": 0,
              "ticks": ""
             }
            },
            "type": "scattergeo"
           }
          ],
          "scattergl": [
           {
            "marker": {
             "colorbar": {
              "outlinewidth": 0,
              "ticks": ""
             }
            },
            "type": "scattergl"
           }
          ],
          "scattermapbox": [
           {
            "marker": {
             "colorbar": {
              "outlinewidth": 0,
              "ticks": ""
             }
            },
            "type": "scattermapbox"
           }
          ],
          "scatterpolar": [
           {
            "marker": {
             "colorbar": {
              "outlinewidth": 0,
              "ticks": ""
             }
            },
            "type": "scatterpolar"
           }
          ],
          "scatterpolargl": [
           {
            "marker": {
             "colorbar": {
              "outlinewidth": 0,
              "ticks": ""
             }
            },
            "type": "scatterpolargl"
           }
          ],
          "scatterternary": [
           {
            "marker": {
             "colorbar": {
              "outlinewidth": 0,
              "ticks": ""
             }
            },
            "type": "scatterternary"
           }
          ],
          "surface": [
           {
            "colorbar": {
             "outlinewidth": 0,
             "ticks": ""
            },
            "colorscale": [
             [
              0,
              "#0d0887"
             ],
             [
              0.1111111111111111,
              "#46039f"
             ],
             [
              0.2222222222222222,
              "#7201a8"
             ],
             [
              0.3333333333333333,
              "#9c179e"
             ],
             [
              0.4444444444444444,
              "#bd3786"
             ],
             [
              0.5555555555555556,
              "#d8576b"
             ],
             [
              0.6666666666666666,
              "#ed7953"
             ],
             [
              0.7777777777777778,
              "#fb9f3a"
             ],
             [
              0.8888888888888888,
              "#fdca26"
             ],
             [
              1,
              "#f0f921"
             ]
            ],
            "type": "surface"
           }
          ],
          "table": [
           {
            "cells": {
             "fill": {
              "color": "#EBF0F8"
             },
             "line": {
              "color": "white"
             }
            },
            "header": {
             "fill": {
              "color": "#C8D4E3"
             },
             "line": {
              "color": "white"
             }
            },
            "type": "table"
           }
          ]
         },
         "layout": {
          "annotationdefaults": {
           "arrowcolor": "#2a3f5f",
           "arrowhead": 0,
           "arrowwidth": 1
          },
          "autotypenumbers": "strict",
          "coloraxis": {
           "colorbar": {
            "outlinewidth": 0,
            "ticks": ""
           }
          },
          "colorscale": {
           "diverging": [
            [
             0,
             "#8e0152"
            ],
            [
             0.1,
             "#c51b7d"
            ],
            [
             0.2,
             "#de77ae"
            ],
            [
             0.3,
             "#f1b6da"
            ],
            [
             0.4,
             "#fde0ef"
            ],
            [
             0.5,
             "#f7f7f7"
            ],
            [
             0.6,
             "#e6f5d0"
            ],
            [
             0.7,
             "#b8e186"
            ],
            [
             0.8,
             "#7fbc41"
            ],
            [
             0.9,
             "#4d9221"
            ],
            [
             1,
             "#276419"
            ]
           ],
           "sequential": [
            [
             0,
             "#0d0887"
            ],
            [
             0.1111111111111111,
             "#46039f"
            ],
            [
             0.2222222222222222,
             "#7201a8"
            ],
            [
             0.3333333333333333,
             "#9c179e"
            ],
            [
             0.4444444444444444,
             "#bd3786"
            ],
            [
             0.5555555555555556,
             "#d8576b"
            ],
            [
             0.6666666666666666,
             "#ed7953"
            ],
            [
             0.7777777777777778,
             "#fb9f3a"
            ],
            [
             0.8888888888888888,
             "#fdca26"
            ],
            [
             1,
             "#f0f921"
            ]
           ],
           "sequentialminus": [
            [
             0,
             "#0d0887"
            ],
            [
             0.1111111111111111,
             "#46039f"
            ],
            [
             0.2222222222222222,
             "#7201a8"
            ],
            [
             0.3333333333333333,
             "#9c179e"
            ],
            [
             0.4444444444444444,
             "#bd3786"
            ],
            [
             0.5555555555555556,
             "#d8576b"
            ],
            [
             0.6666666666666666,
             "#ed7953"
            ],
            [
             0.7777777777777778,
             "#fb9f3a"
            ],
            [
             0.8888888888888888,
             "#fdca26"
            ],
            [
             1,
             "#f0f921"
            ]
           ]
          },
          "colorway": [
           "#636efa",
           "#EF553B",
           "#00cc96",
           "#ab63fa",
           "#FFA15A",
           "#19d3f3",
           "#FF6692",
           "#B6E880",
           "#FF97FF",
           "#FECB52"
          ],
          "font": {
           "color": "#2a3f5f"
          },
          "geo": {
           "bgcolor": "white",
           "lakecolor": "white",
           "landcolor": "#E5ECF6",
           "showlakes": true,
           "showland": true,
           "subunitcolor": "white"
          },
          "hoverlabel": {
           "align": "left"
          },
          "hovermode": "closest",
          "mapbox": {
           "style": "light"
          },
          "paper_bgcolor": "white",
          "plot_bgcolor": "#E5ECF6",
          "polar": {
           "angularaxis": {
            "gridcolor": "white",
            "linecolor": "white",
            "ticks": ""
           },
           "bgcolor": "#E5ECF6",
           "radialaxis": {
            "gridcolor": "white",
            "linecolor": "white",
            "ticks": ""
           }
          },
          "scene": {
           "xaxis": {
            "backgroundcolor": "#E5ECF6",
            "gridcolor": "white",
            "gridwidth": 2,
            "linecolor": "white",
            "showbackground": true,
            "ticks": "",
            "zerolinecolor": "white"
           },
           "yaxis": {
            "backgroundcolor": "#E5ECF6",
            "gridcolor": "white",
            "gridwidth": 2,
            "linecolor": "white",
            "showbackground": true,
            "ticks": "",
            "zerolinecolor": "white"
           },
           "zaxis": {
            "backgroundcolor": "#E5ECF6",
            "gridcolor": "white",
            "gridwidth": 2,
            "linecolor": "white",
            "showbackground": true,
            "ticks": "",
            "zerolinecolor": "white"
           }
          },
          "shapedefaults": {
           "line": {
            "color": "#2a3f5f"
           }
          },
          "ternary": {
           "aaxis": {
            "gridcolor": "white",
            "linecolor": "white",
            "ticks": ""
           },
           "baxis": {
            "gridcolor": "white",
            "linecolor": "white",
            "ticks": ""
           },
           "bgcolor": "#E5ECF6",
           "caxis": {
            "gridcolor": "white",
            "linecolor": "white",
            "ticks": ""
           }
          },
          "title": {
           "x": 0.05
          },
          "xaxis": {
           "automargin": true,
           "gridcolor": "white",
           "linecolor": "white",
           "ticks": "",
           "title": {
            "standoff": 15
           },
           "zerolinecolor": "white",
           "zerolinewidth": 2
          },
          "yaxis": {
           "automargin": true,
           "gridcolor": "white",
           "linecolor": "white",
           "ticks": "",
           "title": {
            "standoff": 15
           },
           "zerolinecolor": "white",
           "zerolinewidth": 2
          }
         }
        },
        "width": 1000,
        "xaxis": {
         "anchor": "y",
         "autorange": true,
         "domain": [
          0,
          1
         ],
         "range": [
          -7.0290581162324655,
          122.02905811623246
         ],
         "type": "category"
        },
        "yaxis": {
         "anchor": "x",
         "autorange": true,
         "domain": [
          0,
          1
         ],
         "range": [
          -9.414910001839718,
          -4.4200315782088495
         ],
         "title": {
          "text": "FOM"
         },
         "type": "log"
        }
       }
      },
      "image/png": "[encoded data removed]",
      "text/html": [
       "<div>                            <div id=\"f57df69a-7ff1-4433-b202-693d976613e0\" class=\"plotly-graph-div\" style=\"height:400px; width:1000px;\"></div>            <script type=\"text/javascript\">                require([\"plotly\"], function(Plotly) {                    window.PLOTLYENV=window.PLOTLYENV || {};                                    if (document.getElementById(\"f57df69a-7ff1-4433-b202-693d976613e0\")) {                    Plotly.newPlot(                        \"f57df69a-7ff1-4433-b202-693d976613e0\",                        [{\"mode\":\"markers\",\"x\":[\"LOOKS\",\"GMT\",\"RAY\",\"WAVES\",\"DYDX\",\"AXS\",\"SUSHI\",\"KNC\",\"SPELL\",\"FTM\",\"CRV\",\"ATOM\",\"PAXG\",\"DENT\",\"KAVA\",\"ZEC\",\"YFI\",\"XMR\",\"REN\",\"SRM\",\"NEAR\",\"SNX\",\"LUNA\",\"MKR\",\"CHR\",\"SLP\",\"OMG\",\"SCRT\",\"RUNE\",\"ZIL\",\"XAUT\",\"QTUM\",\"1INCH\",\"COMP\",\"SOL\",\"ENS\",\"ENJ\",\"RNDR\",\"SXP\",\"ETC\",\"CRO\",\"HT\",\"BSV\",\"BCH\",\"BAT\",\"CAKE\",\"BNT\",\"DOGE\",\"ONE\",\"SKL\",\"AVAX\",\"DOT\",\"AR\",\"STX\",\"AUDIO\",\"ONT\",\"ZRX\",\"IMX\",\"FLOW\",\"XRP\",\"FXS\",\"MATIC\",\"PERP\",\"XEM\",\"KSM\",\"APE\",\"LRC\",\"LINK\",\"FIL\",\"HNT\",\"PEOPLE\",\"LEO\",\"DASH\",\"MINA\",\"BIT\",\"C98\",\"ADA\",\"ALGO\",\"XTZ\",\"MANA\",\"ETH\",\"GALA\",\"ICX\",\"SAND\",\"UST\",\"EGLD\",\"ANC\",\"LTC\",\"BTC\",\"AAVE\",\"GRT\",\"SHIB\",\"HOT\",\"THETA\",\"CHZ\",\"UNI\",\"CVX\",\"NEO\",\"VET\",\"GLMR\",\"CUSDT\",\"EOS\",\"ROSE\",\"BNB\",\"IOST\",\"CEL\",\"HBAR\",\"XLM\",\"ICP\",\"SC\",\"CELO\",\"BTT\",\"OKB\",\"USDT\",\"TRX\",\"FTT\"],\"y\":[1.7582657949438864e-05,3.658831623796498e-06,1.2552994777956492e-06,1.2048535467549053e-06,6.764207982793925e-07,5.579596750469053e-07,4.343071177408553e-07,4.1428794620828085e-07,3.930313381626986e-07,3.357568957183828e-07,2.870901306440406e-07,2.823642471965634e-07,2.7564251802309666e-07,2.627910486338556e-07,2.5600600091559626e-07,2.516552816595514e-07,2.4843888751772375e-07,2.384578077721356e-07,2.2274776336491645e-07,2.143322249100941e-07,2.0999982038733155e-07,2.0911907516193834e-07,1.9797161493665898e-07,1.94206240705385e-07,1.8744828671614632e-07,1.7325347004765712e-07,1.7271097424870447e-07,1.6511297823107006e-07,1.5288202498716538e-07,1.453682223548959e-07,1.4486492640738377e-07,1.34569465897531e-07,1.2761377948238316e-07,1.2167515433578627e-07,1.0751296225920387e-07,1.0655196684325658e-07,1.0332252679900026e-07,9.945983646832301e-08,9.714072597022336e-08,9.610165486742778e-08,9.583690819994345e-08,9.337606893865876e-08,8.847082770151612e-08,8.077973886195972e-08,8.007913762708433e-08,7.10487212078654e-08,6.843866185325604e-08,6.518211665088245e-08,6.438911133393112e-08,5.8658014239359546e-08,5.829357878328086e-08,5.8026339687395505e-08,5.75147124256839e-08,5.5626451246888504e-08,5.470233534393502e-08,4.93618848705154e-08,4.718176898151317e-08,4.6367369429832384e-08,4.610660066512272e-08,4.599694028897899e-08,4.478311036630761e-08,4.4526131830920154e-08,4.016599279569502e-08,3.985541705591296e-08,3.9499829081639634e-08,3.8196023015975396e-08,3.71656289457452e-08,3.5963511217132896e-08,3.143237744543726e-08,3.032722578332604e-08,2.9409710665994624e-08,2.754159643820491e-08,2.655363867819564e-08,2.4701793852251566e-08,2.402842734198229e-08,2.3961619812616424e-08,2.2575929231252257e-08,2.2441307774835115e-08,2.119096179910502e-08,2.0735828860674088e-08,2.054770229394157e-08,1.8269472182766408e-08,1.8110454120199746e-08,1.7812195217495522e-08,1.7265844539282277e-08,1.6956129609926715e-08,1.5832832380684545e-08,1.5696356603381288e-08,1.5473847366479284e-08,1.514089612372729e-08,1.4700452781206282e-08,1.415577261840186e-08,1.2804941383324442e-08,1.268637074562013e-08,1.2578341948935431e-08,1.1522801815924682e-08,1.1326077597372927e-08,1.0819771792701389e-08,1.0731658394674739e-08,1.0668023019719173e-08,1.0324215829499246e-08,9.314616672792516e-09,9.2604973828405e-09,7.93169621659342e-09,7.597595940147125e-09,7.572210292247019e-09,4.834593472944685e-09,4.600958704611826e-09,4.447181869531787e-09,3.197616803425585e-09,2.9614884362440338e-09,2.5392778223563354e-09,8.317137712886199e-10,0.0,0.0,0.0],\"type\":\"scatter\",\"xaxis\":\"x\",\"yaxis\":\"y\"}],                        {\"template\":{\"data\":{\"bar\":[{\"error_x\":{\"color\":\"#2a3f5f\"},\"error_y\":{\"color\":\"#2a3f5f\"},\"marker\":{\"line\":{\"color\":\"#E5ECF6\",\"width\":0.5},\"pattern\":{\"fillmode\":\"overlay\",\"size\":10,\"solidity\":0.2}},\"type\":\"bar\"}],\"barpolar\":[{\"marker\":{\"line\":{\"color\":\"#E5ECF6\",\"width\":0.5},\"pattern\":{\"fillmode\":\"overlay\",\"size\":10,\"solidity\":0.2}},\"type\":\"barpolar\"}],\"carpet\":[{\"aaxis\":{\"endlinecolor\":\"#2a3f5f\",\"gridcolor\":\"white\",\"linecolor\":\"white\",\"minorgridcolor\":\"white\",\"startlinecolor\":\"#2a3f5f\"},\"baxis\":{\"endlinecolor\":\"#2a3f5f\",\"gridcolor\":\"white\",\"linecolor\":\"white\",\"minorgridcolor\":\"white\",\"startlinecolor\":\"#2a3f5f\"},\"type\":\"carpet\"}],\"choropleth\":[{\"colorbar\":{\"outlinewidth\":0,\"ticks\":\"\"},\"type\":\"choropleth\"}],\"contour\":[{\"colorbar\":{\"outlinewidth\":0,\"ticks\":\"\"},\"colorscale\":[[0.0,\"#0d0887\"],[0.1111111111111111,\"#46039f\"],[0.2222222222222222,\"#7201a8\"],[0.3333333333333333,\"#9c179e\"],[0.4444444444444444,\"#bd3786\"],[0.5555555555555556,\"#d8576b\"],[0.6666666666666666,\"#ed7953\"],[0.7777777777777778,\"#fb9f3a\"],[0.8888888888888888,\"#fdca26\"],[1.0,\"#f0f921\"]],\"type\":\"contour\"}],\"contourcarpet\":[{\"colorbar\":{\"outlinewidth\":0,\"ticks\":\"\"},\"type\":\"contourcarpet\"}],\"heatmap\":[{\"colorbar\":{\"outlinewidth\":0,\"ticks\":\"\"},\"colorscale\":[[0.0,\"#0d0887\"],[0.1111111111111111,\"#46039f\"],[0.2222222222222222,\"#7201a8\"],[0.3333333333333333,\"#9c179e\"],[0.4444444444444444,\"#bd3786\"],[0.5555555555555556,\"#d8576b\"],[0.6666666666666666,\"#ed7953\"],[0.7777777777777778,\"#fb9f3a\"],[0.8888888888888888,\"#fdca26\"],[1.0,\"#f0f921\"]],\"type\":\"heatmap\"}],\"heatmapgl\":[{\"colorbar\":{\"outlinewidth\":0,\"ticks\":\"\"},\"colorscale\":[[0.0,\"#0d0887\"],[0.1111111111111111,\"#46039f\"],[0.2222222222222222,\"#7201a8\"],[0.3333333333333333,\"#9c179e\"],[0.4444444444444444,\"#bd3786\"],[0.5555555555555556,\"#d8576b\"],[0.6666666666666666,\"#ed7953\"],[0.7777777777777778,\"#fb9f3a\"],[0.8888888888888888,\"#fdca26\"],[1.0,\"#f0f921\"]],\"type\":\"heatmapgl\"}],\"histogram\":[{\"marker\":{\"pattern\":{\"fillmode\":\"overlay\",\"size\":10,\"solidity\":0.2}},\"type\":\"histogram\"}],\"histogram2d\":[{\"colorbar\":{\"outlinewidth\":0,\"ticks\":\"\"},\"colorscale\":[[0.0,\"#0d0887\"],[0.1111111111111111,\"#46039f\"],[0.2222222222222222,\"#7201a8\"],[0.3333333333333333,\"#9c179e\"],[0.4444444444444444,\"#bd3786\"],[0.5555555555555556,\"#d8576b\"],[0.6666666666666666,\"#ed7953\"],[0.7777777777777778,\"#fb9f3a\"],[0.8888888888888888,\"#fdca26\"],[1.0,\"#f0f921\"]],\"type\":\"histogram2d\"}],\"histogram2dcontour\":[{\"colorbar\":{\"outlinewidth\":0,\"ticks\":\"\"},\"colorscale\":[[0.0,\"#0d0887\"],[0.1111111111111111,\"#46039f\"],[0.2222222222222222,\"#7201a8\"],[0.3333333333333333,\"#9c179e\"],[0.4444444444444444,\"#bd3786\"],[0.5555555555555556,\"#d8576b\"],[0.6666666666666666,\"#ed7953\"],[0.7777777777777778,\"#fb9f3a\"],[0.8888888888888888,\"#fdca26\"],[1.0,\"#f0f921\"]],\"type\":\"histogram2dcontour\"}],\"mesh3d\":[{\"colorbar\":{\"outlinewidth\":0,\"ticks\":\"\"},\"type\":\"mesh3d\"}],\"parcoords\":[{\"line\":{\"colorbar\":{\"outlinewidth\":0,\"ticks\":\"\"}},\"type\":\"parcoords\"}],\"pie\":[{\"automargin\":true,\"type\":\"pie\"}],\"scatter\":[{\"marker\":{\"colorbar\":{\"outlinewidth\":0,\"ticks\":\"\"}},\"type\":\"scatter\"}],\"scatter3d\":[{\"line\":{\"colorbar\":{\"outlinewidth\":0,\"ticks\":\"\"}},\"marker\":{\"colorbar\":{\"outlinewidth\":0,\"ticks\":\"\"}},\"type\":\"scatter3d\"}],\"scattercarpet\":[{\"marker\":{\"colorbar\":{\"outlinewidth\":0,\"ticks\":\"\"}},\"type\":\"scattercarpet\"}],\"scattergeo\":[{\"marker\":{\"colorbar\":{\"outlinewidth\":0,\"ticks\":\"\"}},\"type\":\"scattergeo\"}],\"scattergl\":[{\"marker\":{\"colorbar\":{\"outlinewidth\":0,\"ticks\":\"\"}},\"type\":\"scattergl\"}],\"scattermapbox\":[{\"marker\":{\"colorbar\":{\"outlinewidth\":0,\"ticks\":\"\"}},\"type\":\"scattermapbox\"}],\"scatterpolar\":[{\"marker\":{\"colorbar\":{\"outlinewidth\":0,\"ticks\":\"\"}},\"type\":\"scatterpolar\"}],\"scatterpolargl\":[{\"marker\":{\"colorbar\":{\"outlinewidth\":0,\"ticks\":\"\"}},\"type\":\"scatterpolargl\"}],\"scatterternary\":[{\"marker\":{\"colorbar\":{\"outlinewidth\":0,\"ticks\":\"\"}},\"type\":\"scatterternary\"}],\"surface\":[{\"colorbar\":{\"outlinewidth\":0,\"ticks\":\"\"},\"colorscale\":[[0.0,\"#0d0887\"],[0.1111111111111111,\"#46039f\"],[0.2222222222222222,\"#7201a8\"],[0.3333333333333333,\"#9c179e\"],[0.4444444444444444,\"#bd3786\"],[0.5555555555555556,\"#d8576b\"],[0.6666666666666666,\"#ed7953\"],[0.7777777777777778,\"#fb9f3a\"],[0.8888888888888888,\"#fdca26\"],[1.0,\"#f0f921\"]],\"type\":\"surface\"}],\"table\":[{\"cells\":{\"fill\":{\"color\":\"#EBF0F8\"},\"line\":{\"color\":\"white\"}},\"header\":{\"fill\":{\"color\":\"#C8D4E3\"},\"line\":{\"color\":\"white\"}},\"type\":\"table\"}]},\"layout\":{\"annotationdefaults\":{\"arrowcolor\":\"#2a3f5f\",\"arrowhead\":0,\"arrowwidth\":1},\"autotypenumbers\":\"strict\",\"coloraxis\":{\"colorbar\":{\"outlinewidth\":0,\"ticks\":\"\"}},\"colorscale\":{\"diverging\":[[0,\"#8e0152\"],[0.1,\"#c51b7d\"],[0.2,\"#de77ae\"],[0.3,\"#f1b6da\"],[0.4,\"#fde0ef\"],[0.5,\"#f7f7f7\"],[0.6,\"#e6f5d0\"],[0.7,\"#b8e186\"],[0.8,\"#7fbc41\"],[0.9,\"#4d9221\"],[1,\"#276419\"]],\"sequential\":[[0.0,\"#0d0887\"],[0.1111111111111111,\"#46039f\"],[0.2222222222222222,\"#7201a8\"],[0.3333333333333333,\"#9c179e\"],[0.4444444444444444,\"#bd3786\"],[0.5555555555555556,\"#d8576b\"],[0.6666666666666666,\"#ed7953\"],[0.7777777777777778,\"#fb9f3a\"],[0.8888888888888888,\"#fdca26\"],[1.0,\"#f0f921\"]],\"sequentialminus\":[[0.0,\"#0d0887\"],[0.1111111111111111,\"#46039f\"],[0.2222222222222222,\"#7201a8\"],[0.3333333333333333,\"#9c179e\"],[0.4444444444444444,\"#bd3786\"],[0.5555555555555556,\"#d8576b\"],[0.6666666666666666,\"#ed7953\"],[0.7777777777777778,\"#fb9f3a\"],[0.8888888888888888,\"#fdca26\"],[1.0,\"#f0f921\"]]},\"colorway\":[\"#636efa\",\"#EF553B\",\"#00cc96\",\"#ab63fa\",\"#FFA15A\",\"#19d3f3\",\"#FF6692\",\"#B6E880\",\"#FF97FF\",\"#FECB52\"],\"font\":{\"color\":\"#2a3f5f\"},\"geo\":{\"bgcolor\":\"white\",\"lakecolor\":\"white\",\"landcolor\":\"#E5ECF6\",\"showlakes\":true,\"showland\":true,\"subunitcolor\":\"white\"},\"hoverlabel\":{\"align\":\"left\"},\"hovermode\":\"closest\",\"mapbox\":{\"style\":\"light\"},\"paper_bgcolor\":\"white\",\"plot_bgcolor\":\"#E5ECF6\",\"polar\":{\"angularaxis\":{\"gridcolor\":\"white\",\"linecolor\":\"white\",\"ticks\":\"\"},\"bgcolor\":\"#E5ECF6\",\"radialaxis\":{\"gridcolor\":\"white\",\"linecolor\":\"white\",\"ticks\":\"\"}},\"scene\":{\"xaxis\":{\"backgroundcolor\":\"#E5ECF6\",\"gridcolor\":\"white\",\"gridwidth\":2,\"linecolor\":\"white\",\"showbackground\":true,\"ticks\":\"\",\"zerolinecolor\":\"white\"},\"yaxis\":{\"backgroundcolor\":\"#E5ECF6\",\"gridcolor\":\"white\",\"gridwidth\":2,\"linecolor\":\"white\",\"showbackground\":true,\"ticks\":\"\",\"zerolinecolor\":\"white\"},\"zaxis\":{\"backgroundcolor\":\"#E5ECF6\",\"gridcolor\":\"white\",\"gridwidth\":2,\"linecolor\":\"white\",\"showbackground\":true,\"ticks\":\"\",\"zerolinecolor\":\"white\"}},\"shapedefaults\":{\"line\":{\"color\":\"#2a3f5f\"}},\"ternary\":{\"aaxis\":{\"gridcolor\":\"white\",\"linecolor\":\"white\",\"ticks\":\"\"},\"baxis\":{\"gridcolor\":\"white\",\"linecolor\":\"white\",\"ticks\":\"\"},\"bgcolor\":\"#E5ECF6\",\"caxis\":{\"gridcolor\":\"white\",\"linecolor\":\"white\",\"ticks\":\"\"}},\"title\":{\"x\":0.05},\"xaxis\":{\"automargin\":true,\"gridcolor\":\"white\",\"linecolor\":\"white\",\"ticks\":\"\",\"title\":{\"standoff\":15},\"zerolinecolor\":\"white\",\"zerolinewidth\":2},\"yaxis\":{\"automargin\":true,\"gridcolor\":\"white\",\"linecolor\":\"white\",\"ticks\":\"\",\"title\":{\"standoff\":15},\"zerolinecolor\":\"white\",\"zerolinewidth\":2}}},\"xaxis\":{\"anchor\":\"y\",\"domain\":[0.0,1.0]},\"yaxis\":{\"anchor\":\"x\",\"domain\":[0.0,1.0],\"title\":{\"text\":\"FOM\"},\"type\":\"log\"},\"shapes\":[{\"line\":{\"color\":\"green\",\"dash\":\"dash\",\"width\":3},\"type\":\"line\",\"x0\":0,\"x1\":1,\"xref\":\"x domain\",\"y0\":4.652202570673678e-07,\"y1\":4.652202570673678e-07,\"yref\":\"y\"}],\"height\":400,\"width\":1000},                        {\"responsive\": true}                    ).then(function(){\n",
       "                            \n",
       "var gd = document.getElementById('f57df69a-7ff1-4433-b202-693d976613e0');\n",
       "var x = new MutationObserver(function (mutations, observer) {{\n",
       "        var display = window.getComputedStyle(gd).display;\n",
       "        if (!display || display === 'none') {{\n",
       "            console.log([gd, 'removed!']);\n",
       "            Plotly.purge(gd);\n",
       "            observer.disconnect();\n",
       "        }}\n",
       "}});\n",
       "\n",
       "// Listen for the removal of the full notebook cells\n",
       "var notebookContainer = gd.closest('#notebook-container');\n",
       "if (notebookContainer) {{\n",
       "    x.observe(notebookContainer, {childList: true});\n",
       "}}\n",
       "\n",
       "// Listen for the clearing of the current output cell\n",
       "var outputEl = gd.closest('.output');\n",
       "if (outputEl) {{\n",
       "    x.observe(outputEl, {childList: true});\n",
       "}}\n",
       "\n",
       "                        })                };                });            </script>        </div>"
      ]
     },
     "metadata": {},
     "output_type": "display_data"
    }
   ],
   "source": [
    "fig = make_subplots()\n",
    "\n",
    "fig.add_trace(\n",
    "    go.Scatter(\n",
    "        x=df[\"name\"],\n",
    "        y=df[\"fom\"],\n",
    "        mode=\"markers\"\n",
    "    ),\n",
    "    row=1,\n",
    "    col=1\n",
    ")\n",
    "\n",
    "top_5_percentile = np.percentile(df[\"fom\"], 95)\n",
    "fig.add_hline(y=top_5_percentile, line_width=3, line_dash=\"dash\", line_color=\"green\")\n",
    "\n",
    "fig.update_yaxes(\n",
    "    title_text=\"FOM\",\n",
    "    type=\"log\"\n",
    ")\n",
    "\n",
    "fig.update_layout(\n",
    "    height=400, width=1000\n",
    ")\n",
    "\n",
    "# fig.write_image(\"../images/fom_metric.png\")\n",
    "fig.show()"
   ]
  },
  {
   "cell_type": "code",
   "execution_count": 11,
   "id": "f93027b8-ecf2-4582-81f5-389cfc46cbb5",
   "metadata": {},
   "outputs": [
    {
     "data": {
      "text/html": [
       "<div>\n",
       "<style scoped>\n",
       "    .dataframe tbody tr th:only-of-type {\n",
       "        vertical-align: middle;\n",
       "    }\n",
       "\n",
       "    .dataframe tbody tr th {\n",
       "        vertical-align: top;\n",
       "    }\n",
       "\n",
       "    .dataframe thead th {\n",
       "        text-align: right;\n",
       "    }\n",
       "</style>\n",
       "<table border=\"1\" class=\"dataframe\">\n",
       "  <thead>\n",
       "    <tr style=\"text-align: right;\">\n",
       "      <th></th>\n",
       "      <th>market</th>\n",
       "      <th>name</th>\n",
       "      <th>open_interest</th>\n",
       "      <th>funding_rate</th>\n",
       "      <th>market_cap</th>\n",
       "      <th>oi_macp_ratio</th>\n",
       "      <th>fom</th>\n",
       "    </tr>\n",
       "  </thead>\n",
       "  <tbody>\n",
       "    <tr>\n",
       "      <th>63</th>\n",
       "      <td>LOOKS-PERP</td>\n",
       "      <td>LOOKS</td>\n",
       "      <td>4.207979e+07</td>\n",
       "      <td>-0.000148</td>\n",
       "      <td>3.542017e+08</td>\n",
       "      <td>0.118802</td>\n",
       "      <td>1.758266e-05</td>\n",
       "    </tr>\n",
       "    <tr>\n",
       "      <th>48</th>\n",
       "      <td>GMT-PERP</td>\n",
       "      <td>GMT</td>\n",
       "      <td>7.905858e+07</td>\n",
       "      <td>-0.000061</td>\n",
       "      <td>1.318064e+09</td>\n",
       "      <td>0.059981</td>\n",
       "      <td>3.658832e-06</td>\n",
       "    </tr>\n",
       "    <tr>\n",
       "      <th>81</th>\n",
       "      <td>RAY-PERP</td>\n",
       "      <td>RAY</td>\n",
       "      <td>1.446990e+07</td>\n",
       "      <td>-0.000023</td>\n",
       "      <td>2.651221e+08</td>\n",
       "      <td>0.054578</td>\n",
       "      <td>1.255299e-06</td>\n",
       "    </tr>\n",
       "    <tr>\n",
       "      <th>105</th>\n",
       "      <td>WAVES-PERP</td>\n",
       "      <td>WAVES</td>\n",
       "      <td>5.124565e+07</td>\n",
       "      <td>-0.000049</td>\n",
       "      <td>2.084101e+09</td>\n",
       "      <td>0.024589</td>\n",
       "      <td>1.204854e-06</td>\n",
       "    </tr>\n",
       "    <tr>\n",
       "      <th>34</th>\n",
       "      <td>DYDX-PERP</td>\n",
       "      <td>DYDX</td>\n",
       "      <td>2.374216e+07</td>\n",
       "      <td>-0.000012</td>\n",
       "      <td>4.211963e+08</td>\n",
       "      <td>0.056368</td>\n",
       "      <td>6.764208e-07</td>\n",
       "    </tr>\n",
       "    <tr>\n",
       "      <th>10</th>\n",
       "      <td>AXS-PERP</td>\n",
       "      <td>AXS</td>\n",
       "      <td>6.927168e+07</td>\n",
       "      <td>-0.000030</td>\n",
       "      <td>3.724553e+09</td>\n",
       "      <td>0.018599</td>\n",
       "      <td>5.579597e-07</td>\n",
       "    </tr>\n",
       "  </tbody>\n",
       "</table>\n",
       "</div>"
      ],
      "text/plain": [
       "         market   name  open_interest  funding_rate    market_cap  \\\n",
       "63   LOOKS-PERP  LOOKS   4.207979e+07     -0.000148  3.542017e+08   \n",
       "48     GMT-PERP    GMT   7.905858e+07     -0.000061  1.318064e+09   \n",
       "81     RAY-PERP    RAY   1.446990e+07     -0.000023  2.651221e+08   \n",
       "105  WAVES-PERP  WAVES   5.124565e+07     -0.000049  2.084101e+09   \n",
       "34    DYDX-PERP   DYDX   2.374216e+07     -0.000012  4.211963e+08   \n",
       "10     AXS-PERP    AXS   6.927168e+07     -0.000030  3.724553e+09   \n",
       "\n",
       "     oi_macp_ratio           fom  \n",
       "63        0.118802  1.758266e-05  \n",
       "48        0.059981  3.658832e-06  \n",
       "81        0.054578  1.255299e-06  \n",
       "105       0.024589  1.204854e-06  \n",
       "34        0.056368  6.764208e-07  \n",
       "10        0.018599  5.579597e-07  "
      ]
     },
     "execution_count": 11,
     "metadata": {},
     "output_type": "execute_result"
    }
   ],
   "source": [
    "df[df[\"fom\"] > top_5_percentile]"
   ]
  },
  {
   "cell_type": "markdown",
   "id": "29e50e1f-87ca-47b2-b72b-bd9fe3e7284d",
   "metadata": {},
   "source": [
    "## LooksRare and STEPN\n",
    "Intrestingly, we see names like LooksRare (LOOKS) and STEPN (GMT) showing very strong negative bias. The case of GMT is particularly interesting, as the team recently announced a buyback and burn mechanism. From the data, the futures market participants do not appear to believe that will lead to positive price action for GMT. The token has performed reasonably well, and is currently at $2.19 (over 330% since listing, and several thousand percent for private investors). Could this be a mechanism for hedging their position?\n",
    "\n",
    "## Smooth Love Potion\n",
    "Another intersting case is Smooth Love Position (SLP), where the bias leans positive. The SLP token has not performed so strongly, and is currently down over 94% from listing. The SLP chart is quite interesting, as it has these very large impulse upward moves on high volume. These moves turn into wicks, as it appears people are selling into the impulse. Could the strong positive perp bias be an indication of a potential upcoming move?"
   ]
  },
  {
   "cell_type": "markdown",
   "id": "cd22cecf-b994-4a78-a215-281ca238401d",
   "metadata": {},
   "source": [
    "# Plot the variation of FOM with time"
   ]
  },
  {
   "cell_type": "code",
   "execution_count": null,
   "id": "52e764f2-54be-4fd1-b6dc-fda54c727d91",
   "metadata": {},
   "outputs": [],
   "source": [
    "fig = make_subplots()\n",
    "\n",
    "while True:\n",
    "    clear_output(wait=True)\n",
    "\n",
    "    df = get_futures_data()\n",
    "    df = get_market_cap_data(df)\n",
    "    df[\"oi_macp_percent\"] = df[\"open_interest\"] / df[\"market_cap\"] * 100\n",
    "    df[\"fr_times_oi_macp_percent\"] = df[\"oi_macp_percent\"] *  df[\"funding_rate\"].abs()\n",
    "    df = df.sort_values(\"fr_times_oi_macp_percent\", ascending=False).head()\n",
    "    display(df)\n",
    "    \n",
    "    fig.append_trace(\n",
    "        go.Scatter(\n",
    "            x=df[\"market\"],\n",
    "            y=df[\"fr_times_oi_macp_percent\"],\n",
    "            mode=\"markers\",\n",
    "            name=f\"{datetime.now()}\"\n",
    "        ),\n",
    "        row=1,\n",
    "        col=1,\n",
    "    )\n",
    "\n",
    "    fig.show()\n",
    "    \n",
    "    time.sleep(60 * 30)"
   ]
  }
 ],
 "metadata": {
  "kernelspec": {
   "display_name": "market_analytics",
   "language": "python",
   "name": "market_analytics"
  },
  "language_info": {
   "codemirror_mode": {
    "name": "ipython",
    "version": 3
   },
   "file_extension": ".py",
   "mimetype": "text/x-python",
   "name": "python",
   "nbconvert_exporter": "python",
   "pygments_lexer": "ipython3",
   "version": "3.10.0"
  }
 },
 "nbformat": 4,
 "nbformat_minor": 5
}
