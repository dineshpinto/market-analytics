{
 "cells": [
  {
   "cell_type": "code",
   "execution_count": 1,
   "id": "0df233b8-8b26-4c67-9b23-2de7f8dbce9d",
   "metadata": {
    "pycharm": {
     "name": "#%%\n"
    }
   },
   "outputs": [],
   "source": [
    "import os\n",
    "from datetime import datetime\n",
    "\n",
    "import numpy as np\n",
    "import pandas as pd\n",
    "import pandas_ta as ta\n",
    "\n",
    "import pandas_datareader as pdr\n",
    "\n",
    "import plotly.graph_objects as go\n",
    "from plotly.subplots import make_subplots"
   ]
  },
  {
   "cell_type": "markdown",
   "id": "baf571d4-9732-4a62-8210-752b4b5cdc94",
   "metadata": {
    "pycharm": {
     "name": "#%% md\n"
    }
   },
   "source": [
    "## Correlation between rate hikes and crypto prices\n",
    "\n",
    "1. Get the fed interest rate data for period P\n",
    "2. Get the crypto price data (proxy as BTC price or total market cap) for period P\n",
    "3. Check correlation coefficients for data"
   ]
  },
  {
   "cell_type": "markdown",
   "id": "1257d7ea-400a-4ce7-a1b1-775990c524d2",
   "metadata": {
    "pycharm": {
     "name": "#%% md\n"
    }
   },
   "source": [
    "# Interest rate data"
   ]
  },
  {
   "cell_type": "code",
   "execution_count": 2,
   "id": "d2469ada-9011-44d6-960b-b4901e2d830a",
   "metadata": {
    "pycharm": {
     "name": "#%%\n"
    }
   },
   "outputs": [],
   "source": [
    "rate_data = os.path.join(\"..\", \"data\", \"FRB_H15.csv\")"
   ]
  },
  {
   "cell_type": "code",
   "execution_count": 3,
   "id": "e2b4ff1a-e2b5-456f-a0ab-68f7f9c237bb",
   "metadata": {
    "pycharm": {
     "name": "#%%\n"
    }
   },
   "outputs": [],
   "source": [
    "df_rates = pd.read_csv(rate_data, skiprows=5)\n",
    "df_rates['Time Period']= pd.to_datetime(df_rates['Time Period'])\n",
    "df_rates.set_index(\"Time Period\", inplace=True)"
   ]
  },
  {
   "cell_type": "code",
   "execution_count": 10,
   "id": "080da973-83e7-44ff-abe0-46d4c1b34574",
   "metadata": {},
   "outputs": [],
   "source": [
    "df_rates.replace(\"ND\", np.NaN, inplace=True)\n",
    "df_rates = df_rates.astype(\"float32\")"
   ]
  },
  {
   "cell_type": "code",
   "execution_count": null,
   "id": "75c7eb2a-65da-45d0-b211-c0e9a7be3eae",
   "metadata": {
    "pycharm": {
     "name": "#%%\n"
    }
   },
   "outputs": [],
   "source": [
    "df_rates = df_rates.loc[\"2017\":\"2018\"]"
   ]
  },
  {
   "cell_type": "code",
   "execution_count": null,
   "id": "9aaae0f5-c89c-4896-a700-55efe97fc3a0",
   "metadata": {
    "pycharm": {
     "name": "#%%\n"
    }
   },
   "outputs": [],
   "source": [
    "df_rates[\"RIFLGFCY10_N.B\"].loc[df_rates[\"RIFLGFCY10_N.B\"] == \"ND\"] = np.NaN\n",
    "df_rates[\"RIFLGFCY10_N.B\"] = df_rates[\"RIFLGFCY10_N.B\"].astype(\"float32\")"
   ]
  },
  {
   "cell_type": "code",
   "execution_count": null,
   "id": "c084453e-3ebe-46cb-948c-49e93bb94a08",
   "metadata": {
    "pycharm": {
     "name": "#%%\n"
    }
   },
   "outputs": [],
   "source": [
    "df_rates[\"RIFLGFCY02_N.B\"].loc[df_rates[\"RIFLGFCY02_N.B\"] == \"ND\"] = np.NaN\n",
    "df_rates[\"RIFLGFCY02_N.B\"] = df_rates[\"RIFLGFCY02_N.B\"].astype(\"float32\")"
   ]
  },
  {
   "cell_type": "markdown",
   "id": "f951aeb9-8e0b-4983-94c3-8135bd77b937",
   "metadata": {
    "pycharm": {
     "name": "#%% md\n"
    }
   },
   "source": [
    "# Get BTC-USD price"
   ]
  },
  {
   "cell_type": "code",
   "execution_count": null,
   "id": "3ae94d75-4cfe-474b-9d20-3a7bca66100a",
   "metadata": {
    "pycharm": {
     "name": "#%%\n"
    }
   },
   "outputs": [],
   "source": [
    "start_date = datetime.strptime(\"2017-01-01\", \"%Y-%m-%d\")\n",
    "end_date = datetime.strptime(\"2022-04-30\", \"%Y-%m-%d\")"
   ]
  },
  {
   "cell_type": "code",
   "execution_count": null,
   "id": "844ffb7b-bfad-4b6c-a666-97df2927bee6",
   "metadata": {
    "pycharm": {
     "name": "#%%\n"
    }
   },
   "outputs": [],
   "source": [
    "btc_data = pdr.get_data_yahoo(['BTC-USD'], start=start_date, end=end_date)"
   ]
  },
  {
   "cell_type": "markdown",
   "id": "d1d6a15f-da27-44a1-af0b-24a2bb01b409",
   "metadata": {
    "pycharm": {
     "name": "#%% md\n"
    }
   },
   "source": [
    "# Plot result"
   ]
  },
  {
   "cell_type": "code",
   "execution_count": null,
   "id": "ff0cea04-ccc0-4e1f-9402-5af0e59652fe",
   "metadata": {
    "pycharm": {
     "name": "#%%\n"
    }
   },
   "outputs": [],
   "source": [
    "btc_data = btc_data.loc[\"2017\":\"2018\"]"
   ]
  },
  {
   "cell_type": "code",
   "execution_count": null,
   "id": "6601100b-02ad-47c4-92e4-ef5a1684a4ef",
   "metadata": {
    "pycharm": {
     "name": "#%%\n"
    }
   },
   "outputs": [],
   "source": [
    "fig = make_subplots(specs=[[{\"secondary_y\": True}]])\n",
    "\n",
    "fig.add_scatter(\n",
    "    x=btc_data.index,\n",
    "    y=btc_data[\"Adj Close\"][\"BTC-USD\"],\n",
    "    mode=\"markers\",\n",
    "    name=\"BTC-USD price\",\n",
    "    secondary_y=False,\n",
    ")\n",
    "\n",
    "fig.add_scatter(\n",
    "    x=df_rates.index,\n",
    "    y=df_rates[\"RIFLGFCY02_N.B\"],\n",
    "    mode=\"markers\",\n",
    "    name=\"Two year yield\",\n",
    "    secondary_y=True,\n",
    ")\n",
    "\n",
    "fig.add_scatter(\n",
    "    x=df_rates.index,\n",
    "    y=df_rates[\"RIFLGFCY10_N.B\"],\n",
    "    mode=\"markers\",\n",
    "    name=\"Ten year yield\",\n",
    "    secondary_y=True,\n",
    ")\n",
    "\n",
    "rate_2y = np.interp(btc_data.index, df_rates.index, df_rates[\"RIFLGFCY02_N.B\"])\n",
    "\n",
    "fig.add_scatter(\n",
    "    x=btc_data.index,\n",
    "    y=rate_2y,\n",
    "    mode=\"lines\",\n",
    "    name=\"Two year yield interpolant\",\n",
    "    secondary_y=True,\n",
    ")"
   ]
  },
  {
   "cell_type": "code",
   "execution_count": null,
   "id": "f2eff1e5",
   "metadata": {
    "collapsed": false,
    "jupyter": {
     "outputs_hidden": false
    },
    "pycharm": {
     "name": "#%%\n"
    }
   },
   "outputs": [],
   "source": [
    "fig = go.Figure()\n",
    "\n",
    "fig.add_scatter(\n",
    "    x=df_rates[\"RIFLGFCY02_N.B\"],\n",
    "    y=btc_data[\"Adj Close\"][\"BTC-USD\"],\n",
    "    mode=\"markers+lines\",\n",
    "    name=\"BTC-USD price vs 2Y rate\",\n",
    ")\n",
    "\n",
    "crossover = 350\n",
    "fig.add_vrect(\n",
    "    x0=df_rates[\"RIFLGFCY02_N.B\"].min(),\n",
    "    x1=df_rates[\"RIFLGFCY02_N.B\"][crossover],\n",
    "    annotation_text=\"corr = 0.92\", \n",
    "    annotation_position=\"top\",\n",
    "    fillcolor=\"green\", \n",
    "    opacity=0.2, \n",
    "    line_width=0\n",
    ")\n",
    "\n",
    "fig.add_vrect(\n",
    "    x0=df_rates[\"RIFLGFCY02_N.B\"][crossover],\n",
    "    x1=df_rates[\"RIFLGFCY02_N.B\"].max(),\n",
    "    annotation_text=\"corr = -0.75\", \n",
    "    annotation_position=\"top\",\n",
    "    fillcolor=\"red\", \n",
    "    opacity=0.2, \n",
    "    line_width=0\n",
    ")\n",
    "\n",
    "fig.update_xaxes(title_text=\"2Y Rate (%)\")\n",
    "fig.update_yaxes(title_text=\"BTC-USD\")\n",
    "\n",
    "fig.update_layout(\n",
    "    title_text=\"Price-2Y interest rate correlations during 2017 bull run\",\n",
    "    template=\"plotly_white\"\n",
    ")\n",
    "\n",
    "fig.write_image(os.path.join(\"..\", \"images\", \"crypto_interest_rate_correlation.png\"))"
   ]
  },
  {
   "cell_type": "markdown",
   "id": "4c08c94e",
   "metadata": {
    "pycharm": {
     "name": "#%% md\n"
    }
   },
   "source": [
    "## Correlation matrix"
   ]
  },
  {
   "cell_type": "code",
   "execution_count": null,
   "id": "8bea666b",
   "metadata": {
    "collapsed": false,
    "jupyter": {
     "outputs_hidden": false
    },
    "pycharm": {
     "name": "#%%\n"
    }
   },
   "outputs": [],
   "source": [
    "df_corr = pd.DataFrame(columns=[\"Date\", \"Price\", \"TwoYearRate\"])"
   ]
  },
  {
   "cell_type": "code",
   "execution_count": null,
   "id": "4a981eaa",
   "metadata": {
    "collapsed": false,
    "jupyter": {
     "outputs_hidden": false
    },
    "pycharm": {
     "name": "#%%\n"
    }
   },
   "outputs": [],
   "source": [
    "df_corr.Date = btc_data.index\n",
    "df_corr = df_corr.set_index(\"Date\")\n",
    "\n",
    "df_corr.Price = btc_data[\"Adj Close\"][\"BTC-USD\"]\n",
    "df_corr.TwoYearRate = rate_2y"
   ]
  },
  {
   "cell_type": "code",
   "execution_count": null,
   "id": "f67e61a3",
   "metadata": {
    "collapsed": false,
    "jupyter": {
     "outputs_hidden": false
    },
    "pycharm": {
     "name": "#%%\n"
    }
   },
   "outputs": [],
   "source": [
    "df_corr[:\"2017\"].corr()"
   ]
  },
  {
   "cell_type": "code",
   "execution_count": null,
   "id": "bb217197",
   "metadata": {
    "collapsed": false,
    "jupyter": {
     "outputs_hidden": false
    },
    "pycharm": {
     "name": "#%%\n"
    }
   },
   "outputs": [],
   "source": [
    "df_corr[\"2018\":].corr()"
   ]
  },
  {
   "cell_type": "code",
   "execution_count": null,
   "id": "dedad53f",
   "metadata": {
    "collapsed": false,
    "jupyter": {
     "outputs_hidden": false
    },
    "pycharm": {
     "name": "#%%\n"
    }
   },
   "outputs": [],
   "source": [
    "df_corr[\"2017\":\"2018\"].corr()"
   ]
  },
  {
   "cell_type": "markdown",
   "id": "ce806bca",
   "metadata": {
    "pycharm": {
     "name": "#%% md\n"
    }
   },
   "source": [
    "# Overall comparison"
   ]
  },
  {
   "cell_type": "code",
   "execution_count": null,
   "id": "a129d435",
   "metadata": {
    "collapsed": false,
    "jupyter": {
     "outputs_hidden": false
    },
    "pycharm": {
     "name": "#%%\n"
    }
   },
   "outputs": [],
   "source": [
    "df_rates = df_rates.loc[\"2017\":]"
   ]
  },
  {
   "cell_type": "code",
   "execution_count": null,
   "id": "20e653e5",
   "metadata": {
    "collapsed": false,
    "jupyter": {
     "outputs_hidden": false
    },
    "pycharm": {
     "name": "#%%\n"
    }
   },
   "outputs": [],
   "source": [
    "df_rates[\"RIFLGFCY10_N.B\"].loc[df_rates[\"RIFLGFCY10_N.B\"] == \"ND\"] = np.NaN\n",
    "df_rates[\"RIFLGFCY10_N.B\"] = df_rates[\"RIFLGFCY10_N.B\"].astype(\"float32\")"
   ]
  },
  {
   "cell_type": "code",
   "execution_count": null,
   "id": "00634088",
   "metadata": {
    "collapsed": false,
    "jupyter": {
     "outputs_hidden": false
    },
    "pycharm": {
     "name": "#%%\n"
    }
   },
   "outputs": [],
   "source": [
    "df_rates[\"RIFLGFCY02_N.B\"].loc[df_rates[\"RIFLGFCY02_N.B\"] == \"ND\"] = np.NaN\n",
    "df_rates[\"RIFLGFCY02_N.B\"] = df_rates[\"RIFLGFCY02_N.B\"].astype(\"float32\")"
   ]
  },
  {
   "cell_type": "code",
   "execution_count": null,
   "id": "77493635",
   "metadata": {
    "collapsed": false,
    "jupyter": {
     "outputs_hidden": false
    },
    "pycharm": {
     "name": "#%%\n"
    }
   },
   "outputs": [],
   "source": [
    "fig = make_subplots(\n",
    "    rows=3, cols=1, shared_xaxes=True, \n",
    "    specs=[[{\"secondary_y\": True}], [{\"secondary_y\": False}], [{\"secondary_y\": False}]],\n",
    ")\n",
    "\n",
    "fig.add_scatter(\n",
    "    x=btc_data.index,\n",
    "    y=btc_data[\"Adj Close\"][\"BTC-USD\"],\n",
    "    mode=\"lines\",\n",
    "    name=\"BTC-USD price\",\n",
    "    secondary_y=False,\n",
    "    row=1, col=1\n",
    ")\n",
    "\n",
    "fig.add_scatter(\n",
    "    x=df_rates.index,\n",
    "    y=df_rates[\"RIFLGFCY02_N.B\"],\n",
    "    mode=\"lines\",\n",
    "    name=\"Two year yield\",\n",
    "    secondary_y=True,\n",
    "    row=1, col=1\n",
    ")\n",
    "\n",
    "fig.add_scatter(\n",
    "    x=df_rates.index,\n",
    "    y=df_rates[\"RIFLGFCY10_N.B\"],\n",
    "    mode=\"lines\",\n",
    "    name=\"Ten year yield\",\n",
    "    secondary_y=True,\n",
    "    row=1, col=1\n",
    ")\n",
    "\n",
    "fig.add_vrect(\n",
    "    x0=\"2017-01-01\",\n",
    "    x1=\"2017-12-30\", \n",
    "    annotation_text=\"Bull Phase\", \n",
    "    annotation_position=\"top left\",\n",
    "    fillcolor=\"green\", \n",
    "    opacity=0.2, \n",
    "    line_width=0\n",
    ")\n",
    "\n",
    "\n",
    "fig.add_vrect(\n",
    "    x0=\"2017-12-30\",\n",
    "    x1=\"2018-12-01\", \n",
    "    annotation_text=\"Bear Phase\", \n",
    "    annotation_position=\"top left\",\n",
    "    fillcolor=\"red\", \n",
    "    opacity=0.2, \n",
    "    line_width=0\n",
    ")\n",
    "\n",
    "fig.add_vrect(\n",
    "    x0=\"2018-12-01\",\n",
    "    x1=\"2021-11-01\", \n",
    "    fillcolor=\"green\", \n",
    "    opacity=0.2, \n",
    "    line_width=0\n",
    ")\n",
    "\n",
    "\n",
    "fig.add_vrect(\n",
    "    x0=\"2021-11-01\",\n",
    "    x1=\"2022-04-30\", \n",
    "    fillcolor=\"red\", \n",
    "    opacity=0.2, \n",
    "    line_width=0\n",
    ")\n",
    "\n",
    "fig.add_vline(\n",
    "    df_rates[\"RIFLGFCY02_N.B\"].idxmax().timestamp() * 1000,\n",
    "    annotation_text=\"2Y rate max\",\n",
    "    line=dict(color=\"red\"),\n",
    "    row=1, col=1\n",
    ")\n",
    "\n",
    "\n",
    "fig.add_vline(\n",
    "    df_rates[\"RIFLGFCY02_N.B\"].idxmin().timestamp() * 1000,\n",
    "    annotation_text=\"2Y rate min\",\n",
    "    line=dict(color=\"green\"),\n",
    "    row=1, col=1\n",
    ")\n",
    "\n",
    "\n",
    "\n",
    "fig.update_yaxes(\n",
    "    type=\"log\",\n",
    "    secondary_y=False,\n",
    "    row=1, col=1\n",
    ")\n",
    "\n",
    "\n",
    "first_deriv_rates = df_rates[\"RIFLGFCY02_N.B\"].diff(periods=7) / df_rates.index.to_series().diff(periods=7).dt.total_seconds()\n",
    "fig.add_scatter(\n",
    "    x=df_rates.index,\n",
    "    y=first_deriv_rates,\n",
    "    name=\"First derivative of two year yield\",\n",
    "    row=2, col=1\n",
    ")\n",
    "\n",
    "fig.add_vline(\n",
    "    first_deriv_rates.idxmin().timestamp() * 1000,\n",
    "    annotation_text=\"Min\",\n",
    "    line=dict(color=\"green\", dash=\"dash\"),\n",
    "    row=2, col=1\n",
    ")\n",
    "\n",
    "fig.add_vline(\n",
    "    first_deriv_rates.idxmax().timestamp() * 1000,\n",
    "    annotation_text=\"Max\",\n",
    "    line=dict(color=\"red\", dash=\"dash\"),\n",
    "    row=2, col=1\n",
    ")\n",
    "\n",
    "first_deriv_price = btc_data[\"Adj Close\"][\"BTC-USD\"].diff(periods=7) / btc_data.index.to_series().diff(periods=7).dt.total_seconds()\n",
    "second_deriv_price = first_deriv_price.diff(periods=7) / first_deriv_price.index.to_series().diff(periods=7).dt.total_seconds()\n",
    "\n",
    "fig.add_scatter(\n",
    "    x=btc_data.index,\n",
    "    y=first_deriv_price,\n",
    "    name=\"First derivative of BTC-USD\",\n",
    "    row=3, col=1\n",
    ")\n",
    "\n",
    "fig.add_vline(\n",
    "    first_deriv_price.idxmin().timestamp() * 1000,\n",
    "    annotation_text=\"Min\",\n",
    "    line=dict(color=\"green\", dash=\"dot\"),\n",
    "    row=3, col=1\n",
    ")\n",
    "\n",
    "fig.add_vline(\n",
    "    first_deriv_price.idxmax().timestamp() * 1000,\n",
    "    annotation_text=\"Max\",\n",
    "    line=dict(color=\"red\", dash=\"dot\"),\n",
    "    row=3, col=1\n",
    ")\n",
    "\n",
    "\n",
    "length, std = 30, 3.0\n",
    "df_boll = ta.bbands(first_deriv_price, length=length, std=std)\n",
    "\n",
    "fig.add_scatter(\n",
    "    x=df_boll.index,\n",
    "    y=df_boll[f\"BBL_{length}_{std}\"],\n",
    "    name=f\"Lower BB ({length}, {std})\",\n",
    "    row=3, col=1\n",
    ")\n",
    "\n",
    "fig.add_scatter(\n",
    "    x=df_boll.index,\n",
    "    y=df_boll[f\"BBU_{length}_{std}\"],\n",
    "    name=f\"Upper BB ({length}, {std})\",\n",
    "    row=3, col=1\n",
    ")\n",
    "\n",
    "fig.update_yaxes(title_text=\"BTC-USD\", row=1, col=1, secondary_y=False)\n",
    "fig.update_yaxes(title_text=\"2Y rate (%)\", row=1, col=1, secondary_y=True)\n",
    "\n",
    "\n",
    "fig.update_yaxes(title_text=\"d(2Y rate) / dt\", row=2, col=1)\n",
    "fig.update_yaxes(title_text=\"d(BTC-USD) / dt\", row=3, col=1)\n",
    "\n",
    "fig.update_layout(\n",
    "    width=1200,\n",
    "    height=600,\n",
    "    template=\"plotly_white\",\n",
    "    title_text=\"BTC price-interest rate comparison over the past 5 years\"\n",
    ")\n",
    "\n",
    "#fig.write_image(os.path.join(\"..\", \"images\", \"crypto_interest_rate_comparison.png\"))\n",
    "fig.show()"
   ]
  },
  {
   "cell_type": "code",
   "execution_count": null,
   "id": "79546e6c-1dd3-4f3c-814d-2efdedf646d1",
   "metadata": {},
   "outputs": [],
   "source": []
  },
  {
   "cell_type": "markdown",
   "id": "27935082-1598-444e-871a-7981ffdbc38f",
   "metadata": {},
   "source": [
    "# Assets: Total Assets: Total Assets (Less Eliminations from Consolidation) (WALCL)"
   ]
  },
  {
   "cell_type": "code",
   "execution_count": 15,
   "id": "f8a425f5-8fc8-442c-b59b-2690b2260f8f",
   "metadata": {},
   "outputs": [],
   "source": [
    "asset_data = os.path.join(\"..\", \"data\", \"WALCL.csv\") \n",
    "\n",
    "df_assets = pd.read_csv(asset_data)\n",
    "df_assets['DATE']= pd.to_datetime(df_assets['DATE'])\n",
    "df_assets.set_index(\"DATE\", inplace=True)"
   ]
  },
  {
   "cell_type": "markdown",
   "id": "1ce849b5-e428-4c7c-b0d9-52e3e413b9a6",
   "metadata": {},
   "source": [
    "# Overnight Reverse Repurchase Agreements: Treasury Securities Sold by the Federal Reserve in the Temporary Open Market Operations (RRPONTSYD)"
   ]
  },
  {
   "cell_type": "code",
   "execution_count": 48,
   "id": "c9c291bd-2b28-4af5-804a-084db31a193f",
   "metadata": {},
   "outputs": [],
   "source": [
    "rev_repo_data = os.path.join(\"..\", \"data\", \"RRPONTSYD.csv\")\n",
    "\n",
    "df_repo = pd.read_csv(rev_repo_data)\n",
    "df_repo['DATE']= pd.to_datetime(df_repo['DATE'])\n",
    "df_repo.set_index(\"DATE\", inplace=True)\n",
    "\n",
    "df_repo = df_repo.loc[df_repo[\"RRPONTSYD\"] != \".\"]\n",
    "df_repo = df_repo.astype(\"float32\")"
   ]
  },
  {
   "cell_type": "code",
   "execution_count": 18,
   "id": "01729f7b-0fac-49c7-8f64-415099a44177",
   "metadata": {},
   "outputs": [],
   "source": [
    "start_date = datetime.strptime(\"2010-01-01\", \"%Y-%m-%d\")\n",
    "end_date = datetime.strptime(\"2022-05-06\", \"%Y-%m-%d\")\n",
    "btc_data = pdr.get_data_yahoo(['BTC-USD'], start=start_date, end=end_date)"
   ]
  },
  {
   "cell_type": "code",
   "execution_count": 55,
   "id": "63c7e78c-4e2f-4798-ae85-4953f61a35c2",
   "metadata": {},
   "outputs": [],
   "source": [
    "df_assets = df_assets.loc[btc_data.index[0]:]\n",
    "df_repo = df_repo.loc[btc_data.index[0]:]"
   ]
  },
  {
   "cell_type": "code",
   "execution_count": 76,
   "id": "817ac72e-b3d7-4e94-a1cf-ad3081fb356a",
   "metadata": {},
   "outputs": [],
   "source": [
    "fig = make_subplots(rows=3, cols=1, specs=[[{\"secondary_y\": True}], [{\"secondary_y\": False}], [{\"secondary_y\": False}]])\n",
    "\n",
    "fig.add_scatter(\n",
    "    x=df_assets.index,\n",
    "    y=df_assets.WALCL,\n",
    "    name=\"Total Assets (WALCL)\",\n",
    "    secondary_y=False,\n",
    "    row=1, col=1\n",
    ")\n",
    "\n",
    "\n",
    "fig.add_scatter(\n",
    "    x=btc_data.index,\n",
    "    y=btc_data[\"Adj Close\"][\"BTC-USD\"],\n",
    "    name=\"BTC-USD\",\n",
    "    secondary_y=True,\n",
    "    row=1, col=1\n",
    ")\n",
    "\n",
    "first_der_assets = df_assets.WALCL.diff(periods=7)\n",
    "\n",
    "fig.add_scatter(\n",
    "    x=df_assets.index,\n",
    "    y=first_der_assets,\n",
    "    name=\"Total assets first derivative\",\n",
    "    row=2, col=1\n",
    ")\n",
    "\n",
    "fig.add_scatter(\n",
    "    x=df_repo.index,\n",
    "    y=df_repo[\"RRPONTSYD\"],\n",
    "    mode=\"lines\",\n",
    "    name=\"Reverse Repo (RRPONTSYD)\",\n",
    "    row=3, col=1\n",
    ")\n",
    "\n",
    "\n",
    "fig.update_yaxes(type=\"log\", secondary_y=True, row=1, col=1)\n",
    "\n",
    "\n",
    "fig.update_layout(\n",
    "    height=500, width=1200, \n",
    "    title_text=\"BTC-Price compared to Total FED assets and reverse repo aggrements from 2014\",\n",
    ")\n",
    "\n",
    "fig.write_image(os.path.join(\"..\", \"images\", \"crypto_asset_holdings_repo_comparison.png\"))"
   ]
  }
 ],
 "metadata": {
  "kernelspec": {
   "display_name": "market_analytics",
   "language": "python",
   "name": "market_analytics"
  },
  "language_info": {
   "codemirror_mode": {
    "name": "ipython",
    "version": 3
   },
   "file_extension": ".py",
   "mimetype": "text/x-python",
   "name": "python",
   "nbconvert_exporter": "python",
   "pygments_lexer": "ipython3",
   "version": "3.10.0"
  }
 },
 "nbformat": 4,
 "nbformat_minor": 5
}
