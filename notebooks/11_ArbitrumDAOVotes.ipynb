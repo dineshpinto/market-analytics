{
 "cells": [
  {
   "cell_type": "code",
   "execution_count": 1,
   "id": "7c4baa17-788b-4cca-a7c3-2f33052b5369",
   "metadata": {
    "tags": []
   },
   "outputs": [],
   "source": [
    "from pathlib import Path\n",
    "\n",
    "import pandas as pd\n",
    "import json\n",
    "\n",
    "import matplotlib.pyplot as plt\n",
    "import numpy as np\n",
    "import seaborn as sns\n",
    "\n",
    "import requests"
   ]
  },
  {
   "cell_type": "code",
   "execution_count": 90,
   "id": "93d56836-4c47-4e4d-9cb5-69216703ee99",
   "metadata": {
    "tags": []
   },
   "outputs": [],
   "source": [
    "query = \"\"\"\n",
    "    query {\n",
    "        votes (\n",
    "            first: 1000\n",
    "            skip: $skip\n",
    "            where: {\n",
    "              proposal: \"0x3ae4c725f7cb82d450b6fe8517178b2a0a51d1105beaad0adb421df1bc8f8cc4\"\n",
    "            }\n",
    "            orderBy: \"created\",\n",
    "            orderDirection: desc\n",
    "        ) {\n",
    "            id\n",
    "            voter\n",
    "            vp\n",
    "            vp_state\n",
    "            created\n",
    "            choice\n",
    "        }\n",
    "}\"\"\""
   ]
  },
  {
   "cell_type": "code",
   "execution_count": 92,
   "id": "2c9662c7-4441-4c92-9b68-75a5d821b015",
   "metadata": {
    "tags": []
   },
   "outputs": [
    {
     "name": "stdout",
     "output_type": "stream",
     "text": [
      "200\n",
      "200\n",
      "200\n",
      "200\n",
      "200\n",
      "200\n"
     ]
    }
   ],
   "source": [
    "votes = []\n",
    "\n",
    "for skip in range(0, 6000, 1000):\n",
    "    url = 'https://hub.snapshot.org/graphql/'\n",
    "    r = requests.post(url, json={'query': query.replace(\"$skip\", str(skip)), 'variables': {'skip': skip}})\n",
    "    print(r.status_code)\n",
    "    json_data = json.loads(r.text)[\"data\"][\"votes\"]\n",
    "    votes += json_data"
   ]
  },
  {
   "cell_type": "code",
   "execution_count": 93,
   "id": "81dbfec0-bdf1-4eb4-b992-e507766faa9e",
   "metadata": {
    "tags": []
   },
   "outputs": [],
   "source": [
    "df = pd.DataFrame(votes)"
   ]
  },
  {
   "cell_type": "code",
   "execution_count": 142,
   "id": "19415385-692b-49d3-afd3-bc8394a08500",
   "metadata": {
    "tags": []
   },
   "outputs": [],
   "source": [
    "df.sort_values(\"created\", inplace=True)\n",
    "df.reset_index(inplace=True, drop=True)"
   ]
  },
  {
   "cell_type": "code",
   "execution_count": 143,
   "id": "0069c462-0d32-4c75-9935-00b6d479e5c7",
   "metadata": {
    "tags": []
   },
   "outputs": [
    {
     "data": {
      "text/html": [
       "<div>\n",
       "<style scoped>\n",
       "    .dataframe tbody tr th:only-of-type {\n",
       "        vertical-align: middle;\n",
       "    }\n",
       "\n",
       "    .dataframe tbody tr th {\n",
       "        vertical-align: top;\n",
       "    }\n",
       "\n",
       "    .dataframe thead th {\n",
       "        text-align: right;\n",
       "    }\n",
       "</style>\n",
       "<table border=\"1\" class=\"dataframe\">\n",
       "  <thead>\n",
       "    <tr style=\"text-align: right;\">\n",
       "      <th></th>\n",
       "      <th>level_0</th>\n",
       "      <th>index</th>\n",
       "      <th>id</th>\n",
       "      <th>voter</th>\n",
       "      <th>vp</th>\n",
       "      <th>vp_state</th>\n",
       "      <th>created</th>\n",
       "      <th>choice</th>\n",
       "    </tr>\n",
       "  </thead>\n",
       "  <tbody>\n",
       "    <tr>\n",
       "      <th>0</th>\n",
       "      <td>0</td>\n",
       "      <td>5999</td>\n",
       "      <td>0xa7b478c1dc1b0fc116547e72fd7045e0290f1a2f5ee3...</td>\n",
       "      <td>0x3978c10FD1c7495F544D6388fec493d18E614078</td>\n",
       "      <td>22.000000</td>\n",
       "      <td>final</td>\n",
       "      <td>1681114726</td>\n",
       "      <td>1</td>\n",
       "    </tr>\n",
       "    <tr>\n",
       "      <th>1</th>\n",
       "      <td>1</td>\n",
       "      <td>5998</td>\n",
       "      <td>0x55d73c8fe33c2d4224eef3775e8fdb81a28736fe7e85...</td>\n",
       "      <td>0x442Ba6723bAb7218CEff3F4611C5eEA43c23896d</td>\n",
       "      <td>2.472200</td>\n",
       "      <td>final</td>\n",
       "      <td>1681114733</td>\n",
       "      <td>1</td>\n",
       "    </tr>\n",
       "    <tr>\n",
       "      <th>2</th>\n",
       "      <td>2</td>\n",
       "      <td>5997</td>\n",
       "      <td>0x833639294ccc9571e996acc50caa236c2bea8400a2e7...</td>\n",
       "      <td>0xAfc47D611c5BDEE7D187aF5Ac2Bb2DEC71750eBa</td>\n",
       "      <td>14.000000</td>\n",
       "      <td>final</td>\n",
       "      <td>1681114738</td>\n",
       "      <td>1</td>\n",
       "    </tr>\n",
       "    <tr>\n",
       "      <th>3</th>\n",
       "      <td>3</td>\n",
       "      <td>5996</td>\n",
       "      <td>0x695a348d07c3843b1ae59ea5c454a5be4791879d66ff...</td>\n",
       "      <td>0xde51a09a67F01d1cdAe160Cb3CEf170E99e1F4Ab</td>\n",
       "      <td>1.288817</td>\n",
       "      <td>final</td>\n",
       "      <td>1681114743</td>\n",
       "      <td>3</td>\n",
       "    </tr>\n",
       "    <tr>\n",
       "      <th>4</th>\n",
       "      <td>4</td>\n",
       "      <td>5995</td>\n",
       "      <td>0xb3985785320b1a7f79e851020446232ac290b73d1578...</td>\n",
       "      <td>0x2b4cac773034850439ddA9Af3e788BE2DA3E55f1</td>\n",
       "      <td>80.000000</td>\n",
       "      <td>final</td>\n",
       "      <td>1681114745</td>\n",
       "      <td>1</td>\n",
       "    </tr>\n",
       "    <tr>\n",
       "      <th>...</th>\n",
       "      <td>...</td>\n",
       "      <td>...</td>\n",
       "      <td>...</td>\n",
       "      <td>...</td>\n",
       "      <td>...</td>\n",
       "      <td>...</td>\n",
       "      <td>...</td>\n",
       "      <td>...</td>\n",
       "    </tr>\n",
       "    <tr>\n",
       "      <th>5995</th>\n",
       "      <td>5995</td>\n",
       "      <td>4</td>\n",
       "      <td>0xc98ff3248affd40882a2678889243726dce650f5ad62...</td>\n",
       "      <td>0x69a81DedD2dd35d0E0fd8aa941C5116161146F2c</td>\n",
       "      <td>2.000000</td>\n",
       "      <td>final</td>\n",
       "      <td>1681162427</td>\n",
       "      <td>2</td>\n",
       "    </tr>\n",
       "    <tr>\n",
       "      <th>5996</th>\n",
       "      <td>5996</td>\n",
       "      <td>3</td>\n",
       "      <td>0x7bea17d33cc643eecbec5b98cc35c7d1214e7649e1b1...</td>\n",
       "      <td>0x55a64B540C156de7fb376284658484Be704e0dEc</td>\n",
       "      <td>3.115000</td>\n",
       "      <td>final</td>\n",
       "      <td>1681162429</td>\n",
       "      <td>2</td>\n",
       "    </tr>\n",
       "    <tr>\n",
       "      <th>5997</th>\n",
       "      <td>5997</td>\n",
       "      <td>2</td>\n",
       "      <td>0xc53f4c8839b36841c2cca69ad93a7e0bedc74a2b46e3...</td>\n",
       "      <td>0x48ABa670a56eb67db849A9B8b6EfAac2c18Cc6AF</td>\n",
       "      <td>0.180000</td>\n",
       "      <td>final</td>\n",
       "      <td>1681162437</td>\n",
       "      <td>1</td>\n",
       "    </tr>\n",
       "    <tr>\n",
       "      <th>5998</th>\n",
       "      <td>5998</td>\n",
       "      <td>1</td>\n",
       "      <td>0xc2b4c1885b10500ec7461242bbc8e2d559c62a5fb4af...</td>\n",
       "      <td>0x96Ee4b39571666B2A8c1cc94DC2c50F5931ddc7E</td>\n",
       "      <td>2.000000</td>\n",
       "      <td>final</td>\n",
       "      <td>1681162440</td>\n",
       "      <td>3</td>\n",
       "    </tr>\n",
       "    <tr>\n",
       "      <th>5999</th>\n",
       "      <td>5999</td>\n",
       "      <td>0</td>\n",
       "      <td>0xba79cc60d4d4f12653e3baf178cf23832ff9595edc5f...</td>\n",
       "      <td>0xeEe1B8b9f90c1C5ED92D9Ece35805721D81fa42f</td>\n",
       "      <td>2.000000</td>\n",
       "      <td>final</td>\n",
       "      <td>1681162449</td>\n",
       "      <td>3</td>\n",
       "    </tr>\n",
       "  </tbody>\n",
       "</table>\n",
       "<p>6000 rows × 8 columns</p>\n",
       "</div>"
      ],
      "text/plain": [
       "      level_0  index                                                 id  \\\n",
       "0           0   5999  0xa7b478c1dc1b0fc116547e72fd7045e0290f1a2f5ee3...   \n",
       "1           1   5998  0x55d73c8fe33c2d4224eef3775e8fdb81a28736fe7e85...   \n",
       "2           2   5997  0x833639294ccc9571e996acc50caa236c2bea8400a2e7...   \n",
       "3           3   5996  0x695a348d07c3843b1ae59ea5c454a5be4791879d66ff...   \n",
       "4           4   5995  0xb3985785320b1a7f79e851020446232ac290b73d1578...   \n",
       "...       ...    ...                                                ...   \n",
       "5995     5995      4  0xc98ff3248affd40882a2678889243726dce650f5ad62...   \n",
       "5996     5996      3  0x7bea17d33cc643eecbec5b98cc35c7d1214e7649e1b1...   \n",
       "5997     5997      2  0xc53f4c8839b36841c2cca69ad93a7e0bedc74a2b46e3...   \n",
       "5998     5998      1  0xc2b4c1885b10500ec7461242bbc8e2d559c62a5fb4af...   \n",
       "5999     5999      0  0xba79cc60d4d4f12653e3baf178cf23832ff9595edc5f...   \n",
       "\n",
       "                                           voter         vp vp_state  \\\n",
       "0     0x3978c10FD1c7495F544D6388fec493d18E614078  22.000000    final   \n",
       "1     0x442Ba6723bAb7218CEff3F4611C5eEA43c23896d   2.472200    final   \n",
       "2     0xAfc47D611c5BDEE7D187aF5Ac2Bb2DEC71750eBa  14.000000    final   \n",
       "3     0xde51a09a67F01d1cdAe160Cb3CEf170E99e1F4Ab   1.288817    final   \n",
       "4     0x2b4cac773034850439ddA9Af3e788BE2DA3E55f1  80.000000    final   \n",
       "...                                          ...        ...      ...   \n",
       "5995  0x69a81DedD2dd35d0E0fd8aa941C5116161146F2c   2.000000    final   \n",
       "5996  0x55a64B540C156de7fb376284658484Be704e0dEc   3.115000    final   \n",
       "5997  0x48ABa670a56eb67db849A9B8b6EfAac2c18Cc6AF   0.180000    final   \n",
       "5998  0x96Ee4b39571666B2A8c1cc94DC2c50F5931ddc7E   2.000000    final   \n",
       "5999  0xeEe1B8b9f90c1C5ED92D9Ece35805721D81fa42f   2.000000    final   \n",
       "\n",
       "         created  choice  \n",
       "0     1681114726       1  \n",
       "1     1681114733       1  \n",
       "2     1681114738       1  \n",
       "3     1681114743       3  \n",
       "4     1681114745       1  \n",
       "...          ...     ...  \n",
       "5995  1681162427       2  \n",
       "5996  1681162429       2  \n",
       "5997  1681162437       1  \n",
       "5998  1681162440       3  \n",
       "5999  1681162449       3  \n",
       "\n",
       "[6000 rows x 8 columns]"
      ]
     },
     "execution_count": 143,
     "metadata": {},
     "output_type": "execute_result"
    }
   ],
   "source": [
    "df"
   ]
  },
  {
   "cell_type": "code",
   "execution_count": 112,
   "id": "14ee2b76-72ed-4885-921a-2c7659c70314",
   "metadata": {
    "tags": []
   },
   "outputs": [],
   "source": [
    "sns.set_theme()"
   ]
  },
  {
   "cell_type": "code",
   "execution_count": 149,
   "id": "c43e1e94-8ef1-4319-89a1-4f13da86423e",
   "metadata": {
    "tags": []
   },
   "outputs": [
    {
     "data": {
      "image/png": "[encoded data removed]",
      "text/plain": [
       "<Figure size 1000x400 with 1 Axes>"
      ]
     },
     "metadata": {},
     "output_type": "display_data"
    }
   ],
   "source": [
    "fig, ax = plt.subplots(nrows=1, figsize=(10,4))\n",
    "\n",
    "keys = {\"1\": \"For\", \"2\": \"Against\", \"3\": \"Abstain\"}\n",
    "\n",
    "for key, grp in df.groupby(\"choice\"):\n",
    "    sns.lineplot(data=grp, x=\"created\", y=grp[\"vp\"].cumsum(), label=keys[str(key)], ax=ax)\n",
    "\n",
    "#ax.set_yscale(\"log\")"
   ]
  },
  {
   "cell_type": "code",
   "execution_count": 200,
   "id": "36faa63f-0336-49e1-9099-0dfe84c844f3",
   "metadata": {
    "tags": []
   },
   "outputs": [
    {
     "data": {
      "text/plain": [
       "17698172.70465703"
      ]
     },
     "execution_count": 200,
     "metadata": {},
     "output_type": "execute_result"
    }
   ],
   "source": []
  },
  {
   "cell_type": "code",
   "execution_count": 238,
   "id": "3c93ccb9-7503-4ff0-862f-a40311999d29",
   "metadata": {
    "tags": []
   },
   "outputs": [],
   "source": [
    "max_vp = df[\"vp\"].max()\n",
    "vp_step = df[\"vp\"].max() // 100000\n",
    "voting_power = np.arange(1, max_vp, vp_step)\n",
    "\n",
    "percent_votes_against = np.empty(len(voting_power))\n",
    "percent_votes_against[:] = np.nan\n",
    "percent_votes_for = np.empty(len(voting_power))\n",
    "percent_votes_for[:] = np.nan\n",
    "percent_votes_abstain = np.empty(len(voting_power))\n",
    "percent_votes_abstain[:] = np.nan\n",
    "\n",
    "for idx, vp in enumerate(voting_power):\n",
    "    within_vp_step = (df[\"vp\"] > vp) & (df[\"vp\"] < vp + vp_step)\n",
    "    if len(df[within_vp_step]) != 0:\n",
    "        percent_votes_for[idx] = len(df[within_vp_step & (df[\"choice\"] == 1)]) / len(df[within_vp_step]) * 100\n",
    "        percent_votes_against[idx] = len(df[within_vp_step & (df[\"choice\"] == 2)]) / len(df[within_vp_step]) * 100\n",
    "        percent_votes_abstain[idx] = len(df[within_vp_step & (df[\"choice\"] == 3)]) / len(df[within_vp_step]) * 100"
   ]
  },
  {
   "cell_type": "code",
   "execution_count": 241,
   "id": "93656ced-136a-4da3-b55a-b2d93abf7dc1",
   "metadata": {
    "tags": []
   },
   "outputs": [
    {
     "data": {
      "image/png": "[encoded data removed]",
      "text/plain": [
       "<Figure size 640x480 with 1 Axes>"
      ]
     },
     "metadata": {},
     "output_type": "display_data"
    }
   ],
   "source": [
    "fig, ax = plt.subplots()\n",
    "\n",
    "sns.lineplot(x=voting_power, y=percent_votes_for, ax=ax, label=\"For\")\n",
    "sns.lineplot(x=voting_power, y=percent_votes_against, ax=ax, label=\"Against\")\n",
    "sns.lineplot(x=voting_power, y=percent_votes_abstain, ax=ax, label=\"Abstain\")\n",
    "#sns.lineplot(x=voting_power, y=percent_votes_for + percent_votes_against + percent_votes_abstain, ax=ax, label=\"Abstain\")\n",
    "\n",
    "#ax.get_legend().remove()\n",
    "ax.legend()\n",
    "\n",
    "ax.set_xscale(\"log\")"
   ]
  },
  {
   "cell_type": "code",
   "execution_count": 181,
   "id": "797dc2e5-9664-4947-9058-50f02531f5ea",
   "metadata": {
    "tags": []
   },
   "outputs": [
    {
     "data": {
      "text/plain": [
       "500"
      ]
     },
     "execution_count": 181,
     "metadata": {},
     "output_type": "execute_result"
    }
   ],
   "source": [
    "len(percent_votes_for)"
   ]
  },
  {
   "cell_type": "code",
   "execution_count": 33,
   "id": "a795c2cd-ba14-4c2d-b2c3-2e0c82385811",
   "metadata": {},
   "outputs": [],
   "source": [
    "a = np.ones((5, 4))"
   ]
  },
  {
   "cell_type": "code",
   "execution_count": 34,
   "id": "7b148ca2-b484-4b66-9001-d8bc17aad698",
   "metadata": {
    "tags": []
   },
   "outputs": [
    {
     "data": {
      "text/plain": [
       "array([[1., 1., 1., 1.],\n",
       "       [1., 1., 1., 1.],\n",
       "       [1., 1., 1., 1.],\n",
       "       [1., 1., 1., 1.],\n",
       "       [1., 1., 1., 1.]])"
      ]
     },
     "execution_count": 34,
     "metadata": {},
     "output_type": "execute_result"
    }
   ],
   "source": [
    "a"
   ]
  },
  {
   "cell_type": "code",
   "execution_count": 35,
   "id": "cf0ee92f-7103-4cd2-b983-a818ccb9c74c",
   "metadata": {
    "tags": []
   },
   "outputs": [
    {
     "data": {
      "text/plain": [
       "(5,)"
      ]
     },
     "execution_count": 35,
     "metadata": {},
     "output_type": "execute_result"
    }
   ],
   "source": [
    "np.mean(a, axis=1).T.shape"
   ]
  },
  {
   "cell_type": "code",
   "execution_count": 36,
   "id": "c3189e8b-b11a-4c39-8a88-43754b07a28e",
   "metadata": {
    "tags": []
   },
   "outputs": [
    {
     "data": {
      "text/plain": [
       "(5, 1)"
      ]
     },
     "execution_count": 36,
     "metadata": {},
     "output_type": "execute_result"
    }
   ],
   "source": [
    "(a.shape[0], 1)"
   ]
  },
  {
   "cell_type": "code",
   "execution_count": 37,
   "id": "d4b9f9d1-36f3-4c24-889d-570b055abba9",
   "metadata": {
    "tags": []
   },
   "outputs": [
    {
     "data": {
      "text/plain": [
       "(5, 4)"
      ]
     },
     "execution_count": 37,
     "metadata": {},
     "output_type": "execute_result"
    }
   ],
   "source": [
    "a.shape"
   ]
  },
  {
   "cell_type": "code",
   "execution_count": 38,
   "id": "8b6dfce3-c141-4696-bb60-767a7a9c7a0d",
   "metadata": {
    "tags": []
   },
   "outputs": [],
   "source": [
    "a -= np.tile(np.mean(a, axis=1).T, (a.shape[1], 1)).T"
   ]
  },
  {
   "cell_type": "code",
   "execution_count": 39,
   "id": "a8c8740b-c8e1-4fc4-aa97-774dbf659a67",
   "metadata": {
    "tags": []
   },
   "outputs": [
    {
     "data": {
      "text/plain": [
       "array([[0., 0., 0., 0.],\n",
       "       [0., 0., 0., 0.],\n",
       "       [0., 0., 0., 0.],\n",
       "       [0., 0., 0., 0.],\n",
       "       [0., 0., 0., 0.]])"
      ]
     },
     "execution_count": 39,
     "metadata": {},
     "output_type": "execute_result"
    }
   ],
   "source": [
    "a"
   ]
  },
  {
   "cell_type": "code",
   "execution_count": 63,
   "id": "59101175-ec68-41a8-9f46-3bc71996f00d",
   "metadata": {
    "tags": []
   },
   "outputs": [],
   "source": [
    "a = np.ones((5, 4))"
   ]
  },
  {
   "cell_type": "code",
   "execution_count": 64,
   "id": "73b7f394-beea-456a-aaa2-c5dac9367e72",
   "metadata": {
    "tags": []
   },
   "outputs": [],
   "source": [
    "s = np.mean(a, axis=1)\n",
    "i = np.arange(s.shape[0])\n",
    "fit = np.polyfit(i, s, 1)\n",
    "\n",
    "a -= np.tile(np.polyval(fit, i).reshape(a.shape[0], 1), a.shape[1])"
   ]
  },
  {
   "cell_type": "code",
   "execution_count": 65,
   "id": "a5912837-a93b-4019-bc00-4d0f8bf0a565",
   "metadata": {
    "tags": []
   },
   "outputs": [
    {
     "data": {
      "text/plain": [
       "array([[4.44089210e-16, 4.44089210e-16, 4.44089210e-16, 4.44089210e-16],\n",
       "       [4.44089210e-16, 4.44089210e-16, 4.44089210e-16, 4.44089210e-16],\n",
       "       [4.44089210e-16, 4.44089210e-16, 4.44089210e-16, 4.44089210e-16],\n",
       "       [4.44089210e-16, 4.44089210e-16, 4.44089210e-16, 4.44089210e-16],\n",
       "       [3.33066907e-16, 3.33066907e-16, 3.33066907e-16, 3.33066907e-16]])"
      ]
     },
     "execution_count": 65,
     "metadata": {},
     "output_type": "execute_result"
    }
   ],
   "source": [
    "a"
   ]
  },
  {
   "cell_type": "code",
   "execution_count": null,
   "id": "b5327b8f-9523-4bdd-9824-44c28e20fe41",
   "metadata": {},
   "outputs": [],
   "source": []
  }
 ],
 "metadata": {
  "kernelspec": {
   "display_name": "market-analytics",
   "language": "python",
   "name": "market-analytics"
  },
  "language_info": {
   "codemirror_mode": {
    "name": "ipython",
    "version": 3
   },
   "file_extension": ".py",
   "mimetype": "text/x-python",
   "name": "python",
   "nbconvert_exporter": "python",
   "pygments_lexer": "ipython3",
   "version": "3.11.2"
  }
 },
 "nbformat": 4,
 "nbformat_minor": 5
}
